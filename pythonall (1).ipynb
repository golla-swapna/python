{
 "cells": [
  {
   "cell_type": "code",
   "execution_count": null,
   "id": "eb7973f4-fd1a-4fcc-a106-d17b9500b897",
   "metadata": {},
   "outputs": [],
   "source": []
  },
  {
   "cell_type": "markdown",
   "id": "16e8c944-3d98-47f6-bfee-53fdda6c65a3",
   "metadata": {},
   "source": [
    "# intendation (:)"
   ]
  },
  {
   "cell_type": "code",
   "execution_count": 6,
   "id": "6f3214dc-a427-4b2c-946d-0d536ac16075",
   "metadata": {},
   "outputs": [
    {
     "name": "stdout",
     "output_type": "stream",
     "text": [
      "positive numbers\n",
      "10 is greater\n"
     ]
    }
   ],
   "source": [
    "if 10>0:\n",
    "    # this will not execute dute do # symbol\n",
    "    print(\"positive numbers\")\n",
    "    print(\"10 is greater\")\n",
    "else:\n",
    "    print(\"10 is smaller\")"
   ]
  },
  {
   "cell_type": "code",
   "execution_count": 3,
   "id": "48cf2920-801c-4f4e-9fbe-7233221d49e4",
   "metadata": {},
   "outputs": [
    {
     "name": "stdout",
     "output_type": "stream",
     "text": [
      "positive numbers\n"
     ]
    }
   ],
   "source": [
    "if 10>0:\n",
    "    print(\"positive numbers\")\n",
    "else:\n",
    "    print(\"negative numbers\")"
   ]
  },
  {
   "cell_type": "code",
   "execution_count": 8,
   "id": "2932e9a4-e619-4e53-8e4a-e9f097db292f",
   "metadata": {},
   "outputs": [],
   "source": [
    "# ASSIGNING VALUES TO VARIABLES"
   ]
  },
  {
   "cell_type": "code",
   "execution_count": 9,
   "id": "a17c8195-9a62-45db-8e50-8e13ad5e4eb5",
   "metadata": {},
   "outputs": [],
   "source": [
    "# BASIC FORM "
   ]
  },
  {
   "cell_type": "code",
   "execution_count": 10,
   "id": "36cad58c-acd8-4d4b-82b1-3a9164288984",
   "metadata": {},
   "outputs": [],
   "source": [
    "a=5"
   ]
  },
  {
   "cell_type": "code",
   "execution_count": 11,
   "id": "e1fde1f8-ec2e-4ccf-a7a9-aa4c0d532d51",
   "metadata": {},
   "outputs": [
    {
     "name": "stdout",
     "output_type": "stream",
     "text": [
      "5\n"
     ]
    }
   ],
   "source": [
    "print(a)"
   ]
  },
  {
   "cell_type": "code",
   "execution_count": 15,
   "id": "c528279c-dfb3-4299-9310-c9a1338641c3",
   "metadata": {},
   "outputs": [],
   "source": [
    "a =\"hello\""
   ]
  },
  {
   "cell_type": "code",
   "execution_count": 16,
   "id": "1edc8ba6-b0ff-4485-a083-ac7636b16100",
   "metadata": {},
   "outputs": [
    {
     "name": "stdout",
     "output_type": "stream",
     "text": [
      "hello\n"
     ]
    }
   ],
   "source": [
    "print(a)"
   ]
  },
  {
   "cell_type": "code",
   "execution_count": 18,
   "id": "b84702c9-989a-4bda-8b91-b80b6f144588",
   "metadata": {},
   "outputs": [
    {
     "data": {
      "text/plain": [
       "str"
      ]
     },
     "execution_count": 18,
     "metadata": {},
     "output_type": "execute_result"
    }
   ],
   "source": [
    "type(a) # this will tell about the data type "
   ]
  },
  {
   "cell_type": "code",
   "execution_count": 19,
   "id": "f86ce813-a14b-4ae5-a845-4739a234fc1e",
   "metadata": {},
   "outputs": [],
   "source": [
    "a=5.4"
   ]
  },
  {
   "cell_type": "code",
   "execution_count": 20,
   "id": "e6d80506-53e8-4624-8d36-887c92732a0b",
   "metadata": {},
   "outputs": [
    {
     "data": {
      "text/plain": [
       "float"
      ]
     },
     "execution_count": 20,
     "metadata": {},
     "output_type": "execute_result"
    }
   ],
   "source": [
    "type(a)"
   ]
  },
  {
   "cell_type": "code",
   "execution_count": 21,
   "id": "e5b9a713-d321-41c2-853f-03878ca7ac34",
   "metadata": {},
   "outputs": [],
   "source": [
    "# tuples assignment"
   ]
  },
  {
   "cell_type": "code",
   "execution_count": 22,
   "id": "d417d927-ad1b-4a59-84fd-ae74d71367f3",
   "metadata": {},
   "outputs": [],
   "source": [
    "a,b(4,6)"
   ]
  },
  {
   "cell_type": "code",
   "execution_count": 23,
   "id": "7831ac27-4cb7-4135-acce-621a2c364f04",
   "metadata": {},
   "outputs": [
    {
     "name": "stdout",
     "output_type": "stream",
     "text": [
      "4\n"
     ]
    }
   ],
   "source": [
    "print(a)"
   ]
  },
  {
   "cell_type": "code",
   "execution_count": 25,
   "id": "b224e6f8-bb3c-44ac-8270-669363698530",
   "metadata": {},
   "outputs": [
    {
     "name": "stdout",
     "output_type": "stream",
     "text": [
      "6\n"
     ]
    }
   ],
   "source": [
    "print(b)"
   ]
  },
  {
   "cell_type": "code",
   "execution_count": 26,
   "id": "5f47e508-53c5-46e1-a30d-164a301ff5c0",
   "metadata": {},
   "outputs": [],
   "source": [
    "  #list assignment"
   ]
  },
  {
   "cell_type": "code",
   "execution_count": 27,
   "id": "1302ed78-5e10-446e-901b-4c71360dc380",
   "metadata": {},
   "outputs": [],
   "source": [
    "a,b=[23,90]"
   ]
  },
  {
   "cell_type": "code",
   "execution_count": 28,
   "id": "1d89b980-4f13-4ba2-83b1-7dab4c967133",
   "metadata": {},
   "outputs": [
    {
     "name": "stdout",
     "output_type": "stream",
     "text": [
      "23 90\n"
     ]
    }
   ],
   "source": [
    "print(a,b)"
   ]
  },
  {
   "cell_type": "code",
   "execution_count": 29,
   "id": "b97bba6e-425f-4499-858b-26825d8a83d5",
   "metadata": {},
   "outputs": [
    {
     "name": "stdout",
     "output_type": "stream",
     "text": [
      "23\n"
     ]
    }
   ],
   "source": [
    "print(a)"
   ]
  },
  {
   "cell_type": "code",
   "execution_count": 30,
   "id": "1a2ba262-4b3c-41bc-99ba-2f83a6c4de94",
   "metadata": {},
   "outputs": [
    {
     "name": "stdout",
     "output_type": "stream",
     "text": [
      "90\n"
     ]
    }
   ],
   "source": [
    "print(b)"
   ]
  },
  {
   "cell_type": "code",
   "execution_count": 31,
   "id": "522960f9-bb1d-44c9-a121-46c44cf62ae3",
   "metadata": {},
   "outputs": [],
   "source": [
    "# sequence "
   ]
  },
  {
   "cell_type": "code",
   "execution_count": 32,
   "id": "55dee74c-8868-49ce-8e5d-03266a1a06db",
   "metadata": {},
   "outputs": [],
   "source": [
    "a,b,c=24,76,98"
   ]
  },
  {
   "cell_type": "code",
   "execution_count": 33,
   "id": "cf555967-3088-4792-8cee-1e3a90c8ce30",
   "metadata": {},
   "outputs": [
    {
     "name": "stdout",
     "output_type": "stream",
     "text": [
      "24 76 98\n"
     ]
    }
   ],
   "source": [
    "print(a,b,c)"
   ]
  },
  {
   "cell_type": "code",
   "execution_count": 34,
   "id": "53167521-7ffc-4125-919d-7c277b3ff2d6",
   "metadata": {},
   "outputs": [],
   "source": [
    "#extended sequence unpacking"
   ]
  },
  {
   "cell_type": "code",
   "execution_count": 36,
   "id": "f6b6b94a-c719-48a8-8774-123cbbc89178",
   "metadata": {},
   "outputs": [],
   "source": [
    "p,*q=\"swapna\""
   ]
  },
  {
   "cell_type": "code",
   "execution_count": 37,
   "id": "4b5e9d6f-b02d-48a8-97fd-948c34181456",
   "metadata": {},
   "outputs": [
    {
     "data": {
      "text/plain": [
       "'s'"
      ]
     },
     "execution_count": 37,
     "metadata": {},
     "output_type": "execute_result"
    }
   ],
   "source": [
    "p"
   ]
  },
  {
   "cell_type": "code",
   "execution_count": 38,
   "id": "1d356e67-02b8-4be1-a128-6ada8d95dbc5",
   "metadata": {},
   "outputs": [
    {
     "data": {
      "text/plain": [
       "['w', 'a', 'p', 'n', 'a']"
      ]
     },
     "execution_count": 38,
     "metadata": {},
     "output_type": "execute_result"
    }
   ],
   "source": [
    "q"
   ]
  },
  {
   "cell_type": "code",
   "execution_count": 39,
   "id": "50852d5d-a8d5-44ff-8ea9-f3823c755c58",
   "metadata": {},
   "outputs": [],
   "source": [
    "#multiple large "
   ]
  },
  {
   "cell_type": "code",
   "execution_count": 40,
   "id": "28280878-cda5-4cbb-b216-7aeb32ab634c",
   "metadata": {},
   "outputs": [],
   "source": [
    "c=d=88"
   ]
  },
  {
   "cell_type": "code",
   "execution_count": 41,
   "id": "ce7df16f-20bb-4d32-b480-52b729609b85",
   "metadata": {},
   "outputs": [
    {
     "data": {
      "text/plain": [
       "88"
      ]
     },
     "execution_count": 41,
     "metadata": {},
     "output_type": "execute_result"
    }
   ],
   "source": [
    "c"
   ]
  },
  {
   "cell_type": "code",
   "execution_count": 42,
   "id": "e1228f8a-10bf-403b-90ec-05ba7d3c6752",
   "metadata": {},
   "outputs": [
    {
     "data": {
      "text/plain": [
       "88"
      ]
     },
     "execution_count": 42,
     "metadata": {},
     "output_type": "execute_result"
    }
   ],
   "source": [
    "d"
   ]
  },
  {
   "cell_type": "code",
   "execution_count": 43,
   "id": "30dd6a86-9f9a-46e5-8cde-2975eedbbfb9",
   "metadata": {},
   "outputs": [],
   "source": [
    "#augumented argument(+,-,%,&)"
   ]
  },
  {
   "cell_type": "code",
   "execution_count": 44,
   "id": "41cbcc80-4e3d-4c27-a444-118f76ba4817",
   "metadata": {},
   "outputs": [],
   "source": [
    "x=8"
   ]
  },
  {
   "cell_type": "code",
   "execution_count": 45,
   "id": "50d12980-19b4-4927-993b-f1ccb295d318",
   "metadata": {},
   "outputs": [],
   "source": [
    "x+=1"
   ]
  },
  {
   "cell_type": "code",
   "execution_count": 46,
   "id": "562f22fa-5036-4398-aef6-c4f8ac409d3f",
   "metadata": {},
   "outputs": [
    {
     "data": {
      "text/plain": [
       "9"
      ]
     },
     "execution_count": 46,
     "metadata": {},
     "output_type": "execute_result"
    }
   ],
   "source": [
    "x"
   ]
  },
  {
   "cell_type": "code",
   "execution_count": 47,
   "id": "58737db9-38b3-4174-9a85-622ed67b123e",
   "metadata": {},
   "outputs": [],
   "source": [
    "x-=4"
   ]
  },
  {
   "cell_type": "code",
   "execution_count": 48,
   "id": "2a8f8638-1ccb-4ab9-afc4-03d368a639d5",
   "metadata": {},
   "outputs": [
    {
     "data": {
      "text/plain": [
       "5"
      ]
     },
     "execution_count": 48,
     "metadata": {},
     "output_type": "execute_result"
    }
   ],
   "source": [
    "x"
   ]
  },
  {
   "cell_type": "code",
   "execution_count": 49,
   "id": "0a49736b-a139-45e6-b861-97683045dc1c",
   "metadata": {},
   "outputs": [],
   "source": [
    "#input function use to read the data from ket board "
   ]
  },
  {
   "cell_type": "code",
   "execution_count": 50,
   "id": "ccf65f40-9df0-41e1-8a79-e7adf777d8f1",
   "metadata": {},
   "outputs": [
    {
     "data": {
      "text/plain": [
       "2"
      ]
     },
     "execution_count": 50,
     "metadata": {},
     "output_type": "execute_result"
    }
   ],
   "source": [
    "int(2.4) "
   ]
  },
  {
   "cell_type": "code",
   "execution_count": 51,
   "id": "ae609c80-85a9-4982-881b-a47d2fe67a53",
   "metadata": {},
   "outputs": [
    {
     "data": {
      "text/plain": [
       "123"
      ]
     },
     "execution_count": 51,
     "metadata": {},
     "output_type": "execute_result"
    }
   ],
   "source": [
    "int(\"123\")"
   ]
  },
  {
   "cell_type": "code",
   "execution_count": 52,
   "id": "ef4c4dca-6326-4c09-96e3-1f95fb20aa8e",
   "metadata": {},
   "outputs": [
    {
     "data": {
      "text/plain": [
       "4.5"
      ]
     },
     "execution_count": 52,
     "metadata": {},
     "output_type": "execute_result"
    }
   ],
   "source": [
    "float(4.5)"
   ]
  },
  {
   "cell_type": "code",
   "execution_count": 54,
   "id": "28e7db27-572d-49cd-902c-bd81ae93e4a1",
   "metadata": {},
   "outputs": [
    {
     "data": {
      "text/plain": [
       "9.0"
      ]
     },
     "execution_count": 54,
     "metadata": {},
     "output_type": "execute_result"
    }
   ],
   "source": [
    "float(9)"
   ]
  },
  {
   "cell_type": "code",
   "execution_count": 55,
   "id": "c6af576e-960d-446d-91db-1a88f7924446",
   "metadata": {},
   "outputs": [
    {
     "data": {
      "text/plain": [
       "45.0"
      ]
     },
     "execution_count": 55,
     "metadata": {},
     "output_type": "execute_result"
    }
   ],
   "source": [
    "float(\"45\")"
   ]
  },
  {
   "cell_type": "code",
   "execution_count": 56,
   "id": "1626af86-7a8e-4640-ac97-af5e3fdfef63",
   "metadata": {},
   "outputs": [
    {
     "name": "stdin",
     "output_type": "stream",
     "text": [
      " 10\n"
     ]
    },
    {
     "data": {
      "text/plain": [
       "'10'"
      ]
     },
     "execution_count": 56,
     "metadata": {},
     "output_type": "execute_result"
    }
   ],
   "source": [
    "a=input()\n",
    "b=input()"
   ]
  },
  {
   "cell_type": "code",
   "execution_count": 57,
   "id": "21029197-935d-47be-85bb-96c29652e915",
   "metadata": {},
   "outputs": [
    {
     "name": "stdin",
     "output_type": "stream",
     "text": [
      " 10\n",
      " 20\n"
     ]
    }
   ],
   "source": [
    "a=input()\n",
    "b=input()"
   ]
  },
  {
   "cell_type": "code",
   "execution_count": 58,
   "id": "1d711b45-69d9-49ea-81ae-16207b0a88c4",
   "metadata": {},
   "outputs": [
    {
     "data": {
      "text/plain": [
       "'10'"
      ]
     },
     "execution_count": 58,
     "metadata": {},
     "output_type": "execute_result"
    }
   ],
   "source": [
    "a"
   ]
  },
  {
   "cell_type": "code",
   "execution_count": 59,
   "id": "1a2d4f73-6640-4b3c-aac1-e1788172b371",
   "metadata": {},
   "outputs": [
    {
     "data": {
      "text/plain": [
       "'20'"
      ]
     },
     "execution_count": 59,
     "metadata": {},
     "output_type": "execute_result"
    }
   ],
   "source": [
    "b"
   ]
  },
  {
   "cell_type": "code",
   "execution_count": 60,
   "id": "d1af92eb-4070-4d58-a2cb-158dcb9f56c7",
   "metadata": {},
   "outputs": [
    {
     "data": {
      "text/plain": [
       "('10', '20')"
      ]
     },
     "execution_count": 60,
     "metadata": {},
     "output_type": "execute_result"
    }
   ],
   "source": [
    "a,b"
   ]
  },
  {
   "cell_type": "code",
   "execution_count": 61,
   "id": "5a05a5e8-0a9a-480f-a1ad-5c80c4dc0ff3",
   "metadata": {},
   "outputs": [
    {
     "data": {
      "text/plain": [
       "'1020'"
      ]
     },
     "execution_count": 61,
     "metadata": {},
     "output_type": "execute_result"
    }
   ],
   "source": [
    "a+b"
   ]
  },
  {
   "cell_type": "code",
   "execution_count": 65,
   "id": "13d891b7-890c-479e-8ab2-fc43e8245204",
   "metadata": {},
   "outputs": [],
   "source": [
    "x=int(a)"
   ]
  },
  {
   "cell_type": "code",
   "execution_count": 66,
   "id": "433bebe0-9be2-4214-846a-82645487259e",
   "metadata": {},
   "outputs": [
    {
     "data": {
      "text/plain": [
       "10"
      ]
     },
     "execution_count": 66,
     "metadata": {},
     "output_type": "execute_result"
    }
   ],
   "source": [
    "x"
   ]
  },
  {
   "cell_type": "code",
   "execution_count": 67,
   "id": "c8b271db-dbcd-4616-9629-693b08c3cb2d",
   "metadata": {},
   "outputs": [
    {
     "data": {
      "text/plain": [
       "int"
      ]
     },
     "execution_count": 67,
     "metadata": {},
     "output_type": "execute_result"
    }
   ],
   "source": [
    "type(x)"
   ]
  },
  {
   "cell_type": "code",
   "execution_count": 72,
   "id": "9dc50009-8648-4c61-b0be-2e533e676beb",
   "metadata": {},
   "outputs": [
    {
     "name": "stdin",
     "output_type": "stream",
     "text": [
      " 400\n"
     ]
    },
    {
     "name": "stdout",
     "output_type": "stream",
     "text": [
      "400\n"
     ]
    }
   ],
   "source": [
    "a=int(input()) ## with out request message \n",
    "print(a)\n"
   ]
  },
  {
   "cell_type": "code",
   "execution_count": 74,
   "id": "af76952c-5de8-4975-9d9d-5be3a5b9bc36",
   "metadata": {},
   "outputs": [
    {
     "name": "stdin",
     "output_type": "stream",
     "text": [
      "enter values 890\n"
     ]
    }
   ],
   "source": [
    "a=int(input(\"enter values\"))"
   ]
  },
  {
   "cell_type": "code",
   "execution_count": 75,
   "id": "e8c02467-f36c-4dd2-a85c-6210b5ab4198",
   "metadata": {},
   "outputs": [
    {
     "name": "stdout",
     "output_type": "stream",
     "text": [
      "890\n"
     ]
    }
   ],
   "source": [
    "print(a)"
   ]
  },
  {
   "cell_type": "code",
   "execution_count": 76,
   "id": "0b7e4304-fd87-4bbb-88b7-d8e98005adc2",
   "metadata": {},
   "outputs": [],
   "source": [
    "# using the split "
   ]
  },
  {
   "cell_type": "code",
   "execution_count": 80,
   "id": "0f392f8c-d6c4-411a-84a4-50a2b5c5b82e",
   "metadata": {},
   "outputs": [
    {
     "name": "stdin",
     "output_type": "stream",
     "text": [
      " 56 78 90 4556\n"
     ]
    }
   ],
   "source": [
    "a=input().split()"
   ]
  },
  {
   "cell_type": "code",
   "execution_count": 81,
   "id": "6b222493-fa2f-4078-9057-6a65f324e4cf",
   "metadata": {},
   "outputs": [
    {
     "name": "stdout",
     "output_type": "stream",
     "text": [
      "['56', '78', '90', '4556']\n"
     ]
    }
   ],
   "source": [
    "print(a)"
   ]
  },
  {
   "cell_type": "code",
   "execution_count": 82,
   "id": "f454abbc-7c4d-48b2-97f2-3423de8a4e47",
   "metadata": {},
   "outputs": [],
   "source": [
    "# print functions - prints the specified text or values to the screen "
   ]
  },
  {
   "cell_type": "code",
   "execution_count": 83,
   "id": "9687b784-eb2e-4641-a55f-37ff2edeeb9b",
   "metadata": {},
   "outputs": [
    {
     "name": "stdout",
     "output_type": "stream",
     "text": [
      "hello swapna\n"
     ]
    }
   ],
   "source": [
    "print(\"hello swapna\")"
   ]
  },
  {
   "cell_type": "code",
   "execution_count": 84,
   "id": "8e8590bf-27b9-4fce-87c2-dd73423085e4",
   "metadata": {},
   "outputs": [],
   "source": [
    "b=10"
   ]
  },
  {
   "cell_type": "code",
   "execution_count": 85,
   "id": "a3b968a5-7705-4848-9a26-bb0e1d3807a9",
   "metadata": {},
   "outputs": [],
   "source": [
    "a=(\"b\")"
   ]
  },
  {
   "cell_type": "code",
   "execution_count": 86,
   "id": "de68ba77-214e-41bd-b346-88b6f51f4e65",
   "metadata": {},
   "outputs": [],
   "source": [
    "a=b"
   ]
  },
  {
   "cell_type": "code",
   "execution_count": 93,
   "id": "649eb52d-dde4-4edc-9b07-0efe01b7aff8",
   "metadata": {},
   "outputs": [],
   "source": [
    "a=(\"b=\",b)"
   ]
  },
  {
   "cell_type": "code",
   "execution_count": 92,
   "id": "0c0ef64a-8a93-4543-92c6-cdd60112ba7a",
   "metadata": {},
   "outputs": [
    {
     "name": "stdout",
     "output_type": "stream",
     "text": [
      "('b=', 10)\n"
     ]
    }
   ],
   "source": [
    "print(a)"
   ]
  },
  {
   "cell_type": "code",
   "execution_count": 94,
   "id": "876e5ab9-d550-4519-981f-201665225d00",
   "metadata": {},
   "outputs": [
    {
     "name": "stdout",
     "output_type": "stream",
     "text": [
      "10\n"
     ]
    }
   ],
   "source": [
    "print(b)"
   ]
  },
  {
   "cell_type": "code",
   "execution_count": 95,
   "id": "0f9e6970-80c2-45fe-832d-3fc18fb290eb",
   "metadata": {},
   "outputs": [],
   "source": [
    "# to get new line "
   ]
  },
  {
   "cell_type": "code",
   "execution_count": 96,
   "id": "7cb0cda8-a0f6-4fd1-9e71-26f616bf18ad",
   "metadata": {},
   "outputs": [
    {
     "name": "stdout",
     "output_type": "stream",
     "text": [
      "hello\n",
      "swapna\n"
     ]
    }
   ],
   "source": [
    "print(\"hello\")\n",
    "print(\"swapna\")"
   ]
  },
  {
   "cell_type": "code",
   "execution_count": 97,
   "id": "b6fda939-aa0d-4136-b1f5-b59033c3bef4",
   "metadata": {},
   "outputs": [],
   "source": [
    "# key word using \"sep=\""
   ]
  },
  {
   "cell_type": "code",
   "execution_count": 98,
   "id": "8da8b1b8-7dca-48f7-867b-a937b16079c6",
   "metadata": {},
   "outputs": [
    {
     "name": "stdout",
     "output_type": "stream",
     "text": [
      "hello swapna welcome\n"
     ]
    }
   ],
   "source": [
    "print(\"hello\" ,\"swapna\",\"welcome\")"
   ]
  },
  {
   "cell_type": "code",
   "execution_count": 102,
   "id": "5085d7cc-3165-42b8-9c3e-d8dc7f472a4b",
   "metadata": {},
   "outputs": [
    {
     "name": "stdout",
     "output_type": "stream",
     "text": [
      "hello\n",
      " swapna\n",
      " welcome\n"
     ]
    }
   ],
   "source": [
    "print(\"hello\" ,\"swapna\",\"welcome\", sep=\"\\n \")"
   ]
  },
  {
   "cell_type": "code",
   "execution_count": 103,
   "id": "9b945e4c-9ee2-495a-96d7-d621f693be75",
   "metadata": {},
   "outputs": [],
   "source": [
    "#using end\"\""
   ]
  },
  {
   "cell_type": "code",
   "execution_count": 107,
   "id": "68c26ec1-27da-4cb5-82f6-87b9b90c7883",
   "metadata": {},
   "outputs": [
    {
     "name": "stdout",
     "output_type": "stream",
     "text": [
      "helloswapna\n"
     ]
    }
   ],
   "source": [
    "print(\"hello\",end=\"\")\n",
    "print(\"swapna\")\n"
   ]
  },
  {
   "cell_type": "code",
   "execution_count": 108,
   "id": "3aff9475-38b1-4010-825a-a97c68a9d107",
   "metadata": {},
   "outputs": [],
   "source": [
    "# by specifiers "
   ]
  },
  {
   "cell_type": "code",
   "execution_count": 109,
   "id": "54b28eb8-e49f-41c6-8509-5d94e2474c34",
   "metadata": {},
   "outputs": [],
   "source": [
    "a=10"
   ]
  },
  {
   "cell_type": "code",
   "execution_count": 110,
   "id": "af44849a-0615-408c-9a82-d3bee32a2d1d",
   "metadata": {},
   "outputs": [],
   "source": [
    "b=2.6"
   ]
  },
  {
   "cell_type": "code",
   "execution_count": 111,
   "id": "a255caa9-fc06-43c5-bb98-877155f0edfb",
   "metadata": {},
   "outputs": [
    {
     "name": "stdout",
     "output_type": "stream",
     "text": [
      "10 is integer and 20.000000 is float\n"
     ]
    }
   ],
   "source": [
    "print(\"%d is integer and %f is float\" %(a,b))"
   ]
  },
  {
   "cell_type": "code",
   "execution_count": 112,
   "id": "21d72adf-afc7-421a-8f6d-2607b6bc2f55",
   "metadata": {},
   "outputs": [],
   "source": [
    "c=10/3"
   ]
  },
  {
   "cell_type": "code",
   "execution_count": 113,
   "id": "eedcee43-1722-4f3e-94fe-408ad2ae804a",
   "metadata": {},
   "outputs": [
    {
     "name": "stdout",
     "output_type": "stream",
     "text": [
      "3.3333333333333335\n"
     ]
    }
   ],
   "source": [
    "print(c)"
   ]
  },
  {
   "cell_type": "code",
   "execution_count": 114,
   "id": "1d610f84-fbc4-41f2-9d14-ae1f0dd70682",
   "metadata": {},
   "outputs": [
    {
     "name": "stdout",
     "output_type": "stream",
     "text": [
      "c=3.333333\n"
     ]
    }
   ],
   "source": [
    "print(\"c=%f\"%(c))"
   ]
  },
  {
   "cell_type": "code",
   "execution_count": 118,
   "id": "b9b3b961-925e-4572-8010-09a03a976ffc",
   "metadata": {},
   "outputs": [
    {
     "name": "stdout",
     "output_type": "stream",
     "text": [
      "c=3.33\n"
     ]
    }
   ],
   "source": [
    "print(\"c=%.2f\"%(c))"
   ]
  },
  {
   "cell_type": "code",
   "execution_count": 119,
   "id": "1c0f749e-b37c-4121-b2fc-5b12af7551ce",
   "metadata": {},
   "outputs": [],
   "source": [
    "#operatore\n"
   ]
  },
  {
   "cell_type": "code",
   "execution_count": 120,
   "id": "fbc94c1d-5990-46ee-8fcf-241f5d058890",
   "metadata": {},
   "outputs": [],
   "source": [
    "a=5#-(a+1)\n",
    "b=6"
   ]
  },
  {
   "cell_type": "code",
   "execution_count": 121,
   "id": "1422875b-7fa8-47b6-938f-c888673906ec",
   "metadata": {},
   "outputs": [
    {
     "data": {
      "text/plain": [
       "-6"
      ]
     },
     "execution_count": 121,
     "metadata": {},
     "output_type": "execute_result"
    }
   ],
   "source": [
    "~a"
   ]
  },
  {
   "cell_type": "code",
   "execution_count": 122,
   "id": "920ec25b-791f-49bc-9170-824fa4da3f9d",
   "metadata": {},
   "outputs": [
    {
     "data": {
      "text/plain": [
       "-7"
      ]
     },
     "execution_count": 122,
     "metadata": {},
     "output_type": "execute_result"
    }
   ],
   "source": [
    "~b"
   ]
  },
  {
   "cell_type": "code",
   "execution_count": 123,
   "id": "e9452fbf-f500-4269-90a7-a7455c887395",
   "metadata": {},
   "outputs": [],
   "source": [
    "#membership operater"
   ]
  },
  {
   "cell_type": "code",
   "execution_count": 124,
   "id": "edf066d1-6918-43ac-bc6d-c8af2768549d",
   "metadata": {},
   "outputs": [],
   "source": [
    "a=[10,20,56,98,45]"
   ]
  },
  {
   "cell_type": "code",
   "execution_count": 125,
   "id": "34470d5d-12de-4e2b-8177-dcc7c5d53287",
   "metadata": {},
   "outputs": [
    {
     "data": {
      "text/plain": [
       "True"
      ]
     },
     "execution_count": 125,
     "metadata": {},
     "output_type": "execute_result"
    }
   ],
   "source": [
    "10 in a"
   ]
  },
  {
   "cell_type": "code",
   "execution_count": 126,
   "id": "31c232d1-0d15-434c-a5e9-852f11af5aaf",
   "metadata": {},
   "outputs": [
    {
     "data": {
      "text/plain": [
       "False"
      ]
     },
     "execution_count": 126,
     "metadata": {},
     "output_type": "execute_result"
    }
   ],
   "source": [
    "78 in a"
   ]
  },
  {
   "cell_type": "code",
   "execution_count": 127,
   "id": "c3be3d27-ab00-45fc-b2e3-fd5a992b1358",
   "metadata": {},
   "outputs": [
    {
     "data": {
      "text/plain": [
       "True"
      ]
     },
     "execution_count": 127,
     "metadata": {},
     "output_type": "execute_result"
    }
   ],
   "source": [
    "200 not in a"
   ]
  },
  {
   "cell_type": "code",
   "execution_count": 128,
   "id": "53f5973b-c904-4d19-87ea-8cc97ba72517",
   "metadata": {},
   "outputs": [
    {
     "data": {
      "text/plain": [
       "False"
      ]
     },
     "execution_count": 128,
     "metadata": {},
     "output_type": "execute_result"
    }
   ],
   "source": [
    "20 not in a"
   ]
  },
  {
   "cell_type": "code",
   "execution_count": 129,
   "id": "b54ed8f6-8ce3-4e4f-a757-29559801a208",
   "metadata": {},
   "outputs": [],
   "source": [
    "# identity operator"
   ]
  },
  {
   "cell_type": "code",
   "execution_count": 130,
   "id": "16925916-c89a-4a31-aac7-1510b0545846",
   "metadata": {},
   "outputs": [],
   "source": [
    "a=8"
   ]
  },
  {
   "cell_type": "code",
   "execution_count": 131,
   "id": "8c7e96a7-8f3f-44e9-b616-54e51a714670",
   "metadata": {},
   "outputs": [],
   "source": [
    "b=8"
   ]
  },
  {
   "cell_type": "code",
   "execution_count": 132,
   "id": "1b696434-8393-4bd7-9643-46e96b5476e1",
   "metadata": {},
   "outputs": [
    {
     "data": {
      "text/plain": [
       "140707316181656"
      ]
     },
     "execution_count": 132,
     "metadata": {},
     "output_type": "execute_result"
    }
   ],
   "source": [
    "id(a)"
   ]
  },
  {
   "cell_type": "code",
   "execution_count": 133,
   "id": "8958eadc-6dd2-499a-8c90-9ba7b00aac32",
   "metadata": {},
   "outputs": [
    {
     "data": {
      "text/plain": [
       "140707316181656"
      ]
     },
     "execution_count": 133,
     "metadata": {},
     "output_type": "execute_result"
    }
   ],
   "source": [
    "id(b)"
   ]
  },
  {
   "cell_type": "code",
   "execution_count": 140,
   "id": "c3689b63-cbe0-439a-a997-14b1efb5ebc3",
   "metadata": {},
   "outputs": [
    {
     "data": {
      "text/plain": [
       "False"
      ]
     },
     "execution_count": 140,
     "metadata": {},
     "output_type": "execute_result"
    }
   ],
   "source": [
    "a is b"
   ]
  },
  {
   "cell_type": "code",
   "execution_count": 135,
   "id": "daca0502-ef8e-41df-a17e-4f1611ba882c",
   "metadata": {},
   "outputs": [],
   "source": [
    "a=98"
   ]
  },
  {
   "cell_type": "code",
   "execution_count": 136,
   "id": "d7a8cb8e-ec80-4884-8fce-997c9653e515",
   "metadata": {},
   "outputs": [],
   "source": [
    "b=90"
   ]
  },
  {
   "cell_type": "code",
   "execution_count": 137,
   "id": "eff42adf-d168-477c-9117-86ea1dd36568",
   "metadata": {},
   "outputs": [
    {
     "data": {
      "text/plain": [
       "140707316184536"
      ]
     },
     "execution_count": 137,
     "metadata": {},
     "output_type": "execute_result"
    }
   ],
   "source": [
    "id(a)"
   ]
  },
  {
   "cell_type": "code",
   "execution_count": 138,
   "id": "f2fceedc-8b1b-4b16-af30-8cd1922ab634",
   "metadata": {},
   "outputs": [
    {
     "data": {
      "text/plain": [
       "140707316184280"
      ]
     },
     "execution_count": 138,
     "metadata": {},
     "output_type": "execute_result"
    }
   ],
   "source": [
    "id(b)"
   ]
  },
  {
   "cell_type": "code",
   "execution_count": 139,
   "id": "702d95a0-3002-428c-a3eb-085cd98c8a33",
   "metadata": {},
   "outputs": [
    {
     "data": {
      "text/plain": [
       "False"
      ]
     },
     "execution_count": 139,
     "metadata": {},
     "output_type": "execute_result"
    }
   ],
   "source": [
    "a is b"
   ]
  },
  {
   "cell_type": "code",
   "execution_count": 141,
   "id": "ab7afe44-635c-4e2b-8d7e-0de519a7c1c8",
   "metadata": {},
   "outputs": [],
   "source": [
    "# control statement (conditional statements)"
   ]
  },
  {
   "cell_type": "code",
   "execution_count": 145,
   "id": "ac3ec1ad-021c-4045-9c6f-c2a146dba574",
   "metadata": {},
   "outputs": [
    {
     "name": "stdin",
     "output_type": "stream",
     "text": [
      " -7\n"
     ]
    },
    {
     "name": "stdout",
     "output_type": "stream",
     "text": [
      "negative number\n"
     ]
    }
   ],
   "source": [
    "a=int(input())\n",
    "if a>0:\n",
    "    print(\"positive number\")\n",
    "else:\n",
    "    print(\"negative number\")"
   ]
  },
  {
   "cell_type": "code",
   "execution_count": 149,
   "id": "18904f7c-9dfd-4ae6-8168-8a866d4e2d12",
   "metadata": {},
   "outputs": [
    {
     "name": "stdin",
     "output_type": "stream",
     "text": [
      "enter a: 19\n",
      "enter b: 8\n"
     ]
    },
    {
     "name": "stdout",
     "output_type": "stream",
     "text": [
      "a is greater than b\n"
     ]
    }
   ],
   "source": [
    "a=int(input(\"enter a:\"))\n",
    "b=int(input(\"enter b:\"))\n",
    "if a>b:\n",
    "    print(\"a is greater than b\")\n",
    "elif a<b:\n",
    "    print(\"a is smaller than b\")\n",
    "else:\n",
    "    print(\"both are equal\")\n",
    "    "
   ]
  },
  {
   "cell_type": "code",
   "execution_count": 150,
   "id": "0a68beef-96a9-4935-8665-7bed94c73f0e",
   "metadata": {},
   "outputs": [
    {
     "name": "stdin",
     "output_type": "stream",
     "text": [
      "enter a: 90\n",
      "enter b: 8\n"
     ]
    },
    {
     "name": "stdout",
     "output_type": "stream",
     "text": [
      "a is greater than b\n"
     ]
    }
   ],
   "source": [
    "a=int(input(\"enter a:\"))\n",
    "b=int(input(\"enter b:\"))\n",
    "if a>b:\n",
    "    print(\"a is greater than b\")\n",
    "elif a<b:\n",
    "    print(\"a is smaller than b\")\n",
    "else:\n",
    "    print(\"both are equal\")\n",
    "\n"
   ]
  },
  {
   "cell_type": "code",
   "execution_count": 151,
   "id": "e11d8cc0-cc96-4aa8-b90c-1dcccdd7c22b",
   "metadata": {},
   "outputs": [
    {
     "name": "stdin",
     "output_type": "stream",
     "text": [
      "enter a: -7\n",
      "enter b: 99\n"
     ]
    },
    {
     "name": "stdout",
     "output_type": "stream",
     "text": [
      "a is smaller than b\n"
     ]
    }
   ],
   "source": [
    "a=int(input(\"enter a:\"))\n",
    "b=int(input(\"enter b:\"))\n",
    "if a>b:\n",
    "    print(\"a is greater than b\")\n",
    "elif a<b:\n",
    "    print(\"a is smaller than b\")\n",
    "else:\n",
    "    print(\"both are equal\")\n",
    "    "
   ]
  },
  {
   "cell_type": "code",
   "execution_count": 152,
   "id": "fe0d769c-75d3-4bbf-9140-67c76972b794",
   "metadata": {},
   "outputs": [
    {
     "name": "stdin",
     "output_type": "stream",
     "text": [
      "enter a: 0\n",
      "enter b: 0\n"
     ]
    },
    {
     "name": "stdout",
     "output_type": "stream",
     "text": [
      "both are equal\n"
     ]
    }
   ],
   "source": [
    "a=int(input(\"enter a:\"))\n",
    "b=int(input(\"enter b:\"))\n",
    "if a>b:\n",
    "    print(\"a is greater than b\")\n",
    "elif a<b:\n",
    "    print(\"a is smaller than b\")\n",
    "else:\n",
    "    print(\"both are equal\")\n",
    "    "
   ]
  },
  {
   "cell_type": "code",
   "execution_count": 155,
   "id": "9d30443f-84d0-44e1-8add-f6cd019f5653",
   "metadata": {},
   "outputs": [
    {
     "name": "stdin",
     "output_type": "stream",
     "text": [
      "enter a: 76\n",
      "enter b: 00\n",
      "enter c: 3\n"
     ]
    },
    {
     "name": "stdout",
     "output_type": "stream",
     "text": [
      "a is big\n"
     ]
    }
   ],
   "source": [
    "a=int(input(\"enter a:\"))\n",
    "b=int(input(\"enter b:\"))\n",
    "c=int(input(\"enter c:\"))\n",
    "if a>b:\n",
    "    if a>c:\n",
    "        print (\"a is big\")\n",
    "    else:\n",
    "        print(\"c is big\")\n",
    "else:\n",
    "    if b>c:\n",
    "        print(\"b is big\")\n",
    "    else:\n",
    "        print(\"c is big\")\n",
    "    \n"
   ]
  },
  {
   "cell_type": "code",
   "execution_count": 156,
   "id": "4d39f6ef-d8ab-4cc8-920e-ae20e1edb399",
   "metadata": {},
   "outputs": [],
   "source": [
    "# sequential ( it will print lin eby line)"
   ]
  },
  {
   "cell_type": "code",
   "execution_count": 92,
   "id": "16836e97-6714-4e11-84db-3f53c4614cde",
   "metadata": {},
   "outputs": [
    {
     "name": "stdin",
     "output_type": "stream",
     "text": [
      "enter a: 5\n",
      "enter b: 9\n"
     ]
    },
    {
     "name": "stdout",
     "output_type": "stream",
     "text": [
      "sum= 14\n"
     ]
    }
   ],
   "source": [
    "a=int(input(\"enter a:\"))\n",
    "b=int(input(\"enter b:\"))\n",
    "c=a+b\n",
    "print(\"sum=\",c)"
   ]
  },
  {
   "cell_type": "code",
   "execution_count": 1,
   "id": "cfc1b1c9-d3ad-4e16-abb3-1a1865d20c4c",
   "metadata": {},
   "outputs": [
    {
     "name": "stdout",
     "output_type": "stream",
     "text": [
      "0\n",
      "1\n",
      "2\n",
      "3\n",
      "4\n",
      "5\n"
     ]
    }
   ],
   "source": [
    "for i in range(6):\n",
    "    print(i)"
   ]
  },
  {
   "cell_type": "code",
   "execution_count": 3,
   "id": "e6b6c443-c4db-43b9-91ec-3ba60098b341",
   "metadata": {},
   "outputs": [
    {
     "name": "stdout",
     "output_type": "stream",
     "text": [
      "0\n",
      "1\n",
      "2\n",
      "3\n",
      "4\n",
      "5\n"
     ]
    }
   ],
   "source": [
    "for i in range(0,6,1):\n",
    "    print(i)"
   ]
  },
  {
   "cell_type": "code",
   "execution_count": 4,
   "id": "be07e725-b515-49f2-8e4b-51caacf6a6b1",
   "metadata": {},
   "outputs": [
    {
     "name": "stdout",
     "output_type": "stream",
     "text": [
      "0\n",
      "2\n",
      "4\n"
     ]
    }
   ],
   "source": [
    "for i in range(0,6,2):\n",
    "    print(i)"
   ]
  },
  {
   "cell_type": "code",
   "execution_count": 5,
   "id": "6bf37c85-ab9c-442a-8b07-64bdbf087bf5",
   "metadata": {},
   "outputs": [
    {
     "name": "stdout",
     "output_type": "stream",
     "text": [
      "06121824303642485460667278849096"
     ]
    }
   ],
   "source": [
    "for i in range(0,100,6):\n",
    "    print(i, end=\"\")"
   ]
  },
  {
   "cell_type": "code",
   "execution_count": 6,
   "id": "1bb825ad-3ac9-42d6-bdc8-20765cab7718",
   "metadata": {},
   "outputs": [],
   "source": [
    "# sequence"
   ]
  },
  {
   "cell_type": "code",
   "execution_count": 10,
   "id": "2b6d14a8-08e8-459c-8e00-e29f1b931a2f",
   "metadata": {},
   "outputs": [
    {
     "name": "stdout",
     "output_type": "stream",
     "text": [
      "s\n",
      "w\n",
      "a\n",
      "p\n",
      "n\n",
      "a\n"
     ]
    }
   ],
   "source": [
    "str=\"swapna\"\n",
    "for letter in str:\n",
    "    print(letter)"
   ]
  },
  {
   "cell_type": "code",
   "execution_count": 9,
   "id": "d1e59f4b-c587-4626-94d2-d9498f9229a1",
   "metadata": {},
   "outputs": [
    {
     "name": "stdout",
     "output_type": "stream",
     "text": [
      "10\n",
      "20\n",
      "55\n"
     ]
    }
   ],
   "source": [
    "l=[10,20,55]\n",
    "for ele in l:\n",
    "    print(ele)"
   ]
  },
  {
   "cell_type": "code",
   "execution_count": 11,
   "id": "2a798e11-070f-4058-8585-ce746ba10183",
   "metadata": {},
   "outputs": [],
   "source": [
    "#nested "
   ]
  },
  {
   "cell_type": "code",
   "execution_count": 31,
   "id": "b3c5a016-adde-451f-938d-002fb69c98ec",
   "metadata": {},
   "outputs": [
    {
     "name": "stdout",
     "output_type": "stream",
     "text": [
      "* \n",
      "* \n",
      "* \n",
      "* \n"
     ]
    }
   ],
   "source": [
    "for i in range(2): # i=0to 4\n",
    "    for j in range(2):#j=0to 4\n",
    "        print(\"*\",end=\"\")\n",
    "        print(\" \")"
   ]
  },
  {
   "cell_type": "code",
   "execution_count": 24,
   "id": "936bed34-6d77-4e82-9e0c-43aff09f9dcf",
   "metadata": {},
   "outputs": [],
   "source": [
    "# jumping"
   ]
  },
  {
   "cell_type": "code",
   "execution_count": 35,
   "id": "e35817e7-cf94-4032-871d-988e06c06620",
   "metadata": {},
   "outputs": [
    {
     "ename": "IndentationError",
     "evalue": "expected an indented block after 'if' statement on line 2 (1688700497.py, line 3)",
     "output_type": "error",
     "traceback": [
      "\u001b[1;36m  Cell \u001b[1;32mIn[35], line 3\u001b[1;36m\u001b[0m\n\u001b[1;33m    break\u001b[0m\n\u001b[1;37m    ^\u001b[0m\n\u001b[1;31mIndentationError\u001b[0m\u001b[1;31m:\u001b[0m expected an indented block after 'if' statement on line 2\n"
     ]
    }
   ],
   "source": [
    "for i in range(10):\n",
    "    if i ==5:\n",
    "    break\n",
    "else:\n",
    "    print(i)"
   ]
  },
  {
   "cell_type": "code",
   "execution_count": 37,
   "id": "f74ac7ba-caa5-46aa-9205-5a96e3b4ba3e",
   "metadata": {},
   "outputs": [
    {
     "name": "stdout",
     "output_type": "stream",
     "text": [
      "0\n",
      "1\n",
      "2\n",
      "3\n",
      "4\n"
     ]
    }
   ],
   "source": [
    "for i in range(9):\n",
    "    if i==5:\n",
    "        break\n",
    "    else:\n",
    "        print(i)"
   ]
  },
  {
   "cell_type": "code",
   "execution_count": 38,
   "id": "cbb73d3a-bce4-4af9-ab13-dd86540856a0",
   "metadata": {},
   "outputs": [
    {
     "name": "stdout",
     "output_type": "stream",
     "text": [
      "0\n",
      "1\n",
      "2\n",
      "3\n",
      "4\n",
      "6\n",
      "7\n",
      "8\n"
     ]
    }
   ],
   "source": [
    "for i in range(9):\n",
    "    if i==5:\n",
    "        continue\n",
    "    else:\n",
    "        print(i)"
   ]
  },
  {
   "cell_type": "code",
   "execution_count": 39,
   "id": "b78a941f-cb16-4044-9a1c-98df50ef03a7",
   "metadata": {},
   "outputs": [
    {
     "name": "stdout",
     "output_type": "stream",
     "text": [
      "0\n",
      "1\n",
      "2\n",
      "3\n",
      "4\n",
      "6\n",
      "7\n",
      "8\n"
     ]
    }
   ],
   "source": [
    "for i in range(9):\n",
    "    if i==5:\n",
    "        pass\n",
    "    else:\n",
    "        print(i)"
   ]
  },
  {
   "cell_type": "code",
   "execution_count": 40,
   "id": "044e9c20-c723-4ac5-8bfb-a23c552f5fa8",
   "metadata": {},
   "outputs": [],
   "source": [
    "#math & random"
   ]
  },
  {
   "cell_type": "code",
   "execution_count": 41,
   "id": "9f0b8c1a-de30-424b-9055-34fe4426f017",
   "metadata": {},
   "outputs": [],
   "source": [
    "import math"
   ]
  },
  {
   "cell_type": "code",
   "execution_count": 43,
   "id": "1154b91e-39b0-46bd-a8a2-f2b7e27f8ad6",
   "metadata": {},
   "outputs": [
    {
     "data": {
      "text/plain": [
       "13"
      ]
     },
     "execution_count": 43,
     "metadata": {},
     "output_type": "execute_result"
    }
   ],
   "source": [
    "math.ceil(12.9)"
   ]
  },
  {
   "cell_type": "code",
   "execution_count": 44,
   "id": "cea1699b-284a-4ec7-a7a0-d3a404002840",
   "metadata": {},
   "outputs": [
    {
     "data": {
      "text/plain": [
       "9"
      ]
     },
     "execution_count": 44,
     "metadata": {},
     "output_type": "execute_result"
    }
   ],
   "source": [
    "math.floor(9.6)"
   ]
  },
  {
   "cell_type": "code",
   "execution_count": 45,
   "id": "da916906-f5aa-4743-8b03-079c2968259f",
   "metadata": {},
   "outputs": [],
   "source": [
    "a=7"
   ]
  },
  {
   "cell_type": "code",
   "execution_count": 46,
   "id": "7c464d4e-373d-4534-9a83-f4094c287cc0",
   "metadata": {},
   "outputs": [],
   "source": [
    "b=8"
   ]
  },
  {
   "cell_type": "code",
   "execution_count": 49,
   "id": "df77b0d4-9331-4d19-9029-cdff532f746f",
   "metadata": {},
   "outputs": [
    {
     "data": {
      "text/plain": [
       "7.0"
      ]
     },
     "execution_count": 49,
     "metadata": {},
     "output_type": "execute_result"
    }
   ],
   "source": [
    "math.copysign(a,b)"
   ]
  },
  {
   "cell_type": "code",
   "execution_count": 50,
   "id": "70d095f2-eb6d-47f0-8e20-2f502598a688",
   "metadata": {},
   "outputs": [
    {
     "data": {
      "text/plain": [
       "1"
      ]
     },
     "execution_count": 50,
     "metadata": {},
     "output_type": "execute_result"
    }
   ],
   "source": [
    "math.gcd(a,b)"
   ]
  },
  {
   "cell_type": "code",
   "execution_count": 51,
   "id": "91f2cae0-3ce6-4b00-ac9a-44864d1d9580",
   "metadata": {},
   "outputs": [
    {
     "data": {
      "text/plain": [
       "5764801.0"
      ]
     },
     "execution_count": 51,
     "metadata": {},
     "output_type": "execute_result"
    }
   ],
   "source": [
    "math.pow(a,b)"
   ]
  },
  {
   "cell_type": "code",
   "execution_count": 52,
   "id": "99036787-c073-4637-a5ec-5cb94ac77f36",
   "metadata": {},
   "outputs": [
    {
     "data": {
      "text/plain": [
       "0.6569865987187891"
      ]
     },
     "execution_count": 52,
     "metadata": {},
     "output_type": "execute_result"
    }
   ],
   "source": [
    "math.sin(a)"
   ]
  },
  {
   "cell_type": "code",
   "execution_count": 53,
   "id": "d7cdf979-acdd-4047-844c-67dba74d3008",
   "metadata": {},
   "outputs": [
    {
     "data": {
      "text/plain": [
       "3.141592653589793"
      ]
     },
     "execution_count": 53,
     "metadata": {},
     "output_type": "execute_result"
    }
   ],
   "source": [
    "math.pi"
   ]
  },
  {
   "cell_type": "code",
   "execution_count": 54,
   "id": "75ef42ee-89d9-4b8a-a082-c6ea2ba4013e",
   "metadata": {},
   "outputs": [
    {
     "data": {
      "text/plain": [
       "6.283185307179586"
      ]
     },
     "execution_count": 54,
     "metadata": {},
     "output_type": "execute_result"
    }
   ],
   "source": [
    "math.tau"
   ]
  },
  {
   "cell_type": "code",
   "execution_count": 57,
   "id": "5e3dcc94-860f-43db-8a5a-f08e3897ae72",
   "metadata": {},
   "outputs": [
    {
     "data": {
      "text/plain": [
       "inf"
      ]
     },
     "execution_count": 57,
     "metadata": {},
     "output_type": "execute_result"
    }
   ],
   "source": [
    "math.inf"
   ]
  },
  {
   "cell_type": "code",
   "execution_count": 58,
   "id": "eec112ef-c463-472d-af79-befe9209a9b0",
   "metadata": {},
   "outputs": [
    {
     "data": {
      "text/plain": [
       "nan"
      ]
     },
     "execution_count": 58,
     "metadata": {},
     "output_type": "execute_result"
    }
   ],
   "source": [
    "math.nan"
   ]
  },
  {
   "cell_type": "code",
   "execution_count": 59,
   "id": "2a9320f9-be93-40c5-a22e-ef28c90ae235",
   "metadata": {},
   "outputs": [],
   "source": [
    "l=[12.76,99]"
   ]
  },
  {
   "cell_type": "code",
   "execution_count": 61,
   "id": "71f51053-e794-433e-9e1f-a5db481aef26",
   "metadata": {},
   "outputs": [
    {
     "data": {
      "text/plain": [
       "111.76"
      ]
     },
     "execution_count": 61,
     "metadata": {},
     "output_type": "execute_result"
    }
   ],
   "source": [
    "math.fsum(l)"
   ]
  },
  {
   "cell_type": "code",
   "execution_count": 62,
   "id": "d4b6e553-ffee-42bb-9c71-10c5a72b2c02",
   "metadata": {},
   "outputs": [],
   "source": [
    "import random"
   ]
  },
  {
   "cell_type": "code",
   "execution_count": 76,
   "id": "c89196e0-65a7-40c8-bab6-06dac6c63c68",
   "metadata": {},
   "outputs": [],
   "source": [
    "l=[12,76,99]"
   ]
  },
  {
   "cell_type": "code",
   "execution_count": 77,
   "id": "8c488200-3f7d-489f-96a9-d468cfc188af",
   "metadata": {},
   "outputs": [
    {
     "data": {
      "text/plain": [
       "76"
      ]
     },
     "execution_count": 77,
     "metadata": {},
     "output_type": "execute_result"
    }
   ],
   "source": [
    "random.choice(l)"
   ]
  },
  {
   "cell_type": "code",
   "execution_count": 78,
   "id": "7a3fad55-842d-4c45-ba94-de5869b3e85a",
   "metadata": {},
   "outputs": [
    {
     "data": {
      "text/plain": [
       "12"
      ]
     },
     "execution_count": 78,
     "metadata": {},
     "output_type": "execute_result"
    }
   ],
   "source": [
    "random.choice(l)"
   ]
  },
  {
   "cell_type": "code",
   "execution_count": 79,
   "id": "2d3c62dc-88f0-4478-9507-c0ed84a1a978",
   "metadata": {},
   "outputs": [
    {
     "data": {
      "text/plain": [
       "99"
      ]
     },
     "execution_count": 79,
     "metadata": {},
     "output_type": "execute_result"
    }
   ],
   "source": [
    "random.choice(l)"
   ]
  },
  {
   "cell_type": "code",
   "execution_count": 80,
   "id": "62276fe9-1b2d-4f4d-8c00-2d22e54c860d",
   "metadata": {},
   "outputs": [
    {
     "data": {
      "text/plain": [
       "[12, 76]"
      ]
     },
     "execution_count": 80,
     "metadata": {},
     "output_type": "execute_result"
    }
   ],
   "source": [
    "random.choices(l,k=2)"
   ]
  },
  {
   "cell_type": "code",
   "execution_count": 81,
   "id": "520a9f94-4cb5-468d-9a19-0466aaea103b",
   "metadata": {},
   "outputs": [
    {
     "data": {
      "text/plain": [
       "[76, 76, 12]"
      ]
     },
     "execution_count": 81,
     "metadata": {},
     "output_type": "execute_result"
    }
   ],
   "source": [
    "random.choices(l,k=3)"
   ]
  },
  {
   "cell_type": "code",
   "execution_count": 82,
   "id": "f1ebf5e8-b37b-4ced-9f6b-a8d00ea89a68",
   "metadata": {},
   "outputs": [
    {
     "data": {
      "text/plain": [
       "17"
      ]
     },
     "execution_count": 82,
     "metadata": {},
     "output_type": "execute_result"
    }
   ],
   "source": [
    "random.randrange(10,20,1)"
   ]
  },
  {
   "cell_type": "code",
   "execution_count": 84,
   "id": "9cda7a57-9974-4fa5-89de-8fc703294126",
   "metadata": {},
   "outputs": [
    {
     "data": {
      "text/plain": [
       "0.13124153434505115"
      ]
     },
     "execution_count": 84,
     "metadata": {},
     "output_type": "execute_result"
    }
   ],
   "source": [
    "random.random()"
   ]
  },
  {
   "cell_type": "code",
   "execution_count": 86,
   "id": "b6e7d8c9-c483-41f9-a921-368ffcd86187",
   "metadata": {},
   "outputs": [
    {
     "data": {
      "text/plain": [
       "[12, 76, 99]"
      ]
     },
     "execution_count": 86,
     "metadata": {},
     "output_type": "execute_result"
    }
   ],
   "source": [
    "l"
   ]
  },
  {
   "cell_type": "raw",
   "id": "3fae7a60-ddd0-486c-b5b8-2bb6979b7841",
   "metadata": {},
   "source": [
    "random.shuffle(l)"
   ]
  },
  {
   "cell_type": "code",
   "execution_count": 87,
   "id": "f57d0322-f6ab-4c5d-9853-0c93f7fea8ef",
   "metadata": {},
   "outputs": [
    {
     "data": {
      "text/plain": [
       "[12, 76, 99]"
      ]
     },
     "execution_count": 87,
     "metadata": {},
     "output_type": "execute_result"
    }
   ],
   "source": [
    "l"
   ]
  },
  {
   "cell_type": "code",
   "execution_count": 88,
   "id": "736e3f35-66da-4460-8ab9-ab1585dd1c58",
   "metadata": {},
   "outputs": [
    {
     "data": {
      "text/plain": [
       "[12, 76, 99]"
      ]
     },
     "execution_count": 88,
     "metadata": {},
     "output_type": "execute_result"
    }
   ],
   "source": [
    "l"
   ]
  },
  {
   "cell_type": "code",
   "execution_count": 89,
   "id": "8b30e915-da0a-499b-a822-f6bb3d1fd9bf",
   "metadata": {},
   "outputs": [
    {
     "data": {
      "text/plain": [
       "9.228449219309464"
      ]
     },
     "execution_count": 89,
     "metadata": {},
     "output_type": "execute_result"
    }
   ],
   "source": [
    "random.uniform(10,5)"
   ]
  },
  {
   "cell_type": "code",
   "execution_count": 90,
   "id": "aa51d490-6c32-4170-b75f-a5f632776edc",
   "metadata": {},
   "outputs": [],
   "source": [
    "#list"
   ]
  },
  {
   "cell_type": "code",
   "execution_count": 93,
   "id": "cc651e92-4be7-4724-84e8-911ee656d1df",
   "metadata": {},
   "outputs": [
    {
     "ename": "SyntaxError",
     "evalue": "invalid syntax (1145722274.py, line 1)",
     "output_type": "error",
     "traceback": [
      "\u001b[1;36m  Cell \u001b[1;32mIn[93], line 1\u001b[1;36m\u001b[0m\n\u001b[1;33m    a[]\u001b[0m\n\u001b[1;37m      ^\u001b[0m\n\u001b[1;31mSyntaxError\u001b[0m\u001b[1;31m:\u001b[0m invalid syntax\n"
     ]
    }
   ],
   "source": [
    "a[]"
   ]
  },
  {
   "cell_type": "code",
   "execution_count": 94,
   "id": "4dad06e8-761a-42ce-8900-a2245f7511f0",
   "metadata": {},
   "outputs": [],
   "source": [
    "a=[]"
   ]
  },
  {
   "cell_type": "code",
   "execution_count": 96,
   "id": "bde202ee-2e27-417f-ad3f-542e73f9057e",
   "metadata": {},
   "outputs": [
    {
     "data": {
      "text/plain": [
       "list"
      ]
     },
     "execution_count": 96,
     "metadata": {},
     "output_type": "execute_result"
    }
   ],
   "source": [
    "type(a)\n"
   ]
  },
  {
   "cell_type": "code",
   "execution_count": 97,
   "id": "49773fdc-ede6-4a2b-af3b-bfc662419418",
   "metadata": {},
   "outputs": [
    {
     "data": {
      "text/plain": [
       "[]"
      ]
     },
     "execution_count": 97,
     "metadata": {},
     "output_type": "execute_result"
    }
   ],
   "source": [
    "a"
   ]
  },
  {
   "cell_type": "code",
   "execution_count": 98,
   "id": "e43a9994-c74f-4dfb-a746-18e9f0b2cc75",
   "metadata": {},
   "outputs": [],
   "source": [
    "a=[10,20,30]"
   ]
  },
  {
   "cell_type": "code",
   "execution_count": 99,
   "id": "3a6103c5-f355-4629-8fdf-e157d16ae56b",
   "metadata": {},
   "outputs": [
    {
     "data": {
      "text/plain": [
       "[10, 20, 30]"
      ]
     },
     "execution_count": 99,
     "metadata": {},
     "output_type": "execute_result"
    }
   ],
   "source": [
    "a"
   ]
  },
  {
   "cell_type": "code",
   "execution_count": 100,
   "id": "45a79ffc-a028-4bbb-b8b1-4f0a69279120",
   "metadata": {},
   "outputs": [
    {
     "data": {
      "text/plain": [
       "[12, 76, 99]"
      ]
     },
     "execution_count": 100,
     "metadata": {},
     "output_type": "execute_result"
    }
   ],
   "source": [
    "l"
   ]
  },
  {
   "cell_type": "code",
   "execution_count": 101,
   "id": "5efa8180-81a2-4136-991a-2cb36df60a0b",
   "metadata": {},
   "outputs": [
    {
     "data": {
      "text/plain": [
       "[10, 20, 30]"
      ]
     },
     "execution_count": 101,
     "metadata": {},
     "output_type": "execute_result"
    }
   ],
   "source": [
    "a"
   ]
  },
  {
   "cell_type": "code",
   "execution_count": 102,
   "id": "5567287c-4bc0-4b13-a31c-739cdb085c6b",
   "metadata": {},
   "outputs": [],
   "source": [
    "a=[10,5.6,\"hello\"]"
   ]
  },
  {
   "cell_type": "code",
   "execution_count": 103,
   "id": "55fada88-bac6-4622-8f24-e7a413d544d4",
   "metadata": {},
   "outputs": [
    {
     "data": {
      "text/plain": [
       "[10, 5.6, 'hello']"
      ]
     },
     "execution_count": 103,
     "metadata": {},
     "output_type": "execute_result"
    }
   ],
   "source": [
    "a\n"
   ]
  },
  {
   "cell_type": "code",
   "execution_count": 104,
   "id": "0140d506-2e6b-4162-a7a0-a7799ac27494",
   "metadata": {},
   "outputs": [
    {
     "data": {
      "text/plain": [
       "10"
      ]
     },
     "execution_count": 104,
     "metadata": {},
     "output_type": "execute_result"
    }
   ],
   "source": [
    "a[0]"
   ]
  },
  {
   "cell_type": "code",
   "execution_count": 105,
   "id": "9c9e2f67-d8cb-40a2-9039-62fd111bed8f",
   "metadata": {},
   "outputs": [
    {
     "data": {
      "text/plain": [
       "'hello'"
      ]
     },
     "execution_count": 105,
     "metadata": {},
     "output_type": "execute_result"
    }
   ],
   "source": [
    "a[-1]"
   ]
  },
  {
   "cell_type": "code",
   "execution_count": 106,
   "id": "a20d969b-8c94-4f3a-9196-426e44480f2e",
   "metadata": {},
   "outputs": [
    {
     "ename": "IndexError",
     "evalue": "list index out of range",
     "output_type": "error",
     "traceback": [
      "\u001b[1;31m---------------------------------------------------------------------------\u001b[0m",
      "\u001b[1;31mIndexError\u001b[0m                                Traceback (most recent call last)",
      "Cell \u001b[1;32mIn[106], line 1\u001b[0m\n\u001b[1;32m----> 1\u001b[0m a[\u001b[38;5;241m-\u001b[39m\u001b[38;5;241m5\u001b[39m]\n",
      "\u001b[1;31mIndexError\u001b[0m: list index out of range"
     ]
    }
   ],
   "source": [
    "a[-5]"
   ]
  },
  {
   "cell_type": "code",
   "execution_count": 109,
   "id": "d04fd3b0-8b8b-43fb-8014-80f46c2817a3",
   "metadata": {},
   "outputs": [
    {
     "data": {
      "text/plain": [
       "[10, 5.6, 'hello']"
      ]
     },
     "execution_count": 109,
     "metadata": {},
     "output_type": "execute_result"
    }
   ],
   "source": [
    "#sliching\n",
    "a[:]"
   ]
  },
  {
   "cell_type": "code",
   "execution_count": 111,
   "id": "f4debe99-573d-49c4-b956-2f99ea6fccd2",
   "metadata": {},
   "outputs": [
    {
     "data": {
      "text/plain": [
       "[5.6, 'hello']"
      ]
     },
     "execution_count": 111,
     "metadata": {},
     "output_type": "execute_result"
    }
   ],
   "source": [
    "a[1:3]"
   ]
  },
  {
   "cell_type": "code",
   "execution_count": 112,
   "id": "37801fc2-16d0-45a6-8d1d-dd6f85938165",
   "metadata": {},
   "outputs": [],
   "source": [
    "#reassign"
   ]
  },
  {
   "cell_type": "code",
   "execution_count": 113,
   "id": "fca48351-c698-459d-8cac-8977340d945d",
   "metadata": {},
   "outputs": [],
   "source": [
    "a[2]=80"
   ]
  },
  {
   "cell_type": "code",
   "execution_count": 114,
   "id": "da091df6-58da-4e5d-8f93-05cfc32463f2",
   "metadata": {},
   "outputs": [
    {
     "data": {
      "text/plain": [
       "[10, 5.6, 80]"
      ]
     },
     "execution_count": 114,
     "metadata": {},
     "output_type": "execute_result"
    }
   ],
   "source": [
    "a\n"
   ]
  },
  {
   "cell_type": "code",
   "execution_count": 115,
   "id": "07ca931a-8ede-4845-8edf-87d883523c94",
   "metadata": {},
   "outputs": [
    {
     "ename": "IndexError",
     "evalue": "list assignment index out of range",
     "output_type": "error",
     "traceback": [
      "\u001b[1;31m---------------------------------------------------------------------------\u001b[0m",
      "\u001b[1;31mIndexError\u001b[0m                                Traceback (most recent call last)",
      "Cell \u001b[1;32mIn[115], line 1\u001b[0m\n\u001b[1;32m----> 1\u001b[0m a[\u001b[38;5;241m4\u001b[39m]\u001b[38;5;241m=\u001b[39m\u001b[38;5;241m76\u001b[39m\n",
      "\u001b[1;31mIndexError\u001b[0m: list assignment index out of range"
     ]
    }
   ],
   "source": [
    "a[4]=76"
   ]
  },
  {
   "cell_type": "code",
   "execution_count": 116,
   "id": "002a322c-6d41-4e36-ac17-6b5ae8922c81",
   "metadata": {},
   "outputs": [],
   "source": [
    "#dictionary"
   ]
  },
  {
   "cell_type": "code",
   "execution_count": 117,
   "id": "61ae62ab-5344-4a0f-8d3f-77846364766a",
   "metadata": {},
   "outputs": [
    {
     "ename": "SyntaxError",
     "evalue": "invalid syntax (2571592156.py, line 1)",
     "output_type": "error",
     "traceback": [
      "\u001b[1;36m  Cell \u001b[1;32mIn[117], line 1\u001b[1;36m\u001b[0m\n\u001b[1;33m    d{}\u001b[0m\n\u001b[1;37m     ^\u001b[0m\n\u001b[1;31mSyntaxError\u001b[0m\u001b[1;31m:\u001b[0m invalid syntax\n"
     ]
    }
   ],
   "source": [
    "d{}"
   ]
  },
  {
   "cell_type": "code",
   "execution_count": 118,
   "id": "8eecb8c3-e63a-4413-977a-8234c902b682",
   "metadata": {},
   "outputs": [],
   "source": [
    "d={}"
   ]
  },
  {
   "cell_type": "code",
   "execution_count": 119,
   "id": "e92365d9-4140-49ac-b5fb-709890ac58e1",
   "metadata": {},
   "outputs": [
    {
     "data": {
      "text/plain": [
       "dict"
      ]
     },
     "execution_count": 119,
     "metadata": {},
     "output_type": "execute_result"
    }
   ],
   "source": [
    "type(d)"
   ]
  },
  {
   "cell_type": "code",
   "execution_count": 121,
   "id": "e1db4e95-5edf-4912-a302-8113d529d5d0",
   "metadata": {},
   "outputs": [],
   "source": [
    "d={\"name\":\"swapna\",\"per\":85}"
   ]
  },
  {
   "cell_type": "code",
   "execution_count": 122,
   "id": "6e2bd6f2-40e8-4da9-8dca-0e4c77b1096c",
   "metadata": {},
   "outputs": [
    {
     "data": {
      "text/plain": [
       "{'name': 'swapna', 'per': 85}"
      ]
     },
     "execution_count": 122,
     "metadata": {},
     "output_type": "execute_result"
    }
   ],
   "source": [
    "d"
   ]
  },
  {
   "cell_type": "code",
   "execution_count": 125,
   "id": "bfde115b-cedd-44c9-89e3-086658d05113",
   "metadata": {},
   "outputs": [
    {
     "data": {
      "text/plain": [
       "'swapna'"
      ]
     },
     "execution_count": 125,
     "metadata": {},
     "output_type": "execute_result"
    }
   ],
   "source": [
    "d[\"name\"]"
   ]
  },
  {
   "cell_type": "code",
   "execution_count": 126,
   "id": "9b844659-3fc5-4368-808b-d83963cf86cf",
   "metadata": {},
   "outputs": [
    {
     "data": {
      "text/plain": [
       "85"
      ]
     },
     "execution_count": 126,
     "metadata": {},
     "output_type": "execute_result"
    }
   ],
   "source": [
    "d[\"per\"]"
   ]
  },
  {
   "cell_type": "code",
   "execution_count": 127,
   "id": "cf57c867-7563-4efc-99ab-599c8d25872e",
   "metadata": {},
   "outputs": [],
   "source": [
    "d[\"avika\"]=\"bcg\""
   ]
  },
  {
   "cell_type": "code",
   "execution_count": 129,
   "id": "cbbda591-d902-4205-ba72-560fca3b9bdf",
   "metadata": {},
   "outputs": [],
   "source": [
    "# FUNCTIONS"
   ]
  },
  {
   "cell_type": "code",
   "execution_count": 134,
   "id": "d8932fe9-fe3f-4370-bdd9-483830bde1e8",
   "metadata": {},
   "outputs": [
    {
     "name": "stdout",
     "output_type": "stream",
     "text": [
      "hello\n"
     ]
    }
   ],
   "source": [
    "def display():\n",
    "    print(\"hello\")\n",
    "display()"
   ]
  },
  {
   "cell_type": "code",
   "execution_count": 137,
   "id": "c898a8f3-c044-4296-9816-e376c5d6e766",
   "metadata": {},
   "outputs": [],
   "source": [
    "def add(a,b):\n",
    "    print"
   ]
  },
  {
   "cell_type": "code",
   "execution_count": 138,
   "id": "f94d562c-0839-4d63-ae6b-bea42859974f",
   "metadata": {},
   "outputs": [],
   "source": [
    "#required arguments"
   ]
  },
  {
   "cell_type": "code",
   "execution_count": 139,
   "id": "37f9592c-ee3b-4fcb-a400-2e3ac9516ffd",
   "metadata": {},
   "outputs": [
    {
     "name": "stdout",
     "output_type": "stream",
     "text": [
      "10 79\n"
     ]
    }
   ],
   "source": [
    "def display(a,b):\n",
    "    print(a,b)\n",
    "display(10,79)"
   ]
  },
  {
   "cell_type": "code",
   "execution_count": 140,
   "id": "e4735ae6-2780-4fa2-9a03-6f0a7ea1d7de",
   "metadata": {},
   "outputs": [
    {
     "name": "stdout",
     "output_type": "stream",
     "text": [
      "79 10\n"
     ]
    }
   ],
   "source": [
    "def display(b,a):\n",
    "    print(a,b)\n",
    "display(10,79)"
   ]
  },
  {
   "cell_type": "code",
   "execution_count": 141,
   "id": "a6824833-8198-49cc-8cba-82b872510402",
   "metadata": {},
   "outputs": [],
   "source": [
    "#default "
   ]
  },
  {
   "cell_type": "code",
   "execution_count": 143,
   "id": "08e6b753-f729-4052-a587-0b5b3c963f86",
   "metadata": {},
   "outputs": [
    {
     "name": "stdout",
     "output_type": "stream",
     "text": [
      "10 20\n"
     ]
    }
   ],
   "source": [
    "def display(a,b=20):\n",
    "    print(a,b)\n",
    "display(10)"
   ]
  },
  {
   "cell_type": "code",
   "execution_count": 144,
   "id": "03e65f9f-3994-4426-a638-5a842bde37b8",
   "metadata": {},
   "outputs": [
    {
     "name": "stdout",
     "output_type": "stream",
     "text": [
      "10 99\n"
     ]
    }
   ],
   "source": [
    "def display(a,b=20):\n",
    "    print(a,b)\n",
    "display(10,99)"
   ]
  },
  {
   "cell_type": "code",
   "execution_count": 145,
   "id": "d8408723-2e10-4daa-bf72-2d3873b2a890",
   "metadata": {},
   "outputs": [],
   "source": [
    "#keyword"
   ]
  },
  {
   "cell_type": "code",
   "execution_count": 147,
   "id": "6dcb1ecd-f08a-4d49-b99b-76ce2ce3c870",
   "metadata": {},
   "outputs": [
    {
     "name": "stdout",
     "output_type": "stream",
     "text": [
      "2 88 0\n"
     ]
    }
   ],
   "source": [
    "def display(a,b,c):\n",
    "    print(a,b,c)\n",
    "display(c=00,b=88,a=2) # this will see as a key word"
   ]
  },
  {
   "cell_type": "code",
   "execution_count": 155,
   "id": "6362aa6d-a036-4b0a-90ee-695e40ca5cb6",
   "metadata": {},
   "outputs": [
    {
     "name": "stdout",
     "output_type": "stream",
     "text": [
      "34\n"
     ]
    }
   ],
   "source": [
    "def display(*marks):\n",
    "    print(marks[2])\n",
    "display(10,9,34,6,34,)"
   ]
  },
  {
   "cell_type": "code",
   "execution_count": 159,
   "id": "2f12a875-4031-48d7-8615-3f0f0c3a15a3",
   "metadata": {},
   "outputs": [
    {
     "name": "stdout",
     "output_type": "stream",
     "text": [
      "(20, 66)\n"
     ]
    }
   ],
   "source": [
    "def display(a,b):\n",
    "    return a,b\n",
    "res=display(20,66)\n",
    "print(res)"
   ]
  },
  {
   "cell_type": "code",
   "execution_count": 160,
   "id": "83edb755-feb9-4139-af09-636d0bab87a7",
   "metadata": {},
   "outputs": [],
   "source": [
    "#FILES"
   ]
  },
  {
   "cell_type": "code",
   "execution_count": 161,
   "id": "ab4e1010-abde-463d-b81e-f5c143348ae2",
   "metadata": {},
   "outputs": [],
   "source": [
    "import numpy\n"
   ]
  },
  {
   "cell_type": "code",
   "execution_count": 162,
   "id": "e04a633d-a4bc-4de0-a99a-5da35d1169dd",
   "metadata": {},
   "outputs": [],
   "source": [
    "import matplotlib"
   ]
  },
  {
   "cell_type": "code",
   "execution_count": 163,
   "id": "2a2050f2-25fb-4771-9039-12c5540227e3",
   "metadata": {},
   "outputs": [
    {
     "ename": "ModuleNotFoundError",
     "evalue": "No module named 'keras'",
     "output_type": "error",
     "traceback": [
      "\u001b[1;31m---------------------------------------------------------------------------\u001b[0m",
      "\u001b[1;31mModuleNotFoundError\u001b[0m                       Traceback (most recent call last)",
      "Cell \u001b[1;32mIn[163], line 1\u001b[0m\n\u001b[1;32m----> 1\u001b[0m \u001b[38;5;28;01mimport\u001b[39;00m \u001b[38;5;21;01mkeras\u001b[39;00m\n",
      "\u001b[1;31mModuleNotFoundError\u001b[0m: No module named 'keras'"
     ]
    }
   ],
   "source": [
    "import keras"
   ]
  },
  {
   "cell_type": "code",
   "execution_count": 168,
   "id": "dfd47633-96c1-4dc2-90e1-55624c9048a7",
   "metadata": {},
   "outputs": [],
   "source": [
    "import numpy as np"
   ]
  },
  {
   "cell_type": "code",
   "execution_count": 169,
   "id": "b373ecaf-9ad5-4c5c-97d8-81d6427961a6",
   "metadata": {},
   "outputs": [],
   "source": [
    "# acreating array"
   ]
  },
  {
   "cell_type": "code",
   "execution_count": 170,
   "id": "bf78fd96-2393-4eba-a495-d82dcc14a490",
   "metadata": {},
   "outputs": [],
   "source": [
    "a=np.array([20])"
   ]
  },
  {
   "cell_type": "code",
   "execution_count": 171,
   "id": "3c959f49-dca0-46b2-9d3f-3851b81f6a56",
   "metadata": {},
   "outputs": [
    {
     "data": {
      "text/plain": [
       "array([20])"
      ]
     },
     "execution_count": 171,
     "metadata": {},
     "output_type": "execute_result"
    }
   ],
   "source": [
    "a"
   ]
  },
  {
   "cell_type": "code",
   "execution_count": 173,
   "id": "69f206c4-39ca-4790-b936-60e771482b82",
   "metadata": {},
   "outputs": [
    {
     "name": "stdout",
     "output_type": "stream",
     "text": [
      "[20]\n"
     ]
    }
   ],
   "source": [
    "print(a)"
   ]
  },
  {
   "cell_type": "code",
   "execution_count": 174,
   "id": "79aaa076-7280-4998-928e-fd092672b475",
   "metadata": {},
   "outputs": [],
   "source": [
    "a=np.array([20,10,50])"
   ]
  },
  {
   "cell_type": "code",
   "execution_count": 175,
   "id": "aa69dc91-1360-4986-9748-32d53ce91e58",
   "metadata": {},
   "outputs": [
    {
     "name": "stdout",
     "output_type": "stream",
     "text": [
      "[20 10 50]\n"
     ]
    }
   ],
   "source": [
    "print(a)"
   ]
  },
  {
   "cell_type": "code",
   "execution_count": 177,
   "id": "88f9071b-c6dd-4fdb-affb-738e1521399a",
   "metadata": {},
   "outputs": [],
   "source": [
    "a=np.array([[20,10,55], [45,88,99]])"
   ]
  },
  {
   "cell_type": "code",
   "execution_count": 178,
   "id": "92cf5744-4c56-45a3-889a-465d54a85e0c",
   "metadata": {},
   "outputs": [
    {
     "name": "stdout",
     "output_type": "stream",
     "text": [
      "[[20 10 55]\n",
      " [45 88 99]]\n"
     ]
    }
   ],
   "source": [
    "print(a)"
   ]
  },
  {
   "cell_type": "code",
   "execution_count": 180,
   "id": "4cdf1fcb-82b6-48d0-875b-e2f0711c6856",
   "metadata": {},
   "outputs": [],
   "source": [
    "a=np.array([[[20,10], [45,88]],[[34,99],[56,90]]])"
   ]
  },
  {
   "cell_type": "code",
   "execution_count": 181,
   "id": "51039329-a891-49cc-9f85-1e394a2d1e27",
   "metadata": {},
   "outputs": [
    {
     "name": "stdout",
     "output_type": "stream",
     "text": [
      "[[[20 10]\n",
      "  [45 88]]\n",
      "\n",
      " [[34 99]\n",
      "  [56 90]]]\n"
     ]
    }
   ],
   "source": [
    "print(a)"
   ]
  },
  {
   "cell_type": "code",
   "execution_count": 183,
   "id": "fb21a824-2972-4d7a-807c-ed4cbede81df",
   "metadata": {},
   "outputs": [
    {
     "data": {
      "text/plain": [
       "45"
      ]
     },
     "execution_count": 183,
     "metadata": {},
     "output_type": "execute_result"
    }
   ],
   "source": [
    "a[0][1][0]\n"
   ]
  },
  {
   "cell_type": "code",
   "execution_count": 184,
   "id": "1a65372c-b5f3-490e-af55-461a8988321b",
   "metadata": {},
   "outputs": [],
   "source": [
    "#asarray"
   ]
  },
  {
   "cell_type": "code",
   "execution_count": 185,
   "id": "d179be92-af60-4321-bdec-fbf07fcaa428",
   "metadata": {},
   "outputs": [],
   "source": [
    "a=[10,20,30]\n",
    "b=np.asarray(a,dtype=float)"
   ]
  },
  {
   "cell_type": "code",
   "execution_count": 187,
   "id": "14f5cc5c-cedb-4080-aa2e-806a8e3fe8f5",
   "metadata": {},
   "outputs": [
    {
     "name": "stdout",
     "output_type": "stream",
     "text": [
      "[10. 20. 30.]\n"
     ]
    }
   ],
   "source": [
    "print(b)"
   ]
  },
  {
   "cell_type": "code",
   "execution_count": 190,
   "id": "a8781b20-a6c3-46ee-8a52-4d1c9275d4b2",
   "metadata": {},
   "outputs": [],
   "source": [
    "a=[[10,20],[56,99]]\n",
    "b=np.array(a,dtype=float,order=\"c\")"
   ]
  },
  {
   "cell_type": "code",
   "execution_count": 191,
   "id": "3b169070-4096-46cc-8257-4657c2643fdc",
   "metadata": {},
   "outputs": [
    {
     "name": "stdout",
     "output_type": "stream",
     "text": [
      "[[10. 20.]\n",
      " [56. 99.]]\n"
     ]
    }
   ],
   "source": [
    "print(b)"
   ]
  },
  {
   "cell_type": "code",
   "execution_count": 194,
   "id": "eea73762-a896-4fd2-94a7-3aa9dea1fdad",
   "metadata": {},
   "outputs": [
    {
     "name": "stdout",
     "output_type": "stream",
     "text": [
      "10.0\n",
      "20.0\n",
      "56.0\n",
      "99.0\n"
     ]
    }
   ],
   "source": [
    "for i in np.nditer(b):\n",
    "    print(i)"
   ]
  },
  {
   "cell_type": "code",
   "execution_count": 196,
   "id": "77ca691d-a721-4e07-bc28-48e946405fa2",
   "metadata": {},
   "outputs": [],
   "source": [
    "#from buffer we need to use string"
   ]
  },
  {
   "cell_type": "code",
   "execution_count": 197,
   "id": "2430a3df-d70a-485a-930c-41584542fe82",
   "metadata": {},
   "outputs": [],
   "source": [
    "a=b\"heloo swapna\"\n"
   ]
  },
  {
   "cell_type": "code",
   "execution_count": 207,
   "id": "b2d76aa0-c30c-4796-99af-1ca0932f338f",
   "metadata": {},
   "outputs": [
    {
     "data": {
      "text/plain": [
       "array([b's', b'w'], dtype='|S1')"
      ]
     },
     "execution_count": 207,
     "metadata": {},
     "output_type": "execute_result"
    }
   ],
   "source": [
    "np.frombuffer(a,dtype=\"S1\",count=2,offset=6)"
   ]
  },
  {
   "cell_type": "code",
   "execution_count": 221,
   "id": "89cacbb7-e38f-4547-b7c2-6ed9a415d919",
   "metadata": {},
   "outputs": [],
   "source": [
    "#INITILIZING ARRAYS"
   ]
  },
  {
   "cell_type": "code",
   "execution_count": 214,
   "id": "8c7cd844-bdf3-4d45-a05f-e6e14aa9f2c3",
   "metadata": {},
   "outputs": [],
   "source": [
    "a=np.zeros(5) # zero"
   ]
  },
  {
   "cell_type": "code",
   "execution_count": 215,
   "id": "d302939e-7d02-40e1-b01c-142daf72dede",
   "metadata": {},
   "outputs": [
    {
     "data": {
      "text/plain": [
       "array([0., 0., 0., 0., 0.])"
      ]
     },
     "execution_count": 215,
     "metadata": {},
     "output_type": "execute_result"
    }
   ],
   "source": [
    "a"
   ]
  },
  {
   "cell_type": "code",
   "execution_count": 216,
   "id": "28cfab73-10ba-4432-a895-17567ce74726",
   "metadata": {},
   "outputs": [],
   "source": [
    "a=np.zeros([2,3])"
   ]
  },
  {
   "cell_type": "code",
   "execution_count": 217,
   "id": "7b1b1745-ea1e-4b88-b74f-e9d8c5d86938",
   "metadata": {},
   "outputs": [
    {
     "data": {
      "text/plain": [
       "array([[0., 0., 0.],\n",
       "       [0., 0., 0.]])"
      ]
     },
     "execution_count": 217,
     "metadata": {},
     "output_type": "execute_result"
    }
   ],
   "source": [
    "a"
   ]
  },
  {
   "cell_type": "code",
   "execution_count": 219,
   "id": "e9b26eda-6b6e-41b2-9a82-044f908d7bdb",
   "metadata": {},
   "outputs": [],
   "source": [
    "a=np.zeros([2,3,7])"
   ]
  },
  {
   "cell_type": "code",
   "execution_count": 220,
   "id": "49f772bf-8528-481a-87d8-c1b40389633a",
   "metadata": {},
   "outputs": [
    {
     "data": {
      "text/plain": [
       "array([[[0., 0., 0., 0., 0., 0., 0.],\n",
       "        [0., 0., 0., 0., 0., 0., 0.],\n",
       "        [0., 0., 0., 0., 0., 0., 0.]],\n",
       "\n",
       "       [[0., 0., 0., 0., 0., 0., 0.],\n",
       "        [0., 0., 0., 0., 0., 0., 0.],\n",
       "        [0., 0., 0., 0., 0., 0., 0.]]])"
      ]
     },
     "execution_count": 220,
     "metadata": {},
     "output_type": "execute_result"
    }
   ],
   "source": [
    "a"
   ]
  },
  {
   "cell_type": "code",
   "execution_count": 222,
   "id": "b691f971-1033-40d1-908d-1a5df228d147",
   "metadata": {},
   "outputs": [],
   "source": [
    "#full()\n"
   ]
  },
  {
   "cell_type": "code",
   "execution_count": 223,
   "id": "56f1ff36-13fd-4861-8300-1e267a26cc1b",
   "metadata": {},
   "outputs": [
    {
     "data": {
      "text/plain": [
       "array([[10, 10, 10, 10, 10, 10, 10, 10],\n",
       "       [10, 10, 10, 10, 10, 10, 10, 10]])"
      ]
     },
     "execution_count": 223,
     "metadata": {},
     "output_type": "execute_result"
    }
   ],
   "source": [
    "np.full([2,8],10)"
   ]
  },
  {
   "cell_type": "code",
   "execution_count": 224,
   "id": "ab163006-9220-4214-b518-f0f1127a8d35",
   "metadata": {},
   "outputs": [],
   "source": [
    "#random.rand()"
   ]
  },
  {
   "cell_type": "code",
   "execution_count": 225,
   "id": "0569c393-a581-4d74-9d48-ecc85f554f78",
   "metadata": {},
   "outputs": [
    {
     "data": {
      "text/plain": [
       "array([[0.09468124, 0.41007261, 0.96971018],\n",
       "       [0.99446451, 0.83190561, 0.11141414]])"
      ]
     },
     "execution_count": 225,
     "metadata": {},
     "output_type": "execute_result"
    }
   ],
   "source": [
    "np.random.rand(2,3)"
   ]
  },
  {
   "cell_type": "code",
   "execution_count": 226,
   "id": "e23cdc1c-638e-4dba-80d5-526a7e0cad19",
   "metadata": {},
   "outputs": [],
   "source": [
    "#ones"
   ]
  },
  {
   "cell_type": "code",
   "execution_count": 228,
   "id": "b1f3b495-d0b9-432a-a20c-50cfd6de5b8d",
   "metadata": {},
   "outputs": [
    {
     "data": {
      "text/plain": [
       "array([[1., 1., 1.],\n",
       "       [1., 1., 1.]])"
      ]
     },
     "execution_count": 228,
     "metadata": {},
     "output_type": "execute_result"
    }
   ],
   "source": [
    "np.ones([2,3])"
   ]
  },
  {
   "cell_type": "code",
   "execution_count": 229,
   "id": "041f3317-6732-4848-b6c0-b6038ded6551",
   "metadata": {},
   "outputs": [],
   "source": [
    "#eye"
   ]
  },
  {
   "cell_type": "code",
   "execution_count": 230,
   "id": "72c12938-c231-4007-a3bf-edb9b3aa3c71",
   "metadata": {},
   "outputs": [
    {
     "data": {
      "text/plain": [
       "array([[1., 0., 0., 0.],\n",
       "       [0., 1., 0., 0.],\n",
       "       [0., 0., 1., 0.],\n",
       "       [0., 0., 0., 1.]])"
      ]
     },
     "execution_count": 230,
     "metadata": {},
     "output_type": "execute_result"
    }
   ],
   "source": [
    "np.eye(4)"
   ]
  },
  {
   "cell_type": "code",
   "execution_count": 231,
   "id": "52caee72-847f-4596-8210-da2e18e21632",
   "metadata": {},
   "outputs": [],
   "source": [
    "#numerical range "
   ]
  },
  {
   "cell_type": "code",
   "execution_count": 237,
   "id": "8a45712c-b8ac-4872-8a28-296e7fbc94e1",
   "metadata": {},
   "outputs": [],
   "source": [
    "a=np.arange(20,50,1)"
   ]
  },
  {
   "cell_type": "code",
   "execution_count": 238,
   "id": "3e48ef97-de7e-4a36-be74-4bed812f1687",
   "metadata": {},
   "outputs": [
    {
     "name": "stdout",
     "output_type": "stream",
     "text": [
      "[20 21 22 23 24 25 26 27 28 29 30 31 32 33 34 35 36 37 38 39 40 41 42 43\n",
      " 44 45 46 47 48 49]\n"
     ]
    }
   ],
   "source": [
    "print(a)"
   ]
  },
  {
   "cell_type": "code",
   "execution_count": 239,
   "id": "4e6171c2-165d-47c1-8ceb-f477af4e7959",
   "metadata": {},
   "outputs": [],
   "source": [
    "#logspace"
   ]
  },
  {
   "cell_type": "code",
   "execution_count": 244,
   "id": "f9f7bba8-7620-4100-8c68-e89635bff3cb",
   "metadata": {},
   "outputs": [],
   "source": [
    "a=np.logspace(10,20,10)"
   ]
  },
  {
   "cell_type": "code",
   "execution_count": 245,
   "id": "fcd07630-5762-44c0-bce3-10fd1593d873",
   "metadata": {},
   "outputs": [
    {
     "data": {
      "text/plain": [
       "array([1.00000000e+10, 1.29154967e+11, 1.66810054e+12, 2.15443469e+13,\n",
       "       2.78255940e+14, 3.59381366e+15, 4.64158883e+16, 5.99484250e+17,\n",
       "       7.74263683e+18, 1.00000000e+20])"
      ]
     },
     "execution_count": 245,
     "metadata": {},
     "output_type": "execute_result"
    }
   ],
   "source": [
    "a"
   ]
  },
  {
   "cell_type": "code",
   "execution_count": 246,
   "id": "ac0d5f78-f632-4f57-a7ea-196ed3b170e6",
   "metadata": {},
   "outputs": [],
   "source": [
    "# array properties"
   ]
  },
  {
   "cell_type": "code",
   "execution_count": 249,
   "id": "7807bc6c-e569-4eea-ad92-c34ea703084b",
   "metadata": {},
   "outputs": [],
   "source": [
    "a=np.arange(10,100,10)"
   ]
  },
  {
   "cell_type": "code",
   "execution_count": 250,
   "id": "7a86bdc9-a46f-4555-8a31-9cc6b907eada",
   "metadata": {},
   "outputs": [
    {
     "data": {
      "text/plain": [
       "array([10, 20, 30, 40, 50, 60, 70, 80, 90])"
      ]
     },
     "execution_count": 250,
     "metadata": {},
     "output_type": "execute_result"
    }
   ],
   "source": [
    "a"
   ]
  },
  {
   "cell_type": "code",
   "execution_count": 251,
   "id": "02843290-4daa-4c60-8eb3-ac847738e35f",
   "metadata": {},
   "outputs": [
    {
     "ename": "ValueError",
     "evalue": "cannot reshape array of size 1 into shape (3,)",
     "output_type": "error",
     "traceback": [
      "\u001b[1;31m---------------------------------------------------------------------------\u001b[0m",
      "\u001b[1;31mValueError\u001b[0m                                Traceback (most recent call last)",
      "Cell \u001b[1;32mIn[251], line 1\u001b[0m\n\u001b[1;32m----> 1\u001b[0m np\u001b[38;5;241m.\u001b[39mreshape(\u001b[38;5;241m3\u001b[39m,\u001b[38;5;241m3\u001b[39m)\n",
      "File \u001b[1;32m~\\anaconda3\\Lib\\site-packages\\numpy\\core\\fromnumeric.py:285\u001b[0m, in \u001b[0;36mreshape\u001b[1;34m(a, newshape, order)\u001b[0m\n\u001b[0;32m    200\u001b[0m \u001b[38;5;129m@array_function_dispatch\u001b[39m(_reshape_dispatcher)\n\u001b[0;32m    201\u001b[0m \u001b[38;5;28;01mdef\u001b[39;00m \u001b[38;5;21mreshape\u001b[39m(a, newshape, order\u001b[38;5;241m=\u001b[39m\u001b[38;5;124m'\u001b[39m\u001b[38;5;124mC\u001b[39m\u001b[38;5;124m'\u001b[39m):\n\u001b[0;32m    202\u001b[0m \u001b[38;5;250m    \u001b[39m\u001b[38;5;124;03m\"\"\"\u001b[39;00m\n\u001b[0;32m    203\u001b[0m \u001b[38;5;124;03m    Gives a new shape to an array without changing its data.\u001b[39;00m\n\u001b[0;32m    204\u001b[0m \n\u001b[1;32m   (...)\u001b[0m\n\u001b[0;32m    283\u001b[0m \u001b[38;5;124;03m           [5, 6]])\u001b[39;00m\n\u001b[0;32m    284\u001b[0m \u001b[38;5;124;03m    \"\"\"\u001b[39;00m\n\u001b[1;32m--> 285\u001b[0m     \u001b[38;5;28;01mreturn\u001b[39;00m _wrapfunc(a, \u001b[38;5;124m'\u001b[39m\u001b[38;5;124mreshape\u001b[39m\u001b[38;5;124m'\u001b[39m, newshape, order\u001b[38;5;241m=\u001b[39morder)\n",
      "File \u001b[1;32m~\\anaconda3\\Lib\\site-packages\\numpy\\core\\fromnumeric.py:56\u001b[0m, in \u001b[0;36m_wrapfunc\u001b[1;34m(obj, method, *args, **kwds)\u001b[0m\n\u001b[0;32m     54\u001b[0m bound \u001b[38;5;241m=\u001b[39m \u001b[38;5;28mgetattr\u001b[39m(obj, method, \u001b[38;5;28;01mNone\u001b[39;00m)\n\u001b[0;32m     55\u001b[0m \u001b[38;5;28;01mif\u001b[39;00m bound \u001b[38;5;129;01mis\u001b[39;00m \u001b[38;5;28;01mNone\u001b[39;00m:\n\u001b[1;32m---> 56\u001b[0m     \u001b[38;5;28;01mreturn\u001b[39;00m _wrapit(obj, method, \u001b[38;5;241m*\u001b[39margs, \u001b[38;5;241m*\u001b[39m\u001b[38;5;241m*\u001b[39mkwds)\n\u001b[0;32m     58\u001b[0m \u001b[38;5;28;01mtry\u001b[39;00m:\n\u001b[0;32m     59\u001b[0m     \u001b[38;5;28;01mreturn\u001b[39;00m bound(\u001b[38;5;241m*\u001b[39margs, \u001b[38;5;241m*\u001b[39m\u001b[38;5;241m*\u001b[39mkwds)\n",
      "File \u001b[1;32m~\\anaconda3\\Lib\\site-packages\\numpy\\core\\fromnumeric.py:45\u001b[0m, in \u001b[0;36m_wrapit\u001b[1;34m(obj, method, *args, **kwds)\u001b[0m\n\u001b[0;32m     43\u001b[0m \u001b[38;5;28;01mexcept\u001b[39;00m \u001b[38;5;167;01mAttributeError\u001b[39;00m:\n\u001b[0;32m     44\u001b[0m     wrap \u001b[38;5;241m=\u001b[39m \u001b[38;5;28;01mNone\u001b[39;00m\n\u001b[1;32m---> 45\u001b[0m result \u001b[38;5;241m=\u001b[39m \u001b[38;5;28mgetattr\u001b[39m(asarray(obj), method)(\u001b[38;5;241m*\u001b[39margs, \u001b[38;5;241m*\u001b[39m\u001b[38;5;241m*\u001b[39mkwds)\n\u001b[0;32m     46\u001b[0m \u001b[38;5;28;01mif\u001b[39;00m wrap:\n\u001b[0;32m     47\u001b[0m     \u001b[38;5;28;01mif\u001b[39;00m \u001b[38;5;129;01mnot\u001b[39;00m \u001b[38;5;28misinstance\u001b[39m(result, mu\u001b[38;5;241m.\u001b[39mndarray):\n",
      "\u001b[1;31mValueError\u001b[0m: cannot reshape array of size 1 into shape (3,)"
     ]
    }
   ],
   "source": [
    "np.reshape(3,3)"
   ]
  },
  {
   "cell_type": "code",
   "execution_count": 252,
   "id": "718140b0-3540-4b5c-9bb9-497a1c7fc539",
   "metadata": {},
   "outputs": [],
   "source": [
    "a=a.reshape(3,3)"
   ]
  },
  {
   "cell_type": "code",
   "execution_count": 253,
   "id": "765e5c1b-42d6-40f7-a1ab-4d220696acc8",
   "metadata": {},
   "outputs": [
    {
     "data": {
      "text/plain": [
       "array([[10, 20, 30],\n",
       "       [40, 50, 60],\n",
       "       [70, 80, 90]])"
      ]
     },
     "execution_count": 253,
     "metadata": {},
     "output_type": "execute_result"
    }
   ],
   "source": [
    "a"
   ]
  },
  {
   "cell_type": "code",
   "execution_count": 255,
   "id": "ae8bdb24-36fe-40c7-abd5-812deda40620",
   "metadata": {},
   "outputs": [
    {
     "data": {
      "text/plain": [
       "(3, 3)"
      ]
     },
     "execution_count": 255,
     "metadata": {},
     "output_type": "execute_result"
    }
   ],
   "source": [
    "np.shape(a)"
   ]
  },
  {
   "cell_type": "code",
   "execution_count": 257,
   "id": "736c8360-1dca-4079-91d6-b08d3b55a205",
   "metadata": {},
   "outputs": [
    {
     "data": {
      "text/plain": [
       "9"
      ]
     },
     "execution_count": 257,
     "metadata": {},
     "output_type": "execute_result"
    }
   ],
   "source": [
    "np.size(a)"
   ]
  },
  {
   "cell_type": "code",
   "execution_count": 259,
   "id": "9bad149a-69ed-4734-a066-1118a32e65bf",
   "metadata": {},
   "outputs": [
    {
     "data": {
      "text/plain": [
       "dtype('int32')"
      ]
     },
     "execution_count": 259,
     "metadata": {},
     "output_type": "execute_result"
    }
   ],
   "source": [
    "a.dtype"
   ]
  },
  {
   "cell_type": "code",
   "execution_count": 260,
   "id": "ab5661de-3037-48c0-8b67-eff5ad60b9a8",
   "metadata": {},
   "outputs": [],
   "source": [
    "#array operations"
   ]
  },
  {
   "cell_type": "code",
   "execution_count": 261,
   "id": "f01fdc54-ef11-4fce-a8a5-7472d3f78b3f",
   "metadata": {},
   "outputs": [],
   "source": [
    "import numpy as np"
   ]
  },
  {
   "cell_type": "code",
   "execution_count": 262,
   "id": "943ed63a-e1d1-485c-bb95-fd72c5873f4a",
   "metadata": {},
   "outputs": [],
   "source": [
    "a=np.array([[10,20,30],[40,50,60]])"
   ]
  },
  {
   "cell_type": "code",
   "execution_count": 263,
   "id": "71b928eb-7560-42fb-b0ce-0241d361b4eb",
   "metadata": {},
   "outputs": [
    {
     "data": {
      "text/plain": [
       "array([[10, 20, 30],\n",
       "       [40, 50, 60]])"
      ]
     },
     "execution_count": 263,
     "metadata": {},
     "output_type": "execute_result"
    }
   ],
   "source": [
    "a"
   ]
  },
  {
   "cell_type": "code",
   "execution_count": 264,
   "id": "9d48256a-0f31-4314-b3ea-23b382234168",
   "metadata": {},
   "outputs": [
    {
     "data": {
      "text/plain": [
       "array([10, 20, 30])"
      ]
     },
     "execution_count": 264,
     "metadata": {},
     "output_type": "execute_result"
    }
   ],
   "source": [
    "a[0]"
   ]
  },
  {
   "cell_type": "code",
   "execution_count": 265,
   "id": "11943987-c944-42d0-9bb4-1dd42cfb1782",
   "metadata": {},
   "outputs": [
    {
     "data": {
      "text/plain": [
       "array([40, 50, 60])"
      ]
     },
     "execution_count": 265,
     "metadata": {},
     "output_type": "execute_result"
    }
   ],
   "source": [
    "a[1]"
   ]
  },
  {
   "cell_type": "code",
   "execution_count": 267,
   "id": "7bc35d66-1132-4941-93a1-d65d4ac90f0a",
   "metadata": {},
   "outputs": [
    {
     "data": {
      "text/plain": [
       "20"
      ]
     },
     "execution_count": 267,
     "metadata": {},
     "output_type": "execute_result"
    }
   ],
   "source": [
    "a[0][1]"
   ]
  },
  {
   "cell_type": "code",
   "execution_count": 268,
   "id": "4c62133a-329d-4dc7-ade5-1c078c39a69d",
   "metadata": {},
   "outputs": [
    {
     "ename": "ValueError",
     "evalue": "all the input array dimensions except for the concatenation axis must match exactly, but along dimension 1, the array at index 0 has size 3 and the array at index 1 has size 2",
     "output_type": "error",
     "traceback": [
      "\u001b[1;31m---------------------------------------------------------------------------\u001b[0m",
      "\u001b[1;31mValueError\u001b[0m                                Traceback (most recent call last)",
      "Cell \u001b[1;32mIn[268], line 1\u001b[0m\n\u001b[1;32m----> 1\u001b[0m np\u001b[38;5;241m.\u001b[39mconcatenate((a,b))\n",
      "\u001b[1;31mValueError\u001b[0m: all the input array dimensions except for the concatenation axis must match exactly, but along dimension 1, the array at index 0 has size 3 and the array at index 1 has size 2"
     ]
    }
   ],
   "source": [
    "np.concatenate((a,b))"
   ]
  },
  {
   "cell_type": "code",
   "execution_count": 269,
   "id": "cd77e4d3-8d9d-41c0-af20-772efa995c86",
   "metadata": {},
   "outputs": [
    {
     "data": {
      "text/plain": [
       "array([[10, 20, 30],\n",
       "       [40, 50, 60]])"
      ]
     },
     "execution_count": 269,
     "metadata": {},
     "output_type": "execute_result"
    }
   ],
   "source": [
    "a"
   ]
  },
  {
   "cell_type": "code",
   "execution_count": 271,
   "id": "927a60e9-51f6-4611-94bf-676ab43ff47f",
   "metadata": {},
   "outputs": [],
   "source": [
    "a=([[10,20],[30,40]])\n"
   ]
  },
  {
   "cell_type": "code",
   "execution_count": 272,
   "id": "18e06b43-bdfa-4077-a89b-592c652dd890",
   "metadata": {},
   "outputs": [
    {
     "data": {
      "text/plain": [
       "[[10, 20], [30, 40]]"
      ]
     },
     "execution_count": 272,
     "metadata": {},
     "output_type": "execute_result"
    }
   ],
   "source": [
    "a"
   ]
  },
  {
   "cell_type": "code",
   "execution_count": 273,
   "id": "0b58eb9e-f817-4fc0-87ca-cac04945391b",
   "metadata": {},
   "outputs": [],
   "source": [
    "b=([[80,290],[350,430]])\n"
   ]
  },
  {
   "cell_type": "code",
   "execution_count": 274,
   "id": "da6bb4e3-a60c-4fb5-a72e-5ccce6278efc",
   "metadata": {},
   "outputs": [
    {
     "data": {
      "text/plain": [
       "[[80, 290], [350, 430]]"
      ]
     },
     "execution_count": 274,
     "metadata": {},
     "output_type": "execute_result"
    }
   ],
   "source": [
    "b"
   ]
  },
  {
   "cell_type": "code",
   "execution_count": 276,
   "id": "2607c398-1f5d-49b3-a302-a41c3dd517d0",
   "metadata": {},
   "outputs": [
    {
     "data": {
      "text/plain": [
       "array([[ 10,  20],\n",
       "       [ 30,  40],\n",
       "       [ 80, 290],\n",
       "       [350, 430]])"
      ]
     },
     "execution_count": 276,
     "metadata": {},
     "output_type": "execute_result"
    }
   ],
   "source": [
    "np.concatenate((a,b))"
   ]
  },
  {
   "cell_type": "code",
   "execution_count": 277,
   "id": "dc1db5f8-2bfb-4739-9544-abc24b3d53ba",
   "metadata": {},
   "outputs": [
    {
     "data": {
      "text/plain": [
       "([[10, 20], [30, 40]], [[80, 290], [350, 430]])"
      ]
     },
     "execution_count": 277,
     "metadata": {},
     "output_type": "execute_result"
    }
   ],
   "source": [
    "a,b"
   ]
  },
  {
   "cell_type": "code",
   "execution_count": 279,
   "id": "f0581a37-9199-4116-8478-e7abbe3dff33",
   "metadata": {},
   "outputs": [
    {
     "data": {
      "text/plain": [
       "array([[[ 10,  20],\n",
       "        [ 30,  40]],\n",
       "\n",
       "       [[ 80, 290],\n",
       "        [350, 430]]])"
      ]
     },
     "execution_count": 279,
     "metadata": {},
     "output_type": "execute_result"
    }
   ],
   "source": [
    "np.stack((a,b))"
   ]
  },
  {
   "cell_type": "code",
   "execution_count": 280,
   "id": "057070d1-5ffc-4e83-a57c-492cd0810eac",
   "metadata": {},
   "outputs": [
    {
     "data": {
      "text/plain": [
       "array([[ 10,  20],\n",
       "       [ 30,  40],\n",
       "       [ 80, 290],\n",
       "       [350, 430]])"
      ]
     },
     "execution_count": 280,
     "metadata": {},
     "output_type": "execute_result"
    }
   ],
   "source": [
    "np.vstack((a,b))"
   ]
  },
  {
   "cell_type": "code",
   "execution_count": 281,
   "id": "a8d255c3-46a3-466b-8e1a-be177d7828fe",
   "metadata": {},
   "outputs": [
    {
     "data": {
      "text/plain": [
       "array([[ 10,  20,  80, 290],\n",
       "       [ 30,  40, 350, 430]])"
      ]
     },
     "execution_count": 281,
     "metadata": {},
     "output_type": "execute_result"
    }
   ],
   "source": [
    "np.hstack((a,b))"
   ]
  },
  {
   "cell_type": "code",
   "execution_count": 282,
   "id": "2db7c291-606f-473d-9584-03c5e4e12ad8",
   "metadata": {},
   "outputs": [
    {
     "data": {
      "text/plain": [
       "array([[[ 10,  80],\n",
       "        [ 20, 290]],\n",
       "\n",
       "       [[ 30, 350],\n",
       "        [ 40, 430]]])"
      ]
     },
     "execution_count": 282,
     "metadata": {},
     "output_type": "execute_result"
    }
   ],
   "source": [
    "np.dstack((a,b))"
   ]
  },
  {
   "cell_type": "code",
   "execution_count": 289,
   "id": "46a96b5b-bca2-4a7e-bc9a-a421d98ec219",
   "metadata": {},
   "outputs": [],
   "source": [
    "x=np.arange(10,100,10)"
   ]
  },
  {
   "cell_type": "code",
   "execution_count": 290,
   "id": "ed27b7eb-7044-4ce6-a684-a2f875fe300d",
   "metadata": {},
   "outputs": [
    {
     "data": {
      "text/plain": [
       "array([10, 20, 30, 40, 50, 60, 70, 80, 90])"
      ]
     },
     "execution_count": 290,
     "metadata": {},
     "output_type": "execute_result"
    }
   ],
   "source": [
    "x\n"
   ]
  },
  {
   "cell_type": "code",
   "execution_count": 293,
   "id": "692c346c-c856-464d-a7ec-e0db38b13cca",
   "metadata": {},
   "outputs": [],
   "source": [
    "import pandas"
   ]
  },
  {
   "cell_type": "code",
   "execution_count": 296,
   "id": "31dbe67e-8e1e-4c60-9ed4-2466bdb91960",
   "metadata": {},
   "outputs": [],
   "source": [
    "import pandas as pd"
   ]
  },
  {
   "cell_type": "code",
   "execution_count": 1,
   "id": "ff5ed1ea-2efa-43a2-b650-ff818b3f9099",
   "metadata": {},
   "outputs": [],
   "source": [
    "import pandas as pd"
   ]
  },
  {
   "cell_type": "code",
   "execution_count": 18,
   "id": "1c25e292-ce1f-4b3a-9ef8-ca4733659278",
   "metadata": {},
   "outputs": [
    {
     "name": "stdout",
     "output_type": "stream",
     "text": [
      "Files in directory: ['IISExpress', 'My Music', 'My Pictures', 'My Videos', 'My Web Sites', 'Sleep_Efficiency.csv']\n"
     ]
    }
   ],
   "source": [
    "import os\n",
    "\n",
    "directory_path = \"C:\\\\Users\\\\SWAPNA\\\\Documents\\\\\"\n",
    "files = os.listdir(directory_path)\n",
    "print(\"Files in directory:\", files)\n"
   ]
  },
  {
   "cell_type": "code",
   "execution_count": 21,
   "id": "2b6afc80-4915-4c26-9037-358539a7f504",
   "metadata": {},
   "outputs": [],
   "source": [
    "df = pd.read_csv(\"C:\\\\Users\\\\SWAPNA\\\\Documents\\\\Sleep_Efficiency.csv\")\n"
   ]
  },
  {
   "cell_type": "code",
   "execution_count": 29,
   "id": "f3e62198-0e2c-4325-8f40-c5172889a798",
   "metadata": {},
   "outputs": [],
   "source": [
    "d= pd.read_csv(\"C:\\\\Users\\\\SWAPNA\\\\Documents\\\\Sleep_Efficiency.csv\")"
   ]
  },
  {
   "cell_type": "code",
   "execution_count": 30,
   "id": "af73ce0f-2745-45ed-b45c-746d73189731",
   "metadata": {},
   "outputs": [
    {
     "data": {
      "text/html": [
       "<div>\n",
       "<style scoped>\n",
       "    .dataframe tbody tr th:only-of-type {\n",
       "        vertical-align: middle;\n",
       "    }\n",
       "\n",
       "    .dataframe tbody tr th {\n",
       "        vertical-align: top;\n",
       "    }\n",
       "\n",
       "    .dataframe thead th {\n",
       "        text-align: right;\n",
       "    }\n",
       "</style>\n",
       "<table border=\"1\" class=\"dataframe\">\n",
       "  <thead>\n",
       "    <tr style=\"text-align: right;\">\n",
       "      <th></th>\n",
       "      <th>ID</th>\n",
       "      <th>Age</th>\n",
       "      <th>Gender</th>\n",
       "      <th>Bedtime</th>\n",
       "      <th>Wakeup time</th>\n",
       "      <th>Sleep duration</th>\n",
       "      <th>Sleep efficiency</th>\n",
       "      <th>REM sleep percentage</th>\n",
       "      <th>Deep sleep percentage</th>\n",
       "      <th>Light sleep percentage</th>\n",
       "      <th>Awakenings</th>\n",
       "      <th>Caffeine consumption</th>\n",
       "      <th>Alcohol consumption</th>\n",
       "      <th>Smoking status</th>\n",
       "      <th>Exercise frequency</th>\n",
       "    </tr>\n",
       "  </thead>\n",
       "  <tbody>\n",
       "    <tr>\n",
       "      <th>0</th>\n",
       "      <td>1</td>\n",
       "      <td>65</td>\n",
       "      <td>Female</td>\n",
       "      <td>2021-03-06 01:00:00</td>\n",
       "      <td>2021-03-06 07:00:00</td>\n",
       "      <td>6.0</td>\n",
       "      <td>0.88</td>\n",
       "      <td>18</td>\n",
       "      <td>70</td>\n",
       "      <td>12</td>\n",
       "      <td>0.0</td>\n",
       "      <td>0.0</td>\n",
       "      <td>0.0</td>\n",
       "      <td>Yes</td>\n",
       "      <td>3.0</td>\n",
       "    </tr>\n",
       "    <tr>\n",
       "      <th>1</th>\n",
       "      <td>2</td>\n",
       "      <td>69</td>\n",
       "      <td>Male</td>\n",
       "      <td>2021-12-05 02:00:00</td>\n",
       "      <td>2021-12-05 09:00:00</td>\n",
       "      <td>7.0</td>\n",
       "      <td>0.66</td>\n",
       "      <td>19</td>\n",
       "      <td>28</td>\n",
       "      <td>53</td>\n",
       "      <td>3.0</td>\n",
       "      <td>0.0</td>\n",
       "      <td>3.0</td>\n",
       "      <td>Yes</td>\n",
       "      <td>3.0</td>\n",
       "    </tr>\n",
       "    <tr>\n",
       "      <th>2</th>\n",
       "      <td>3</td>\n",
       "      <td>40</td>\n",
       "      <td>Female</td>\n",
       "      <td>2021-05-25 21:30:00</td>\n",
       "      <td>2021-05-25 05:30:00</td>\n",
       "      <td>8.0</td>\n",
       "      <td>0.89</td>\n",
       "      <td>20</td>\n",
       "      <td>70</td>\n",
       "      <td>10</td>\n",
       "      <td>1.0</td>\n",
       "      <td>0.0</td>\n",
       "      <td>0.0</td>\n",
       "      <td>No</td>\n",
       "      <td>3.0</td>\n",
       "    </tr>\n",
       "    <tr>\n",
       "      <th>3</th>\n",
       "      <td>4</td>\n",
       "      <td>40</td>\n",
       "      <td>Female</td>\n",
       "      <td>2021-11-03 02:30:00</td>\n",
       "      <td>2021-11-03 08:30:00</td>\n",
       "      <td>6.0</td>\n",
       "      <td>0.51</td>\n",
       "      <td>23</td>\n",
       "      <td>25</td>\n",
       "      <td>52</td>\n",
       "      <td>3.0</td>\n",
       "      <td>50.0</td>\n",
       "      <td>5.0</td>\n",
       "      <td>Yes</td>\n",
       "      <td>1.0</td>\n",
       "    </tr>\n",
       "    <tr>\n",
       "      <th>4</th>\n",
       "      <td>5</td>\n",
       "      <td>57</td>\n",
       "      <td>Male</td>\n",
       "      <td>2021-03-13 01:00:00</td>\n",
       "      <td>2021-03-13 09:00:00</td>\n",
       "      <td>8.0</td>\n",
       "      <td>0.76</td>\n",
       "      <td>27</td>\n",
       "      <td>55</td>\n",
       "      <td>18</td>\n",
       "      <td>3.0</td>\n",
       "      <td>0.0</td>\n",
       "      <td>3.0</td>\n",
       "      <td>No</td>\n",
       "      <td>3.0</td>\n",
       "    </tr>\n",
       "    <tr>\n",
       "      <th>...</th>\n",
       "      <td>...</td>\n",
       "      <td>...</td>\n",
       "      <td>...</td>\n",
       "      <td>...</td>\n",
       "      <td>...</td>\n",
       "      <td>...</td>\n",
       "      <td>...</td>\n",
       "      <td>...</td>\n",
       "      <td>...</td>\n",
       "      <td>...</td>\n",
       "      <td>...</td>\n",
       "      <td>...</td>\n",
       "      <td>...</td>\n",
       "      <td>...</td>\n",
       "      <td>...</td>\n",
       "    </tr>\n",
       "    <tr>\n",
       "      <th>447</th>\n",
       "      <td>448</td>\n",
       "      <td>27</td>\n",
       "      <td>Female</td>\n",
       "      <td>2021-11-13 22:00:00</td>\n",
       "      <td>2021-11-13 05:30:00</td>\n",
       "      <td>7.5</td>\n",
       "      <td>0.91</td>\n",
       "      <td>22</td>\n",
       "      <td>57</td>\n",
       "      <td>21</td>\n",
       "      <td>0.0</td>\n",
       "      <td>0.0</td>\n",
       "      <td>0.0</td>\n",
       "      <td>No</td>\n",
       "      <td>5.0</td>\n",
       "    </tr>\n",
       "    <tr>\n",
       "      <th>448</th>\n",
       "      <td>449</td>\n",
       "      <td>52</td>\n",
       "      <td>Male</td>\n",
       "      <td>2021-03-31 21:00:00</td>\n",
       "      <td>2021-03-31 03:00:00</td>\n",
       "      <td>6.0</td>\n",
       "      <td>0.74</td>\n",
       "      <td>28</td>\n",
       "      <td>57</td>\n",
       "      <td>15</td>\n",
       "      <td>4.0</td>\n",
       "      <td>25.0</td>\n",
       "      <td>0.0</td>\n",
       "      <td>No</td>\n",
       "      <td>3.0</td>\n",
       "    </tr>\n",
       "    <tr>\n",
       "      <th>449</th>\n",
       "      <td>450</td>\n",
       "      <td>40</td>\n",
       "      <td>Female</td>\n",
       "      <td>2021-09-07 23:00:00</td>\n",
       "      <td>2021-09-07 07:30:00</td>\n",
       "      <td>8.5</td>\n",
       "      <td>0.55</td>\n",
       "      <td>20</td>\n",
       "      <td>32</td>\n",
       "      <td>48</td>\n",
       "      <td>1.0</td>\n",
       "      <td>NaN</td>\n",
       "      <td>3.0</td>\n",
       "      <td>Yes</td>\n",
       "      <td>0.0</td>\n",
       "    </tr>\n",
       "    <tr>\n",
       "      <th>450</th>\n",
       "      <td>451</td>\n",
       "      <td>45</td>\n",
       "      <td>Male</td>\n",
       "      <td>2021-07-29 21:00:00</td>\n",
       "      <td>2021-07-29 04:00:00</td>\n",
       "      <td>7.0</td>\n",
       "      <td>0.76</td>\n",
       "      <td>18</td>\n",
       "      <td>72</td>\n",
       "      <td>10</td>\n",
       "      <td>3.0</td>\n",
       "      <td>0.0</td>\n",
       "      <td>0.0</td>\n",
       "      <td>No</td>\n",
       "      <td>3.0</td>\n",
       "    </tr>\n",
       "    <tr>\n",
       "      <th>451</th>\n",
       "      <td>452</td>\n",
       "      <td>18</td>\n",
       "      <td>Male</td>\n",
       "      <td>2021-03-17 02:30:00</td>\n",
       "      <td>2021-03-17 10:00:00</td>\n",
       "      <td>7.5</td>\n",
       "      <td>0.63</td>\n",
       "      <td>22</td>\n",
       "      <td>23</td>\n",
       "      <td>55</td>\n",
       "      <td>1.0</td>\n",
       "      <td>50.0</td>\n",
       "      <td>0.0</td>\n",
       "      <td>No</td>\n",
       "      <td>1.0</td>\n",
       "    </tr>\n",
       "  </tbody>\n",
       "</table>\n",
       "<p>452 rows × 15 columns</p>\n",
       "</div>"
      ],
      "text/plain": [
       "      ID  Age  Gender              Bedtime          Wakeup time  \\\n",
       "0      1   65  Female  2021-03-06 01:00:00  2021-03-06 07:00:00   \n",
       "1      2   69    Male  2021-12-05 02:00:00  2021-12-05 09:00:00   \n",
       "2      3   40  Female  2021-05-25 21:30:00  2021-05-25 05:30:00   \n",
       "3      4   40  Female  2021-11-03 02:30:00  2021-11-03 08:30:00   \n",
       "4      5   57    Male  2021-03-13 01:00:00  2021-03-13 09:00:00   \n",
       "..   ...  ...     ...                  ...                  ...   \n",
       "447  448   27  Female  2021-11-13 22:00:00  2021-11-13 05:30:00   \n",
       "448  449   52    Male  2021-03-31 21:00:00  2021-03-31 03:00:00   \n",
       "449  450   40  Female  2021-09-07 23:00:00  2021-09-07 07:30:00   \n",
       "450  451   45    Male  2021-07-29 21:00:00  2021-07-29 04:00:00   \n",
       "451  452   18    Male  2021-03-17 02:30:00  2021-03-17 10:00:00   \n",
       "\n",
       "     Sleep duration  Sleep efficiency  REM sleep percentage  \\\n",
       "0               6.0              0.88                    18   \n",
       "1               7.0              0.66                    19   \n",
       "2               8.0              0.89                    20   \n",
       "3               6.0              0.51                    23   \n",
       "4               8.0              0.76                    27   \n",
       "..              ...               ...                   ...   \n",
       "447             7.5              0.91                    22   \n",
       "448             6.0              0.74                    28   \n",
       "449             8.5              0.55                    20   \n",
       "450             7.0              0.76                    18   \n",
       "451             7.5              0.63                    22   \n",
       "\n",
       "     Deep sleep percentage  Light sleep percentage  Awakenings  \\\n",
       "0                       70                      12         0.0   \n",
       "1                       28                      53         3.0   \n",
       "2                       70                      10         1.0   \n",
       "3                       25                      52         3.0   \n",
       "4                       55                      18         3.0   \n",
       "..                     ...                     ...         ...   \n",
       "447                     57                      21         0.0   \n",
       "448                     57                      15         4.0   \n",
       "449                     32                      48         1.0   \n",
       "450                     72                      10         3.0   \n",
       "451                     23                      55         1.0   \n",
       "\n",
       "     Caffeine consumption  Alcohol consumption Smoking status  \\\n",
       "0                     0.0                  0.0            Yes   \n",
       "1                     0.0                  3.0            Yes   \n",
       "2                     0.0                  0.0             No   \n",
       "3                    50.0                  5.0            Yes   \n",
       "4                     0.0                  3.0             No   \n",
       "..                    ...                  ...            ...   \n",
       "447                   0.0                  0.0             No   \n",
       "448                  25.0                  0.0             No   \n",
       "449                   NaN                  3.0            Yes   \n",
       "450                   0.0                  0.0             No   \n",
       "451                  50.0                  0.0             No   \n",
       "\n",
       "     Exercise frequency  \n",
       "0                   3.0  \n",
       "1                   3.0  \n",
       "2                   3.0  \n",
       "3                   1.0  \n",
       "4                   3.0  \n",
       "..                  ...  \n",
       "447                 5.0  \n",
       "448                 3.0  \n",
       "449                 0.0  \n",
       "450                 3.0  \n",
       "451                 1.0  \n",
       "\n",
       "[452 rows x 15 columns]"
      ]
     },
     "execution_count": 30,
     "metadata": {},
     "output_type": "execute_result"
    }
   ],
   "source": [
    "d"
   ]
  },
  {
   "cell_type": "raw",
   "id": "74a24c35-753b-4997-967d-4f3afe7b949c",
   "metadata": {},
   "source": []
  },
  {
   "cell_type": "code",
   "execution_count": 32,
   "id": "caa73147-336d-4906-ad2a-398cee3a9e25",
   "metadata": {},
   "outputs": [],
   "source": [
    "df=pd.DataFrame(d)"
   ]
  },
  {
   "cell_type": "code",
   "execution_count": 33,
   "id": "1cdbff73-e4fb-40cf-83d3-39cf99753fa0",
   "metadata": {},
   "outputs": [
    {
     "name": "stdout",
     "output_type": "stream",
     "text": [
      "      ID  Age  Gender              Bedtime          Wakeup time  \\\n",
      "0      1   65  Female  2021-03-06 01:00:00  2021-03-06 07:00:00   \n",
      "1      2   69    Male  2021-12-05 02:00:00  2021-12-05 09:00:00   \n",
      "2      3   40  Female  2021-05-25 21:30:00  2021-05-25 05:30:00   \n",
      "3      4   40  Female  2021-11-03 02:30:00  2021-11-03 08:30:00   \n",
      "4      5   57    Male  2021-03-13 01:00:00  2021-03-13 09:00:00   \n",
      "..   ...  ...     ...                  ...                  ...   \n",
      "447  448   27  Female  2021-11-13 22:00:00  2021-11-13 05:30:00   \n",
      "448  449   52    Male  2021-03-31 21:00:00  2021-03-31 03:00:00   \n",
      "449  450   40  Female  2021-09-07 23:00:00  2021-09-07 07:30:00   \n",
      "450  451   45    Male  2021-07-29 21:00:00  2021-07-29 04:00:00   \n",
      "451  452   18    Male  2021-03-17 02:30:00  2021-03-17 10:00:00   \n",
      "\n",
      "     Sleep duration  Sleep efficiency  REM sleep percentage  \\\n",
      "0               6.0              0.88                    18   \n",
      "1               7.0              0.66                    19   \n",
      "2               8.0              0.89                    20   \n",
      "3               6.0              0.51                    23   \n",
      "4               8.0              0.76                    27   \n",
      "..              ...               ...                   ...   \n",
      "447             7.5              0.91                    22   \n",
      "448             6.0              0.74                    28   \n",
      "449             8.5              0.55                    20   \n",
      "450             7.0              0.76                    18   \n",
      "451             7.5              0.63                    22   \n",
      "\n",
      "     Deep sleep percentage  Light sleep percentage  Awakenings  \\\n",
      "0                       70                      12         0.0   \n",
      "1                       28                      53         3.0   \n",
      "2                       70                      10         1.0   \n",
      "3                       25                      52         3.0   \n",
      "4                       55                      18         3.0   \n",
      "..                     ...                     ...         ...   \n",
      "447                     57                      21         0.0   \n",
      "448                     57                      15         4.0   \n",
      "449                     32                      48         1.0   \n",
      "450                     72                      10         3.0   \n",
      "451                     23                      55         1.0   \n",
      "\n",
      "     Caffeine consumption  Alcohol consumption Smoking status  \\\n",
      "0                     0.0                  0.0            Yes   \n",
      "1                     0.0                  3.0            Yes   \n",
      "2                     0.0                  0.0             No   \n",
      "3                    50.0                  5.0            Yes   \n",
      "4                     0.0                  3.0             No   \n",
      "..                    ...                  ...            ...   \n",
      "447                   0.0                  0.0             No   \n",
      "448                  25.0                  0.0             No   \n",
      "449                   NaN                  3.0            Yes   \n",
      "450                   0.0                  0.0             No   \n",
      "451                  50.0                  0.0             No   \n",
      "\n",
      "     Exercise frequency  \n",
      "0                   3.0  \n",
      "1                   3.0  \n",
      "2                   3.0  \n",
      "3                   1.0  \n",
      "4                   3.0  \n",
      "..                  ...  \n",
      "447                 5.0  \n",
      "448                 3.0  \n",
      "449                 0.0  \n",
      "450                 3.0  \n",
      "451                 1.0  \n",
      "\n",
      "[452 rows x 15 columns]\n"
     ]
    }
   ],
   "source": [
    "print(df)"
   ]
  },
  {
   "cell_type": "code",
   "execution_count": 34,
   "id": "7a57b7cc-79aa-4aa7-bfaf-3a39ddacac18",
   "metadata": {},
   "outputs": [],
   "source": [
    "# Drop rows with missing values"
   ]
  },
  {
   "cell_type": "code",
   "execution_count": 35,
   "id": "51ea157e-00f0-465f-985e-ea3a0081b84b",
   "metadata": {},
   "outputs": [],
   "source": [
    "df.dropna(inplace=True)"
   ]
  },
  {
   "cell_type": "code",
   "execution_count": 36,
   "id": "9088ea5c-6211-491f-83d8-6672c0368558",
   "metadata": {},
   "outputs": [
    {
     "data": {
      "text/html": [
       "<div>\n",
       "<style scoped>\n",
       "    .dataframe tbody tr th:only-of-type {\n",
       "        vertical-align: middle;\n",
       "    }\n",
       "\n",
       "    .dataframe tbody tr th {\n",
       "        vertical-align: top;\n",
       "    }\n",
       "\n",
       "    .dataframe thead th {\n",
       "        text-align: right;\n",
       "    }\n",
       "</style>\n",
       "<table border=\"1\" class=\"dataframe\">\n",
       "  <thead>\n",
       "    <tr style=\"text-align: right;\">\n",
       "      <th></th>\n",
       "      <th>ID</th>\n",
       "      <th>Age</th>\n",
       "      <th>Gender</th>\n",
       "      <th>Bedtime</th>\n",
       "      <th>Wakeup time</th>\n",
       "      <th>Sleep duration</th>\n",
       "      <th>Sleep efficiency</th>\n",
       "      <th>REM sleep percentage</th>\n",
       "      <th>Deep sleep percentage</th>\n",
       "      <th>Light sleep percentage</th>\n",
       "      <th>Awakenings</th>\n",
       "      <th>Caffeine consumption</th>\n",
       "      <th>Alcohol consumption</th>\n",
       "      <th>Smoking status</th>\n",
       "      <th>Exercise frequency</th>\n",
       "    </tr>\n",
       "  </thead>\n",
       "  <tbody>\n",
       "    <tr>\n",
       "      <th>0</th>\n",
       "      <td>1</td>\n",
       "      <td>65</td>\n",
       "      <td>Female</td>\n",
       "      <td>2021-03-06 01:00:00</td>\n",
       "      <td>2021-03-06 07:00:00</td>\n",
       "      <td>6.0</td>\n",
       "      <td>0.88</td>\n",
       "      <td>18</td>\n",
       "      <td>70</td>\n",
       "      <td>12</td>\n",
       "      <td>0.0</td>\n",
       "      <td>0.0</td>\n",
       "      <td>0.0</td>\n",
       "      <td>Yes</td>\n",
       "      <td>3.0</td>\n",
       "    </tr>\n",
       "    <tr>\n",
       "      <th>1</th>\n",
       "      <td>2</td>\n",
       "      <td>69</td>\n",
       "      <td>Male</td>\n",
       "      <td>2021-12-05 02:00:00</td>\n",
       "      <td>2021-12-05 09:00:00</td>\n",
       "      <td>7.0</td>\n",
       "      <td>0.66</td>\n",
       "      <td>19</td>\n",
       "      <td>28</td>\n",
       "      <td>53</td>\n",
       "      <td>3.0</td>\n",
       "      <td>0.0</td>\n",
       "      <td>3.0</td>\n",
       "      <td>Yes</td>\n",
       "      <td>3.0</td>\n",
       "    </tr>\n",
       "    <tr>\n",
       "      <th>2</th>\n",
       "      <td>3</td>\n",
       "      <td>40</td>\n",
       "      <td>Female</td>\n",
       "      <td>2021-05-25 21:30:00</td>\n",
       "      <td>2021-05-25 05:30:00</td>\n",
       "      <td>8.0</td>\n",
       "      <td>0.89</td>\n",
       "      <td>20</td>\n",
       "      <td>70</td>\n",
       "      <td>10</td>\n",
       "      <td>1.0</td>\n",
       "      <td>0.0</td>\n",
       "      <td>0.0</td>\n",
       "      <td>No</td>\n",
       "      <td>3.0</td>\n",
       "    </tr>\n",
       "    <tr>\n",
       "      <th>3</th>\n",
       "      <td>4</td>\n",
       "      <td>40</td>\n",
       "      <td>Female</td>\n",
       "      <td>2021-11-03 02:30:00</td>\n",
       "      <td>2021-11-03 08:30:00</td>\n",
       "      <td>6.0</td>\n",
       "      <td>0.51</td>\n",
       "      <td>23</td>\n",
       "      <td>25</td>\n",
       "      <td>52</td>\n",
       "      <td>3.0</td>\n",
       "      <td>50.0</td>\n",
       "      <td>5.0</td>\n",
       "      <td>Yes</td>\n",
       "      <td>1.0</td>\n",
       "    </tr>\n",
       "    <tr>\n",
       "      <th>4</th>\n",
       "      <td>5</td>\n",
       "      <td>57</td>\n",
       "      <td>Male</td>\n",
       "      <td>2021-03-13 01:00:00</td>\n",
       "      <td>2021-03-13 09:00:00</td>\n",
       "      <td>8.0</td>\n",
       "      <td>0.76</td>\n",
       "      <td>27</td>\n",
       "      <td>55</td>\n",
       "      <td>18</td>\n",
       "      <td>3.0</td>\n",
       "      <td>0.0</td>\n",
       "      <td>3.0</td>\n",
       "      <td>No</td>\n",
       "      <td>3.0</td>\n",
       "    </tr>\n",
       "    <tr>\n",
       "      <th>...</th>\n",
       "      <td>...</td>\n",
       "      <td>...</td>\n",
       "      <td>...</td>\n",
       "      <td>...</td>\n",
       "      <td>...</td>\n",
       "      <td>...</td>\n",
       "      <td>...</td>\n",
       "      <td>...</td>\n",
       "      <td>...</td>\n",
       "      <td>...</td>\n",
       "      <td>...</td>\n",
       "      <td>...</td>\n",
       "      <td>...</td>\n",
       "      <td>...</td>\n",
       "      <td>...</td>\n",
       "    </tr>\n",
       "    <tr>\n",
       "      <th>445</th>\n",
       "      <td>446</td>\n",
       "      <td>30</td>\n",
       "      <td>Female</td>\n",
       "      <td>2021-11-16 23:00:00</td>\n",
       "      <td>2021-11-16 06:30:00</td>\n",
       "      <td>7.5</td>\n",
       "      <td>0.53</td>\n",
       "      <td>28</td>\n",
       "      <td>20</td>\n",
       "      <td>52</td>\n",
       "      <td>4.0</td>\n",
       "      <td>50.0</td>\n",
       "      <td>2.0</td>\n",
       "      <td>Yes</td>\n",
       "      <td>1.0</td>\n",
       "    </tr>\n",
       "    <tr>\n",
       "      <th>447</th>\n",
       "      <td>448</td>\n",
       "      <td>27</td>\n",
       "      <td>Female</td>\n",
       "      <td>2021-11-13 22:00:00</td>\n",
       "      <td>2021-11-13 05:30:00</td>\n",
       "      <td>7.5</td>\n",
       "      <td>0.91</td>\n",
       "      <td>22</td>\n",
       "      <td>57</td>\n",
       "      <td>21</td>\n",
       "      <td>0.0</td>\n",
       "      <td>0.0</td>\n",
       "      <td>0.0</td>\n",
       "      <td>No</td>\n",
       "      <td>5.0</td>\n",
       "    </tr>\n",
       "    <tr>\n",
       "      <th>448</th>\n",
       "      <td>449</td>\n",
       "      <td>52</td>\n",
       "      <td>Male</td>\n",
       "      <td>2021-03-31 21:00:00</td>\n",
       "      <td>2021-03-31 03:00:00</td>\n",
       "      <td>6.0</td>\n",
       "      <td>0.74</td>\n",
       "      <td>28</td>\n",
       "      <td>57</td>\n",
       "      <td>15</td>\n",
       "      <td>4.0</td>\n",
       "      <td>25.0</td>\n",
       "      <td>0.0</td>\n",
       "      <td>No</td>\n",
       "      <td>3.0</td>\n",
       "    </tr>\n",
       "    <tr>\n",
       "      <th>450</th>\n",
       "      <td>451</td>\n",
       "      <td>45</td>\n",
       "      <td>Male</td>\n",
       "      <td>2021-07-29 21:00:00</td>\n",
       "      <td>2021-07-29 04:00:00</td>\n",
       "      <td>7.0</td>\n",
       "      <td>0.76</td>\n",
       "      <td>18</td>\n",
       "      <td>72</td>\n",
       "      <td>10</td>\n",
       "      <td>3.0</td>\n",
       "      <td>0.0</td>\n",
       "      <td>0.0</td>\n",
       "      <td>No</td>\n",
       "      <td>3.0</td>\n",
       "    </tr>\n",
       "    <tr>\n",
       "      <th>451</th>\n",
       "      <td>452</td>\n",
       "      <td>18</td>\n",
       "      <td>Male</td>\n",
       "      <td>2021-03-17 02:30:00</td>\n",
       "      <td>2021-03-17 10:00:00</td>\n",
       "      <td>7.5</td>\n",
       "      <td>0.63</td>\n",
       "      <td>22</td>\n",
       "      <td>23</td>\n",
       "      <td>55</td>\n",
       "      <td>1.0</td>\n",
       "      <td>50.0</td>\n",
       "      <td>0.0</td>\n",
       "      <td>No</td>\n",
       "      <td>1.0</td>\n",
       "    </tr>\n",
       "  </tbody>\n",
       "</table>\n",
       "<p>388 rows × 15 columns</p>\n",
       "</div>"
      ],
      "text/plain": [
       "      ID  Age  Gender              Bedtime          Wakeup time  \\\n",
       "0      1   65  Female  2021-03-06 01:00:00  2021-03-06 07:00:00   \n",
       "1      2   69    Male  2021-12-05 02:00:00  2021-12-05 09:00:00   \n",
       "2      3   40  Female  2021-05-25 21:30:00  2021-05-25 05:30:00   \n",
       "3      4   40  Female  2021-11-03 02:30:00  2021-11-03 08:30:00   \n",
       "4      5   57    Male  2021-03-13 01:00:00  2021-03-13 09:00:00   \n",
       "..   ...  ...     ...                  ...                  ...   \n",
       "445  446   30  Female  2021-11-16 23:00:00  2021-11-16 06:30:00   \n",
       "447  448   27  Female  2021-11-13 22:00:00  2021-11-13 05:30:00   \n",
       "448  449   52    Male  2021-03-31 21:00:00  2021-03-31 03:00:00   \n",
       "450  451   45    Male  2021-07-29 21:00:00  2021-07-29 04:00:00   \n",
       "451  452   18    Male  2021-03-17 02:30:00  2021-03-17 10:00:00   \n",
       "\n",
       "     Sleep duration  Sleep efficiency  REM sleep percentage  \\\n",
       "0               6.0              0.88                    18   \n",
       "1               7.0              0.66                    19   \n",
       "2               8.0              0.89                    20   \n",
       "3               6.0              0.51                    23   \n",
       "4               8.0              0.76                    27   \n",
       "..              ...               ...                   ...   \n",
       "445             7.5              0.53                    28   \n",
       "447             7.5              0.91                    22   \n",
       "448             6.0              0.74                    28   \n",
       "450             7.0              0.76                    18   \n",
       "451             7.5              0.63                    22   \n",
       "\n",
       "     Deep sleep percentage  Light sleep percentage  Awakenings  \\\n",
       "0                       70                      12         0.0   \n",
       "1                       28                      53         3.0   \n",
       "2                       70                      10         1.0   \n",
       "3                       25                      52         3.0   \n",
       "4                       55                      18         3.0   \n",
       "..                     ...                     ...         ...   \n",
       "445                     20                      52         4.0   \n",
       "447                     57                      21         0.0   \n",
       "448                     57                      15         4.0   \n",
       "450                     72                      10         3.0   \n",
       "451                     23                      55         1.0   \n",
       "\n",
       "     Caffeine consumption  Alcohol consumption Smoking status  \\\n",
       "0                     0.0                  0.0            Yes   \n",
       "1                     0.0                  3.0            Yes   \n",
       "2                     0.0                  0.0             No   \n",
       "3                    50.0                  5.0            Yes   \n",
       "4                     0.0                  3.0             No   \n",
       "..                    ...                  ...            ...   \n",
       "445                  50.0                  2.0            Yes   \n",
       "447                   0.0                  0.0             No   \n",
       "448                  25.0                  0.0             No   \n",
       "450                   0.0                  0.0             No   \n",
       "451                  50.0                  0.0             No   \n",
       "\n",
       "     Exercise frequency  \n",
       "0                   3.0  \n",
       "1                   3.0  \n",
       "2                   3.0  \n",
       "3                   1.0  \n",
       "4                   3.0  \n",
       "..                  ...  \n",
       "445                 1.0  \n",
       "447                 5.0  \n",
       "448                 3.0  \n",
       "450                 3.0  \n",
       "451                 1.0  \n",
       "\n",
       "[388 rows x 15 columns]"
      ]
     },
     "execution_count": 36,
     "metadata": {},
     "output_type": "execute_result"
    }
   ],
   "source": [
    "df"
   ]
  },
  {
   "cell_type": "code",
   "execution_count": 37,
   "id": "c2d23344-951c-4099-9c7f-6ec8b2090014",
   "metadata": {},
   "outputs": [
    {
     "data": {
      "text/html": [
       "<div>\n",
       "<style scoped>\n",
       "    .dataframe tbody tr th:only-of-type {\n",
       "        vertical-align: middle;\n",
       "    }\n",
       "\n",
       "    .dataframe tbody tr th {\n",
       "        vertical-align: top;\n",
       "    }\n",
       "\n",
       "    .dataframe thead th {\n",
       "        text-align: right;\n",
       "    }\n",
       "</style>\n",
       "<table border=\"1\" class=\"dataframe\">\n",
       "  <thead>\n",
       "    <tr style=\"text-align: right;\">\n",
       "      <th></th>\n",
       "      <th>ID</th>\n",
       "      <th>Age</th>\n",
       "      <th>Gender</th>\n",
       "      <th>Bedtime</th>\n",
       "      <th>Wakeup time</th>\n",
       "      <th>Sleep duration</th>\n",
       "      <th>Sleep efficiency</th>\n",
       "      <th>REM sleep percentage</th>\n",
       "      <th>Deep sleep percentage</th>\n",
       "      <th>Light sleep percentage</th>\n",
       "      <th>Awakenings</th>\n",
       "      <th>Caffeine consumption</th>\n",
       "      <th>Alcohol consumption</th>\n",
       "      <th>Smoking status</th>\n",
       "      <th>Exercise frequency</th>\n",
       "    </tr>\n",
       "  </thead>\n",
       "  <tbody>\n",
       "    <tr>\n",
       "      <th>0</th>\n",
       "      <td>1</td>\n",
       "      <td>65</td>\n",
       "      <td>Female</td>\n",
       "      <td>2021-03-06 01:00:00</td>\n",
       "      <td>2021-03-06 07:00:00</td>\n",
       "      <td>6.0</td>\n",
       "      <td>0.88</td>\n",
       "      <td>18</td>\n",
       "      <td>70</td>\n",
       "      <td>12</td>\n",
       "      <td>0.0</td>\n",
       "      <td>0.0</td>\n",
       "      <td>0.0</td>\n",
       "      <td>Yes</td>\n",
       "      <td>3.0</td>\n",
       "    </tr>\n",
       "    <tr>\n",
       "      <th>1</th>\n",
       "      <td>2</td>\n",
       "      <td>69</td>\n",
       "      <td>Male</td>\n",
       "      <td>2021-12-05 02:00:00</td>\n",
       "      <td>2021-12-05 09:00:00</td>\n",
       "      <td>7.0</td>\n",
       "      <td>0.66</td>\n",
       "      <td>19</td>\n",
       "      <td>28</td>\n",
       "      <td>53</td>\n",
       "      <td>3.0</td>\n",
       "      <td>0.0</td>\n",
       "      <td>3.0</td>\n",
       "      <td>Yes</td>\n",
       "      <td>3.0</td>\n",
       "    </tr>\n",
       "    <tr>\n",
       "      <th>2</th>\n",
       "      <td>3</td>\n",
       "      <td>40</td>\n",
       "      <td>Female</td>\n",
       "      <td>2021-05-25 21:30:00</td>\n",
       "      <td>2021-05-25 05:30:00</td>\n",
       "      <td>8.0</td>\n",
       "      <td>0.89</td>\n",
       "      <td>20</td>\n",
       "      <td>70</td>\n",
       "      <td>10</td>\n",
       "      <td>1.0</td>\n",
       "      <td>0.0</td>\n",
       "      <td>0.0</td>\n",
       "      <td>No</td>\n",
       "      <td>3.0</td>\n",
       "    </tr>\n",
       "    <tr>\n",
       "      <th>3</th>\n",
       "      <td>4</td>\n",
       "      <td>40</td>\n",
       "      <td>Female</td>\n",
       "      <td>2021-11-03 02:30:00</td>\n",
       "      <td>2021-11-03 08:30:00</td>\n",
       "      <td>6.0</td>\n",
       "      <td>0.51</td>\n",
       "      <td>23</td>\n",
       "      <td>25</td>\n",
       "      <td>52</td>\n",
       "      <td>3.0</td>\n",
       "      <td>50.0</td>\n",
       "      <td>5.0</td>\n",
       "      <td>Yes</td>\n",
       "      <td>1.0</td>\n",
       "    </tr>\n",
       "    <tr>\n",
       "      <th>4</th>\n",
       "      <td>5</td>\n",
       "      <td>57</td>\n",
       "      <td>Male</td>\n",
       "      <td>2021-03-13 01:00:00</td>\n",
       "      <td>2021-03-13 09:00:00</td>\n",
       "      <td>8.0</td>\n",
       "      <td>0.76</td>\n",
       "      <td>27</td>\n",
       "      <td>55</td>\n",
       "      <td>18</td>\n",
       "      <td>3.0</td>\n",
       "      <td>0.0</td>\n",
       "      <td>3.0</td>\n",
       "      <td>No</td>\n",
       "      <td>3.0</td>\n",
       "    </tr>\n",
       "    <tr>\n",
       "      <th>...</th>\n",
       "      <td>...</td>\n",
       "      <td>...</td>\n",
       "      <td>...</td>\n",
       "      <td>...</td>\n",
       "      <td>...</td>\n",
       "      <td>...</td>\n",
       "      <td>...</td>\n",
       "      <td>...</td>\n",
       "      <td>...</td>\n",
       "      <td>...</td>\n",
       "      <td>...</td>\n",
       "      <td>...</td>\n",
       "      <td>...</td>\n",
       "      <td>...</td>\n",
       "      <td>...</td>\n",
       "    </tr>\n",
       "    <tr>\n",
       "      <th>445</th>\n",
       "      <td>446</td>\n",
       "      <td>30</td>\n",
       "      <td>Female</td>\n",
       "      <td>2021-11-16 23:00:00</td>\n",
       "      <td>2021-11-16 06:30:00</td>\n",
       "      <td>7.5</td>\n",
       "      <td>0.53</td>\n",
       "      <td>28</td>\n",
       "      <td>20</td>\n",
       "      <td>52</td>\n",
       "      <td>4.0</td>\n",
       "      <td>50.0</td>\n",
       "      <td>2.0</td>\n",
       "      <td>Yes</td>\n",
       "      <td>1.0</td>\n",
       "    </tr>\n",
       "    <tr>\n",
       "      <th>447</th>\n",
       "      <td>448</td>\n",
       "      <td>27</td>\n",
       "      <td>Female</td>\n",
       "      <td>2021-11-13 22:00:00</td>\n",
       "      <td>2021-11-13 05:30:00</td>\n",
       "      <td>7.5</td>\n",
       "      <td>0.91</td>\n",
       "      <td>22</td>\n",
       "      <td>57</td>\n",
       "      <td>21</td>\n",
       "      <td>0.0</td>\n",
       "      <td>0.0</td>\n",
       "      <td>0.0</td>\n",
       "      <td>No</td>\n",
       "      <td>5.0</td>\n",
       "    </tr>\n",
       "    <tr>\n",
       "      <th>448</th>\n",
       "      <td>449</td>\n",
       "      <td>52</td>\n",
       "      <td>Male</td>\n",
       "      <td>2021-03-31 21:00:00</td>\n",
       "      <td>2021-03-31 03:00:00</td>\n",
       "      <td>6.0</td>\n",
       "      <td>0.74</td>\n",
       "      <td>28</td>\n",
       "      <td>57</td>\n",
       "      <td>15</td>\n",
       "      <td>4.0</td>\n",
       "      <td>25.0</td>\n",
       "      <td>0.0</td>\n",
       "      <td>No</td>\n",
       "      <td>3.0</td>\n",
       "    </tr>\n",
       "    <tr>\n",
       "      <th>450</th>\n",
       "      <td>451</td>\n",
       "      <td>45</td>\n",
       "      <td>Male</td>\n",
       "      <td>2021-07-29 21:00:00</td>\n",
       "      <td>2021-07-29 04:00:00</td>\n",
       "      <td>7.0</td>\n",
       "      <td>0.76</td>\n",
       "      <td>18</td>\n",
       "      <td>72</td>\n",
       "      <td>10</td>\n",
       "      <td>3.0</td>\n",
       "      <td>0.0</td>\n",
       "      <td>0.0</td>\n",
       "      <td>No</td>\n",
       "      <td>3.0</td>\n",
       "    </tr>\n",
       "    <tr>\n",
       "      <th>451</th>\n",
       "      <td>452</td>\n",
       "      <td>18</td>\n",
       "      <td>Male</td>\n",
       "      <td>2021-03-17 02:30:00</td>\n",
       "      <td>2021-03-17 10:00:00</td>\n",
       "      <td>7.5</td>\n",
       "      <td>0.63</td>\n",
       "      <td>22</td>\n",
       "      <td>23</td>\n",
       "      <td>55</td>\n",
       "      <td>1.0</td>\n",
       "      <td>50.0</td>\n",
       "      <td>0.0</td>\n",
       "      <td>No</td>\n",
       "      <td>1.0</td>\n",
       "    </tr>\n",
       "  </tbody>\n",
       "</table>\n",
       "<p>388 rows × 15 columns</p>\n",
       "</div>"
      ],
      "text/plain": [
       "      ID  Age  Gender              Bedtime          Wakeup time  \\\n",
       "0      1   65  Female  2021-03-06 01:00:00  2021-03-06 07:00:00   \n",
       "1      2   69    Male  2021-12-05 02:00:00  2021-12-05 09:00:00   \n",
       "2      3   40  Female  2021-05-25 21:30:00  2021-05-25 05:30:00   \n",
       "3      4   40  Female  2021-11-03 02:30:00  2021-11-03 08:30:00   \n",
       "4      5   57    Male  2021-03-13 01:00:00  2021-03-13 09:00:00   \n",
       "..   ...  ...     ...                  ...                  ...   \n",
       "445  446   30  Female  2021-11-16 23:00:00  2021-11-16 06:30:00   \n",
       "447  448   27  Female  2021-11-13 22:00:00  2021-11-13 05:30:00   \n",
       "448  449   52    Male  2021-03-31 21:00:00  2021-03-31 03:00:00   \n",
       "450  451   45    Male  2021-07-29 21:00:00  2021-07-29 04:00:00   \n",
       "451  452   18    Male  2021-03-17 02:30:00  2021-03-17 10:00:00   \n",
       "\n",
       "     Sleep duration  Sleep efficiency  REM sleep percentage  \\\n",
       "0               6.0              0.88                    18   \n",
       "1               7.0              0.66                    19   \n",
       "2               8.0              0.89                    20   \n",
       "3               6.0              0.51                    23   \n",
       "4               8.0              0.76                    27   \n",
       "..              ...               ...                   ...   \n",
       "445             7.5              0.53                    28   \n",
       "447             7.5              0.91                    22   \n",
       "448             6.0              0.74                    28   \n",
       "450             7.0              0.76                    18   \n",
       "451             7.5              0.63                    22   \n",
       "\n",
       "     Deep sleep percentage  Light sleep percentage  Awakenings  \\\n",
       "0                       70                      12         0.0   \n",
       "1                       28                      53         3.0   \n",
       "2                       70                      10         1.0   \n",
       "3                       25                      52         3.0   \n",
       "4                       55                      18         3.0   \n",
       "..                     ...                     ...         ...   \n",
       "445                     20                      52         4.0   \n",
       "447                     57                      21         0.0   \n",
       "448                     57                      15         4.0   \n",
       "450                     72                      10         3.0   \n",
       "451                     23                      55         1.0   \n",
       "\n",
       "     Caffeine consumption  Alcohol consumption Smoking status  \\\n",
       "0                     0.0                  0.0            Yes   \n",
       "1                     0.0                  3.0            Yes   \n",
       "2                     0.0                  0.0             No   \n",
       "3                    50.0                  5.0            Yes   \n",
       "4                     0.0                  3.0             No   \n",
       "..                    ...                  ...            ...   \n",
       "445                  50.0                  2.0            Yes   \n",
       "447                   0.0                  0.0             No   \n",
       "448                  25.0                  0.0             No   \n",
       "450                   0.0                  0.0             No   \n",
       "451                  50.0                  0.0             No   \n",
       "\n",
       "     Exercise frequency  \n",
       "0                   3.0  \n",
       "1                   3.0  \n",
       "2                   3.0  \n",
       "3                   1.0  \n",
       "4                   3.0  \n",
       "..                  ...  \n",
       "445                 1.0  \n",
       "447                 5.0  \n",
       "448                 3.0  \n",
       "450                 3.0  \n",
       "451                 1.0  \n",
       "\n",
       "[388 rows x 15 columns]"
      ]
     },
     "execution_count": 37,
     "metadata": {},
     "output_type": "execute_result"
    }
   ],
   "source": [
    "df"
   ]
  },
  {
   "cell_type": "code",
   "execution_count": 38,
   "id": "df1cda1d-75be-4a96-96e8-03d415f7bae0",
   "metadata": {},
   "outputs": [],
   "source": [
    "d = pd.read_csv(\"C:\\\\Users\\\\SWAPNA\\\\Documents\\\\Sleep_Efficiency.csv\")"
   ]
  },
  {
   "cell_type": "code",
   "execution_count": 39,
   "id": "8d9c6f80-e394-4f4a-99e6-6046fad7ab05",
   "metadata": {},
   "outputs": [],
   "source": [
    "df=pd.DataFrame(d)"
   ]
  },
  {
   "cell_type": "code",
   "execution_count": 40,
   "id": "2a91af6b-9790-4984-99e1-52b03d05ff0a",
   "metadata": {},
   "outputs": [
    {
     "data": {
      "text/html": [
       "<div>\n",
       "<style scoped>\n",
       "    .dataframe tbody tr th:only-of-type {\n",
       "        vertical-align: middle;\n",
       "    }\n",
       "\n",
       "    .dataframe tbody tr th {\n",
       "        vertical-align: top;\n",
       "    }\n",
       "\n",
       "    .dataframe thead th {\n",
       "        text-align: right;\n",
       "    }\n",
       "</style>\n",
       "<table border=\"1\" class=\"dataframe\">\n",
       "  <thead>\n",
       "    <tr style=\"text-align: right;\">\n",
       "      <th></th>\n",
       "      <th>ID</th>\n",
       "      <th>Age</th>\n",
       "      <th>Gender</th>\n",
       "      <th>Bedtime</th>\n",
       "      <th>Wakeup time</th>\n",
       "      <th>Sleep duration</th>\n",
       "      <th>Sleep efficiency</th>\n",
       "      <th>REM sleep percentage</th>\n",
       "      <th>Deep sleep percentage</th>\n",
       "      <th>Light sleep percentage</th>\n",
       "      <th>Awakenings</th>\n",
       "      <th>Caffeine consumption</th>\n",
       "      <th>Alcohol consumption</th>\n",
       "      <th>Smoking status</th>\n",
       "      <th>Exercise frequency</th>\n",
       "    </tr>\n",
       "  </thead>\n",
       "  <tbody>\n",
       "    <tr>\n",
       "      <th>0</th>\n",
       "      <td>1</td>\n",
       "      <td>65</td>\n",
       "      <td>Female</td>\n",
       "      <td>2021-03-06 01:00:00</td>\n",
       "      <td>2021-03-06 07:00:00</td>\n",
       "      <td>6.0</td>\n",
       "      <td>0.88</td>\n",
       "      <td>18</td>\n",
       "      <td>70</td>\n",
       "      <td>12</td>\n",
       "      <td>0.0</td>\n",
       "      <td>0.0</td>\n",
       "      <td>0.0</td>\n",
       "      <td>Yes</td>\n",
       "      <td>3.0</td>\n",
       "    </tr>\n",
       "    <tr>\n",
       "      <th>1</th>\n",
       "      <td>2</td>\n",
       "      <td>69</td>\n",
       "      <td>Male</td>\n",
       "      <td>2021-12-05 02:00:00</td>\n",
       "      <td>2021-12-05 09:00:00</td>\n",
       "      <td>7.0</td>\n",
       "      <td>0.66</td>\n",
       "      <td>19</td>\n",
       "      <td>28</td>\n",
       "      <td>53</td>\n",
       "      <td>3.0</td>\n",
       "      <td>0.0</td>\n",
       "      <td>3.0</td>\n",
       "      <td>Yes</td>\n",
       "      <td>3.0</td>\n",
       "    </tr>\n",
       "    <tr>\n",
       "      <th>2</th>\n",
       "      <td>3</td>\n",
       "      <td>40</td>\n",
       "      <td>Female</td>\n",
       "      <td>2021-05-25 21:30:00</td>\n",
       "      <td>2021-05-25 05:30:00</td>\n",
       "      <td>8.0</td>\n",
       "      <td>0.89</td>\n",
       "      <td>20</td>\n",
       "      <td>70</td>\n",
       "      <td>10</td>\n",
       "      <td>1.0</td>\n",
       "      <td>0.0</td>\n",
       "      <td>0.0</td>\n",
       "      <td>No</td>\n",
       "      <td>3.0</td>\n",
       "    </tr>\n",
       "    <tr>\n",
       "      <th>3</th>\n",
       "      <td>4</td>\n",
       "      <td>40</td>\n",
       "      <td>Female</td>\n",
       "      <td>2021-11-03 02:30:00</td>\n",
       "      <td>2021-11-03 08:30:00</td>\n",
       "      <td>6.0</td>\n",
       "      <td>0.51</td>\n",
       "      <td>23</td>\n",
       "      <td>25</td>\n",
       "      <td>52</td>\n",
       "      <td>3.0</td>\n",
       "      <td>50.0</td>\n",
       "      <td>5.0</td>\n",
       "      <td>Yes</td>\n",
       "      <td>1.0</td>\n",
       "    </tr>\n",
       "    <tr>\n",
       "      <th>4</th>\n",
       "      <td>5</td>\n",
       "      <td>57</td>\n",
       "      <td>Male</td>\n",
       "      <td>2021-03-13 01:00:00</td>\n",
       "      <td>2021-03-13 09:00:00</td>\n",
       "      <td>8.0</td>\n",
       "      <td>0.76</td>\n",
       "      <td>27</td>\n",
       "      <td>55</td>\n",
       "      <td>18</td>\n",
       "      <td>3.0</td>\n",
       "      <td>0.0</td>\n",
       "      <td>3.0</td>\n",
       "      <td>No</td>\n",
       "      <td>3.0</td>\n",
       "    </tr>\n",
       "    <tr>\n",
       "      <th>...</th>\n",
       "      <td>...</td>\n",
       "      <td>...</td>\n",
       "      <td>...</td>\n",
       "      <td>...</td>\n",
       "      <td>...</td>\n",
       "      <td>...</td>\n",
       "      <td>...</td>\n",
       "      <td>...</td>\n",
       "      <td>...</td>\n",
       "      <td>...</td>\n",
       "      <td>...</td>\n",
       "      <td>...</td>\n",
       "      <td>...</td>\n",
       "      <td>...</td>\n",
       "      <td>...</td>\n",
       "    </tr>\n",
       "    <tr>\n",
       "      <th>447</th>\n",
       "      <td>448</td>\n",
       "      <td>27</td>\n",
       "      <td>Female</td>\n",
       "      <td>2021-11-13 22:00:00</td>\n",
       "      <td>2021-11-13 05:30:00</td>\n",
       "      <td>7.5</td>\n",
       "      <td>0.91</td>\n",
       "      <td>22</td>\n",
       "      <td>57</td>\n",
       "      <td>21</td>\n",
       "      <td>0.0</td>\n",
       "      <td>0.0</td>\n",
       "      <td>0.0</td>\n",
       "      <td>No</td>\n",
       "      <td>5.0</td>\n",
       "    </tr>\n",
       "    <tr>\n",
       "      <th>448</th>\n",
       "      <td>449</td>\n",
       "      <td>52</td>\n",
       "      <td>Male</td>\n",
       "      <td>2021-03-31 21:00:00</td>\n",
       "      <td>2021-03-31 03:00:00</td>\n",
       "      <td>6.0</td>\n",
       "      <td>0.74</td>\n",
       "      <td>28</td>\n",
       "      <td>57</td>\n",
       "      <td>15</td>\n",
       "      <td>4.0</td>\n",
       "      <td>25.0</td>\n",
       "      <td>0.0</td>\n",
       "      <td>No</td>\n",
       "      <td>3.0</td>\n",
       "    </tr>\n",
       "    <tr>\n",
       "      <th>449</th>\n",
       "      <td>450</td>\n",
       "      <td>40</td>\n",
       "      <td>Female</td>\n",
       "      <td>2021-09-07 23:00:00</td>\n",
       "      <td>2021-09-07 07:30:00</td>\n",
       "      <td>8.5</td>\n",
       "      <td>0.55</td>\n",
       "      <td>20</td>\n",
       "      <td>32</td>\n",
       "      <td>48</td>\n",
       "      <td>1.0</td>\n",
       "      <td>NaN</td>\n",
       "      <td>3.0</td>\n",
       "      <td>Yes</td>\n",
       "      <td>0.0</td>\n",
       "    </tr>\n",
       "    <tr>\n",
       "      <th>450</th>\n",
       "      <td>451</td>\n",
       "      <td>45</td>\n",
       "      <td>Male</td>\n",
       "      <td>2021-07-29 21:00:00</td>\n",
       "      <td>2021-07-29 04:00:00</td>\n",
       "      <td>7.0</td>\n",
       "      <td>0.76</td>\n",
       "      <td>18</td>\n",
       "      <td>72</td>\n",
       "      <td>10</td>\n",
       "      <td>3.0</td>\n",
       "      <td>0.0</td>\n",
       "      <td>0.0</td>\n",
       "      <td>No</td>\n",
       "      <td>3.0</td>\n",
       "    </tr>\n",
       "    <tr>\n",
       "      <th>451</th>\n",
       "      <td>452</td>\n",
       "      <td>18</td>\n",
       "      <td>Male</td>\n",
       "      <td>2021-03-17 02:30:00</td>\n",
       "      <td>2021-03-17 10:00:00</td>\n",
       "      <td>7.5</td>\n",
       "      <td>0.63</td>\n",
       "      <td>22</td>\n",
       "      <td>23</td>\n",
       "      <td>55</td>\n",
       "      <td>1.0</td>\n",
       "      <td>50.0</td>\n",
       "      <td>0.0</td>\n",
       "      <td>No</td>\n",
       "      <td>1.0</td>\n",
       "    </tr>\n",
       "  </tbody>\n",
       "</table>\n",
       "<p>452 rows × 15 columns</p>\n",
       "</div>"
      ],
      "text/plain": [
       "      ID  Age  Gender              Bedtime          Wakeup time  \\\n",
       "0      1   65  Female  2021-03-06 01:00:00  2021-03-06 07:00:00   \n",
       "1      2   69    Male  2021-12-05 02:00:00  2021-12-05 09:00:00   \n",
       "2      3   40  Female  2021-05-25 21:30:00  2021-05-25 05:30:00   \n",
       "3      4   40  Female  2021-11-03 02:30:00  2021-11-03 08:30:00   \n",
       "4      5   57    Male  2021-03-13 01:00:00  2021-03-13 09:00:00   \n",
       "..   ...  ...     ...                  ...                  ...   \n",
       "447  448   27  Female  2021-11-13 22:00:00  2021-11-13 05:30:00   \n",
       "448  449   52    Male  2021-03-31 21:00:00  2021-03-31 03:00:00   \n",
       "449  450   40  Female  2021-09-07 23:00:00  2021-09-07 07:30:00   \n",
       "450  451   45    Male  2021-07-29 21:00:00  2021-07-29 04:00:00   \n",
       "451  452   18    Male  2021-03-17 02:30:00  2021-03-17 10:00:00   \n",
       "\n",
       "     Sleep duration  Sleep efficiency  REM sleep percentage  \\\n",
       "0               6.0              0.88                    18   \n",
       "1               7.0              0.66                    19   \n",
       "2               8.0              0.89                    20   \n",
       "3               6.0              0.51                    23   \n",
       "4               8.0              0.76                    27   \n",
       "..              ...               ...                   ...   \n",
       "447             7.5              0.91                    22   \n",
       "448             6.0              0.74                    28   \n",
       "449             8.5              0.55                    20   \n",
       "450             7.0              0.76                    18   \n",
       "451             7.5              0.63                    22   \n",
       "\n",
       "     Deep sleep percentage  Light sleep percentage  Awakenings  \\\n",
       "0                       70                      12         0.0   \n",
       "1                       28                      53         3.0   \n",
       "2                       70                      10         1.0   \n",
       "3                       25                      52         3.0   \n",
       "4                       55                      18         3.0   \n",
       "..                     ...                     ...         ...   \n",
       "447                     57                      21         0.0   \n",
       "448                     57                      15         4.0   \n",
       "449                     32                      48         1.0   \n",
       "450                     72                      10         3.0   \n",
       "451                     23                      55         1.0   \n",
       "\n",
       "     Caffeine consumption  Alcohol consumption Smoking status  \\\n",
       "0                     0.0                  0.0            Yes   \n",
       "1                     0.0                  3.0            Yes   \n",
       "2                     0.0                  0.0             No   \n",
       "3                    50.0                  5.0            Yes   \n",
       "4                     0.0                  3.0             No   \n",
       "..                    ...                  ...            ...   \n",
       "447                   0.0                  0.0             No   \n",
       "448                  25.0                  0.0             No   \n",
       "449                   NaN                  3.0            Yes   \n",
       "450                   0.0                  0.0             No   \n",
       "451                  50.0                  0.0             No   \n",
       "\n",
       "     Exercise frequency  \n",
       "0                   3.0  \n",
       "1                   3.0  \n",
       "2                   3.0  \n",
       "3                   1.0  \n",
       "4                   3.0  \n",
       "..                  ...  \n",
       "447                 5.0  \n",
       "448                 3.0  \n",
       "449                 0.0  \n",
       "450                 3.0  \n",
       "451                 1.0  \n",
       "\n",
       "[452 rows x 15 columns]"
      ]
     },
     "execution_count": 40,
     "metadata": {},
     "output_type": "execute_result"
    }
   ],
   "source": [
    "df\n"
   ]
  },
  {
   "cell_type": "code",
   "execution_count": 41,
   "id": "3a53e194-2cfe-416c-a79f-00fa68ce5d7e",
   "metadata": {},
   "outputs": [
    {
     "data": {
      "text/html": [
       "<div>\n",
       "<style scoped>\n",
       "    .dataframe tbody tr th:only-of-type {\n",
       "        vertical-align: middle;\n",
       "    }\n",
       "\n",
       "    .dataframe tbody tr th {\n",
       "        vertical-align: top;\n",
       "    }\n",
       "\n",
       "    .dataframe thead th {\n",
       "        text-align: right;\n",
       "    }\n",
       "</style>\n",
       "<table border=\"1\" class=\"dataframe\">\n",
       "  <thead>\n",
       "    <tr style=\"text-align: right;\">\n",
       "      <th></th>\n",
       "      <th>ID</th>\n",
       "      <th>Age</th>\n",
       "      <th>Gender</th>\n",
       "      <th>Bedtime</th>\n",
       "      <th>Wakeup time</th>\n",
       "      <th>Sleep duration</th>\n",
       "      <th>Sleep efficiency</th>\n",
       "      <th>REM sleep percentage</th>\n",
       "      <th>Deep sleep percentage</th>\n",
       "      <th>Light sleep percentage</th>\n",
       "      <th>Awakenings</th>\n",
       "      <th>Caffeine consumption</th>\n",
       "      <th>Alcohol consumption</th>\n",
       "      <th>Smoking status</th>\n",
       "      <th>Exercise frequency</th>\n",
       "    </tr>\n",
       "  </thead>\n",
       "  <tbody>\n",
       "    <tr>\n",
       "      <th>0</th>\n",
       "      <td>1</td>\n",
       "      <td>65</td>\n",
       "      <td>Female</td>\n",
       "      <td>2021-03-06 01:00:00</td>\n",
       "      <td>2021-03-06 07:00:00</td>\n",
       "      <td>6.0</td>\n",
       "      <td>0.88</td>\n",
       "      <td>18</td>\n",
       "      <td>70</td>\n",
       "      <td>12</td>\n",
       "      <td>0.0</td>\n",
       "      <td>0.0</td>\n",
       "      <td>0.0</td>\n",
       "      <td>Yes</td>\n",
       "      <td>3.0</td>\n",
       "    </tr>\n",
       "    <tr>\n",
       "      <th>1</th>\n",
       "      <td>2</td>\n",
       "      <td>69</td>\n",
       "      <td>Male</td>\n",
       "      <td>2021-12-05 02:00:00</td>\n",
       "      <td>2021-12-05 09:00:00</td>\n",
       "      <td>7.0</td>\n",
       "      <td>0.66</td>\n",
       "      <td>19</td>\n",
       "      <td>28</td>\n",
       "      <td>53</td>\n",
       "      <td>3.0</td>\n",
       "      <td>0.0</td>\n",
       "      <td>3.0</td>\n",
       "      <td>Yes</td>\n",
       "      <td>3.0</td>\n",
       "    </tr>\n",
       "    <tr>\n",
       "      <th>2</th>\n",
       "      <td>3</td>\n",
       "      <td>40</td>\n",
       "      <td>Female</td>\n",
       "      <td>2021-05-25 21:30:00</td>\n",
       "      <td>2021-05-25 05:30:00</td>\n",
       "      <td>8.0</td>\n",
       "      <td>0.89</td>\n",
       "      <td>20</td>\n",
       "      <td>70</td>\n",
       "      <td>10</td>\n",
       "      <td>1.0</td>\n",
       "      <td>0.0</td>\n",
       "      <td>0.0</td>\n",
       "      <td>No</td>\n",
       "      <td>3.0</td>\n",
       "    </tr>\n",
       "    <tr>\n",
       "      <th>3</th>\n",
       "      <td>4</td>\n",
       "      <td>40</td>\n",
       "      <td>Female</td>\n",
       "      <td>2021-11-03 02:30:00</td>\n",
       "      <td>2021-11-03 08:30:00</td>\n",
       "      <td>6.0</td>\n",
       "      <td>0.51</td>\n",
       "      <td>23</td>\n",
       "      <td>25</td>\n",
       "      <td>52</td>\n",
       "      <td>3.0</td>\n",
       "      <td>50.0</td>\n",
       "      <td>5.0</td>\n",
       "      <td>Yes</td>\n",
       "      <td>1.0</td>\n",
       "    </tr>\n",
       "    <tr>\n",
       "      <th>4</th>\n",
       "      <td>5</td>\n",
       "      <td>57</td>\n",
       "      <td>Male</td>\n",
       "      <td>2021-03-13 01:00:00</td>\n",
       "      <td>2021-03-13 09:00:00</td>\n",
       "      <td>8.0</td>\n",
       "      <td>0.76</td>\n",
       "      <td>27</td>\n",
       "      <td>55</td>\n",
       "      <td>18</td>\n",
       "      <td>3.0</td>\n",
       "      <td>0.0</td>\n",
       "      <td>3.0</td>\n",
       "      <td>No</td>\n",
       "      <td>3.0</td>\n",
       "    </tr>\n",
       "    <tr>\n",
       "      <th>...</th>\n",
       "      <td>...</td>\n",
       "      <td>...</td>\n",
       "      <td>...</td>\n",
       "      <td>...</td>\n",
       "      <td>...</td>\n",
       "      <td>...</td>\n",
       "      <td>...</td>\n",
       "      <td>...</td>\n",
       "      <td>...</td>\n",
       "      <td>...</td>\n",
       "      <td>...</td>\n",
       "      <td>...</td>\n",
       "      <td>...</td>\n",
       "      <td>...</td>\n",
       "      <td>...</td>\n",
       "    </tr>\n",
       "    <tr>\n",
       "      <th>445</th>\n",
       "      <td>446</td>\n",
       "      <td>30</td>\n",
       "      <td>Female</td>\n",
       "      <td>2021-11-16 23:00:00</td>\n",
       "      <td>2021-11-16 06:30:00</td>\n",
       "      <td>7.5</td>\n",
       "      <td>0.53</td>\n",
       "      <td>28</td>\n",
       "      <td>20</td>\n",
       "      <td>52</td>\n",
       "      <td>4.0</td>\n",
       "      <td>50.0</td>\n",
       "      <td>2.0</td>\n",
       "      <td>Yes</td>\n",
       "      <td>1.0</td>\n",
       "    </tr>\n",
       "    <tr>\n",
       "      <th>447</th>\n",
       "      <td>448</td>\n",
       "      <td>27</td>\n",
       "      <td>Female</td>\n",
       "      <td>2021-11-13 22:00:00</td>\n",
       "      <td>2021-11-13 05:30:00</td>\n",
       "      <td>7.5</td>\n",
       "      <td>0.91</td>\n",
       "      <td>22</td>\n",
       "      <td>57</td>\n",
       "      <td>21</td>\n",
       "      <td>0.0</td>\n",
       "      <td>0.0</td>\n",
       "      <td>0.0</td>\n",
       "      <td>No</td>\n",
       "      <td>5.0</td>\n",
       "    </tr>\n",
       "    <tr>\n",
       "      <th>448</th>\n",
       "      <td>449</td>\n",
       "      <td>52</td>\n",
       "      <td>Male</td>\n",
       "      <td>2021-03-31 21:00:00</td>\n",
       "      <td>2021-03-31 03:00:00</td>\n",
       "      <td>6.0</td>\n",
       "      <td>0.74</td>\n",
       "      <td>28</td>\n",
       "      <td>57</td>\n",
       "      <td>15</td>\n",
       "      <td>4.0</td>\n",
       "      <td>25.0</td>\n",
       "      <td>0.0</td>\n",
       "      <td>No</td>\n",
       "      <td>3.0</td>\n",
       "    </tr>\n",
       "    <tr>\n",
       "      <th>450</th>\n",
       "      <td>451</td>\n",
       "      <td>45</td>\n",
       "      <td>Male</td>\n",
       "      <td>2021-07-29 21:00:00</td>\n",
       "      <td>2021-07-29 04:00:00</td>\n",
       "      <td>7.0</td>\n",
       "      <td>0.76</td>\n",
       "      <td>18</td>\n",
       "      <td>72</td>\n",
       "      <td>10</td>\n",
       "      <td>3.0</td>\n",
       "      <td>0.0</td>\n",
       "      <td>0.0</td>\n",
       "      <td>No</td>\n",
       "      <td>3.0</td>\n",
       "    </tr>\n",
       "    <tr>\n",
       "      <th>451</th>\n",
       "      <td>452</td>\n",
       "      <td>18</td>\n",
       "      <td>Male</td>\n",
       "      <td>2021-03-17 02:30:00</td>\n",
       "      <td>2021-03-17 10:00:00</td>\n",
       "      <td>7.5</td>\n",
       "      <td>0.63</td>\n",
       "      <td>22</td>\n",
       "      <td>23</td>\n",
       "      <td>55</td>\n",
       "      <td>1.0</td>\n",
       "      <td>50.0</td>\n",
       "      <td>0.0</td>\n",
       "      <td>No</td>\n",
       "      <td>1.0</td>\n",
       "    </tr>\n",
       "  </tbody>\n",
       "</table>\n",
       "<p>388 rows × 15 columns</p>\n",
       "</div>"
      ],
      "text/plain": [
       "      ID  Age  Gender              Bedtime          Wakeup time  \\\n",
       "0      1   65  Female  2021-03-06 01:00:00  2021-03-06 07:00:00   \n",
       "1      2   69    Male  2021-12-05 02:00:00  2021-12-05 09:00:00   \n",
       "2      3   40  Female  2021-05-25 21:30:00  2021-05-25 05:30:00   \n",
       "3      4   40  Female  2021-11-03 02:30:00  2021-11-03 08:30:00   \n",
       "4      5   57    Male  2021-03-13 01:00:00  2021-03-13 09:00:00   \n",
       "..   ...  ...     ...                  ...                  ...   \n",
       "445  446   30  Female  2021-11-16 23:00:00  2021-11-16 06:30:00   \n",
       "447  448   27  Female  2021-11-13 22:00:00  2021-11-13 05:30:00   \n",
       "448  449   52    Male  2021-03-31 21:00:00  2021-03-31 03:00:00   \n",
       "450  451   45    Male  2021-07-29 21:00:00  2021-07-29 04:00:00   \n",
       "451  452   18    Male  2021-03-17 02:30:00  2021-03-17 10:00:00   \n",
       "\n",
       "     Sleep duration  Sleep efficiency  REM sleep percentage  \\\n",
       "0               6.0              0.88                    18   \n",
       "1               7.0              0.66                    19   \n",
       "2               8.0              0.89                    20   \n",
       "3               6.0              0.51                    23   \n",
       "4               8.0              0.76                    27   \n",
       "..              ...               ...                   ...   \n",
       "445             7.5              0.53                    28   \n",
       "447             7.5              0.91                    22   \n",
       "448             6.0              0.74                    28   \n",
       "450             7.0              0.76                    18   \n",
       "451             7.5              0.63                    22   \n",
       "\n",
       "     Deep sleep percentage  Light sleep percentage  Awakenings  \\\n",
       "0                       70                      12         0.0   \n",
       "1                       28                      53         3.0   \n",
       "2                       70                      10         1.0   \n",
       "3                       25                      52         3.0   \n",
       "4                       55                      18         3.0   \n",
       "..                     ...                     ...         ...   \n",
       "445                     20                      52         4.0   \n",
       "447                     57                      21         0.0   \n",
       "448                     57                      15         4.0   \n",
       "450                     72                      10         3.0   \n",
       "451                     23                      55         1.0   \n",
       "\n",
       "     Caffeine consumption  Alcohol consumption Smoking status  \\\n",
       "0                     0.0                  0.0            Yes   \n",
       "1                     0.0                  3.0            Yes   \n",
       "2                     0.0                  0.0             No   \n",
       "3                    50.0                  5.0            Yes   \n",
       "4                     0.0                  3.0             No   \n",
       "..                    ...                  ...            ...   \n",
       "445                  50.0                  2.0            Yes   \n",
       "447                   0.0                  0.0             No   \n",
       "448                  25.0                  0.0             No   \n",
       "450                   0.0                  0.0             No   \n",
       "451                  50.0                  0.0             No   \n",
       "\n",
       "     Exercise frequency  \n",
       "0                   3.0  \n",
       "1                   3.0  \n",
       "2                   3.0  \n",
       "3                   1.0  \n",
       "4                   3.0  \n",
       "..                  ...  \n",
       "445                 1.0  \n",
       "447                 5.0  \n",
       "448                 3.0  \n",
       "450                 3.0  \n",
       "451                 1.0  \n",
       "\n",
       "[388 rows x 15 columns]"
      ]
     },
     "execution_count": 41,
     "metadata": {},
     "output_type": "execute_result"
    }
   ],
   "source": [
    "df.dropna()"
   ]
  },
  {
   "cell_type": "code",
   "execution_count": 43,
   "id": "b81abd0a-2ee7-4762-b28e-4fa7c24fc92e",
   "metadata": {},
   "outputs": [],
   "source": [
    "df.dropna(inplace=True)"
   ]
  },
  {
   "cell_type": "code",
   "execution_count": 44,
   "id": "173a7077-c54b-4c0b-9a5d-6365f42be008",
   "metadata": {},
   "outputs": [
    {
     "data": {
      "text/html": [
       "<div>\n",
       "<style scoped>\n",
       "    .dataframe tbody tr th:only-of-type {\n",
       "        vertical-align: middle;\n",
       "    }\n",
       "\n",
       "    .dataframe tbody tr th {\n",
       "        vertical-align: top;\n",
       "    }\n",
       "\n",
       "    .dataframe thead th {\n",
       "        text-align: right;\n",
       "    }\n",
       "</style>\n",
       "<table border=\"1\" class=\"dataframe\">\n",
       "  <thead>\n",
       "    <tr style=\"text-align: right;\">\n",
       "      <th></th>\n",
       "      <th>ID</th>\n",
       "      <th>Age</th>\n",
       "      <th>Gender</th>\n",
       "      <th>Bedtime</th>\n",
       "      <th>Wakeup time</th>\n",
       "      <th>Sleep duration</th>\n",
       "      <th>Sleep efficiency</th>\n",
       "      <th>REM sleep percentage</th>\n",
       "      <th>Deep sleep percentage</th>\n",
       "      <th>Light sleep percentage</th>\n",
       "      <th>Awakenings</th>\n",
       "      <th>Caffeine consumption</th>\n",
       "      <th>Alcohol consumption</th>\n",
       "      <th>Smoking status</th>\n",
       "      <th>Exercise frequency</th>\n",
       "    </tr>\n",
       "  </thead>\n",
       "  <tbody>\n",
       "    <tr>\n",
       "      <th>0</th>\n",
       "      <td>1</td>\n",
       "      <td>65</td>\n",
       "      <td>Female</td>\n",
       "      <td>2021-03-06 01:00:00</td>\n",
       "      <td>2021-03-06 07:00:00</td>\n",
       "      <td>6.0</td>\n",
       "      <td>0.88</td>\n",
       "      <td>18</td>\n",
       "      <td>70</td>\n",
       "      <td>12</td>\n",
       "      <td>0.0</td>\n",
       "      <td>0.0</td>\n",
       "      <td>0.0</td>\n",
       "      <td>Yes</td>\n",
       "      <td>3.0</td>\n",
       "    </tr>\n",
       "    <tr>\n",
       "      <th>1</th>\n",
       "      <td>2</td>\n",
       "      <td>69</td>\n",
       "      <td>Male</td>\n",
       "      <td>2021-12-05 02:00:00</td>\n",
       "      <td>2021-12-05 09:00:00</td>\n",
       "      <td>7.0</td>\n",
       "      <td>0.66</td>\n",
       "      <td>19</td>\n",
       "      <td>28</td>\n",
       "      <td>53</td>\n",
       "      <td>3.0</td>\n",
       "      <td>0.0</td>\n",
       "      <td>3.0</td>\n",
       "      <td>Yes</td>\n",
       "      <td>3.0</td>\n",
       "    </tr>\n",
       "    <tr>\n",
       "      <th>2</th>\n",
       "      <td>3</td>\n",
       "      <td>40</td>\n",
       "      <td>Female</td>\n",
       "      <td>2021-05-25 21:30:00</td>\n",
       "      <td>2021-05-25 05:30:00</td>\n",
       "      <td>8.0</td>\n",
       "      <td>0.89</td>\n",
       "      <td>20</td>\n",
       "      <td>70</td>\n",
       "      <td>10</td>\n",
       "      <td>1.0</td>\n",
       "      <td>0.0</td>\n",
       "      <td>0.0</td>\n",
       "      <td>No</td>\n",
       "      <td>3.0</td>\n",
       "    </tr>\n",
       "    <tr>\n",
       "      <th>3</th>\n",
       "      <td>4</td>\n",
       "      <td>40</td>\n",
       "      <td>Female</td>\n",
       "      <td>2021-11-03 02:30:00</td>\n",
       "      <td>2021-11-03 08:30:00</td>\n",
       "      <td>6.0</td>\n",
       "      <td>0.51</td>\n",
       "      <td>23</td>\n",
       "      <td>25</td>\n",
       "      <td>52</td>\n",
       "      <td>3.0</td>\n",
       "      <td>50.0</td>\n",
       "      <td>5.0</td>\n",
       "      <td>Yes</td>\n",
       "      <td>1.0</td>\n",
       "    </tr>\n",
       "    <tr>\n",
       "      <th>4</th>\n",
       "      <td>5</td>\n",
       "      <td>57</td>\n",
       "      <td>Male</td>\n",
       "      <td>2021-03-13 01:00:00</td>\n",
       "      <td>2021-03-13 09:00:00</td>\n",
       "      <td>8.0</td>\n",
       "      <td>0.76</td>\n",
       "      <td>27</td>\n",
       "      <td>55</td>\n",
       "      <td>18</td>\n",
       "      <td>3.0</td>\n",
       "      <td>0.0</td>\n",
       "      <td>3.0</td>\n",
       "      <td>No</td>\n",
       "      <td>3.0</td>\n",
       "    </tr>\n",
       "    <tr>\n",
       "      <th>...</th>\n",
       "      <td>...</td>\n",
       "      <td>...</td>\n",
       "      <td>...</td>\n",
       "      <td>...</td>\n",
       "      <td>...</td>\n",
       "      <td>...</td>\n",
       "      <td>...</td>\n",
       "      <td>...</td>\n",
       "      <td>...</td>\n",
       "      <td>...</td>\n",
       "      <td>...</td>\n",
       "      <td>...</td>\n",
       "      <td>...</td>\n",
       "      <td>...</td>\n",
       "      <td>...</td>\n",
       "    </tr>\n",
       "    <tr>\n",
       "      <th>445</th>\n",
       "      <td>446</td>\n",
       "      <td>30</td>\n",
       "      <td>Female</td>\n",
       "      <td>2021-11-16 23:00:00</td>\n",
       "      <td>2021-11-16 06:30:00</td>\n",
       "      <td>7.5</td>\n",
       "      <td>0.53</td>\n",
       "      <td>28</td>\n",
       "      <td>20</td>\n",
       "      <td>52</td>\n",
       "      <td>4.0</td>\n",
       "      <td>50.0</td>\n",
       "      <td>2.0</td>\n",
       "      <td>Yes</td>\n",
       "      <td>1.0</td>\n",
       "    </tr>\n",
       "    <tr>\n",
       "      <th>447</th>\n",
       "      <td>448</td>\n",
       "      <td>27</td>\n",
       "      <td>Female</td>\n",
       "      <td>2021-11-13 22:00:00</td>\n",
       "      <td>2021-11-13 05:30:00</td>\n",
       "      <td>7.5</td>\n",
       "      <td>0.91</td>\n",
       "      <td>22</td>\n",
       "      <td>57</td>\n",
       "      <td>21</td>\n",
       "      <td>0.0</td>\n",
       "      <td>0.0</td>\n",
       "      <td>0.0</td>\n",
       "      <td>No</td>\n",
       "      <td>5.0</td>\n",
       "    </tr>\n",
       "    <tr>\n",
       "      <th>448</th>\n",
       "      <td>449</td>\n",
       "      <td>52</td>\n",
       "      <td>Male</td>\n",
       "      <td>2021-03-31 21:00:00</td>\n",
       "      <td>2021-03-31 03:00:00</td>\n",
       "      <td>6.0</td>\n",
       "      <td>0.74</td>\n",
       "      <td>28</td>\n",
       "      <td>57</td>\n",
       "      <td>15</td>\n",
       "      <td>4.0</td>\n",
       "      <td>25.0</td>\n",
       "      <td>0.0</td>\n",
       "      <td>No</td>\n",
       "      <td>3.0</td>\n",
       "    </tr>\n",
       "    <tr>\n",
       "      <th>450</th>\n",
       "      <td>451</td>\n",
       "      <td>45</td>\n",
       "      <td>Male</td>\n",
       "      <td>2021-07-29 21:00:00</td>\n",
       "      <td>2021-07-29 04:00:00</td>\n",
       "      <td>7.0</td>\n",
       "      <td>0.76</td>\n",
       "      <td>18</td>\n",
       "      <td>72</td>\n",
       "      <td>10</td>\n",
       "      <td>3.0</td>\n",
       "      <td>0.0</td>\n",
       "      <td>0.0</td>\n",
       "      <td>No</td>\n",
       "      <td>3.0</td>\n",
       "    </tr>\n",
       "    <tr>\n",
       "      <th>451</th>\n",
       "      <td>452</td>\n",
       "      <td>18</td>\n",
       "      <td>Male</td>\n",
       "      <td>2021-03-17 02:30:00</td>\n",
       "      <td>2021-03-17 10:00:00</td>\n",
       "      <td>7.5</td>\n",
       "      <td>0.63</td>\n",
       "      <td>22</td>\n",
       "      <td>23</td>\n",
       "      <td>55</td>\n",
       "      <td>1.0</td>\n",
       "      <td>50.0</td>\n",
       "      <td>0.0</td>\n",
       "      <td>No</td>\n",
       "      <td>1.0</td>\n",
       "    </tr>\n",
       "  </tbody>\n",
       "</table>\n",
       "<p>388 rows × 15 columns</p>\n",
       "</div>"
      ],
      "text/plain": [
       "      ID  Age  Gender              Bedtime          Wakeup time  \\\n",
       "0      1   65  Female  2021-03-06 01:00:00  2021-03-06 07:00:00   \n",
       "1      2   69    Male  2021-12-05 02:00:00  2021-12-05 09:00:00   \n",
       "2      3   40  Female  2021-05-25 21:30:00  2021-05-25 05:30:00   \n",
       "3      4   40  Female  2021-11-03 02:30:00  2021-11-03 08:30:00   \n",
       "4      5   57    Male  2021-03-13 01:00:00  2021-03-13 09:00:00   \n",
       "..   ...  ...     ...                  ...                  ...   \n",
       "445  446   30  Female  2021-11-16 23:00:00  2021-11-16 06:30:00   \n",
       "447  448   27  Female  2021-11-13 22:00:00  2021-11-13 05:30:00   \n",
       "448  449   52    Male  2021-03-31 21:00:00  2021-03-31 03:00:00   \n",
       "450  451   45    Male  2021-07-29 21:00:00  2021-07-29 04:00:00   \n",
       "451  452   18    Male  2021-03-17 02:30:00  2021-03-17 10:00:00   \n",
       "\n",
       "     Sleep duration  Sleep efficiency  REM sleep percentage  \\\n",
       "0               6.0              0.88                    18   \n",
       "1               7.0              0.66                    19   \n",
       "2               8.0              0.89                    20   \n",
       "3               6.0              0.51                    23   \n",
       "4               8.0              0.76                    27   \n",
       "..              ...               ...                   ...   \n",
       "445             7.5              0.53                    28   \n",
       "447             7.5              0.91                    22   \n",
       "448             6.0              0.74                    28   \n",
       "450             7.0              0.76                    18   \n",
       "451             7.5              0.63                    22   \n",
       "\n",
       "     Deep sleep percentage  Light sleep percentage  Awakenings  \\\n",
       "0                       70                      12         0.0   \n",
       "1                       28                      53         3.0   \n",
       "2                       70                      10         1.0   \n",
       "3                       25                      52         3.0   \n",
       "4                       55                      18         3.0   \n",
       "..                     ...                     ...         ...   \n",
       "445                     20                      52         4.0   \n",
       "447                     57                      21         0.0   \n",
       "448                     57                      15         4.0   \n",
       "450                     72                      10         3.0   \n",
       "451                     23                      55         1.0   \n",
       "\n",
       "     Caffeine consumption  Alcohol consumption Smoking status  \\\n",
       "0                     0.0                  0.0            Yes   \n",
       "1                     0.0                  3.0            Yes   \n",
       "2                     0.0                  0.0             No   \n",
       "3                    50.0                  5.0            Yes   \n",
       "4                     0.0                  3.0             No   \n",
       "..                    ...                  ...            ...   \n",
       "445                  50.0                  2.0            Yes   \n",
       "447                   0.0                  0.0             No   \n",
       "448                  25.0                  0.0             No   \n",
       "450                   0.0                  0.0             No   \n",
       "451                  50.0                  0.0             No   \n",
       "\n",
       "     Exercise frequency  \n",
       "0                   3.0  \n",
       "1                   3.0  \n",
       "2                   3.0  \n",
       "3                   1.0  \n",
       "4                   3.0  \n",
       "..                  ...  \n",
       "445                 1.0  \n",
       "447                 5.0  \n",
       "448                 3.0  \n",
       "450                 3.0  \n",
       "451                 1.0  \n",
       "\n",
       "[388 rows x 15 columns]"
      ]
     },
     "execution_count": 44,
     "metadata": {},
     "output_type": "execute_result"
    }
   ],
   "source": [
    "df"
   ]
  },
  {
   "cell_type": "code",
   "execution_count": 45,
   "id": "73bb98a5-5ff8-4fc6-afac-3b98ff2e92af",
   "metadata": {},
   "outputs": [
    {
     "data": {
      "text/html": [
       "<div>\n",
       "<style scoped>\n",
       "    .dataframe tbody tr th:only-of-type {\n",
       "        vertical-align: middle;\n",
       "    }\n",
       "\n",
       "    .dataframe tbody tr th {\n",
       "        vertical-align: top;\n",
       "    }\n",
       "\n",
       "    .dataframe thead th {\n",
       "        text-align: right;\n",
       "    }\n",
       "</style>\n",
       "<table border=\"1\" class=\"dataframe\">\n",
       "  <thead>\n",
       "    <tr style=\"text-align: right;\">\n",
       "      <th></th>\n",
       "      <th>ID</th>\n",
       "      <th>Age</th>\n",
       "      <th>Gender</th>\n",
       "      <th>Bedtime</th>\n",
       "      <th>Wakeup time</th>\n",
       "      <th>Sleep duration</th>\n",
       "      <th>Sleep efficiency</th>\n",
       "      <th>REM sleep percentage</th>\n",
       "      <th>Deep sleep percentage</th>\n",
       "      <th>Light sleep percentage</th>\n",
       "      <th>Awakenings</th>\n",
       "      <th>Caffeine consumption</th>\n",
       "      <th>Alcohol consumption</th>\n",
       "      <th>Smoking status</th>\n",
       "      <th>Exercise frequency</th>\n",
       "    </tr>\n",
       "  </thead>\n",
       "  <tbody>\n",
       "    <tr>\n",
       "      <th>0</th>\n",
       "      <td>1</td>\n",
       "      <td>65</td>\n",
       "      <td>Female</td>\n",
       "      <td>2021-03-06 01:00:00</td>\n",
       "      <td>2021-03-06 07:00:00</td>\n",
       "      <td>6.0</td>\n",
       "      <td>0.88</td>\n",
       "      <td>18</td>\n",
       "      <td>70</td>\n",
       "      <td>12</td>\n",
       "      <td>0.0</td>\n",
       "      <td>0.0</td>\n",
       "      <td>0.0</td>\n",
       "      <td>Yes</td>\n",
       "      <td>3.0</td>\n",
       "    </tr>\n",
       "    <tr>\n",
       "      <th>1</th>\n",
       "      <td>2</td>\n",
       "      <td>69</td>\n",
       "      <td>Male</td>\n",
       "      <td>2021-12-05 02:00:00</td>\n",
       "      <td>2021-12-05 09:00:00</td>\n",
       "      <td>7.0</td>\n",
       "      <td>0.66</td>\n",
       "      <td>19</td>\n",
       "      <td>28</td>\n",
       "      <td>53</td>\n",
       "      <td>3.0</td>\n",
       "      <td>0.0</td>\n",
       "      <td>3.0</td>\n",
       "      <td>Yes</td>\n",
       "      <td>3.0</td>\n",
       "    </tr>\n",
       "    <tr>\n",
       "      <th>2</th>\n",
       "      <td>3</td>\n",
       "      <td>40</td>\n",
       "      <td>Female</td>\n",
       "      <td>2021-05-25 21:30:00</td>\n",
       "      <td>2021-05-25 05:30:00</td>\n",
       "      <td>8.0</td>\n",
       "      <td>0.89</td>\n",
       "      <td>20</td>\n",
       "      <td>70</td>\n",
       "      <td>10</td>\n",
       "      <td>1.0</td>\n",
       "      <td>0.0</td>\n",
       "      <td>0.0</td>\n",
       "      <td>No</td>\n",
       "      <td>3.0</td>\n",
       "    </tr>\n",
       "    <tr>\n",
       "      <th>3</th>\n",
       "      <td>4</td>\n",
       "      <td>40</td>\n",
       "      <td>Female</td>\n",
       "      <td>2021-11-03 02:30:00</td>\n",
       "      <td>2021-11-03 08:30:00</td>\n",
       "      <td>6.0</td>\n",
       "      <td>0.51</td>\n",
       "      <td>23</td>\n",
       "      <td>25</td>\n",
       "      <td>52</td>\n",
       "      <td>3.0</td>\n",
       "      <td>50.0</td>\n",
       "      <td>5.0</td>\n",
       "      <td>Yes</td>\n",
       "      <td>1.0</td>\n",
       "    </tr>\n",
       "    <tr>\n",
       "      <th>4</th>\n",
       "      <td>5</td>\n",
       "      <td>57</td>\n",
       "      <td>Male</td>\n",
       "      <td>2021-03-13 01:00:00</td>\n",
       "      <td>2021-03-13 09:00:00</td>\n",
       "      <td>8.0</td>\n",
       "      <td>0.76</td>\n",
       "      <td>27</td>\n",
       "      <td>55</td>\n",
       "      <td>18</td>\n",
       "      <td>3.0</td>\n",
       "      <td>0.0</td>\n",
       "      <td>3.0</td>\n",
       "      <td>No</td>\n",
       "      <td>3.0</td>\n",
       "    </tr>\n",
       "    <tr>\n",
       "      <th>...</th>\n",
       "      <td>...</td>\n",
       "      <td>...</td>\n",
       "      <td>...</td>\n",
       "      <td>...</td>\n",
       "      <td>...</td>\n",
       "      <td>...</td>\n",
       "      <td>...</td>\n",
       "      <td>...</td>\n",
       "      <td>...</td>\n",
       "      <td>...</td>\n",
       "      <td>...</td>\n",
       "      <td>...</td>\n",
       "      <td>...</td>\n",
       "      <td>...</td>\n",
       "      <td>...</td>\n",
       "    </tr>\n",
       "    <tr>\n",
       "      <th>447</th>\n",
       "      <td>448</td>\n",
       "      <td>27</td>\n",
       "      <td>Female</td>\n",
       "      <td>2021-11-13 22:00:00</td>\n",
       "      <td>2021-11-13 05:30:00</td>\n",
       "      <td>7.5</td>\n",
       "      <td>0.91</td>\n",
       "      <td>22</td>\n",
       "      <td>57</td>\n",
       "      <td>21</td>\n",
       "      <td>0.0</td>\n",
       "      <td>0.0</td>\n",
       "      <td>0.0</td>\n",
       "      <td>No</td>\n",
       "      <td>5.0</td>\n",
       "    </tr>\n",
       "    <tr>\n",
       "      <th>448</th>\n",
       "      <td>449</td>\n",
       "      <td>52</td>\n",
       "      <td>Male</td>\n",
       "      <td>2021-03-31 21:00:00</td>\n",
       "      <td>2021-03-31 03:00:00</td>\n",
       "      <td>6.0</td>\n",
       "      <td>0.74</td>\n",
       "      <td>28</td>\n",
       "      <td>57</td>\n",
       "      <td>15</td>\n",
       "      <td>4.0</td>\n",
       "      <td>25.0</td>\n",
       "      <td>0.0</td>\n",
       "      <td>No</td>\n",
       "      <td>3.0</td>\n",
       "    </tr>\n",
       "    <tr>\n",
       "      <th>449</th>\n",
       "      <td>450</td>\n",
       "      <td>40</td>\n",
       "      <td>Female</td>\n",
       "      <td>2021-09-07 23:00:00</td>\n",
       "      <td>2021-09-07 07:30:00</td>\n",
       "      <td>8.5</td>\n",
       "      <td>0.55</td>\n",
       "      <td>20</td>\n",
       "      <td>32</td>\n",
       "      <td>48</td>\n",
       "      <td>1.0</td>\n",
       "      <td>NaN</td>\n",
       "      <td>3.0</td>\n",
       "      <td>Yes</td>\n",
       "      <td>0.0</td>\n",
       "    </tr>\n",
       "    <tr>\n",
       "      <th>450</th>\n",
       "      <td>451</td>\n",
       "      <td>45</td>\n",
       "      <td>Male</td>\n",
       "      <td>2021-07-29 21:00:00</td>\n",
       "      <td>2021-07-29 04:00:00</td>\n",
       "      <td>7.0</td>\n",
       "      <td>0.76</td>\n",
       "      <td>18</td>\n",
       "      <td>72</td>\n",
       "      <td>10</td>\n",
       "      <td>3.0</td>\n",
       "      <td>0.0</td>\n",
       "      <td>0.0</td>\n",
       "      <td>No</td>\n",
       "      <td>3.0</td>\n",
       "    </tr>\n",
       "    <tr>\n",
       "      <th>451</th>\n",
       "      <td>452</td>\n",
       "      <td>18</td>\n",
       "      <td>Male</td>\n",
       "      <td>2021-03-17 02:30:00</td>\n",
       "      <td>2021-03-17 10:00:00</td>\n",
       "      <td>7.5</td>\n",
       "      <td>0.63</td>\n",
       "      <td>22</td>\n",
       "      <td>23</td>\n",
       "      <td>55</td>\n",
       "      <td>1.0</td>\n",
       "      <td>50.0</td>\n",
       "      <td>0.0</td>\n",
       "      <td>No</td>\n",
       "      <td>1.0</td>\n",
       "    </tr>\n",
       "  </tbody>\n",
       "</table>\n",
       "<p>452 rows × 15 columns</p>\n",
       "</div>"
      ],
      "text/plain": [
       "      ID  Age  Gender              Bedtime          Wakeup time  \\\n",
       "0      1   65  Female  2021-03-06 01:00:00  2021-03-06 07:00:00   \n",
       "1      2   69    Male  2021-12-05 02:00:00  2021-12-05 09:00:00   \n",
       "2      3   40  Female  2021-05-25 21:30:00  2021-05-25 05:30:00   \n",
       "3      4   40  Female  2021-11-03 02:30:00  2021-11-03 08:30:00   \n",
       "4      5   57    Male  2021-03-13 01:00:00  2021-03-13 09:00:00   \n",
       "..   ...  ...     ...                  ...                  ...   \n",
       "447  448   27  Female  2021-11-13 22:00:00  2021-11-13 05:30:00   \n",
       "448  449   52    Male  2021-03-31 21:00:00  2021-03-31 03:00:00   \n",
       "449  450   40  Female  2021-09-07 23:00:00  2021-09-07 07:30:00   \n",
       "450  451   45    Male  2021-07-29 21:00:00  2021-07-29 04:00:00   \n",
       "451  452   18    Male  2021-03-17 02:30:00  2021-03-17 10:00:00   \n",
       "\n",
       "     Sleep duration  Sleep efficiency  REM sleep percentage  \\\n",
       "0               6.0              0.88                    18   \n",
       "1               7.0              0.66                    19   \n",
       "2               8.0              0.89                    20   \n",
       "3               6.0              0.51                    23   \n",
       "4               8.0              0.76                    27   \n",
       "..              ...               ...                   ...   \n",
       "447             7.5              0.91                    22   \n",
       "448             6.0              0.74                    28   \n",
       "449             8.5              0.55                    20   \n",
       "450             7.0              0.76                    18   \n",
       "451             7.5              0.63                    22   \n",
       "\n",
       "     Deep sleep percentage  Light sleep percentage  Awakenings  \\\n",
       "0                       70                      12         0.0   \n",
       "1                       28                      53         3.0   \n",
       "2                       70                      10         1.0   \n",
       "3                       25                      52         3.0   \n",
       "4                       55                      18         3.0   \n",
       "..                     ...                     ...         ...   \n",
       "447                     57                      21         0.0   \n",
       "448                     57                      15         4.0   \n",
       "449                     32                      48         1.0   \n",
       "450                     72                      10         3.0   \n",
       "451                     23                      55         1.0   \n",
       "\n",
       "     Caffeine consumption  Alcohol consumption Smoking status  \\\n",
       "0                     0.0                  0.0            Yes   \n",
       "1                     0.0                  3.0            Yes   \n",
       "2                     0.0                  0.0             No   \n",
       "3                    50.0                  5.0            Yes   \n",
       "4                     0.0                  3.0             No   \n",
       "..                    ...                  ...            ...   \n",
       "447                   0.0                  0.0             No   \n",
       "448                  25.0                  0.0             No   \n",
       "449                   NaN                  3.0            Yes   \n",
       "450                   0.0                  0.0             No   \n",
       "451                  50.0                  0.0             No   \n",
       "\n",
       "     Exercise frequency  \n",
       "0                   3.0  \n",
       "1                   3.0  \n",
       "2                   3.0  \n",
       "3                   1.0  \n",
       "4                   3.0  \n",
       "..                  ...  \n",
       "447                 5.0  \n",
       "448                 3.0  \n",
       "449                 0.0  \n",
       "450                 3.0  \n",
       "451                 1.0  \n",
       "\n",
       "[452 rows x 15 columns]"
      ]
     },
     "execution_count": 45,
     "metadata": {},
     "output_type": "execute_result"
    }
   ],
   "source": [
    "d"
   ]
  },
  {
   "cell_type": "code",
   "execution_count": 46,
   "id": "d513ee40-3bb2-4dc8-8328-4a188e5d9eb2",
   "metadata": {},
   "outputs": [
    {
     "data": {
      "text/html": [
       "<div>\n",
       "<style scoped>\n",
       "    .dataframe tbody tr th:only-of-type {\n",
       "        vertical-align: middle;\n",
       "    }\n",
       "\n",
       "    .dataframe tbody tr th {\n",
       "        vertical-align: top;\n",
       "    }\n",
       "\n",
       "    .dataframe thead th {\n",
       "        text-align: right;\n",
       "    }\n",
       "</style>\n",
       "<table border=\"1\" class=\"dataframe\">\n",
       "  <thead>\n",
       "    <tr style=\"text-align: right;\">\n",
       "      <th></th>\n",
       "      <th>ID</th>\n",
       "      <th>Age</th>\n",
       "      <th>Gender</th>\n",
       "      <th>Bedtime</th>\n",
       "      <th>Wakeup time</th>\n",
       "      <th>Sleep duration</th>\n",
       "      <th>Sleep efficiency</th>\n",
       "      <th>REM sleep percentage</th>\n",
       "      <th>Deep sleep percentage</th>\n",
       "      <th>Light sleep percentage</th>\n",
       "      <th>Awakenings</th>\n",
       "      <th>Caffeine consumption</th>\n",
       "      <th>Alcohol consumption</th>\n",
       "      <th>Smoking status</th>\n",
       "      <th>Exercise frequency</th>\n",
       "    </tr>\n",
       "  </thead>\n",
       "  <tbody>\n",
       "    <tr>\n",
       "      <th>0</th>\n",
       "      <td>1</td>\n",
       "      <td>65</td>\n",
       "      <td>Female</td>\n",
       "      <td>2021-03-06 01:00:00</td>\n",
       "      <td>2021-03-06 07:00:00</td>\n",
       "      <td>6.0</td>\n",
       "      <td>0.88</td>\n",
       "      <td>18</td>\n",
       "      <td>70</td>\n",
       "      <td>12</td>\n",
       "      <td>0.0</td>\n",
       "      <td>0.0</td>\n",
       "      <td>0.0</td>\n",
       "      <td>Yes</td>\n",
       "      <td>3.0</td>\n",
       "    </tr>\n",
       "    <tr>\n",
       "      <th>1</th>\n",
       "      <td>2</td>\n",
       "      <td>69</td>\n",
       "      <td>Male</td>\n",
       "      <td>2021-12-05 02:00:00</td>\n",
       "      <td>2021-12-05 09:00:00</td>\n",
       "      <td>7.0</td>\n",
       "      <td>0.66</td>\n",
       "      <td>19</td>\n",
       "      <td>28</td>\n",
       "      <td>53</td>\n",
       "      <td>3.0</td>\n",
       "      <td>0.0</td>\n",
       "      <td>3.0</td>\n",
       "      <td>Yes</td>\n",
       "      <td>3.0</td>\n",
       "    </tr>\n",
       "    <tr>\n",
       "      <th>2</th>\n",
       "      <td>3</td>\n",
       "      <td>40</td>\n",
       "      <td>Female</td>\n",
       "      <td>2021-05-25 21:30:00</td>\n",
       "      <td>2021-05-25 05:30:00</td>\n",
       "      <td>8.0</td>\n",
       "      <td>0.89</td>\n",
       "      <td>20</td>\n",
       "      <td>70</td>\n",
       "      <td>10</td>\n",
       "      <td>1.0</td>\n",
       "      <td>0.0</td>\n",
       "      <td>0.0</td>\n",
       "      <td>No</td>\n",
       "      <td>3.0</td>\n",
       "    </tr>\n",
       "    <tr>\n",
       "      <th>3</th>\n",
       "      <td>4</td>\n",
       "      <td>40</td>\n",
       "      <td>Female</td>\n",
       "      <td>2021-11-03 02:30:00</td>\n",
       "      <td>2021-11-03 08:30:00</td>\n",
       "      <td>6.0</td>\n",
       "      <td>0.51</td>\n",
       "      <td>23</td>\n",
       "      <td>25</td>\n",
       "      <td>52</td>\n",
       "      <td>3.0</td>\n",
       "      <td>50.0</td>\n",
       "      <td>5.0</td>\n",
       "      <td>Yes</td>\n",
       "      <td>1.0</td>\n",
       "    </tr>\n",
       "    <tr>\n",
       "      <th>4</th>\n",
       "      <td>5</td>\n",
       "      <td>57</td>\n",
       "      <td>Male</td>\n",
       "      <td>2021-03-13 01:00:00</td>\n",
       "      <td>2021-03-13 09:00:00</td>\n",
       "      <td>8.0</td>\n",
       "      <td>0.76</td>\n",
       "      <td>27</td>\n",
       "      <td>55</td>\n",
       "      <td>18</td>\n",
       "      <td>3.0</td>\n",
       "      <td>0.0</td>\n",
       "      <td>3.0</td>\n",
       "      <td>No</td>\n",
       "      <td>3.0</td>\n",
       "    </tr>\n",
       "    <tr>\n",
       "      <th>...</th>\n",
       "      <td>...</td>\n",
       "      <td>...</td>\n",
       "      <td>...</td>\n",
       "      <td>...</td>\n",
       "      <td>...</td>\n",
       "      <td>...</td>\n",
       "      <td>...</td>\n",
       "      <td>...</td>\n",
       "      <td>...</td>\n",
       "      <td>...</td>\n",
       "      <td>...</td>\n",
       "      <td>...</td>\n",
       "      <td>...</td>\n",
       "      <td>...</td>\n",
       "      <td>...</td>\n",
       "    </tr>\n",
       "    <tr>\n",
       "      <th>445</th>\n",
       "      <td>446</td>\n",
       "      <td>30</td>\n",
       "      <td>Female</td>\n",
       "      <td>2021-11-16 23:00:00</td>\n",
       "      <td>2021-11-16 06:30:00</td>\n",
       "      <td>7.5</td>\n",
       "      <td>0.53</td>\n",
       "      <td>28</td>\n",
       "      <td>20</td>\n",
       "      <td>52</td>\n",
       "      <td>4.0</td>\n",
       "      <td>50.0</td>\n",
       "      <td>2.0</td>\n",
       "      <td>Yes</td>\n",
       "      <td>1.0</td>\n",
       "    </tr>\n",
       "    <tr>\n",
       "      <th>447</th>\n",
       "      <td>448</td>\n",
       "      <td>27</td>\n",
       "      <td>Female</td>\n",
       "      <td>2021-11-13 22:00:00</td>\n",
       "      <td>2021-11-13 05:30:00</td>\n",
       "      <td>7.5</td>\n",
       "      <td>0.91</td>\n",
       "      <td>22</td>\n",
       "      <td>57</td>\n",
       "      <td>21</td>\n",
       "      <td>0.0</td>\n",
       "      <td>0.0</td>\n",
       "      <td>0.0</td>\n",
       "      <td>No</td>\n",
       "      <td>5.0</td>\n",
       "    </tr>\n",
       "    <tr>\n",
       "      <th>448</th>\n",
       "      <td>449</td>\n",
       "      <td>52</td>\n",
       "      <td>Male</td>\n",
       "      <td>2021-03-31 21:00:00</td>\n",
       "      <td>2021-03-31 03:00:00</td>\n",
       "      <td>6.0</td>\n",
       "      <td>0.74</td>\n",
       "      <td>28</td>\n",
       "      <td>57</td>\n",
       "      <td>15</td>\n",
       "      <td>4.0</td>\n",
       "      <td>25.0</td>\n",
       "      <td>0.0</td>\n",
       "      <td>No</td>\n",
       "      <td>3.0</td>\n",
       "    </tr>\n",
       "    <tr>\n",
       "      <th>450</th>\n",
       "      <td>451</td>\n",
       "      <td>45</td>\n",
       "      <td>Male</td>\n",
       "      <td>2021-07-29 21:00:00</td>\n",
       "      <td>2021-07-29 04:00:00</td>\n",
       "      <td>7.0</td>\n",
       "      <td>0.76</td>\n",
       "      <td>18</td>\n",
       "      <td>72</td>\n",
       "      <td>10</td>\n",
       "      <td>3.0</td>\n",
       "      <td>0.0</td>\n",
       "      <td>0.0</td>\n",
       "      <td>No</td>\n",
       "      <td>3.0</td>\n",
       "    </tr>\n",
       "    <tr>\n",
       "      <th>451</th>\n",
       "      <td>452</td>\n",
       "      <td>18</td>\n",
       "      <td>Male</td>\n",
       "      <td>2021-03-17 02:30:00</td>\n",
       "      <td>2021-03-17 10:00:00</td>\n",
       "      <td>7.5</td>\n",
       "      <td>0.63</td>\n",
       "      <td>22</td>\n",
       "      <td>23</td>\n",
       "      <td>55</td>\n",
       "      <td>1.0</td>\n",
       "      <td>50.0</td>\n",
       "      <td>0.0</td>\n",
       "      <td>No</td>\n",
       "      <td>1.0</td>\n",
       "    </tr>\n",
       "  </tbody>\n",
       "</table>\n",
       "<p>388 rows × 15 columns</p>\n",
       "</div>"
      ],
      "text/plain": [
       "      ID  Age  Gender              Bedtime          Wakeup time  \\\n",
       "0      1   65  Female  2021-03-06 01:00:00  2021-03-06 07:00:00   \n",
       "1      2   69    Male  2021-12-05 02:00:00  2021-12-05 09:00:00   \n",
       "2      3   40  Female  2021-05-25 21:30:00  2021-05-25 05:30:00   \n",
       "3      4   40  Female  2021-11-03 02:30:00  2021-11-03 08:30:00   \n",
       "4      5   57    Male  2021-03-13 01:00:00  2021-03-13 09:00:00   \n",
       "..   ...  ...     ...                  ...                  ...   \n",
       "445  446   30  Female  2021-11-16 23:00:00  2021-11-16 06:30:00   \n",
       "447  448   27  Female  2021-11-13 22:00:00  2021-11-13 05:30:00   \n",
       "448  449   52    Male  2021-03-31 21:00:00  2021-03-31 03:00:00   \n",
       "450  451   45    Male  2021-07-29 21:00:00  2021-07-29 04:00:00   \n",
       "451  452   18    Male  2021-03-17 02:30:00  2021-03-17 10:00:00   \n",
       "\n",
       "     Sleep duration  Sleep efficiency  REM sleep percentage  \\\n",
       "0               6.0              0.88                    18   \n",
       "1               7.0              0.66                    19   \n",
       "2               8.0              0.89                    20   \n",
       "3               6.0              0.51                    23   \n",
       "4               8.0              0.76                    27   \n",
       "..              ...               ...                   ...   \n",
       "445             7.5              0.53                    28   \n",
       "447             7.5              0.91                    22   \n",
       "448             6.0              0.74                    28   \n",
       "450             7.0              0.76                    18   \n",
       "451             7.5              0.63                    22   \n",
       "\n",
       "     Deep sleep percentage  Light sleep percentage  Awakenings  \\\n",
       "0                       70                      12         0.0   \n",
       "1                       28                      53         3.0   \n",
       "2                       70                      10         1.0   \n",
       "3                       25                      52         3.0   \n",
       "4                       55                      18         3.0   \n",
       "..                     ...                     ...         ...   \n",
       "445                     20                      52         4.0   \n",
       "447                     57                      21         0.0   \n",
       "448                     57                      15         4.0   \n",
       "450                     72                      10         3.0   \n",
       "451                     23                      55         1.0   \n",
       "\n",
       "     Caffeine consumption  Alcohol consumption Smoking status  \\\n",
       "0                     0.0                  0.0            Yes   \n",
       "1                     0.0                  3.0            Yes   \n",
       "2                     0.0                  0.0             No   \n",
       "3                    50.0                  5.0            Yes   \n",
       "4                     0.0                  3.0             No   \n",
       "..                    ...                  ...            ...   \n",
       "445                  50.0                  2.0            Yes   \n",
       "447                   0.0                  0.0             No   \n",
       "448                  25.0                  0.0             No   \n",
       "450                   0.0                  0.0             No   \n",
       "451                  50.0                  0.0             No   \n",
       "\n",
       "     Exercise frequency  \n",
       "0                   3.0  \n",
       "1                   3.0  \n",
       "2                   3.0  \n",
       "3                   1.0  \n",
       "4                   3.0  \n",
       "..                  ...  \n",
       "445                 1.0  \n",
       "447                 5.0  \n",
       "448                 3.0  \n",
       "450                 3.0  \n",
       "451                 1.0  \n",
       "\n",
       "[388 rows x 15 columns]"
      ]
     },
     "execution_count": 46,
     "metadata": {},
     "output_type": "execute_result"
    }
   ],
   "source": [
    "df"
   ]
  },
  {
   "cell_type": "code",
   "execution_count": 47,
   "id": "74dd692a-495f-4246-ad89-74a49d2ea6bc",
   "metadata": {},
   "outputs": [],
   "source": [
    "df.drop_duplicates(inplace=True)"
   ]
  },
  {
   "cell_type": "code",
   "execution_count": 48,
   "id": "01f37cf9-9d80-470c-a6e2-7bd6a1716513",
   "metadata": {},
   "outputs": [
    {
     "data": {
      "text/html": [
       "<div>\n",
       "<style scoped>\n",
       "    .dataframe tbody tr th:only-of-type {\n",
       "        vertical-align: middle;\n",
       "    }\n",
       "\n",
       "    .dataframe tbody tr th {\n",
       "        vertical-align: top;\n",
       "    }\n",
       "\n",
       "    .dataframe thead th {\n",
       "        text-align: right;\n",
       "    }\n",
       "</style>\n",
       "<table border=\"1\" class=\"dataframe\">\n",
       "  <thead>\n",
       "    <tr style=\"text-align: right;\">\n",
       "      <th></th>\n",
       "      <th>ID</th>\n",
       "      <th>Age</th>\n",
       "      <th>Gender</th>\n",
       "      <th>Bedtime</th>\n",
       "      <th>Wakeup time</th>\n",
       "      <th>Sleep duration</th>\n",
       "      <th>Sleep efficiency</th>\n",
       "      <th>REM sleep percentage</th>\n",
       "      <th>Deep sleep percentage</th>\n",
       "      <th>Light sleep percentage</th>\n",
       "      <th>Awakenings</th>\n",
       "      <th>Caffeine consumption</th>\n",
       "      <th>Alcohol consumption</th>\n",
       "      <th>Smoking status</th>\n",
       "      <th>Exercise frequency</th>\n",
       "    </tr>\n",
       "  </thead>\n",
       "  <tbody>\n",
       "    <tr>\n",
       "      <th>0</th>\n",
       "      <td>1</td>\n",
       "      <td>65</td>\n",
       "      <td>Female</td>\n",
       "      <td>2021-03-06 01:00:00</td>\n",
       "      <td>2021-03-06 07:00:00</td>\n",
       "      <td>6.0</td>\n",
       "      <td>0.88</td>\n",
       "      <td>18</td>\n",
       "      <td>70</td>\n",
       "      <td>12</td>\n",
       "      <td>0.0</td>\n",
       "      <td>0.0</td>\n",
       "      <td>0.0</td>\n",
       "      <td>Yes</td>\n",
       "      <td>3.0</td>\n",
       "    </tr>\n",
       "    <tr>\n",
       "      <th>1</th>\n",
       "      <td>2</td>\n",
       "      <td>69</td>\n",
       "      <td>Male</td>\n",
       "      <td>2021-12-05 02:00:00</td>\n",
       "      <td>2021-12-05 09:00:00</td>\n",
       "      <td>7.0</td>\n",
       "      <td>0.66</td>\n",
       "      <td>19</td>\n",
       "      <td>28</td>\n",
       "      <td>53</td>\n",
       "      <td>3.0</td>\n",
       "      <td>0.0</td>\n",
       "      <td>3.0</td>\n",
       "      <td>Yes</td>\n",
       "      <td>3.0</td>\n",
       "    </tr>\n",
       "    <tr>\n",
       "      <th>2</th>\n",
       "      <td>3</td>\n",
       "      <td>40</td>\n",
       "      <td>Female</td>\n",
       "      <td>2021-05-25 21:30:00</td>\n",
       "      <td>2021-05-25 05:30:00</td>\n",
       "      <td>8.0</td>\n",
       "      <td>0.89</td>\n",
       "      <td>20</td>\n",
       "      <td>70</td>\n",
       "      <td>10</td>\n",
       "      <td>1.0</td>\n",
       "      <td>0.0</td>\n",
       "      <td>0.0</td>\n",
       "      <td>No</td>\n",
       "      <td>3.0</td>\n",
       "    </tr>\n",
       "    <tr>\n",
       "      <th>3</th>\n",
       "      <td>4</td>\n",
       "      <td>40</td>\n",
       "      <td>Female</td>\n",
       "      <td>2021-11-03 02:30:00</td>\n",
       "      <td>2021-11-03 08:30:00</td>\n",
       "      <td>6.0</td>\n",
       "      <td>0.51</td>\n",
       "      <td>23</td>\n",
       "      <td>25</td>\n",
       "      <td>52</td>\n",
       "      <td>3.0</td>\n",
       "      <td>50.0</td>\n",
       "      <td>5.0</td>\n",
       "      <td>Yes</td>\n",
       "      <td>1.0</td>\n",
       "    </tr>\n",
       "    <tr>\n",
       "      <th>4</th>\n",
       "      <td>5</td>\n",
       "      <td>57</td>\n",
       "      <td>Male</td>\n",
       "      <td>2021-03-13 01:00:00</td>\n",
       "      <td>2021-03-13 09:00:00</td>\n",
       "      <td>8.0</td>\n",
       "      <td>0.76</td>\n",
       "      <td>27</td>\n",
       "      <td>55</td>\n",
       "      <td>18</td>\n",
       "      <td>3.0</td>\n",
       "      <td>0.0</td>\n",
       "      <td>3.0</td>\n",
       "      <td>No</td>\n",
       "      <td>3.0</td>\n",
       "    </tr>\n",
       "    <tr>\n",
       "      <th>...</th>\n",
       "      <td>...</td>\n",
       "      <td>...</td>\n",
       "      <td>...</td>\n",
       "      <td>...</td>\n",
       "      <td>...</td>\n",
       "      <td>...</td>\n",
       "      <td>...</td>\n",
       "      <td>...</td>\n",
       "      <td>...</td>\n",
       "      <td>...</td>\n",
       "      <td>...</td>\n",
       "      <td>...</td>\n",
       "      <td>...</td>\n",
       "      <td>...</td>\n",
       "      <td>...</td>\n",
       "    </tr>\n",
       "    <tr>\n",
       "      <th>445</th>\n",
       "      <td>446</td>\n",
       "      <td>30</td>\n",
       "      <td>Female</td>\n",
       "      <td>2021-11-16 23:00:00</td>\n",
       "      <td>2021-11-16 06:30:00</td>\n",
       "      <td>7.5</td>\n",
       "      <td>0.53</td>\n",
       "      <td>28</td>\n",
       "      <td>20</td>\n",
       "      <td>52</td>\n",
       "      <td>4.0</td>\n",
       "      <td>50.0</td>\n",
       "      <td>2.0</td>\n",
       "      <td>Yes</td>\n",
       "      <td>1.0</td>\n",
       "    </tr>\n",
       "    <tr>\n",
       "      <th>447</th>\n",
       "      <td>448</td>\n",
       "      <td>27</td>\n",
       "      <td>Female</td>\n",
       "      <td>2021-11-13 22:00:00</td>\n",
       "      <td>2021-11-13 05:30:00</td>\n",
       "      <td>7.5</td>\n",
       "      <td>0.91</td>\n",
       "      <td>22</td>\n",
       "      <td>57</td>\n",
       "      <td>21</td>\n",
       "      <td>0.0</td>\n",
       "      <td>0.0</td>\n",
       "      <td>0.0</td>\n",
       "      <td>No</td>\n",
       "      <td>5.0</td>\n",
       "    </tr>\n",
       "    <tr>\n",
       "      <th>448</th>\n",
       "      <td>449</td>\n",
       "      <td>52</td>\n",
       "      <td>Male</td>\n",
       "      <td>2021-03-31 21:00:00</td>\n",
       "      <td>2021-03-31 03:00:00</td>\n",
       "      <td>6.0</td>\n",
       "      <td>0.74</td>\n",
       "      <td>28</td>\n",
       "      <td>57</td>\n",
       "      <td>15</td>\n",
       "      <td>4.0</td>\n",
       "      <td>25.0</td>\n",
       "      <td>0.0</td>\n",
       "      <td>No</td>\n",
       "      <td>3.0</td>\n",
       "    </tr>\n",
       "    <tr>\n",
       "      <th>450</th>\n",
       "      <td>451</td>\n",
       "      <td>45</td>\n",
       "      <td>Male</td>\n",
       "      <td>2021-07-29 21:00:00</td>\n",
       "      <td>2021-07-29 04:00:00</td>\n",
       "      <td>7.0</td>\n",
       "      <td>0.76</td>\n",
       "      <td>18</td>\n",
       "      <td>72</td>\n",
       "      <td>10</td>\n",
       "      <td>3.0</td>\n",
       "      <td>0.0</td>\n",
       "      <td>0.0</td>\n",
       "      <td>No</td>\n",
       "      <td>3.0</td>\n",
       "    </tr>\n",
       "    <tr>\n",
       "      <th>451</th>\n",
       "      <td>452</td>\n",
       "      <td>18</td>\n",
       "      <td>Male</td>\n",
       "      <td>2021-03-17 02:30:00</td>\n",
       "      <td>2021-03-17 10:00:00</td>\n",
       "      <td>7.5</td>\n",
       "      <td>0.63</td>\n",
       "      <td>22</td>\n",
       "      <td>23</td>\n",
       "      <td>55</td>\n",
       "      <td>1.0</td>\n",
       "      <td>50.0</td>\n",
       "      <td>0.0</td>\n",
       "      <td>No</td>\n",
       "      <td>1.0</td>\n",
       "    </tr>\n",
       "  </tbody>\n",
       "</table>\n",
       "<p>388 rows × 15 columns</p>\n",
       "</div>"
      ],
      "text/plain": [
       "      ID  Age  Gender              Bedtime          Wakeup time  \\\n",
       "0      1   65  Female  2021-03-06 01:00:00  2021-03-06 07:00:00   \n",
       "1      2   69    Male  2021-12-05 02:00:00  2021-12-05 09:00:00   \n",
       "2      3   40  Female  2021-05-25 21:30:00  2021-05-25 05:30:00   \n",
       "3      4   40  Female  2021-11-03 02:30:00  2021-11-03 08:30:00   \n",
       "4      5   57    Male  2021-03-13 01:00:00  2021-03-13 09:00:00   \n",
       "..   ...  ...     ...                  ...                  ...   \n",
       "445  446   30  Female  2021-11-16 23:00:00  2021-11-16 06:30:00   \n",
       "447  448   27  Female  2021-11-13 22:00:00  2021-11-13 05:30:00   \n",
       "448  449   52    Male  2021-03-31 21:00:00  2021-03-31 03:00:00   \n",
       "450  451   45    Male  2021-07-29 21:00:00  2021-07-29 04:00:00   \n",
       "451  452   18    Male  2021-03-17 02:30:00  2021-03-17 10:00:00   \n",
       "\n",
       "     Sleep duration  Sleep efficiency  REM sleep percentage  \\\n",
       "0               6.0              0.88                    18   \n",
       "1               7.0              0.66                    19   \n",
       "2               8.0              0.89                    20   \n",
       "3               6.0              0.51                    23   \n",
       "4               8.0              0.76                    27   \n",
       "..              ...               ...                   ...   \n",
       "445             7.5              0.53                    28   \n",
       "447             7.5              0.91                    22   \n",
       "448             6.0              0.74                    28   \n",
       "450             7.0              0.76                    18   \n",
       "451             7.5              0.63                    22   \n",
       "\n",
       "     Deep sleep percentage  Light sleep percentage  Awakenings  \\\n",
       "0                       70                      12         0.0   \n",
       "1                       28                      53         3.0   \n",
       "2                       70                      10         1.0   \n",
       "3                       25                      52         3.0   \n",
       "4                       55                      18         3.0   \n",
       "..                     ...                     ...         ...   \n",
       "445                     20                      52         4.0   \n",
       "447                     57                      21         0.0   \n",
       "448                     57                      15         4.0   \n",
       "450                     72                      10         3.0   \n",
       "451                     23                      55         1.0   \n",
       "\n",
       "     Caffeine consumption  Alcohol consumption Smoking status  \\\n",
       "0                     0.0                  0.0            Yes   \n",
       "1                     0.0                  3.0            Yes   \n",
       "2                     0.0                  0.0             No   \n",
       "3                    50.0                  5.0            Yes   \n",
       "4                     0.0                  3.0             No   \n",
       "..                    ...                  ...            ...   \n",
       "445                  50.0                  2.0            Yes   \n",
       "447                   0.0                  0.0             No   \n",
       "448                  25.0                  0.0             No   \n",
       "450                   0.0                  0.0             No   \n",
       "451                  50.0                  0.0             No   \n",
       "\n",
       "     Exercise frequency  \n",
       "0                   3.0  \n",
       "1                   3.0  \n",
       "2                   3.0  \n",
       "3                   1.0  \n",
       "4                   3.0  \n",
       "..                  ...  \n",
       "445                 1.0  \n",
       "447                 5.0  \n",
       "448                 3.0  \n",
       "450                 3.0  \n",
       "451                 1.0  \n",
       "\n",
       "[388 rows x 15 columns]"
      ]
     },
     "execution_count": 48,
     "metadata": {},
     "output_type": "execute_result"
    }
   ],
   "source": [
    "df"
   ]
  },
  {
   "cell_type": "code",
   "execution_count": 49,
   "id": "9df38bda-36d2-46df-bfd8-7283dd765a19",
   "metadata": {},
   "outputs": [
    {
     "data": {
      "text/html": [
       "<div>\n",
       "<style scoped>\n",
       "    .dataframe tbody tr th:only-of-type {\n",
       "        vertical-align: middle;\n",
       "    }\n",
       "\n",
       "    .dataframe tbody tr th {\n",
       "        vertical-align: top;\n",
       "    }\n",
       "\n",
       "    .dataframe thead th {\n",
       "        text-align: right;\n",
       "    }\n",
       "</style>\n",
       "<table border=\"1\" class=\"dataframe\">\n",
       "  <thead>\n",
       "    <tr style=\"text-align: right;\">\n",
       "      <th></th>\n",
       "      <th>ID</th>\n",
       "      <th>Age</th>\n",
       "      <th>Gender</th>\n",
       "      <th>Bedtime</th>\n",
       "      <th>Wakeup time</th>\n",
       "      <th>Sleep duration</th>\n",
       "      <th>Sleep efficiency</th>\n",
       "      <th>REM sleep percentage</th>\n",
       "      <th>Deep sleep percentage</th>\n",
       "      <th>Light sleep percentage</th>\n",
       "      <th>Awakenings</th>\n",
       "      <th>Caffeine consumption</th>\n",
       "      <th>Alcohol consumption</th>\n",
       "      <th>Smoking status</th>\n",
       "      <th>Exercise frequency</th>\n",
       "    </tr>\n",
       "  </thead>\n",
       "  <tbody>\n",
       "    <tr>\n",
       "      <th>0</th>\n",
       "      <td>1</td>\n",
       "      <td>65</td>\n",
       "      <td>Female</td>\n",
       "      <td>2021-03-06 01:00:00</td>\n",
       "      <td>2021-03-06 07:00:00</td>\n",
       "      <td>6.0</td>\n",
       "      <td>0.88</td>\n",
       "      <td>18</td>\n",
       "      <td>70</td>\n",
       "      <td>12</td>\n",
       "      <td>0.0</td>\n",
       "      <td>0.0</td>\n",
       "      <td>0.0</td>\n",
       "      <td>Yes</td>\n",
       "      <td>3.0</td>\n",
       "    </tr>\n",
       "    <tr>\n",
       "      <th>1</th>\n",
       "      <td>2</td>\n",
       "      <td>69</td>\n",
       "      <td>Male</td>\n",
       "      <td>2021-12-05 02:00:00</td>\n",
       "      <td>2021-12-05 09:00:00</td>\n",
       "      <td>7.0</td>\n",
       "      <td>0.66</td>\n",
       "      <td>19</td>\n",
       "      <td>28</td>\n",
       "      <td>53</td>\n",
       "      <td>3.0</td>\n",
       "      <td>0.0</td>\n",
       "      <td>3.0</td>\n",
       "      <td>Yes</td>\n",
       "      <td>3.0</td>\n",
       "    </tr>\n",
       "    <tr>\n",
       "      <th>2</th>\n",
       "      <td>3</td>\n",
       "      <td>40</td>\n",
       "      <td>Female</td>\n",
       "      <td>2021-05-25 21:30:00</td>\n",
       "      <td>2021-05-25 05:30:00</td>\n",
       "      <td>8.0</td>\n",
       "      <td>0.89</td>\n",
       "      <td>20</td>\n",
       "      <td>70</td>\n",
       "      <td>10</td>\n",
       "      <td>1.0</td>\n",
       "      <td>0.0</td>\n",
       "      <td>0.0</td>\n",
       "      <td>No</td>\n",
       "      <td>3.0</td>\n",
       "    </tr>\n",
       "    <tr>\n",
       "      <th>3</th>\n",
       "      <td>4</td>\n",
       "      <td>40</td>\n",
       "      <td>Female</td>\n",
       "      <td>2021-11-03 02:30:00</td>\n",
       "      <td>2021-11-03 08:30:00</td>\n",
       "      <td>6.0</td>\n",
       "      <td>0.51</td>\n",
       "      <td>23</td>\n",
       "      <td>25</td>\n",
       "      <td>52</td>\n",
       "      <td>3.0</td>\n",
       "      <td>50.0</td>\n",
       "      <td>5.0</td>\n",
       "      <td>Yes</td>\n",
       "      <td>1.0</td>\n",
       "    </tr>\n",
       "    <tr>\n",
       "      <th>4</th>\n",
       "      <td>5</td>\n",
       "      <td>57</td>\n",
       "      <td>Male</td>\n",
       "      <td>2021-03-13 01:00:00</td>\n",
       "      <td>2021-03-13 09:00:00</td>\n",
       "      <td>8.0</td>\n",
       "      <td>0.76</td>\n",
       "      <td>27</td>\n",
       "      <td>55</td>\n",
       "      <td>18</td>\n",
       "      <td>3.0</td>\n",
       "      <td>0.0</td>\n",
       "      <td>3.0</td>\n",
       "      <td>No</td>\n",
       "      <td>3.0</td>\n",
       "    </tr>\n",
       "    <tr>\n",
       "      <th>...</th>\n",
       "      <td>...</td>\n",
       "      <td>...</td>\n",
       "      <td>...</td>\n",
       "      <td>...</td>\n",
       "      <td>...</td>\n",
       "      <td>...</td>\n",
       "      <td>...</td>\n",
       "      <td>...</td>\n",
       "      <td>...</td>\n",
       "      <td>...</td>\n",
       "      <td>...</td>\n",
       "      <td>...</td>\n",
       "      <td>...</td>\n",
       "      <td>...</td>\n",
       "      <td>...</td>\n",
       "    </tr>\n",
       "    <tr>\n",
       "      <th>447</th>\n",
       "      <td>448</td>\n",
       "      <td>27</td>\n",
       "      <td>Female</td>\n",
       "      <td>2021-11-13 22:00:00</td>\n",
       "      <td>2021-11-13 05:30:00</td>\n",
       "      <td>7.5</td>\n",
       "      <td>0.91</td>\n",
       "      <td>22</td>\n",
       "      <td>57</td>\n",
       "      <td>21</td>\n",
       "      <td>0.0</td>\n",
       "      <td>0.0</td>\n",
       "      <td>0.0</td>\n",
       "      <td>No</td>\n",
       "      <td>5.0</td>\n",
       "    </tr>\n",
       "    <tr>\n",
       "      <th>448</th>\n",
       "      <td>449</td>\n",
       "      <td>52</td>\n",
       "      <td>Male</td>\n",
       "      <td>2021-03-31 21:00:00</td>\n",
       "      <td>2021-03-31 03:00:00</td>\n",
       "      <td>6.0</td>\n",
       "      <td>0.74</td>\n",
       "      <td>28</td>\n",
       "      <td>57</td>\n",
       "      <td>15</td>\n",
       "      <td>4.0</td>\n",
       "      <td>25.0</td>\n",
       "      <td>0.0</td>\n",
       "      <td>No</td>\n",
       "      <td>3.0</td>\n",
       "    </tr>\n",
       "    <tr>\n",
       "      <th>449</th>\n",
       "      <td>450</td>\n",
       "      <td>40</td>\n",
       "      <td>Female</td>\n",
       "      <td>2021-09-07 23:00:00</td>\n",
       "      <td>2021-09-07 07:30:00</td>\n",
       "      <td>8.5</td>\n",
       "      <td>0.55</td>\n",
       "      <td>20</td>\n",
       "      <td>32</td>\n",
       "      <td>48</td>\n",
       "      <td>1.0</td>\n",
       "      <td>NaN</td>\n",
       "      <td>3.0</td>\n",
       "      <td>Yes</td>\n",
       "      <td>0.0</td>\n",
       "    </tr>\n",
       "    <tr>\n",
       "      <th>450</th>\n",
       "      <td>451</td>\n",
       "      <td>45</td>\n",
       "      <td>Male</td>\n",
       "      <td>2021-07-29 21:00:00</td>\n",
       "      <td>2021-07-29 04:00:00</td>\n",
       "      <td>7.0</td>\n",
       "      <td>0.76</td>\n",
       "      <td>18</td>\n",
       "      <td>72</td>\n",
       "      <td>10</td>\n",
       "      <td>3.0</td>\n",
       "      <td>0.0</td>\n",
       "      <td>0.0</td>\n",
       "      <td>No</td>\n",
       "      <td>3.0</td>\n",
       "    </tr>\n",
       "    <tr>\n",
       "      <th>451</th>\n",
       "      <td>452</td>\n",
       "      <td>18</td>\n",
       "      <td>Male</td>\n",
       "      <td>2021-03-17 02:30:00</td>\n",
       "      <td>2021-03-17 10:00:00</td>\n",
       "      <td>7.5</td>\n",
       "      <td>0.63</td>\n",
       "      <td>22</td>\n",
       "      <td>23</td>\n",
       "      <td>55</td>\n",
       "      <td>1.0</td>\n",
       "      <td>50.0</td>\n",
       "      <td>0.0</td>\n",
       "      <td>No</td>\n",
       "      <td>1.0</td>\n",
       "    </tr>\n",
       "  </tbody>\n",
       "</table>\n",
       "<p>452 rows × 15 columns</p>\n",
       "</div>"
      ],
      "text/plain": [
       "      ID  Age  Gender              Bedtime          Wakeup time  \\\n",
       "0      1   65  Female  2021-03-06 01:00:00  2021-03-06 07:00:00   \n",
       "1      2   69    Male  2021-12-05 02:00:00  2021-12-05 09:00:00   \n",
       "2      3   40  Female  2021-05-25 21:30:00  2021-05-25 05:30:00   \n",
       "3      4   40  Female  2021-11-03 02:30:00  2021-11-03 08:30:00   \n",
       "4      5   57    Male  2021-03-13 01:00:00  2021-03-13 09:00:00   \n",
       "..   ...  ...     ...                  ...                  ...   \n",
       "447  448   27  Female  2021-11-13 22:00:00  2021-11-13 05:30:00   \n",
       "448  449   52    Male  2021-03-31 21:00:00  2021-03-31 03:00:00   \n",
       "449  450   40  Female  2021-09-07 23:00:00  2021-09-07 07:30:00   \n",
       "450  451   45    Male  2021-07-29 21:00:00  2021-07-29 04:00:00   \n",
       "451  452   18    Male  2021-03-17 02:30:00  2021-03-17 10:00:00   \n",
       "\n",
       "     Sleep duration  Sleep efficiency  REM sleep percentage  \\\n",
       "0               6.0              0.88                    18   \n",
       "1               7.0              0.66                    19   \n",
       "2               8.0              0.89                    20   \n",
       "3               6.0              0.51                    23   \n",
       "4               8.0              0.76                    27   \n",
       "..              ...               ...                   ...   \n",
       "447             7.5              0.91                    22   \n",
       "448             6.0              0.74                    28   \n",
       "449             8.5              0.55                    20   \n",
       "450             7.0              0.76                    18   \n",
       "451             7.5              0.63                    22   \n",
       "\n",
       "     Deep sleep percentage  Light sleep percentage  Awakenings  \\\n",
       "0                       70                      12         0.0   \n",
       "1                       28                      53         3.0   \n",
       "2                       70                      10         1.0   \n",
       "3                       25                      52         3.0   \n",
       "4                       55                      18         3.0   \n",
       "..                     ...                     ...         ...   \n",
       "447                     57                      21         0.0   \n",
       "448                     57                      15         4.0   \n",
       "449                     32                      48         1.0   \n",
       "450                     72                      10         3.0   \n",
       "451                     23                      55         1.0   \n",
       "\n",
       "     Caffeine consumption  Alcohol consumption Smoking status  \\\n",
       "0                     0.0                  0.0            Yes   \n",
       "1                     0.0                  3.0            Yes   \n",
       "2                     0.0                  0.0             No   \n",
       "3                    50.0                  5.0            Yes   \n",
       "4                     0.0                  3.0             No   \n",
       "..                    ...                  ...            ...   \n",
       "447                   0.0                  0.0             No   \n",
       "448                  25.0                  0.0             No   \n",
       "449                   NaN                  3.0            Yes   \n",
       "450                   0.0                  0.0             No   \n",
       "451                  50.0                  0.0             No   \n",
       "\n",
       "     Exercise frequency  \n",
       "0                   3.0  \n",
       "1                   3.0  \n",
       "2                   3.0  \n",
       "3                   1.0  \n",
       "4                   3.0  \n",
       "..                  ...  \n",
       "447                 5.0  \n",
       "448                 3.0  \n",
       "449                 0.0  \n",
       "450                 3.0  \n",
       "451                 1.0  \n",
       "\n",
       "[452 rows x 15 columns]"
      ]
     },
     "execution_count": 49,
     "metadata": {},
     "output_type": "execute_result"
    }
   ],
   "source": [
    "d"
   ]
  },
  {
   "cell_type": "code",
   "execution_count": 50,
   "id": "38df5d3f-6731-40ee-9fe1-027a47d7f0c5",
   "metadata": {},
   "outputs": [
    {
     "data": {
      "text/html": [
       "<div>\n",
       "<style scoped>\n",
       "    .dataframe tbody tr th:only-of-type {\n",
       "        vertical-align: middle;\n",
       "    }\n",
       "\n",
       "    .dataframe tbody tr th {\n",
       "        vertical-align: top;\n",
       "    }\n",
       "\n",
       "    .dataframe thead th {\n",
       "        text-align: right;\n",
       "    }\n",
       "</style>\n",
       "<table border=\"1\" class=\"dataframe\">\n",
       "  <thead>\n",
       "    <tr style=\"text-align: right;\">\n",
       "      <th></th>\n",
       "      <th>ID</th>\n",
       "      <th>Age</th>\n",
       "      <th>Gender</th>\n",
       "      <th>Bedtime</th>\n",
       "      <th>Wakeup time</th>\n",
       "      <th>Sleep duration</th>\n",
       "      <th>Sleep efficiency</th>\n",
       "      <th>REM sleep percentage</th>\n",
       "      <th>Deep sleep percentage</th>\n",
       "      <th>Light sleep percentage</th>\n",
       "      <th>Awakenings</th>\n",
       "      <th>Caffeine consumption</th>\n",
       "      <th>Alcohol consumption</th>\n",
       "      <th>Smoking status</th>\n",
       "      <th>Exercise frequency</th>\n",
       "    </tr>\n",
       "  </thead>\n",
       "  <tbody>\n",
       "    <tr>\n",
       "      <th>0</th>\n",
       "      <td>1</td>\n",
       "      <td>65</td>\n",
       "      <td>Female</td>\n",
       "      <td>2021-03-06 01:00:00</td>\n",
       "      <td>2021-03-06 07:00:00</td>\n",
       "      <td>6.0</td>\n",
       "      <td>0.88</td>\n",
       "      <td>18</td>\n",
       "      <td>70</td>\n",
       "      <td>12</td>\n",
       "      <td>0.0</td>\n",
       "      <td>0.0</td>\n",
       "      <td>0.0</td>\n",
       "      <td>Yes</td>\n",
       "      <td>3.0</td>\n",
       "    </tr>\n",
       "    <tr>\n",
       "      <th>1</th>\n",
       "      <td>2</td>\n",
       "      <td>69</td>\n",
       "      <td>Male</td>\n",
       "      <td>2021-12-05 02:00:00</td>\n",
       "      <td>2021-12-05 09:00:00</td>\n",
       "      <td>7.0</td>\n",
       "      <td>0.66</td>\n",
       "      <td>19</td>\n",
       "      <td>28</td>\n",
       "      <td>53</td>\n",
       "      <td>3.0</td>\n",
       "      <td>0.0</td>\n",
       "      <td>3.0</td>\n",
       "      <td>Yes</td>\n",
       "      <td>3.0</td>\n",
       "    </tr>\n",
       "    <tr>\n",
       "      <th>2</th>\n",
       "      <td>3</td>\n",
       "      <td>40</td>\n",
       "      <td>Female</td>\n",
       "      <td>2021-05-25 21:30:00</td>\n",
       "      <td>2021-05-25 05:30:00</td>\n",
       "      <td>8.0</td>\n",
       "      <td>0.89</td>\n",
       "      <td>20</td>\n",
       "      <td>70</td>\n",
       "      <td>10</td>\n",
       "      <td>1.0</td>\n",
       "      <td>0.0</td>\n",
       "      <td>0.0</td>\n",
       "      <td>No</td>\n",
       "      <td>3.0</td>\n",
       "    </tr>\n",
       "    <tr>\n",
       "      <th>3</th>\n",
       "      <td>4</td>\n",
       "      <td>40</td>\n",
       "      <td>Female</td>\n",
       "      <td>2021-11-03 02:30:00</td>\n",
       "      <td>2021-11-03 08:30:00</td>\n",
       "      <td>6.0</td>\n",
       "      <td>0.51</td>\n",
       "      <td>23</td>\n",
       "      <td>25</td>\n",
       "      <td>52</td>\n",
       "      <td>3.0</td>\n",
       "      <td>50.0</td>\n",
       "      <td>5.0</td>\n",
       "      <td>Yes</td>\n",
       "      <td>1.0</td>\n",
       "    </tr>\n",
       "    <tr>\n",
       "      <th>4</th>\n",
       "      <td>5</td>\n",
       "      <td>57</td>\n",
       "      <td>Male</td>\n",
       "      <td>2021-03-13 01:00:00</td>\n",
       "      <td>2021-03-13 09:00:00</td>\n",
       "      <td>8.0</td>\n",
       "      <td>0.76</td>\n",
       "      <td>27</td>\n",
       "      <td>55</td>\n",
       "      <td>18</td>\n",
       "      <td>3.0</td>\n",
       "      <td>0.0</td>\n",
       "      <td>3.0</td>\n",
       "      <td>No</td>\n",
       "      <td>3.0</td>\n",
       "    </tr>\n",
       "    <tr>\n",
       "      <th>...</th>\n",
       "      <td>...</td>\n",
       "      <td>...</td>\n",
       "      <td>...</td>\n",
       "      <td>...</td>\n",
       "      <td>...</td>\n",
       "      <td>...</td>\n",
       "      <td>...</td>\n",
       "      <td>...</td>\n",
       "      <td>...</td>\n",
       "      <td>...</td>\n",
       "      <td>...</td>\n",
       "      <td>...</td>\n",
       "      <td>...</td>\n",
       "      <td>...</td>\n",
       "      <td>...</td>\n",
       "    </tr>\n",
       "    <tr>\n",
       "      <th>445</th>\n",
       "      <td>446</td>\n",
       "      <td>30</td>\n",
       "      <td>Female</td>\n",
       "      <td>2021-11-16 23:00:00</td>\n",
       "      <td>2021-11-16 06:30:00</td>\n",
       "      <td>7.5</td>\n",
       "      <td>0.53</td>\n",
       "      <td>28</td>\n",
       "      <td>20</td>\n",
       "      <td>52</td>\n",
       "      <td>4.0</td>\n",
       "      <td>50.0</td>\n",
       "      <td>2.0</td>\n",
       "      <td>Yes</td>\n",
       "      <td>1.0</td>\n",
       "    </tr>\n",
       "    <tr>\n",
       "      <th>447</th>\n",
       "      <td>448</td>\n",
       "      <td>27</td>\n",
       "      <td>Female</td>\n",
       "      <td>2021-11-13 22:00:00</td>\n",
       "      <td>2021-11-13 05:30:00</td>\n",
       "      <td>7.5</td>\n",
       "      <td>0.91</td>\n",
       "      <td>22</td>\n",
       "      <td>57</td>\n",
       "      <td>21</td>\n",
       "      <td>0.0</td>\n",
       "      <td>0.0</td>\n",
       "      <td>0.0</td>\n",
       "      <td>No</td>\n",
       "      <td>5.0</td>\n",
       "    </tr>\n",
       "    <tr>\n",
       "      <th>448</th>\n",
       "      <td>449</td>\n",
       "      <td>52</td>\n",
       "      <td>Male</td>\n",
       "      <td>2021-03-31 21:00:00</td>\n",
       "      <td>2021-03-31 03:00:00</td>\n",
       "      <td>6.0</td>\n",
       "      <td>0.74</td>\n",
       "      <td>28</td>\n",
       "      <td>57</td>\n",
       "      <td>15</td>\n",
       "      <td>4.0</td>\n",
       "      <td>25.0</td>\n",
       "      <td>0.0</td>\n",
       "      <td>No</td>\n",
       "      <td>3.0</td>\n",
       "    </tr>\n",
       "    <tr>\n",
       "      <th>450</th>\n",
       "      <td>451</td>\n",
       "      <td>45</td>\n",
       "      <td>Male</td>\n",
       "      <td>2021-07-29 21:00:00</td>\n",
       "      <td>2021-07-29 04:00:00</td>\n",
       "      <td>7.0</td>\n",
       "      <td>0.76</td>\n",
       "      <td>18</td>\n",
       "      <td>72</td>\n",
       "      <td>10</td>\n",
       "      <td>3.0</td>\n",
       "      <td>0.0</td>\n",
       "      <td>0.0</td>\n",
       "      <td>No</td>\n",
       "      <td>3.0</td>\n",
       "    </tr>\n",
       "    <tr>\n",
       "      <th>451</th>\n",
       "      <td>452</td>\n",
       "      <td>18</td>\n",
       "      <td>Male</td>\n",
       "      <td>2021-03-17 02:30:00</td>\n",
       "      <td>2021-03-17 10:00:00</td>\n",
       "      <td>7.5</td>\n",
       "      <td>0.63</td>\n",
       "      <td>22</td>\n",
       "      <td>23</td>\n",
       "      <td>55</td>\n",
       "      <td>1.0</td>\n",
       "      <td>50.0</td>\n",
       "      <td>0.0</td>\n",
       "      <td>No</td>\n",
       "      <td>1.0</td>\n",
       "    </tr>\n",
       "  </tbody>\n",
       "</table>\n",
       "<p>388 rows × 15 columns</p>\n",
       "</div>"
      ],
      "text/plain": [
       "      ID  Age  Gender              Bedtime          Wakeup time  \\\n",
       "0      1   65  Female  2021-03-06 01:00:00  2021-03-06 07:00:00   \n",
       "1      2   69    Male  2021-12-05 02:00:00  2021-12-05 09:00:00   \n",
       "2      3   40  Female  2021-05-25 21:30:00  2021-05-25 05:30:00   \n",
       "3      4   40  Female  2021-11-03 02:30:00  2021-11-03 08:30:00   \n",
       "4      5   57    Male  2021-03-13 01:00:00  2021-03-13 09:00:00   \n",
       "..   ...  ...     ...                  ...                  ...   \n",
       "445  446   30  Female  2021-11-16 23:00:00  2021-11-16 06:30:00   \n",
       "447  448   27  Female  2021-11-13 22:00:00  2021-11-13 05:30:00   \n",
       "448  449   52    Male  2021-03-31 21:00:00  2021-03-31 03:00:00   \n",
       "450  451   45    Male  2021-07-29 21:00:00  2021-07-29 04:00:00   \n",
       "451  452   18    Male  2021-03-17 02:30:00  2021-03-17 10:00:00   \n",
       "\n",
       "     Sleep duration  Sleep efficiency  REM sleep percentage  \\\n",
       "0               6.0              0.88                    18   \n",
       "1               7.0              0.66                    19   \n",
       "2               8.0              0.89                    20   \n",
       "3               6.0              0.51                    23   \n",
       "4               8.0              0.76                    27   \n",
       "..              ...               ...                   ...   \n",
       "445             7.5              0.53                    28   \n",
       "447             7.5              0.91                    22   \n",
       "448             6.0              0.74                    28   \n",
       "450             7.0              0.76                    18   \n",
       "451             7.5              0.63                    22   \n",
       "\n",
       "     Deep sleep percentage  Light sleep percentage  Awakenings  \\\n",
       "0                       70                      12         0.0   \n",
       "1                       28                      53         3.0   \n",
       "2                       70                      10         1.0   \n",
       "3                       25                      52         3.0   \n",
       "4                       55                      18         3.0   \n",
       "..                     ...                     ...         ...   \n",
       "445                     20                      52         4.0   \n",
       "447                     57                      21         0.0   \n",
       "448                     57                      15         4.0   \n",
       "450                     72                      10         3.0   \n",
       "451                     23                      55         1.0   \n",
       "\n",
       "     Caffeine consumption  Alcohol consumption Smoking status  \\\n",
       "0                     0.0                  0.0            Yes   \n",
       "1                     0.0                  3.0            Yes   \n",
       "2                     0.0                  0.0             No   \n",
       "3                    50.0                  5.0            Yes   \n",
       "4                     0.0                  3.0             No   \n",
       "..                    ...                  ...            ...   \n",
       "445                  50.0                  2.0            Yes   \n",
       "447                   0.0                  0.0             No   \n",
       "448                  25.0                  0.0             No   \n",
       "450                   0.0                  0.0             No   \n",
       "451                  50.0                  0.0             No   \n",
       "\n",
       "     Exercise frequency  \n",
       "0                   3.0  \n",
       "1                   3.0  \n",
       "2                   3.0  \n",
       "3                   1.0  \n",
       "4                   3.0  \n",
       "..                  ...  \n",
       "445                 1.0  \n",
       "447                 5.0  \n",
       "448                 3.0  \n",
       "450                 3.0  \n",
       "451                 1.0  \n",
       "\n",
       "[388 rows x 15 columns]"
      ]
     },
     "execution_count": 50,
     "metadata": {},
     "output_type": "execute_result"
    }
   ],
   "source": [
    "df"
   ]
  },
  {
   "cell_type": "code",
   "execution_count": 56,
   "id": "b3c95be7-aefc-46e7-9413-ac71731a32d4",
   "metadata": {},
   "outputs": [
    {
     "name": "stdout",
     "output_type": "stream",
     "text": [
      "Before transformation\n",
      "      ID  Age  Gender              Bedtime          Wakeup time  \\\n",
      "0      1   65  Female  2021-03-06 01:00:00  2021-03-06 07:00:00   \n",
      "1      2   69    Male  2021-12-05 02:00:00  2021-12-05 09:00:00   \n",
      "2      3   40  Female  2021-05-25 21:30:00  2021-05-25 05:30:00   \n",
      "3      4   40  Female  2021-11-03 02:30:00  2021-11-03 08:30:00   \n",
      "4      5   57    Male  2021-03-13 01:00:00  2021-03-13 09:00:00   \n",
      "..   ...  ...     ...                  ...                  ...   \n",
      "445  446   30  Female  2021-11-16 23:00:00  2021-11-16 06:30:00   \n",
      "447  448   27  Female  2021-11-13 22:00:00  2021-11-13 05:30:00   \n",
      "448  449   52    Male  2021-03-31 21:00:00  2021-03-31 03:00:00   \n",
      "450  451   45    Male  2021-07-29 21:00:00  2021-07-29 04:00:00   \n",
      "451  452   18    Male  2021-03-17 02:30:00  2021-03-17 10:00:00   \n",
      "\n",
      "     Sleep duration  Sleep efficiency  REM sleep percentage  \\\n",
      "0               6.0              0.88                    18   \n",
      "1               7.0              0.66                    19   \n",
      "2               8.0              0.89                    20   \n",
      "3               6.0              0.51                    23   \n",
      "4               8.0              0.76                    27   \n",
      "..              ...               ...                   ...   \n",
      "445             7.5              0.53                    28   \n",
      "447             7.5              0.91                    22   \n",
      "448             6.0              0.74                    28   \n",
      "450             7.0              0.76                    18   \n",
      "451             7.5              0.63                    22   \n",
      "\n",
      "     Deep sleep percentage  Light sleep percentage  Awakenings  \\\n",
      "0                       70                      12         0.0   \n",
      "1                       28                      53         3.0   \n",
      "2                       70                      10         1.0   \n",
      "3                       25                      52         3.0   \n",
      "4                       55                      18         3.0   \n",
      "..                     ...                     ...         ...   \n",
      "445                     20                      52         4.0   \n",
      "447                     57                      21         0.0   \n",
      "448                     57                      15         4.0   \n",
      "450                     72                      10         3.0   \n",
      "451                     23                      55         1.0   \n",
      "\n",
      "     Caffeine consumption  Alcohol consumption Smoking status  \\\n",
      "0                     0.0                  0.0            Yes   \n",
      "1                     0.0                  3.0            Yes   \n",
      "2                     0.0                  0.0             No   \n",
      "3                    50.0                  5.0            Yes   \n",
      "4                     0.0                  3.0             No   \n",
      "..                    ...                  ...            ...   \n",
      "445                  50.0                  2.0            Yes   \n",
      "447                   0.0                  0.0             No   \n",
      "448                  25.0                  0.0             No   \n",
      "450                   0.0                  0.0             No   \n",
      "451                  50.0                  0.0             No   \n",
      "\n",
      "     Exercise frequency  \n",
      "0                   3.0  \n",
      "1                   3.0  \n",
      "2                   3.0  \n",
      "3                   1.0  \n",
      "4                   3.0  \n",
      "..                  ...  \n",
      "445                 1.0  \n",
      "447                 5.0  \n",
      "448                 3.0  \n",
      "450                 3.0  \n",
      "451                 1.0  \n",
      "\n",
      "[388 rows x 15 columns]\n"
     ]
    }
   ],
   "source": [
    "print(\"Before transformation\")\n",
    "print(df)"
   ]
  },
  {
   "cell_type": "raw",
   "id": "32bd11a1-014b-4647-890f-5a899746732e",
   "metadata": {},
   "source": []
  },
  {
   "cell_type": "code",
   "execution_count": 58,
   "id": "06921842-cfc7-421e-9b5d-b777ca752eab",
   "metadata": {},
   "outputs": [
    {
     "name": "stdout",
     "output_type": "stream",
     "text": [
      "Index(['ID', 'Age', 'Gender', 'Bedtime', 'Wakeup time', 'Sleep duration',\n",
      "       'Sleep efficiency', 'REM sleep percentage', 'Deep sleep percentage',\n",
      "       'Light sleep percentage', 'Awakenings', 'Caffeine consumption',\n",
      "       'Alcohol consumption', 'Smoking status', 'Exercise frequency'],\n",
      "      dtype='object')\n"
     ]
    }
   ],
   "source": [
    "print(df.columns)\n"
   ]
  },
  {
   "cell_type": "code",
   "execution_count": 62,
   "id": "c4f158ea-ae2b-4362-908a-7f3e3e59b436",
   "metadata": {},
   "outputs": [],
   "source": [
    "# Convert 'Bedtime' and 'Wakeup time' to datetime\n",
    "df['Bedtime'] = pd.to_datetime(df['Bedtime'])\n",
    "df['Wakeup time'] = pd.to_datetime(df['Wakeup time'])"
   ]
  },
  {
   "cell_type": "code",
   "execution_count": 63,
   "id": "9c9c707f-c530-418a-83b5-c5cb2a113886",
   "metadata": {},
   "outputs": [
    {
     "data": {
      "text/html": [
       "<div>\n",
       "<style scoped>\n",
       "    .dataframe tbody tr th:only-of-type {\n",
       "        vertical-align: middle;\n",
       "    }\n",
       "\n",
       "    .dataframe tbody tr th {\n",
       "        vertical-align: top;\n",
       "    }\n",
       "\n",
       "    .dataframe thead th {\n",
       "        text-align: right;\n",
       "    }\n",
       "</style>\n",
       "<table border=\"1\" class=\"dataframe\">\n",
       "  <thead>\n",
       "    <tr style=\"text-align: right;\">\n",
       "      <th></th>\n",
       "      <th>ID</th>\n",
       "      <th>Age</th>\n",
       "      <th>Gender</th>\n",
       "      <th>Bedtime</th>\n",
       "      <th>Wakeup time</th>\n",
       "      <th>Sleep duration</th>\n",
       "      <th>Sleep efficiency</th>\n",
       "      <th>REM sleep percentage</th>\n",
       "      <th>Deep sleep percentage</th>\n",
       "      <th>Light sleep percentage</th>\n",
       "      <th>Awakenings</th>\n",
       "      <th>Caffeine consumption</th>\n",
       "      <th>Alcohol consumption</th>\n",
       "      <th>Smoking status</th>\n",
       "      <th>Exercise frequency</th>\n",
       "    </tr>\n",
       "  </thead>\n",
       "  <tbody>\n",
       "    <tr>\n",
       "      <th>0</th>\n",
       "      <td>1</td>\n",
       "      <td>65</td>\n",
       "      <td>Female</td>\n",
       "      <td>2021-03-06 01:00:00</td>\n",
       "      <td>2021-03-06 07:00:00</td>\n",
       "      <td>6.0</td>\n",
       "      <td>0.88</td>\n",
       "      <td>18</td>\n",
       "      <td>70</td>\n",
       "      <td>12</td>\n",
       "      <td>0.0</td>\n",
       "      <td>0.0</td>\n",
       "      <td>0.0</td>\n",
       "      <td>Yes</td>\n",
       "      <td>3.0</td>\n",
       "    </tr>\n",
       "    <tr>\n",
       "      <th>1</th>\n",
       "      <td>2</td>\n",
       "      <td>69</td>\n",
       "      <td>Male</td>\n",
       "      <td>2021-12-05 02:00:00</td>\n",
       "      <td>2021-12-05 09:00:00</td>\n",
       "      <td>7.0</td>\n",
       "      <td>0.66</td>\n",
       "      <td>19</td>\n",
       "      <td>28</td>\n",
       "      <td>53</td>\n",
       "      <td>3.0</td>\n",
       "      <td>0.0</td>\n",
       "      <td>3.0</td>\n",
       "      <td>Yes</td>\n",
       "      <td>3.0</td>\n",
       "    </tr>\n",
       "    <tr>\n",
       "      <th>2</th>\n",
       "      <td>3</td>\n",
       "      <td>40</td>\n",
       "      <td>Female</td>\n",
       "      <td>2021-05-25 21:30:00</td>\n",
       "      <td>2021-05-25 05:30:00</td>\n",
       "      <td>8.0</td>\n",
       "      <td>0.89</td>\n",
       "      <td>20</td>\n",
       "      <td>70</td>\n",
       "      <td>10</td>\n",
       "      <td>1.0</td>\n",
       "      <td>0.0</td>\n",
       "      <td>0.0</td>\n",
       "      <td>No</td>\n",
       "      <td>3.0</td>\n",
       "    </tr>\n",
       "    <tr>\n",
       "      <th>3</th>\n",
       "      <td>4</td>\n",
       "      <td>40</td>\n",
       "      <td>Female</td>\n",
       "      <td>2021-11-03 02:30:00</td>\n",
       "      <td>2021-11-03 08:30:00</td>\n",
       "      <td>6.0</td>\n",
       "      <td>0.51</td>\n",
       "      <td>23</td>\n",
       "      <td>25</td>\n",
       "      <td>52</td>\n",
       "      <td>3.0</td>\n",
       "      <td>50.0</td>\n",
       "      <td>5.0</td>\n",
       "      <td>Yes</td>\n",
       "      <td>1.0</td>\n",
       "    </tr>\n",
       "    <tr>\n",
       "      <th>4</th>\n",
       "      <td>5</td>\n",
       "      <td>57</td>\n",
       "      <td>Male</td>\n",
       "      <td>2021-03-13 01:00:00</td>\n",
       "      <td>2021-03-13 09:00:00</td>\n",
       "      <td>8.0</td>\n",
       "      <td>0.76</td>\n",
       "      <td>27</td>\n",
       "      <td>55</td>\n",
       "      <td>18</td>\n",
       "      <td>3.0</td>\n",
       "      <td>0.0</td>\n",
       "      <td>3.0</td>\n",
       "      <td>No</td>\n",
       "      <td>3.0</td>\n",
       "    </tr>\n",
       "    <tr>\n",
       "      <th>...</th>\n",
       "      <td>...</td>\n",
       "      <td>...</td>\n",
       "      <td>...</td>\n",
       "      <td>...</td>\n",
       "      <td>...</td>\n",
       "      <td>...</td>\n",
       "      <td>...</td>\n",
       "      <td>...</td>\n",
       "      <td>...</td>\n",
       "      <td>...</td>\n",
       "      <td>...</td>\n",
       "      <td>...</td>\n",
       "      <td>...</td>\n",
       "      <td>...</td>\n",
       "      <td>...</td>\n",
       "    </tr>\n",
       "    <tr>\n",
       "      <th>445</th>\n",
       "      <td>446</td>\n",
       "      <td>30</td>\n",
       "      <td>Female</td>\n",
       "      <td>2021-11-16 23:00:00</td>\n",
       "      <td>2021-11-16 06:30:00</td>\n",
       "      <td>7.5</td>\n",
       "      <td>0.53</td>\n",
       "      <td>28</td>\n",
       "      <td>20</td>\n",
       "      <td>52</td>\n",
       "      <td>4.0</td>\n",
       "      <td>50.0</td>\n",
       "      <td>2.0</td>\n",
       "      <td>Yes</td>\n",
       "      <td>1.0</td>\n",
       "    </tr>\n",
       "    <tr>\n",
       "      <th>447</th>\n",
       "      <td>448</td>\n",
       "      <td>27</td>\n",
       "      <td>Female</td>\n",
       "      <td>2021-11-13 22:00:00</td>\n",
       "      <td>2021-11-13 05:30:00</td>\n",
       "      <td>7.5</td>\n",
       "      <td>0.91</td>\n",
       "      <td>22</td>\n",
       "      <td>57</td>\n",
       "      <td>21</td>\n",
       "      <td>0.0</td>\n",
       "      <td>0.0</td>\n",
       "      <td>0.0</td>\n",
       "      <td>No</td>\n",
       "      <td>5.0</td>\n",
       "    </tr>\n",
       "    <tr>\n",
       "      <th>448</th>\n",
       "      <td>449</td>\n",
       "      <td>52</td>\n",
       "      <td>Male</td>\n",
       "      <td>2021-03-31 21:00:00</td>\n",
       "      <td>2021-03-31 03:00:00</td>\n",
       "      <td>6.0</td>\n",
       "      <td>0.74</td>\n",
       "      <td>28</td>\n",
       "      <td>57</td>\n",
       "      <td>15</td>\n",
       "      <td>4.0</td>\n",
       "      <td>25.0</td>\n",
       "      <td>0.0</td>\n",
       "      <td>No</td>\n",
       "      <td>3.0</td>\n",
       "    </tr>\n",
       "    <tr>\n",
       "      <th>450</th>\n",
       "      <td>451</td>\n",
       "      <td>45</td>\n",
       "      <td>Male</td>\n",
       "      <td>2021-07-29 21:00:00</td>\n",
       "      <td>2021-07-29 04:00:00</td>\n",
       "      <td>7.0</td>\n",
       "      <td>0.76</td>\n",
       "      <td>18</td>\n",
       "      <td>72</td>\n",
       "      <td>10</td>\n",
       "      <td>3.0</td>\n",
       "      <td>0.0</td>\n",
       "      <td>0.0</td>\n",
       "      <td>No</td>\n",
       "      <td>3.0</td>\n",
       "    </tr>\n",
       "    <tr>\n",
       "      <th>451</th>\n",
       "      <td>452</td>\n",
       "      <td>18</td>\n",
       "      <td>Male</td>\n",
       "      <td>2021-03-17 02:30:00</td>\n",
       "      <td>2021-03-17 10:00:00</td>\n",
       "      <td>7.5</td>\n",
       "      <td>0.63</td>\n",
       "      <td>22</td>\n",
       "      <td>23</td>\n",
       "      <td>55</td>\n",
       "      <td>1.0</td>\n",
       "      <td>50.0</td>\n",
       "      <td>0.0</td>\n",
       "      <td>No</td>\n",
       "      <td>1.0</td>\n",
       "    </tr>\n",
       "  </tbody>\n",
       "</table>\n",
       "<p>388 rows × 15 columns</p>\n",
       "</div>"
      ],
      "text/plain": [
       "      ID  Age  Gender             Bedtime         Wakeup time  Sleep duration  \\\n",
       "0      1   65  Female 2021-03-06 01:00:00 2021-03-06 07:00:00             6.0   \n",
       "1      2   69    Male 2021-12-05 02:00:00 2021-12-05 09:00:00             7.0   \n",
       "2      3   40  Female 2021-05-25 21:30:00 2021-05-25 05:30:00             8.0   \n",
       "3      4   40  Female 2021-11-03 02:30:00 2021-11-03 08:30:00             6.0   \n",
       "4      5   57    Male 2021-03-13 01:00:00 2021-03-13 09:00:00             8.0   \n",
       "..   ...  ...     ...                 ...                 ...             ...   \n",
       "445  446   30  Female 2021-11-16 23:00:00 2021-11-16 06:30:00             7.5   \n",
       "447  448   27  Female 2021-11-13 22:00:00 2021-11-13 05:30:00             7.5   \n",
       "448  449   52    Male 2021-03-31 21:00:00 2021-03-31 03:00:00             6.0   \n",
       "450  451   45    Male 2021-07-29 21:00:00 2021-07-29 04:00:00             7.0   \n",
       "451  452   18    Male 2021-03-17 02:30:00 2021-03-17 10:00:00             7.5   \n",
       "\n",
       "     Sleep efficiency  REM sleep percentage  Deep sleep percentage  \\\n",
       "0                0.88                    18                     70   \n",
       "1                0.66                    19                     28   \n",
       "2                0.89                    20                     70   \n",
       "3                0.51                    23                     25   \n",
       "4                0.76                    27                     55   \n",
       "..                ...                   ...                    ...   \n",
       "445              0.53                    28                     20   \n",
       "447              0.91                    22                     57   \n",
       "448              0.74                    28                     57   \n",
       "450              0.76                    18                     72   \n",
       "451              0.63                    22                     23   \n",
       "\n",
       "     Light sleep percentage  Awakenings  Caffeine consumption  \\\n",
       "0                        12         0.0                   0.0   \n",
       "1                        53         3.0                   0.0   \n",
       "2                        10         1.0                   0.0   \n",
       "3                        52         3.0                  50.0   \n",
       "4                        18         3.0                   0.0   \n",
       "..                      ...         ...                   ...   \n",
       "445                      52         4.0                  50.0   \n",
       "447                      21         0.0                   0.0   \n",
       "448                      15         4.0                  25.0   \n",
       "450                      10         3.0                   0.0   \n",
       "451                      55         1.0                  50.0   \n",
       "\n",
       "     Alcohol consumption Smoking status  Exercise frequency  \n",
       "0                    0.0            Yes                 3.0  \n",
       "1                    3.0            Yes                 3.0  \n",
       "2                    0.0             No                 3.0  \n",
       "3                    5.0            Yes                 1.0  \n",
       "4                    3.0             No                 3.0  \n",
       "..                   ...            ...                 ...  \n",
       "445                  2.0            Yes                 1.0  \n",
       "447                  0.0             No                 5.0  \n",
       "448                  0.0             No                 3.0  \n",
       "450                  0.0             No                 3.0  \n",
       "451                  0.0             No                 1.0  \n",
       "\n",
       "[388 rows x 15 columns]"
      ]
     },
     "execution_count": 63,
     "metadata": {},
     "output_type": "execute_result"
    }
   ],
   "source": [
    "df"
   ]
  },
  {
   "cell_type": "code",
   "execution_count": 64,
   "id": "06ed7384-5d74-42e7-acb6-f592aa860b7f",
   "metadata": {},
   "outputs": [
    {
     "data": {
      "text/html": [
       "<div>\n",
       "<style scoped>\n",
       "    .dataframe tbody tr th:only-of-type {\n",
       "        vertical-align: middle;\n",
       "    }\n",
       "\n",
       "    .dataframe tbody tr th {\n",
       "        vertical-align: top;\n",
       "    }\n",
       "\n",
       "    .dataframe thead th {\n",
       "        text-align: right;\n",
       "    }\n",
       "</style>\n",
       "<table border=\"1\" class=\"dataframe\">\n",
       "  <thead>\n",
       "    <tr style=\"text-align: right;\">\n",
       "      <th></th>\n",
       "      <th>ID</th>\n",
       "      <th>Age</th>\n",
       "      <th>Gender</th>\n",
       "      <th>Bedtime</th>\n",
       "      <th>Wakeup time</th>\n",
       "      <th>Sleep duration</th>\n",
       "      <th>Sleep efficiency</th>\n",
       "      <th>REM sleep percentage</th>\n",
       "      <th>Deep sleep percentage</th>\n",
       "      <th>Light sleep percentage</th>\n",
       "      <th>Awakenings</th>\n",
       "      <th>Caffeine consumption</th>\n",
       "      <th>Alcohol consumption</th>\n",
       "      <th>Smoking status</th>\n",
       "      <th>Exercise frequency</th>\n",
       "    </tr>\n",
       "  </thead>\n",
       "  <tbody>\n",
       "    <tr>\n",
       "      <th>0</th>\n",
       "      <td>1</td>\n",
       "      <td>65</td>\n",
       "      <td>Female</td>\n",
       "      <td>2021-03-06 01:00:00</td>\n",
       "      <td>2021-03-06 07:00:00</td>\n",
       "      <td>6.0</td>\n",
       "      <td>0.88</td>\n",
       "      <td>18</td>\n",
       "      <td>70</td>\n",
       "      <td>12</td>\n",
       "      <td>0.0</td>\n",
       "      <td>0.0</td>\n",
       "      <td>0.0</td>\n",
       "      <td>Yes</td>\n",
       "      <td>3.0</td>\n",
       "    </tr>\n",
       "    <tr>\n",
       "      <th>1</th>\n",
       "      <td>2</td>\n",
       "      <td>69</td>\n",
       "      <td>Male</td>\n",
       "      <td>2021-12-05 02:00:00</td>\n",
       "      <td>2021-12-05 09:00:00</td>\n",
       "      <td>7.0</td>\n",
       "      <td>0.66</td>\n",
       "      <td>19</td>\n",
       "      <td>28</td>\n",
       "      <td>53</td>\n",
       "      <td>3.0</td>\n",
       "      <td>0.0</td>\n",
       "      <td>3.0</td>\n",
       "      <td>Yes</td>\n",
       "      <td>3.0</td>\n",
       "    </tr>\n",
       "    <tr>\n",
       "      <th>2</th>\n",
       "      <td>3</td>\n",
       "      <td>40</td>\n",
       "      <td>Female</td>\n",
       "      <td>2021-05-25 21:30:00</td>\n",
       "      <td>2021-05-25 05:30:00</td>\n",
       "      <td>8.0</td>\n",
       "      <td>0.89</td>\n",
       "      <td>20</td>\n",
       "      <td>70</td>\n",
       "      <td>10</td>\n",
       "      <td>1.0</td>\n",
       "      <td>0.0</td>\n",
       "      <td>0.0</td>\n",
       "      <td>No</td>\n",
       "      <td>3.0</td>\n",
       "    </tr>\n",
       "    <tr>\n",
       "      <th>3</th>\n",
       "      <td>4</td>\n",
       "      <td>40</td>\n",
       "      <td>Female</td>\n",
       "      <td>2021-11-03 02:30:00</td>\n",
       "      <td>2021-11-03 08:30:00</td>\n",
       "      <td>6.0</td>\n",
       "      <td>0.51</td>\n",
       "      <td>23</td>\n",
       "      <td>25</td>\n",
       "      <td>52</td>\n",
       "      <td>3.0</td>\n",
       "      <td>50.0</td>\n",
       "      <td>5.0</td>\n",
       "      <td>Yes</td>\n",
       "      <td>1.0</td>\n",
       "    </tr>\n",
       "    <tr>\n",
       "      <th>4</th>\n",
       "      <td>5</td>\n",
       "      <td>57</td>\n",
       "      <td>Male</td>\n",
       "      <td>2021-03-13 01:00:00</td>\n",
       "      <td>2021-03-13 09:00:00</td>\n",
       "      <td>8.0</td>\n",
       "      <td>0.76</td>\n",
       "      <td>27</td>\n",
       "      <td>55</td>\n",
       "      <td>18</td>\n",
       "      <td>3.0</td>\n",
       "      <td>0.0</td>\n",
       "      <td>3.0</td>\n",
       "      <td>No</td>\n",
       "      <td>3.0</td>\n",
       "    </tr>\n",
       "    <tr>\n",
       "      <th>...</th>\n",
       "      <td>...</td>\n",
       "      <td>...</td>\n",
       "      <td>...</td>\n",
       "      <td>...</td>\n",
       "      <td>...</td>\n",
       "      <td>...</td>\n",
       "      <td>...</td>\n",
       "      <td>...</td>\n",
       "      <td>...</td>\n",
       "      <td>...</td>\n",
       "      <td>...</td>\n",
       "      <td>...</td>\n",
       "      <td>...</td>\n",
       "      <td>...</td>\n",
       "      <td>...</td>\n",
       "    </tr>\n",
       "    <tr>\n",
       "      <th>447</th>\n",
       "      <td>448</td>\n",
       "      <td>27</td>\n",
       "      <td>Female</td>\n",
       "      <td>2021-11-13 22:00:00</td>\n",
       "      <td>2021-11-13 05:30:00</td>\n",
       "      <td>7.5</td>\n",
       "      <td>0.91</td>\n",
       "      <td>22</td>\n",
       "      <td>57</td>\n",
       "      <td>21</td>\n",
       "      <td>0.0</td>\n",
       "      <td>0.0</td>\n",
       "      <td>0.0</td>\n",
       "      <td>No</td>\n",
       "      <td>5.0</td>\n",
       "    </tr>\n",
       "    <tr>\n",
       "      <th>448</th>\n",
       "      <td>449</td>\n",
       "      <td>52</td>\n",
       "      <td>Male</td>\n",
       "      <td>2021-03-31 21:00:00</td>\n",
       "      <td>2021-03-31 03:00:00</td>\n",
       "      <td>6.0</td>\n",
       "      <td>0.74</td>\n",
       "      <td>28</td>\n",
       "      <td>57</td>\n",
       "      <td>15</td>\n",
       "      <td>4.0</td>\n",
       "      <td>25.0</td>\n",
       "      <td>0.0</td>\n",
       "      <td>No</td>\n",
       "      <td>3.0</td>\n",
       "    </tr>\n",
       "    <tr>\n",
       "      <th>449</th>\n",
       "      <td>450</td>\n",
       "      <td>40</td>\n",
       "      <td>Female</td>\n",
       "      <td>2021-09-07 23:00:00</td>\n",
       "      <td>2021-09-07 07:30:00</td>\n",
       "      <td>8.5</td>\n",
       "      <td>0.55</td>\n",
       "      <td>20</td>\n",
       "      <td>32</td>\n",
       "      <td>48</td>\n",
       "      <td>1.0</td>\n",
       "      <td>NaN</td>\n",
       "      <td>3.0</td>\n",
       "      <td>Yes</td>\n",
       "      <td>0.0</td>\n",
       "    </tr>\n",
       "    <tr>\n",
       "      <th>450</th>\n",
       "      <td>451</td>\n",
       "      <td>45</td>\n",
       "      <td>Male</td>\n",
       "      <td>2021-07-29 21:00:00</td>\n",
       "      <td>2021-07-29 04:00:00</td>\n",
       "      <td>7.0</td>\n",
       "      <td>0.76</td>\n",
       "      <td>18</td>\n",
       "      <td>72</td>\n",
       "      <td>10</td>\n",
       "      <td>3.0</td>\n",
       "      <td>0.0</td>\n",
       "      <td>0.0</td>\n",
       "      <td>No</td>\n",
       "      <td>3.0</td>\n",
       "    </tr>\n",
       "    <tr>\n",
       "      <th>451</th>\n",
       "      <td>452</td>\n",
       "      <td>18</td>\n",
       "      <td>Male</td>\n",
       "      <td>2021-03-17 02:30:00</td>\n",
       "      <td>2021-03-17 10:00:00</td>\n",
       "      <td>7.5</td>\n",
       "      <td>0.63</td>\n",
       "      <td>22</td>\n",
       "      <td>23</td>\n",
       "      <td>55</td>\n",
       "      <td>1.0</td>\n",
       "      <td>50.0</td>\n",
       "      <td>0.0</td>\n",
       "      <td>No</td>\n",
       "      <td>1.0</td>\n",
       "    </tr>\n",
       "  </tbody>\n",
       "</table>\n",
       "<p>452 rows × 15 columns</p>\n",
       "</div>"
      ],
      "text/plain": [
       "      ID  Age  Gender              Bedtime          Wakeup time  \\\n",
       "0      1   65  Female  2021-03-06 01:00:00  2021-03-06 07:00:00   \n",
       "1      2   69    Male  2021-12-05 02:00:00  2021-12-05 09:00:00   \n",
       "2      3   40  Female  2021-05-25 21:30:00  2021-05-25 05:30:00   \n",
       "3      4   40  Female  2021-11-03 02:30:00  2021-11-03 08:30:00   \n",
       "4      5   57    Male  2021-03-13 01:00:00  2021-03-13 09:00:00   \n",
       "..   ...  ...     ...                  ...                  ...   \n",
       "447  448   27  Female  2021-11-13 22:00:00  2021-11-13 05:30:00   \n",
       "448  449   52    Male  2021-03-31 21:00:00  2021-03-31 03:00:00   \n",
       "449  450   40  Female  2021-09-07 23:00:00  2021-09-07 07:30:00   \n",
       "450  451   45    Male  2021-07-29 21:00:00  2021-07-29 04:00:00   \n",
       "451  452   18    Male  2021-03-17 02:30:00  2021-03-17 10:00:00   \n",
       "\n",
       "     Sleep duration  Sleep efficiency  REM sleep percentage  \\\n",
       "0               6.0              0.88                    18   \n",
       "1               7.0              0.66                    19   \n",
       "2               8.0              0.89                    20   \n",
       "3               6.0              0.51                    23   \n",
       "4               8.0              0.76                    27   \n",
       "..              ...               ...                   ...   \n",
       "447             7.5              0.91                    22   \n",
       "448             6.0              0.74                    28   \n",
       "449             8.5              0.55                    20   \n",
       "450             7.0              0.76                    18   \n",
       "451             7.5              0.63                    22   \n",
       "\n",
       "     Deep sleep percentage  Light sleep percentage  Awakenings  \\\n",
       "0                       70                      12         0.0   \n",
       "1                       28                      53         3.0   \n",
       "2                       70                      10         1.0   \n",
       "3                       25                      52         3.0   \n",
       "4                       55                      18         3.0   \n",
       "..                     ...                     ...         ...   \n",
       "447                     57                      21         0.0   \n",
       "448                     57                      15         4.0   \n",
       "449                     32                      48         1.0   \n",
       "450                     72                      10         3.0   \n",
       "451                     23                      55         1.0   \n",
       "\n",
       "     Caffeine consumption  Alcohol consumption Smoking status  \\\n",
       "0                     0.0                  0.0            Yes   \n",
       "1                     0.0                  3.0            Yes   \n",
       "2                     0.0                  0.0             No   \n",
       "3                    50.0                  5.0            Yes   \n",
       "4                     0.0                  3.0             No   \n",
       "..                    ...                  ...            ...   \n",
       "447                   0.0                  0.0             No   \n",
       "448                  25.0                  0.0             No   \n",
       "449                   NaN                  3.0            Yes   \n",
       "450                   0.0                  0.0             No   \n",
       "451                  50.0                  0.0             No   \n",
       "\n",
       "     Exercise frequency  \n",
       "0                   3.0  \n",
       "1                   3.0  \n",
       "2                   3.0  \n",
       "3                   1.0  \n",
       "4                   3.0  \n",
       "..                  ...  \n",
       "447                 5.0  \n",
       "448                 3.0  \n",
       "449                 0.0  \n",
       "450                 3.0  \n",
       "451                 1.0  \n",
       "\n",
       "[452 rows x 15 columns]"
      ]
     },
     "execution_count": 64,
     "metadata": {},
     "output_type": "execute_result"
    }
   ],
   "source": [
    "d"
   ]
  },
  {
   "cell_type": "code",
   "execution_count": 65,
   "id": "6357dc75-4f00-4322-ac43-01350c031165",
   "metadata": {},
   "outputs": [
    {
     "data": {
      "text/html": [
       "<div>\n",
       "<style scoped>\n",
       "    .dataframe tbody tr th:only-of-type {\n",
       "        vertical-align: middle;\n",
       "    }\n",
       "\n",
       "    .dataframe tbody tr th {\n",
       "        vertical-align: top;\n",
       "    }\n",
       "\n",
       "    .dataframe thead th {\n",
       "        text-align: right;\n",
       "    }\n",
       "</style>\n",
       "<table border=\"1\" class=\"dataframe\">\n",
       "  <thead>\n",
       "    <tr style=\"text-align: right;\">\n",
       "      <th></th>\n",
       "      <th>ID</th>\n",
       "      <th>Age</th>\n",
       "      <th>Gender</th>\n",
       "      <th>Bedtime</th>\n",
       "      <th>Wakeup time</th>\n",
       "      <th>Sleep duration</th>\n",
       "      <th>Sleep efficiency</th>\n",
       "      <th>REM sleep percentage</th>\n",
       "      <th>Deep sleep percentage</th>\n",
       "      <th>Light sleep percentage</th>\n",
       "      <th>Awakenings</th>\n",
       "      <th>Caffeine consumption</th>\n",
       "      <th>Alcohol consumption</th>\n",
       "      <th>Smoking status</th>\n",
       "      <th>Exercise frequency</th>\n",
       "    </tr>\n",
       "  </thead>\n",
       "  <tbody>\n",
       "    <tr>\n",
       "      <th>0</th>\n",
       "      <td>1</td>\n",
       "      <td>65</td>\n",
       "      <td>Female</td>\n",
       "      <td>2021-03-06 01:00:00</td>\n",
       "      <td>2021-03-06 07:00:00</td>\n",
       "      <td>6.0</td>\n",
       "      <td>0.88</td>\n",
       "      <td>18</td>\n",
       "      <td>70</td>\n",
       "      <td>12</td>\n",
       "      <td>0.0</td>\n",
       "      <td>0.0</td>\n",
       "      <td>0.0</td>\n",
       "      <td>Yes</td>\n",
       "      <td>3.0</td>\n",
       "    </tr>\n",
       "    <tr>\n",
       "      <th>1</th>\n",
       "      <td>2</td>\n",
       "      <td>69</td>\n",
       "      <td>Male</td>\n",
       "      <td>2021-12-05 02:00:00</td>\n",
       "      <td>2021-12-05 09:00:00</td>\n",
       "      <td>7.0</td>\n",
       "      <td>0.66</td>\n",
       "      <td>19</td>\n",
       "      <td>28</td>\n",
       "      <td>53</td>\n",
       "      <td>3.0</td>\n",
       "      <td>0.0</td>\n",
       "      <td>3.0</td>\n",
       "      <td>Yes</td>\n",
       "      <td>3.0</td>\n",
       "    </tr>\n",
       "    <tr>\n",
       "      <th>2</th>\n",
       "      <td>3</td>\n",
       "      <td>40</td>\n",
       "      <td>Female</td>\n",
       "      <td>2021-05-25 21:30:00</td>\n",
       "      <td>2021-05-25 05:30:00</td>\n",
       "      <td>8.0</td>\n",
       "      <td>0.89</td>\n",
       "      <td>20</td>\n",
       "      <td>70</td>\n",
       "      <td>10</td>\n",
       "      <td>1.0</td>\n",
       "      <td>0.0</td>\n",
       "      <td>0.0</td>\n",
       "      <td>No</td>\n",
       "      <td>3.0</td>\n",
       "    </tr>\n",
       "    <tr>\n",
       "      <th>3</th>\n",
       "      <td>4</td>\n",
       "      <td>40</td>\n",
       "      <td>Female</td>\n",
       "      <td>2021-11-03 02:30:00</td>\n",
       "      <td>2021-11-03 08:30:00</td>\n",
       "      <td>6.0</td>\n",
       "      <td>0.51</td>\n",
       "      <td>23</td>\n",
       "      <td>25</td>\n",
       "      <td>52</td>\n",
       "      <td>3.0</td>\n",
       "      <td>50.0</td>\n",
       "      <td>5.0</td>\n",
       "      <td>Yes</td>\n",
       "      <td>1.0</td>\n",
       "    </tr>\n",
       "    <tr>\n",
       "      <th>4</th>\n",
       "      <td>5</td>\n",
       "      <td>57</td>\n",
       "      <td>Male</td>\n",
       "      <td>2021-03-13 01:00:00</td>\n",
       "      <td>2021-03-13 09:00:00</td>\n",
       "      <td>8.0</td>\n",
       "      <td>0.76</td>\n",
       "      <td>27</td>\n",
       "      <td>55</td>\n",
       "      <td>18</td>\n",
       "      <td>3.0</td>\n",
       "      <td>0.0</td>\n",
       "      <td>3.0</td>\n",
       "      <td>No</td>\n",
       "      <td>3.0</td>\n",
       "    </tr>\n",
       "    <tr>\n",
       "      <th>...</th>\n",
       "      <td>...</td>\n",
       "      <td>...</td>\n",
       "      <td>...</td>\n",
       "      <td>...</td>\n",
       "      <td>...</td>\n",
       "      <td>...</td>\n",
       "      <td>...</td>\n",
       "      <td>...</td>\n",
       "      <td>...</td>\n",
       "      <td>...</td>\n",
       "      <td>...</td>\n",
       "      <td>...</td>\n",
       "      <td>...</td>\n",
       "      <td>...</td>\n",
       "      <td>...</td>\n",
       "    </tr>\n",
       "    <tr>\n",
       "      <th>445</th>\n",
       "      <td>446</td>\n",
       "      <td>30</td>\n",
       "      <td>Female</td>\n",
       "      <td>2021-11-16 23:00:00</td>\n",
       "      <td>2021-11-16 06:30:00</td>\n",
       "      <td>7.5</td>\n",
       "      <td>0.53</td>\n",
       "      <td>28</td>\n",
       "      <td>20</td>\n",
       "      <td>52</td>\n",
       "      <td>4.0</td>\n",
       "      <td>50.0</td>\n",
       "      <td>2.0</td>\n",
       "      <td>Yes</td>\n",
       "      <td>1.0</td>\n",
       "    </tr>\n",
       "    <tr>\n",
       "      <th>447</th>\n",
       "      <td>448</td>\n",
       "      <td>27</td>\n",
       "      <td>Female</td>\n",
       "      <td>2021-11-13 22:00:00</td>\n",
       "      <td>2021-11-13 05:30:00</td>\n",
       "      <td>7.5</td>\n",
       "      <td>0.91</td>\n",
       "      <td>22</td>\n",
       "      <td>57</td>\n",
       "      <td>21</td>\n",
       "      <td>0.0</td>\n",
       "      <td>0.0</td>\n",
       "      <td>0.0</td>\n",
       "      <td>No</td>\n",
       "      <td>5.0</td>\n",
       "    </tr>\n",
       "    <tr>\n",
       "      <th>448</th>\n",
       "      <td>449</td>\n",
       "      <td>52</td>\n",
       "      <td>Male</td>\n",
       "      <td>2021-03-31 21:00:00</td>\n",
       "      <td>2021-03-31 03:00:00</td>\n",
       "      <td>6.0</td>\n",
       "      <td>0.74</td>\n",
       "      <td>28</td>\n",
       "      <td>57</td>\n",
       "      <td>15</td>\n",
       "      <td>4.0</td>\n",
       "      <td>25.0</td>\n",
       "      <td>0.0</td>\n",
       "      <td>No</td>\n",
       "      <td>3.0</td>\n",
       "    </tr>\n",
       "    <tr>\n",
       "      <th>450</th>\n",
       "      <td>451</td>\n",
       "      <td>45</td>\n",
       "      <td>Male</td>\n",
       "      <td>2021-07-29 21:00:00</td>\n",
       "      <td>2021-07-29 04:00:00</td>\n",
       "      <td>7.0</td>\n",
       "      <td>0.76</td>\n",
       "      <td>18</td>\n",
       "      <td>72</td>\n",
       "      <td>10</td>\n",
       "      <td>3.0</td>\n",
       "      <td>0.0</td>\n",
       "      <td>0.0</td>\n",
       "      <td>No</td>\n",
       "      <td>3.0</td>\n",
       "    </tr>\n",
       "    <tr>\n",
       "      <th>451</th>\n",
       "      <td>452</td>\n",
       "      <td>18</td>\n",
       "      <td>Male</td>\n",
       "      <td>2021-03-17 02:30:00</td>\n",
       "      <td>2021-03-17 10:00:00</td>\n",
       "      <td>7.5</td>\n",
       "      <td>0.63</td>\n",
       "      <td>22</td>\n",
       "      <td>23</td>\n",
       "      <td>55</td>\n",
       "      <td>1.0</td>\n",
       "      <td>50.0</td>\n",
       "      <td>0.0</td>\n",
       "      <td>No</td>\n",
       "      <td>1.0</td>\n",
       "    </tr>\n",
       "  </tbody>\n",
       "</table>\n",
       "<p>388 rows × 15 columns</p>\n",
       "</div>"
      ],
      "text/plain": [
       "      ID  Age  Gender             Bedtime         Wakeup time  Sleep duration  \\\n",
       "0      1   65  Female 2021-03-06 01:00:00 2021-03-06 07:00:00             6.0   \n",
       "1      2   69    Male 2021-12-05 02:00:00 2021-12-05 09:00:00             7.0   \n",
       "2      3   40  Female 2021-05-25 21:30:00 2021-05-25 05:30:00             8.0   \n",
       "3      4   40  Female 2021-11-03 02:30:00 2021-11-03 08:30:00             6.0   \n",
       "4      5   57    Male 2021-03-13 01:00:00 2021-03-13 09:00:00             8.0   \n",
       "..   ...  ...     ...                 ...                 ...             ...   \n",
       "445  446   30  Female 2021-11-16 23:00:00 2021-11-16 06:30:00             7.5   \n",
       "447  448   27  Female 2021-11-13 22:00:00 2021-11-13 05:30:00             7.5   \n",
       "448  449   52    Male 2021-03-31 21:00:00 2021-03-31 03:00:00             6.0   \n",
       "450  451   45    Male 2021-07-29 21:00:00 2021-07-29 04:00:00             7.0   \n",
       "451  452   18    Male 2021-03-17 02:30:00 2021-03-17 10:00:00             7.5   \n",
       "\n",
       "     Sleep efficiency  REM sleep percentage  Deep sleep percentage  \\\n",
       "0                0.88                    18                     70   \n",
       "1                0.66                    19                     28   \n",
       "2                0.89                    20                     70   \n",
       "3                0.51                    23                     25   \n",
       "4                0.76                    27                     55   \n",
       "..                ...                   ...                    ...   \n",
       "445              0.53                    28                     20   \n",
       "447              0.91                    22                     57   \n",
       "448              0.74                    28                     57   \n",
       "450              0.76                    18                     72   \n",
       "451              0.63                    22                     23   \n",
       "\n",
       "     Light sleep percentage  Awakenings  Caffeine consumption  \\\n",
       "0                        12         0.0                   0.0   \n",
       "1                        53         3.0                   0.0   \n",
       "2                        10         1.0                   0.0   \n",
       "3                        52         3.0                  50.0   \n",
       "4                        18         3.0                   0.0   \n",
       "..                      ...         ...                   ...   \n",
       "445                      52         4.0                  50.0   \n",
       "447                      21         0.0                   0.0   \n",
       "448                      15         4.0                  25.0   \n",
       "450                      10         3.0                   0.0   \n",
       "451                      55         1.0                  50.0   \n",
       "\n",
       "     Alcohol consumption Smoking status  Exercise frequency  \n",
       "0                    0.0            Yes                 3.0  \n",
       "1                    3.0            Yes                 3.0  \n",
       "2                    0.0             No                 3.0  \n",
       "3                    5.0            Yes                 1.0  \n",
       "4                    3.0             No                 3.0  \n",
       "..                   ...            ...                 ...  \n",
       "445                  2.0            Yes                 1.0  \n",
       "447                  0.0             No                 5.0  \n",
       "448                  0.0             No                 3.0  \n",
       "450                  0.0             No                 3.0  \n",
       "451                  0.0             No                 1.0  \n",
       "\n",
       "[388 rows x 15 columns]"
      ]
     },
     "execution_count": 65,
     "metadata": {},
     "output_type": "execute_result"
    }
   ],
   "source": [
    "df"
   ]
  },
  {
   "cell_type": "code",
   "execution_count": 66,
   "id": "324e015c-5a1b-4c0c-aac1-f9a77ab4a515",
   "metadata": {},
   "outputs": [],
   "source": [
    "# Calculate sleeping duration in hours\n",
    "df['Sleep duration (hours)'] = (df['Wakeup time'] - df['Bedtime']).dt.total_seconds() / 3600\n"
   ]
  },
  {
   "cell_type": "code",
   "execution_count": 67,
   "id": "4b4d7f8b-a376-4e3e-ac76-7a2fbf73151d",
   "metadata": {},
   "outputs": [
    {
     "data": {
      "text/html": [
       "<div>\n",
       "<style scoped>\n",
       "    .dataframe tbody tr th:only-of-type {\n",
       "        vertical-align: middle;\n",
       "    }\n",
       "\n",
       "    .dataframe tbody tr th {\n",
       "        vertical-align: top;\n",
       "    }\n",
       "\n",
       "    .dataframe thead th {\n",
       "        text-align: right;\n",
       "    }\n",
       "</style>\n",
       "<table border=\"1\" class=\"dataframe\">\n",
       "  <thead>\n",
       "    <tr style=\"text-align: right;\">\n",
       "      <th></th>\n",
       "      <th>ID</th>\n",
       "      <th>Age</th>\n",
       "      <th>Gender</th>\n",
       "      <th>Bedtime</th>\n",
       "      <th>Wakeup time</th>\n",
       "      <th>Sleep duration</th>\n",
       "      <th>Sleep efficiency</th>\n",
       "      <th>REM sleep percentage</th>\n",
       "      <th>Deep sleep percentage</th>\n",
       "      <th>Light sleep percentage</th>\n",
       "      <th>Awakenings</th>\n",
       "      <th>Caffeine consumption</th>\n",
       "      <th>Alcohol consumption</th>\n",
       "      <th>Smoking status</th>\n",
       "      <th>Exercise frequency</th>\n",
       "      <th>Sleep duration (hours)</th>\n",
       "    </tr>\n",
       "  </thead>\n",
       "  <tbody>\n",
       "    <tr>\n",
       "      <th>0</th>\n",
       "      <td>1</td>\n",
       "      <td>65</td>\n",
       "      <td>Female</td>\n",
       "      <td>2021-03-06 01:00:00</td>\n",
       "      <td>2021-03-06 07:00:00</td>\n",
       "      <td>6.0</td>\n",
       "      <td>0.88</td>\n",
       "      <td>18</td>\n",
       "      <td>70</td>\n",
       "      <td>12</td>\n",
       "      <td>0.0</td>\n",
       "      <td>0.0</td>\n",
       "      <td>0.0</td>\n",
       "      <td>Yes</td>\n",
       "      <td>3.0</td>\n",
       "      <td>6.0</td>\n",
       "    </tr>\n",
       "    <tr>\n",
       "      <th>1</th>\n",
       "      <td>2</td>\n",
       "      <td>69</td>\n",
       "      <td>Male</td>\n",
       "      <td>2021-12-05 02:00:00</td>\n",
       "      <td>2021-12-05 09:00:00</td>\n",
       "      <td>7.0</td>\n",
       "      <td>0.66</td>\n",
       "      <td>19</td>\n",
       "      <td>28</td>\n",
       "      <td>53</td>\n",
       "      <td>3.0</td>\n",
       "      <td>0.0</td>\n",
       "      <td>3.0</td>\n",
       "      <td>Yes</td>\n",
       "      <td>3.0</td>\n",
       "      <td>7.0</td>\n",
       "    </tr>\n",
       "    <tr>\n",
       "      <th>2</th>\n",
       "      <td>3</td>\n",
       "      <td>40</td>\n",
       "      <td>Female</td>\n",
       "      <td>2021-05-25 21:30:00</td>\n",
       "      <td>2021-05-25 05:30:00</td>\n",
       "      <td>8.0</td>\n",
       "      <td>0.89</td>\n",
       "      <td>20</td>\n",
       "      <td>70</td>\n",
       "      <td>10</td>\n",
       "      <td>1.0</td>\n",
       "      <td>0.0</td>\n",
       "      <td>0.0</td>\n",
       "      <td>No</td>\n",
       "      <td>3.0</td>\n",
       "      <td>-16.0</td>\n",
       "    </tr>\n",
       "    <tr>\n",
       "      <th>3</th>\n",
       "      <td>4</td>\n",
       "      <td>40</td>\n",
       "      <td>Female</td>\n",
       "      <td>2021-11-03 02:30:00</td>\n",
       "      <td>2021-11-03 08:30:00</td>\n",
       "      <td>6.0</td>\n",
       "      <td>0.51</td>\n",
       "      <td>23</td>\n",
       "      <td>25</td>\n",
       "      <td>52</td>\n",
       "      <td>3.0</td>\n",
       "      <td>50.0</td>\n",
       "      <td>5.0</td>\n",
       "      <td>Yes</td>\n",
       "      <td>1.0</td>\n",
       "      <td>6.0</td>\n",
       "    </tr>\n",
       "    <tr>\n",
       "      <th>4</th>\n",
       "      <td>5</td>\n",
       "      <td>57</td>\n",
       "      <td>Male</td>\n",
       "      <td>2021-03-13 01:00:00</td>\n",
       "      <td>2021-03-13 09:00:00</td>\n",
       "      <td>8.0</td>\n",
       "      <td>0.76</td>\n",
       "      <td>27</td>\n",
       "      <td>55</td>\n",
       "      <td>18</td>\n",
       "      <td>3.0</td>\n",
       "      <td>0.0</td>\n",
       "      <td>3.0</td>\n",
       "      <td>No</td>\n",
       "      <td>3.0</td>\n",
       "      <td>8.0</td>\n",
       "    </tr>\n",
       "    <tr>\n",
       "      <th>...</th>\n",
       "      <td>...</td>\n",
       "      <td>...</td>\n",
       "      <td>...</td>\n",
       "      <td>...</td>\n",
       "      <td>...</td>\n",
       "      <td>...</td>\n",
       "      <td>...</td>\n",
       "      <td>...</td>\n",
       "      <td>...</td>\n",
       "      <td>...</td>\n",
       "      <td>...</td>\n",
       "      <td>...</td>\n",
       "      <td>...</td>\n",
       "      <td>...</td>\n",
       "      <td>...</td>\n",
       "      <td>...</td>\n",
       "    </tr>\n",
       "    <tr>\n",
       "      <th>445</th>\n",
       "      <td>446</td>\n",
       "      <td>30</td>\n",
       "      <td>Female</td>\n",
       "      <td>2021-11-16 23:00:00</td>\n",
       "      <td>2021-11-16 06:30:00</td>\n",
       "      <td>7.5</td>\n",
       "      <td>0.53</td>\n",
       "      <td>28</td>\n",
       "      <td>20</td>\n",
       "      <td>52</td>\n",
       "      <td>4.0</td>\n",
       "      <td>50.0</td>\n",
       "      <td>2.0</td>\n",
       "      <td>Yes</td>\n",
       "      <td>1.0</td>\n",
       "      <td>-16.5</td>\n",
       "    </tr>\n",
       "    <tr>\n",
       "      <th>447</th>\n",
       "      <td>448</td>\n",
       "      <td>27</td>\n",
       "      <td>Female</td>\n",
       "      <td>2021-11-13 22:00:00</td>\n",
       "      <td>2021-11-13 05:30:00</td>\n",
       "      <td>7.5</td>\n",
       "      <td>0.91</td>\n",
       "      <td>22</td>\n",
       "      <td>57</td>\n",
       "      <td>21</td>\n",
       "      <td>0.0</td>\n",
       "      <td>0.0</td>\n",
       "      <td>0.0</td>\n",
       "      <td>No</td>\n",
       "      <td>5.0</td>\n",
       "      <td>-16.5</td>\n",
       "    </tr>\n",
       "    <tr>\n",
       "      <th>448</th>\n",
       "      <td>449</td>\n",
       "      <td>52</td>\n",
       "      <td>Male</td>\n",
       "      <td>2021-03-31 21:00:00</td>\n",
       "      <td>2021-03-31 03:00:00</td>\n",
       "      <td>6.0</td>\n",
       "      <td>0.74</td>\n",
       "      <td>28</td>\n",
       "      <td>57</td>\n",
       "      <td>15</td>\n",
       "      <td>4.0</td>\n",
       "      <td>25.0</td>\n",
       "      <td>0.0</td>\n",
       "      <td>No</td>\n",
       "      <td>3.0</td>\n",
       "      <td>-18.0</td>\n",
       "    </tr>\n",
       "    <tr>\n",
       "      <th>450</th>\n",
       "      <td>451</td>\n",
       "      <td>45</td>\n",
       "      <td>Male</td>\n",
       "      <td>2021-07-29 21:00:00</td>\n",
       "      <td>2021-07-29 04:00:00</td>\n",
       "      <td>7.0</td>\n",
       "      <td>0.76</td>\n",
       "      <td>18</td>\n",
       "      <td>72</td>\n",
       "      <td>10</td>\n",
       "      <td>3.0</td>\n",
       "      <td>0.0</td>\n",
       "      <td>0.0</td>\n",
       "      <td>No</td>\n",
       "      <td>3.0</td>\n",
       "      <td>-17.0</td>\n",
       "    </tr>\n",
       "    <tr>\n",
       "      <th>451</th>\n",
       "      <td>452</td>\n",
       "      <td>18</td>\n",
       "      <td>Male</td>\n",
       "      <td>2021-03-17 02:30:00</td>\n",
       "      <td>2021-03-17 10:00:00</td>\n",
       "      <td>7.5</td>\n",
       "      <td>0.63</td>\n",
       "      <td>22</td>\n",
       "      <td>23</td>\n",
       "      <td>55</td>\n",
       "      <td>1.0</td>\n",
       "      <td>50.0</td>\n",
       "      <td>0.0</td>\n",
       "      <td>No</td>\n",
       "      <td>1.0</td>\n",
       "      <td>7.5</td>\n",
       "    </tr>\n",
       "  </tbody>\n",
       "</table>\n",
       "<p>388 rows × 16 columns</p>\n",
       "</div>"
      ],
      "text/plain": [
       "      ID  Age  Gender             Bedtime         Wakeup time  Sleep duration  \\\n",
       "0      1   65  Female 2021-03-06 01:00:00 2021-03-06 07:00:00             6.0   \n",
       "1      2   69    Male 2021-12-05 02:00:00 2021-12-05 09:00:00             7.0   \n",
       "2      3   40  Female 2021-05-25 21:30:00 2021-05-25 05:30:00             8.0   \n",
       "3      4   40  Female 2021-11-03 02:30:00 2021-11-03 08:30:00             6.0   \n",
       "4      5   57    Male 2021-03-13 01:00:00 2021-03-13 09:00:00             8.0   \n",
       "..   ...  ...     ...                 ...                 ...             ...   \n",
       "445  446   30  Female 2021-11-16 23:00:00 2021-11-16 06:30:00             7.5   \n",
       "447  448   27  Female 2021-11-13 22:00:00 2021-11-13 05:30:00             7.5   \n",
       "448  449   52    Male 2021-03-31 21:00:00 2021-03-31 03:00:00             6.0   \n",
       "450  451   45    Male 2021-07-29 21:00:00 2021-07-29 04:00:00             7.0   \n",
       "451  452   18    Male 2021-03-17 02:30:00 2021-03-17 10:00:00             7.5   \n",
       "\n",
       "     Sleep efficiency  REM sleep percentage  Deep sleep percentage  \\\n",
       "0                0.88                    18                     70   \n",
       "1                0.66                    19                     28   \n",
       "2                0.89                    20                     70   \n",
       "3                0.51                    23                     25   \n",
       "4                0.76                    27                     55   \n",
       "..                ...                   ...                    ...   \n",
       "445              0.53                    28                     20   \n",
       "447              0.91                    22                     57   \n",
       "448              0.74                    28                     57   \n",
       "450              0.76                    18                     72   \n",
       "451              0.63                    22                     23   \n",
       "\n",
       "     Light sleep percentage  Awakenings  Caffeine consumption  \\\n",
       "0                        12         0.0                   0.0   \n",
       "1                        53         3.0                   0.0   \n",
       "2                        10         1.0                   0.0   \n",
       "3                        52         3.0                  50.0   \n",
       "4                        18         3.0                   0.0   \n",
       "..                      ...         ...                   ...   \n",
       "445                      52         4.0                  50.0   \n",
       "447                      21         0.0                   0.0   \n",
       "448                      15         4.0                  25.0   \n",
       "450                      10         3.0                   0.0   \n",
       "451                      55         1.0                  50.0   \n",
       "\n",
       "     Alcohol consumption Smoking status  Exercise frequency  \\\n",
       "0                    0.0            Yes                 3.0   \n",
       "1                    3.0            Yes                 3.0   \n",
       "2                    0.0             No                 3.0   \n",
       "3                    5.0            Yes                 1.0   \n",
       "4                    3.0             No                 3.0   \n",
       "..                   ...            ...                 ...   \n",
       "445                  2.0            Yes                 1.0   \n",
       "447                  0.0             No                 5.0   \n",
       "448                  0.0             No                 3.0   \n",
       "450                  0.0             No                 3.0   \n",
       "451                  0.0             No                 1.0   \n",
       "\n",
       "     Sleep duration (hours)  \n",
       "0                       6.0  \n",
       "1                       7.0  \n",
       "2                     -16.0  \n",
       "3                       6.0  \n",
       "4                       8.0  \n",
       "..                      ...  \n",
       "445                   -16.5  \n",
       "447                   -16.5  \n",
       "448                   -18.0  \n",
       "450                   -17.0  \n",
       "451                     7.5  \n",
       "\n",
       "[388 rows x 16 columns]"
      ]
     },
     "execution_count": 67,
     "metadata": {},
     "output_type": "execute_result"
    }
   ],
   "source": [
    "df"
   ]
  },
  {
   "cell_type": "code",
   "execution_count": 68,
   "id": "613e2440-1b5d-4129-98b5-28909f5a3bff",
   "metadata": {},
   "outputs": [
    {
     "data": {
      "text/html": [
       "<div>\n",
       "<style scoped>\n",
       "    .dataframe tbody tr th:only-of-type {\n",
       "        vertical-align: middle;\n",
       "    }\n",
       "\n",
       "    .dataframe tbody tr th {\n",
       "        vertical-align: top;\n",
       "    }\n",
       "\n",
       "    .dataframe thead th {\n",
       "        text-align: right;\n",
       "    }\n",
       "</style>\n",
       "<table border=\"1\" class=\"dataframe\">\n",
       "  <thead>\n",
       "    <tr style=\"text-align: right;\">\n",
       "      <th></th>\n",
       "      <th>ID</th>\n",
       "      <th>Age</th>\n",
       "      <th>Gender</th>\n",
       "      <th>Bedtime</th>\n",
       "      <th>Wakeup time</th>\n",
       "      <th>Sleep duration</th>\n",
       "      <th>Sleep efficiency</th>\n",
       "      <th>REM sleep percentage</th>\n",
       "      <th>Deep sleep percentage</th>\n",
       "      <th>Light sleep percentage</th>\n",
       "      <th>Awakenings</th>\n",
       "      <th>Caffeine consumption</th>\n",
       "      <th>Alcohol consumption</th>\n",
       "      <th>Smoking status</th>\n",
       "      <th>Exercise frequency</th>\n",
       "    </tr>\n",
       "  </thead>\n",
       "  <tbody>\n",
       "    <tr>\n",
       "      <th>0</th>\n",
       "      <td>1</td>\n",
       "      <td>65</td>\n",
       "      <td>Female</td>\n",
       "      <td>2021-03-06 01:00:00</td>\n",
       "      <td>2021-03-06 07:00:00</td>\n",
       "      <td>6.0</td>\n",
       "      <td>0.88</td>\n",
       "      <td>18</td>\n",
       "      <td>70</td>\n",
       "      <td>12</td>\n",
       "      <td>0.0</td>\n",
       "      <td>0.0</td>\n",
       "      <td>0.0</td>\n",
       "      <td>Yes</td>\n",
       "      <td>3.0</td>\n",
       "    </tr>\n",
       "    <tr>\n",
       "      <th>1</th>\n",
       "      <td>2</td>\n",
       "      <td>69</td>\n",
       "      <td>Male</td>\n",
       "      <td>2021-12-05 02:00:00</td>\n",
       "      <td>2021-12-05 09:00:00</td>\n",
       "      <td>7.0</td>\n",
       "      <td>0.66</td>\n",
       "      <td>19</td>\n",
       "      <td>28</td>\n",
       "      <td>53</td>\n",
       "      <td>3.0</td>\n",
       "      <td>0.0</td>\n",
       "      <td>3.0</td>\n",
       "      <td>Yes</td>\n",
       "      <td>3.0</td>\n",
       "    </tr>\n",
       "    <tr>\n",
       "      <th>2</th>\n",
       "      <td>3</td>\n",
       "      <td>40</td>\n",
       "      <td>Female</td>\n",
       "      <td>2021-05-25 21:30:00</td>\n",
       "      <td>2021-05-25 05:30:00</td>\n",
       "      <td>8.0</td>\n",
       "      <td>0.89</td>\n",
       "      <td>20</td>\n",
       "      <td>70</td>\n",
       "      <td>10</td>\n",
       "      <td>1.0</td>\n",
       "      <td>0.0</td>\n",
       "      <td>0.0</td>\n",
       "      <td>No</td>\n",
       "      <td>3.0</td>\n",
       "    </tr>\n",
       "    <tr>\n",
       "      <th>3</th>\n",
       "      <td>4</td>\n",
       "      <td>40</td>\n",
       "      <td>Female</td>\n",
       "      <td>2021-11-03 02:30:00</td>\n",
       "      <td>2021-11-03 08:30:00</td>\n",
       "      <td>6.0</td>\n",
       "      <td>0.51</td>\n",
       "      <td>23</td>\n",
       "      <td>25</td>\n",
       "      <td>52</td>\n",
       "      <td>3.0</td>\n",
       "      <td>50.0</td>\n",
       "      <td>5.0</td>\n",
       "      <td>Yes</td>\n",
       "      <td>1.0</td>\n",
       "    </tr>\n",
       "    <tr>\n",
       "      <th>4</th>\n",
       "      <td>5</td>\n",
       "      <td>57</td>\n",
       "      <td>Male</td>\n",
       "      <td>2021-03-13 01:00:00</td>\n",
       "      <td>2021-03-13 09:00:00</td>\n",
       "      <td>8.0</td>\n",
       "      <td>0.76</td>\n",
       "      <td>27</td>\n",
       "      <td>55</td>\n",
       "      <td>18</td>\n",
       "      <td>3.0</td>\n",
       "      <td>0.0</td>\n",
       "      <td>3.0</td>\n",
       "      <td>No</td>\n",
       "      <td>3.0</td>\n",
       "    </tr>\n",
       "    <tr>\n",
       "      <th>...</th>\n",
       "      <td>...</td>\n",
       "      <td>...</td>\n",
       "      <td>...</td>\n",
       "      <td>...</td>\n",
       "      <td>...</td>\n",
       "      <td>...</td>\n",
       "      <td>...</td>\n",
       "      <td>...</td>\n",
       "      <td>...</td>\n",
       "      <td>...</td>\n",
       "      <td>...</td>\n",
       "      <td>...</td>\n",
       "      <td>...</td>\n",
       "      <td>...</td>\n",
       "      <td>...</td>\n",
       "    </tr>\n",
       "    <tr>\n",
       "      <th>447</th>\n",
       "      <td>448</td>\n",
       "      <td>27</td>\n",
       "      <td>Female</td>\n",
       "      <td>2021-11-13 22:00:00</td>\n",
       "      <td>2021-11-13 05:30:00</td>\n",
       "      <td>7.5</td>\n",
       "      <td>0.91</td>\n",
       "      <td>22</td>\n",
       "      <td>57</td>\n",
       "      <td>21</td>\n",
       "      <td>0.0</td>\n",
       "      <td>0.0</td>\n",
       "      <td>0.0</td>\n",
       "      <td>No</td>\n",
       "      <td>5.0</td>\n",
       "    </tr>\n",
       "    <tr>\n",
       "      <th>448</th>\n",
       "      <td>449</td>\n",
       "      <td>52</td>\n",
       "      <td>Male</td>\n",
       "      <td>2021-03-31 21:00:00</td>\n",
       "      <td>2021-03-31 03:00:00</td>\n",
       "      <td>6.0</td>\n",
       "      <td>0.74</td>\n",
       "      <td>28</td>\n",
       "      <td>57</td>\n",
       "      <td>15</td>\n",
       "      <td>4.0</td>\n",
       "      <td>25.0</td>\n",
       "      <td>0.0</td>\n",
       "      <td>No</td>\n",
       "      <td>3.0</td>\n",
       "    </tr>\n",
       "    <tr>\n",
       "      <th>449</th>\n",
       "      <td>450</td>\n",
       "      <td>40</td>\n",
       "      <td>Female</td>\n",
       "      <td>2021-09-07 23:00:00</td>\n",
       "      <td>2021-09-07 07:30:00</td>\n",
       "      <td>8.5</td>\n",
       "      <td>0.55</td>\n",
       "      <td>20</td>\n",
       "      <td>32</td>\n",
       "      <td>48</td>\n",
       "      <td>1.0</td>\n",
       "      <td>NaN</td>\n",
       "      <td>3.0</td>\n",
       "      <td>Yes</td>\n",
       "      <td>0.0</td>\n",
       "    </tr>\n",
       "    <tr>\n",
       "      <th>450</th>\n",
       "      <td>451</td>\n",
       "      <td>45</td>\n",
       "      <td>Male</td>\n",
       "      <td>2021-07-29 21:00:00</td>\n",
       "      <td>2021-07-29 04:00:00</td>\n",
       "      <td>7.0</td>\n",
       "      <td>0.76</td>\n",
       "      <td>18</td>\n",
       "      <td>72</td>\n",
       "      <td>10</td>\n",
       "      <td>3.0</td>\n",
       "      <td>0.0</td>\n",
       "      <td>0.0</td>\n",
       "      <td>No</td>\n",
       "      <td>3.0</td>\n",
       "    </tr>\n",
       "    <tr>\n",
       "      <th>451</th>\n",
       "      <td>452</td>\n",
       "      <td>18</td>\n",
       "      <td>Male</td>\n",
       "      <td>2021-03-17 02:30:00</td>\n",
       "      <td>2021-03-17 10:00:00</td>\n",
       "      <td>7.5</td>\n",
       "      <td>0.63</td>\n",
       "      <td>22</td>\n",
       "      <td>23</td>\n",
       "      <td>55</td>\n",
       "      <td>1.0</td>\n",
       "      <td>50.0</td>\n",
       "      <td>0.0</td>\n",
       "      <td>No</td>\n",
       "      <td>1.0</td>\n",
       "    </tr>\n",
       "  </tbody>\n",
       "</table>\n",
       "<p>452 rows × 15 columns</p>\n",
       "</div>"
      ],
      "text/plain": [
       "      ID  Age  Gender              Bedtime          Wakeup time  \\\n",
       "0      1   65  Female  2021-03-06 01:00:00  2021-03-06 07:00:00   \n",
       "1      2   69    Male  2021-12-05 02:00:00  2021-12-05 09:00:00   \n",
       "2      3   40  Female  2021-05-25 21:30:00  2021-05-25 05:30:00   \n",
       "3      4   40  Female  2021-11-03 02:30:00  2021-11-03 08:30:00   \n",
       "4      5   57    Male  2021-03-13 01:00:00  2021-03-13 09:00:00   \n",
       "..   ...  ...     ...                  ...                  ...   \n",
       "447  448   27  Female  2021-11-13 22:00:00  2021-11-13 05:30:00   \n",
       "448  449   52    Male  2021-03-31 21:00:00  2021-03-31 03:00:00   \n",
       "449  450   40  Female  2021-09-07 23:00:00  2021-09-07 07:30:00   \n",
       "450  451   45    Male  2021-07-29 21:00:00  2021-07-29 04:00:00   \n",
       "451  452   18    Male  2021-03-17 02:30:00  2021-03-17 10:00:00   \n",
       "\n",
       "     Sleep duration  Sleep efficiency  REM sleep percentage  \\\n",
       "0               6.0              0.88                    18   \n",
       "1               7.0              0.66                    19   \n",
       "2               8.0              0.89                    20   \n",
       "3               6.0              0.51                    23   \n",
       "4               8.0              0.76                    27   \n",
       "..              ...               ...                   ...   \n",
       "447             7.5              0.91                    22   \n",
       "448             6.0              0.74                    28   \n",
       "449             8.5              0.55                    20   \n",
       "450             7.0              0.76                    18   \n",
       "451             7.5              0.63                    22   \n",
       "\n",
       "     Deep sleep percentage  Light sleep percentage  Awakenings  \\\n",
       "0                       70                      12         0.0   \n",
       "1                       28                      53         3.0   \n",
       "2                       70                      10         1.0   \n",
       "3                       25                      52         3.0   \n",
       "4                       55                      18         3.0   \n",
       "..                     ...                     ...         ...   \n",
       "447                     57                      21         0.0   \n",
       "448                     57                      15         4.0   \n",
       "449                     32                      48         1.0   \n",
       "450                     72                      10         3.0   \n",
       "451                     23                      55         1.0   \n",
       "\n",
       "     Caffeine consumption  Alcohol consumption Smoking status  \\\n",
       "0                     0.0                  0.0            Yes   \n",
       "1                     0.0                  3.0            Yes   \n",
       "2                     0.0                  0.0             No   \n",
       "3                    50.0                  5.0            Yes   \n",
       "4                     0.0                  3.0             No   \n",
       "..                    ...                  ...            ...   \n",
       "447                   0.0                  0.0             No   \n",
       "448                  25.0                  0.0             No   \n",
       "449                   NaN                  3.0            Yes   \n",
       "450                   0.0                  0.0             No   \n",
       "451                  50.0                  0.0             No   \n",
       "\n",
       "     Exercise frequency  \n",
       "0                   3.0  \n",
       "1                   3.0  \n",
       "2                   3.0  \n",
       "3                   1.0  \n",
       "4                   3.0  \n",
       "..                  ...  \n",
       "447                 5.0  \n",
       "448                 3.0  \n",
       "449                 0.0  \n",
       "450                 3.0  \n",
       "451                 1.0  \n",
       "\n",
       "[452 rows x 15 columns]"
      ]
     },
     "execution_count": 68,
     "metadata": {},
     "output_type": "execute_result"
    }
   ],
   "source": [
    "d"
   ]
  },
  {
   "cell_type": "code",
   "execution_count": 69,
   "id": "4923f469-5a08-40b1-8e5b-a6d677570e09",
   "metadata": {},
   "outputs": [
    {
     "data": {
      "text/html": [
       "<div>\n",
       "<style scoped>\n",
       "    .dataframe tbody tr th:only-of-type {\n",
       "        vertical-align: middle;\n",
       "    }\n",
       "\n",
       "    .dataframe tbody tr th {\n",
       "        vertical-align: top;\n",
       "    }\n",
       "\n",
       "    .dataframe thead th {\n",
       "        text-align: right;\n",
       "    }\n",
       "</style>\n",
       "<table border=\"1\" class=\"dataframe\">\n",
       "  <thead>\n",
       "    <tr style=\"text-align: right;\">\n",
       "      <th></th>\n",
       "      <th>ID</th>\n",
       "      <th>Age</th>\n",
       "      <th>Gender</th>\n",
       "      <th>Bedtime</th>\n",
       "      <th>Wakeup time</th>\n",
       "      <th>Sleep duration</th>\n",
       "      <th>Sleep efficiency</th>\n",
       "      <th>REM sleep percentage</th>\n",
       "      <th>Deep sleep percentage</th>\n",
       "      <th>Light sleep percentage</th>\n",
       "      <th>Awakenings</th>\n",
       "      <th>Caffeine consumption</th>\n",
       "      <th>Alcohol consumption</th>\n",
       "      <th>Smoking status</th>\n",
       "      <th>Exercise frequency</th>\n",
       "      <th>Sleep duration (hours)</th>\n",
       "    </tr>\n",
       "  </thead>\n",
       "  <tbody>\n",
       "    <tr>\n",
       "      <th>0</th>\n",
       "      <td>1</td>\n",
       "      <td>65</td>\n",
       "      <td>Female</td>\n",
       "      <td>2021-03-06 01:00:00</td>\n",
       "      <td>2021-03-06 07:00:00</td>\n",
       "      <td>6.0</td>\n",
       "      <td>0.88</td>\n",
       "      <td>18</td>\n",
       "      <td>70</td>\n",
       "      <td>12</td>\n",
       "      <td>0.0</td>\n",
       "      <td>0.0</td>\n",
       "      <td>0.0</td>\n",
       "      <td>Yes</td>\n",
       "      <td>3.0</td>\n",
       "      <td>6.0</td>\n",
       "    </tr>\n",
       "    <tr>\n",
       "      <th>1</th>\n",
       "      <td>2</td>\n",
       "      <td>69</td>\n",
       "      <td>Male</td>\n",
       "      <td>2021-12-05 02:00:00</td>\n",
       "      <td>2021-12-05 09:00:00</td>\n",
       "      <td>7.0</td>\n",
       "      <td>0.66</td>\n",
       "      <td>19</td>\n",
       "      <td>28</td>\n",
       "      <td>53</td>\n",
       "      <td>3.0</td>\n",
       "      <td>0.0</td>\n",
       "      <td>3.0</td>\n",
       "      <td>Yes</td>\n",
       "      <td>3.0</td>\n",
       "      <td>7.0</td>\n",
       "    </tr>\n",
       "    <tr>\n",
       "      <th>2</th>\n",
       "      <td>3</td>\n",
       "      <td>40</td>\n",
       "      <td>Female</td>\n",
       "      <td>2021-05-25 21:30:00</td>\n",
       "      <td>2021-05-25 05:30:00</td>\n",
       "      <td>8.0</td>\n",
       "      <td>0.89</td>\n",
       "      <td>20</td>\n",
       "      <td>70</td>\n",
       "      <td>10</td>\n",
       "      <td>1.0</td>\n",
       "      <td>0.0</td>\n",
       "      <td>0.0</td>\n",
       "      <td>No</td>\n",
       "      <td>3.0</td>\n",
       "      <td>-16.0</td>\n",
       "    </tr>\n",
       "    <tr>\n",
       "      <th>3</th>\n",
       "      <td>4</td>\n",
       "      <td>40</td>\n",
       "      <td>Female</td>\n",
       "      <td>2021-11-03 02:30:00</td>\n",
       "      <td>2021-11-03 08:30:00</td>\n",
       "      <td>6.0</td>\n",
       "      <td>0.51</td>\n",
       "      <td>23</td>\n",
       "      <td>25</td>\n",
       "      <td>52</td>\n",
       "      <td>3.0</td>\n",
       "      <td>50.0</td>\n",
       "      <td>5.0</td>\n",
       "      <td>Yes</td>\n",
       "      <td>1.0</td>\n",
       "      <td>6.0</td>\n",
       "    </tr>\n",
       "    <tr>\n",
       "      <th>4</th>\n",
       "      <td>5</td>\n",
       "      <td>57</td>\n",
       "      <td>Male</td>\n",
       "      <td>2021-03-13 01:00:00</td>\n",
       "      <td>2021-03-13 09:00:00</td>\n",
       "      <td>8.0</td>\n",
       "      <td>0.76</td>\n",
       "      <td>27</td>\n",
       "      <td>55</td>\n",
       "      <td>18</td>\n",
       "      <td>3.0</td>\n",
       "      <td>0.0</td>\n",
       "      <td>3.0</td>\n",
       "      <td>No</td>\n",
       "      <td>3.0</td>\n",
       "      <td>8.0</td>\n",
       "    </tr>\n",
       "    <tr>\n",
       "      <th>...</th>\n",
       "      <td>...</td>\n",
       "      <td>...</td>\n",
       "      <td>...</td>\n",
       "      <td>...</td>\n",
       "      <td>...</td>\n",
       "      <td>...</td>\n",
       "      <td>...</td>\n",
       "      <td>...</td>\n",
       "      <td>...</td>\n",
       "      <td>...</td>\n",
       "      <td>...</td>\n",
       "      <td>...</td>\n",
       "      <td>...</td>\n",
       "      <td>...</td>\n",
       "      <td>...</td>\n",
       "      <td>...</td>\n",
       "    </tr>\n",
       "    <tr>\n",
       "      <th>445</th>\n",
       "      <td>446</td>\n",
       "      <td>30</td>\n",
       "      <td>Female</td>\n",
       "      <td>2021-11-16 23:00:00</td>\n",
       "      <td>2021-11-16 06:30:00</td>\n",
       "      <td>7.5</td>\n",
       "      <td>0.53</td>\n",
       "      <td>28</td>\n",
       "      <td>20</td>\n",
       "      <td>52</td>\n",
       "      <td>4.0</td>\n",
       "      <td>50.0</td>\n",
       "      <td>2.0</td>\n",
       "      <td>Yes</td>\n",
       "      <td>1.0</td>\n",
       "      <td>-16.5</td>\n",
       "    </tr>\n",
       "    <tr>\n",
       "      <th>447</th>\n",
       "      <td>448</td>\n",
       "      <td>27</td>\n",
       "      <td>Female</td>\n",
       "      <td>2021-11-13 22:00:00</td>\n",
       "      <td>2021-11-13 05:30:00</td>\n",
       "      <td>7.5</td>\n",
       "      <td>0.91</td>\n",
       "      <td>22</td>\n",
       "      <td>57</td>\n",
       "      <td>21</td>\n",
       "      <td>0.0</td>\n",
       "      <td>0.0</td>\n",
       "      <td>0.0</td>\n",
       "      <td>No</td>\n",
       "      <td>5.0</td>\n",
       "      <td>-16.5</td>\n",
       "    </tr>\n",
       "    <tr>\n",
       "      <th>448</th>\n",
       "      <td>449</td>\n",
       "      <td>52</td>\n",
       "      <td>Male</td>\n",
       "      <td>2021-03-31 21:00:00</td>\n",
       "      <td>2021-03-31 03:00:00</td>\n",
       "      <td>6.0</td>\n",
       "      <td>0.74</td>\n",
       "      <td>28</td>\n",
       "      <td>57</td>\n",
       "      <td>15</td>\n",
       "      <td>4.0</td>\n",
       "      <td>25.0</td>\n",
       "      <td>0.0</td>\n",
       "      <td>No</td>\n",
       "      <td>3.0</td>\n",
       "      <td>-18.0</td>\n",
       "    </tr>\n",
       "    <tr>\n",
       "      <th>450</th>\n",
       "      <td>451</td>\n",
       "      <td>45</td>\n",
       "      <td>Male</td>\n",
       "      <td>2021-07-29 21:00:00</td>\n",
       "      <td>2021-07-29 04:00:00</td>\n",
       "      <td>7.0</td>\n",
       "      <td>0.76</td>\n",
       "      <td>18</td>\n",
       "      <td>72</td>\n",
       "      <td>10</td>\n",
       "      <td>3.0</td>\n",
       "      <td>0.0</td>\n",
       "      <td>0.0</td>\n",
       "      <td>No</td>\n",
       "      <td>3.0</td>\n",
       "      <td>-17.0</td>\n",
       "    </tr>\n",
       "    <tr>\n",
       "      <th>451</th>\n",
       "      <td>452</td>\n",
       "      <td>18</td>\n",
       "      <td>Male</td>\n",
       "      <td>2021-03-17 02:30:00</td>\n",
       "      <td>2021-03-17 10:00:00</td>\n",
       "      <td>7.5</td>\n",
       "      <td>0.63</td>\n",
       "      <td>22</td>\n",
       "      <td>23</td>\n",
       "      <td>55</td>\n",
       "      <td>1.0</td>\n",
       "      <td>50.0</td>\n",
       "      <td>0.0</td>\n",
       "      <td>No</td>\n",
       "      <td>1.0</td>\n",
       "      <td>7.5</td>\n",
       "    </tr>\n",
       "  </tbody>\n",
       "</table>\n",
       "<p>388 rows × 16 columns</p>\n",
       "</div>"
      ],
      "text/plain": [
       "      ID  Age  Gender             Bedtime         Wakeup time  Sleep duration  \\\n",
       "0      1   65  Female 2021-03-06 01:00:00 2021-03-06 07:00:00             6.0   \n",
       "1      2   69    Male 2021-12-05 02:00:00 2021-12-05 09:00:00             7.0   \n",
       "2      3   40  Female 2021-05-25 21:30:00 2021-05-25 05:30:00             8.0   \n",
       "3      4   40  Female 2021-11-03 02:30:00 2021-11-03 08:30:00             6.0   \n",
       "4      5   57    Male 2021-03-13 01:00:00 2021-03-13 09:00:00             8.0   \n",
       "..   ...  ...     ...                 ...                 ...             ...   \n",
       "445  446   30  Female 2021-11-16 23:00:00 2021-11-16 06:30:00             7.5   \n",
       "447  448   27  Female 2021-11-13 22:00:00 2021-11-13 05:30:00             7.5   \n",
       "448  449   52    Male 2021-03-31 21:00:00 2021-03-31 03:00:00             6.0   \n",
       "450  451   45    Male 2021-07-29 21:00:00 2021-07-29 04:00:00             7.0   \n",
       "451  452   18    Male 2021-03-17 02:30:00 2021-03-17 10:00:00             7.5   \n",
       "\n",
       "     Sleep efficiency  REM sleep percentage  Deep sleep percentage  \\\n",
       "0                0.88                    18                     70   \n",
       "1                0.66                    19                     28   \n",
       "2                0.89                    20                     70   \n",
       "3                0.51                    23                     25   \n",
       "4                0.76                    27                     55   \n",
       "..                ...                   ...                    ...   \n",
       "445              0.53                    28                     20   \n",
       "447              0.91                    22                     57   \n",
       "448              0.74                    28                     57   \n",
       "450              0.76                    18                     72   \n",
       "451              0.63                    22                     23   \n",
       "\n",
       "     Light sleep percentage  Awakenings  Caffeine consumption  \\\n",
       "0                        12         0.0                   0.0   \n",
       "1                        53         3.0                   0.0   \n",
       "2                        10         1.0                   0.0   \n",
       "3                        52         3.0                  50.0   \n",
       "4                        18         3.0                   0.0   \n",
       "..                      ...         ...                   ...   \n",
       "445                      52         4.0                  50.0   \n",
       "447                      21         0.0                   0.0   \n",
       "448                      15         4.0                  25.0   \n",
       "450                      10         3.0                   0.0   \n",
       "451                      55         1.0                  50.0   \n",
       "\n",
       "     Alcohol consumption Smoking status  Exercise frequency  \\\n",
       "0                    0.0            Yes                 3.0   \n",
       "1                    3.0            Yes                 3.0   \n",
       "2                    0.0             No                 3.0   \n",
       "3                    5.0            Yes                 1.0   \n",
       "4                    3.0             No                 3.0   \n",
       "..                   ...            ...                 ...   \n",
       "445                  2.0            Yes                 1.0   \n",
       "447                  0.0             No                 5.0   \n",
       "448                  0.0             No                 3.0   \n",
       "450                  0.0             No                 3.0   \n",
       "451                  0.0             No                 1.0   \n",
       "\n",
       "     Sleep duration (hours)  \n",
       "0                       6.0  \n",
       "1                       7.0  \n",
       "2                     -16.0  \n",
       "3                       6.0  \n",
       "4                       8.0  \n",
       "..                      ...  \n",
       "445                   -16.5  \n",
       "447                   -16.5  \n",
       "448                   -18.0  \n",
       "450                   -17.0  \n",
       "451                     7.5  \n",
       "\n",
       "[388 rows x 16 columns]"
      ]
     },
     "execution_count": 69,
     "metadata": {},
     "output_type": "execute_result"
    }
   ],
   "source": [
    "df"
   ]
  },
  {
   "cell_type": "code",
   "execution_count": 98,
   "id": "8aae79e5-b7e2-497a-80cb-69eaa13d8ebf",
   "metadata": {},
   "outputs": [],
   "source": [
    "def categorize_sleep(efficiency):\n",
    "    if efficiency >= 20:\n",
    "        return 'Good'\n",
    "    else:\n",
    "        return 'Bad'"
   ]
  },
  {
   "cell_type": "code",
   "execution_count": 99,
   "id": "39def2f9-844c-4ed4-9d11-a37f334f185b",
   "metadata": {},
   "outputs": [],
   "source": [
    "# Apply the function to create a new column\n",
    "df['sleep_category'] = df['Sleep efficiency'].apply(categorize_sleep)"
   ]
  },
  {
   "cell_type": "code",
   "execution_count": 100,
   "id": "fb78f398-2975-4f32-9d22-10a77b9ff40b",
   "metadata": {},
   "outputs": [
    {
     "data": {
      "text/html": [
       "<div>\n",
       "<style scoped>\n",
       "    .dataframe tbody tr th:only-of-type {\n",
       "        vertical-align: middle;\n",
       "    }\n",
       "\n",
       "    .dataframe tbody tr th {\n",
       "        vertical-align: top;\n",
       "    }\n",
       "\n",
       "    .dataframe thead th {\n",
       "        text-align: right;\n",
       "    }\n",
       "</style>\n",
       "<table border=\"1\" class=\"dataframe\">\n",
       "  <thead>\n",
       "    <tr style=\"text-align: right;\">\n",
       "      <th></th>\n",
       "      <th>ID</th>\n",
       "      <th>Age</th>\n",
       "      <th>Gender</th>\n",
       "      <th>Bedtime</th>\n",
       "      <th>Wakeup time</th>\n",
       "      <th>Sleep duration</th>\n",
       "      <th>Sleep efficiency</th>\n",
       "      <th>REM sleep percentage</th>\n",
       "      <th>Deep sleep percentage</th>\n",
       "      <th>Light sleep percentage</th>\n",
       "      <th>Awakenings</th>\n",
       "      <th>Caffeine consumption</th>\n",
       "      <th>Alcohol consumption</th>\n",
       "      <th>Smoking status</th>\n",
       "      <th>Exercise frequency</th>\n",
       "      <th>Sleep duration (hours)</th>\n",
       "      <th>sleep_category</th>\n",
       "    </tr>\n",
       "  </thead>\n",
       "  <tbody>\n",
       "    <tr>\n",
       "      <th>0</th>\n",
       "      <td>1</td>\n",
       "      <td>65</td>\n",
       "      <td>Female</td>\n",
       "      <td>2021-03-06 01:00:00</td>\n",
       "      <td>2021-03-06 07:00:00</td>\n",
       "      <td>6.0</td>\n",
       "      <td>0.88</td>\n",
       "      <td>18</td>\n",
       "      <td>70</td>\n",
       "      <td>12</td>\n",
       "      <td>0.0</td>\n",
       "      <td>0.0</td>\n",
       "      <td>0.0</td>\n",
       "      <td>Yes</td>\n",
       "      <td>3.0</td>\n",
       "      <td>6.0</td>\n",
       "      <td>Bad</td>\n",
       "    </tr>\n",
       "    <tr>\n",
       "      <th>1</th>\n",
       "      <td>2</td>\n",
       "      <td>69</td>\n",
       "      <td>Male</td>\n",
       "      <td>2021-12-05 02:00:00</td>\n",
       "      <td>2021-12-05 09:00:00</td>\n",
       "      <td>7.0</td>\n",
       "      <td>0.66</td>\n",
       "      <td>19</td>\n",
       "      <td>28</td>\n",
       "      <td>53</td>\n",
       "      <td>3.0</td>\n",
       "      <td>0.0</td>\n",
       "      <td>3.0</td>\n",
       "      <td>Yes</td>\n",
       "      <td>3.0</td>\n",
       "      <td>7.0</td>\n",
       "      <td>Bad</td>\n",
       "    </tr>\n",
       "    <tr>\n",
       "      <th>2</th>\n",
       "      <td>3</td>\n",
       "      <td>40</td>\n",
       "      <td>Female</td>\n",
       "      <td>2021-05-25 21:30:00</td>\n",
       "      <td>2021-05-25 05:30:00</td>\n",
       "      <td>8.0</td>\n",
       "      <td>0.89</td>\n",
       "      <td>20</td>\n",
       "      <td>70</td>\n",
       "      <td>10</td>\n",
       "      <td>1.0</td>\n",
       "      <td>0.0</td>\n",
       "      <td>0.0</td>\n",
       "      <td>No</td>\n",
       "      <td>3.0</td>\n",
       "      <td>-16.0</td>\n",
       "      <td>Bad</td>\n",
       "    </tr>\n",
       "    <tr>\n",
       "      <th>3</th>\n",
       "      <td>4</td>\n",
       "      <td>40</td>\n",
       "      <td>Female</td>\n",
       "      <td>2021-11-03 02:30:00</td>\n",
       "      <td>2021-11-03 08:30:00</td>\n",
       "      <td>6.0</td>\n",
       "      <td>0.51</td>\n",
       "      <td>23</td>\n",
       "      <td>25</td>\n",
       "      <td>52</td>\n",
       "      <td>3.0</td>\n",
       "      <td>50.0</td>\n",
       "      <td>5.0</td>\n",
       "      <td>Yes</td>\n",
       "      <td>1.0</td>\n",
       "      <td>6.0</td>\n",
       "      <td>Bad</td>\n",
       "    </tr>\n",
       "    <tr>\n",
       "      <th>4</th>\n",
       "      <td>5</td>\n",
       "      <td>57</td>\n",
       "      <td>Male</td>\n",
       "      <td>2021-03-13 01:00:00</td>\n",
       "      <td>2021-03-13 09:00:00</td>\n",
       "      <td>8.0</td>\n",
       "      <td>0.76</td>\n",
       "      <td>27</td>\n",
       "      <td>55</td>\n",
       "      <td>18</td>\n",
       "      <td>3.0</td>\n",
       "      <td>0.0</td>\n",
       "      <td>3.0</td>\n",
       "      <td>No</td>\n",
       "      <td>3.0</td>\n",
       "      <td>8.0</td>\n",
       "      <td>Bad</td>\n",
       "    </tr>\n",
       "    <tr>\n",
       "      <th>...</th>\n",
       "      <td>...</td>\n",
       "      <td>...</td>\n",
       "      <td>...</td>\n",
       "      <td>...</td>\n",
       "      <td>...</td>\n",
       "      <td>...</td>\n",
       "      <td>...</td>\n",
       "      <td>...</td>\n",
       "      <td>...</td>\n",
       "      <td>...</td>\n",
       "      <td>...</td>\n",
       "      <td>...</td>\n",
       "      <td>...</td>\n",
       "      <td>...</td>\n",
       "      <td>...</td>\n",
       "      <td>...</td>\n",
       "      <td>...</td>\n",
       "    </tr>\n",
       "    <tr>\n",
       "      <th>445</th>\n",
       "      <td>446</td>\n",
       "      <td>30</td>\n",
       "      <td>Female</td>\n",
       "      <td>2021-11-16 23:00:00</td>\n",
       "      <td>2021-11-16 06:30:00</td>\n",
       "      <td>7.5</td>\n",
       "      <td>0.53</td>\n",
       "      <td>28</td>\n",
       "      <td>20</td>\n",
       "      <td>52</td>\n",
       "      <td>4.0</td>\n",
       "      <td>50.0</td>\n",
       "      <td>2.0</td>\n",
       "      <td>Yes</td>\n",
       "      <td>1.0</td>\n",
       "      <td>-16.5</td>\n",
       "      <td>Bad</td>\n",
       "    </tr>\n",
       "    <tr>\n",
       "      <th>447</th>\n",
       "      <td>448</td>\n",
       "      <td>27</td>\n",
       "      <td>Female</td>\n",
       "      <td>2021-11-13 22:00:00</td>\n",
       "      <td>2021-11-13 05:30:00</td>\n",
       "      <td>7.5</td>\n",
       "      <td>0.91</td>\n",
       "      <td>22</td>\n",
       "      <td>57</td>\n",
       "      <td>21</td>\n",
       "      <td>0.0</td>\n",
       "      <td>0.0</td>\n",
       "      <td>0.0</td>\n",
       "      <td>No</td>\n",
       "      <td>5.0</td>\n",
       "      <td>-16.5</td>\n",
       "      <td>Bad</td>\n",
       "    </tr>\n",
       "    <tr>\n",
       "      <th>448</th>\n",
       "      <td>449</td>\n",
       "      <td>52</td>\n",
       "      <td>Male</td>\n",
       "      <td>2021-03-31 21:00:00</td>\n",
       "      <td>2021-03-31 03:00:00</td>\n",
       "      <td>6.0</td>\n",
       "      <td>0.74</td>\n",
       "      <td>28</td>\n",
       "      <td>57</td>\n",
       "      <td>15</td>\n",
       "      <td>4.0</td>\n",
       "      <td>25.0</td>\n",
       "      <td>0.0</td>\n",
       "      <td>No</td>\n",
       "      <td>3.0</td>\n",
       "      <td>-18.0</td>\n",
       "      <td>Bad</td>\n",
       "    </tr>\n",
       "    <tr>\n",
       "      <th>450</th>\n",
       "      <td>451</td>\n",
       "      <td>45</td>\n",
       "      <td>Male</td>\n",
       "      <td>2021-07-29 21:00:00</td>\n",
       "      <td>2021-07-29 04:00:00</td>\n",
       "      <td>7.0</td>\n",
       "      <td>0.76</td>\n",
       "      <td>18</td>\n",
       "      <td>72</td>\n",
       "      <td>10</td>\n",
       "      <td>3.0</td>\n",
       "      <td>0.0</td>\n",
       "      <td>0.0</td>\n",
       "      <td>No</td>\n",
       "      <td>3.0</td>\n",
       "      <td>-17.0</td>\n",
       "      <td>Bad</td>\n",
       "    </tr>\n",
       "    <tr>\n",
       "      <th>451</th>\n",
       "      <td>452</td>\n",
       "      <td>18</td>\n",
       "      <td>Male</td>\n",
       "      <td>2021-03-17 02:30:00</td>\n",
       "      <td>2021-03-17 10:00:00</td>\n",
       "      <td>7.5</td>\n",
       "      <td>0.63</td>\n",
       "      <td>22</td>\n",
       "      <td>23</td>\n",
       "      <td>55</td>\n",
       "      <td>1.0</td>\n",
       "      <td>50.0</td>\n",
       "      <td>0.0</td>\n",
       "      <td>No</td>\n",
       "      <td>1.0</td>\n",
       "      <td>7.5</td>\n",
       "      <td>Bad</td>\n",
       "    </tr>\n",
       "  </tbody>\n",
       "</table>\n",
       "<p>388 rows × 17 columns</p>\n",
       "</div>"
      ],
      "text/plain": [
       "      ID  Age  Gender             Bedtime         Wakeup time  Sleep duration  \\\n",
       "0      1   65  Female 2021-03-06 01:00:00 2021-03-06 07:00:00             6.0   \n",
       "1      2   69    Male 2021-12-05 02:00:00 2021-12-05 09:00:00             7.0   \n",
       "2      3   40  Female 2021-05-25 21:30:00 2021-05-25 05:30:00             8.0   \n",
       "3      4   40  Female 2021-11-03 02:30:00 2021-11-03 08:30:00             6.0   \n",
       "4      5   57    Male 2021-03-13 01:00:00 2021-03-13 09:00:00             8.0   \n",
       "..   ...  ...     ...                 ...                 ...             ...   \n",
       "445  446   30  Female 2021-11-16 23:00:00 2021-11-16 06:30:00             7.5   \n",
       "447  448   27  Female 2021-11-13 22:00:00 2021-11-13 05:30:00             7.5   \n",
       "448  449   52    Male 2021-03-31 21:00:00 2021-03-31 03:00:00             6.0   \n",
       "450  451   45    Male 2021-07-29 21:00:00 2021-07-29 04:00:00             7.0   \n",
       "451  452   18    Male 2021-03-17 02:30:00 2021-03-17 10:00:00             7.5   \n",
       "\n",
       "     Sleep efficiency  REM sleep percentage  Deep sleep percentage  \\\n",
       "0                0.88                    18                     70   \n",
       "1                0.66                    19                     28   \n",
       "2                0.89                    20                     70   \n",
       "3                0.51                    23                     25   \n",
       "4                0.76                    27                     55   \n",
       "..                ...                   ...                    ...   \n",
       "445              0.53                    28                     20   \n",
       "447              0.91                    22                     57   \n",
       "448              0.74                    28                     57   \n",
       "450              0.76                    18                     72   \n",
       "451              0.63                    22                     23   \n",
       "\n",
       "     Light sleep percentage  Awakenings  Caffeine consumption  \\\n",
       "0                        12         0.0                   0.0   \n",
       "1                        53         3.0                   0.0   \n",
       "2                        10         1.0                   0.0   \n",
       "3                        52         3.0                  50.0   \n",
       "4                        18         3.0                   0.0   \n",
       "..                      ...         ...                   ...   \n",
       "445                      52         4.0                  50.0   \n",
       "447                      21         0.0                   0.0   \n",
       "448                      15         4.0                  25.0   \n",
       "450                      10         3.0                   0.0   \n",
       "451                      55         1.0                  50.0   \n",
       "\n",
       "     Alcohol consumption Smoking status  Exercise frequency  \\\n",
       "0                    0.0            Yes                 3.0   \n",
       "1                    3.0            Yes                 3.0   \n",
       "2                    0.0             No                 3.0   \n",
       "3                    5.0            Yes                 1.0   \n",
       "4                    3.0             No                 3.0   \n",
       "..                   ...            ...                 ...   \n",
       "445                  2.0            Yes                 1.0   \n",
       "447                  0.0             No                 5.0   \n",
       "448                  0.0             No                 3.0   \n",
       "450                  0.0             No                 3.0   \n",
       "451                  0.0             No                 1.0   \n",
       "\n",
       "     Sleep duration (hours) sleep_category  \n",
       "0                       6.0            Bad  \n",
       "1                       7.0            Bad  \n",
       "2                     -16.0            Bad  \n",
       "3                       6.0            Bad  \n",
       "4                       8.0            Bad  \n",
       "..                      ...            ...  \n",
       "445                   -16.5            Bad  \n",
       "447                   -16.5            Bad  \n",
       "448                   -18.0            Bad  \n",
       "450                   -17.0            Bad  \n",
       "451                     7.5            Bad  \n",
       "\n",
       "[388 rows x 17 columns]"
      ]
     },
     "execution_count": 100,
     "metadata": {},
     "output_type": "execute_result"
    }
   ],
   "source": [
    "\n",
    "df"
   ]
  },
  {
   "cell_type": "code",
   "execution_count": 101,
   "id": "7e33bba9-e3d4-4c0c-bc46-3ca7bfa3447f",
   "metadata": {},
   "outputs": [
    {
     "name": "stdout",
     "output_type": "stream",
     "text": [
      "Good Sleep Efficiency Data:\n",
      "Empty DataFrame\n",
      "Columns: [ID, Age, Gender, Bedtime, Wakeup time, Sleep duration, Sleep efficiency, REM sleep percentage, Deep sleep percentage, Light sleep percentage, Awakenings, Caffeine consumption, Alcohol consumption, Smoking status, Exercise frequency, Sleep duration (hours), sleep_category]\n",
      "Index: []\n"
     ]
    }
   ],
   "source": [
    "# Filter for \"Good\" sleep efficiency\n",
    "good_sleep_df = df.loc[df['sleep_category'] == 'Good']\n",
    "print(\"Good Sleep Efficiency Data:\")\n",
    "print(good_sleep_df)\n",
    "\n"
   ]
  },
  {
   "cell_type": "code",
   "execution_count": 102,
   "id": "cca8d3ba-8238-4b8f-80f7-a842f6f8be3d",
   "metadata": {},
   "outputs": [
    {
     "name": "stdout",
     "output_type": "stream",
     "text": [
      "Bad Sleep Efficiency Data:\n",
      "      ID  Age  Gender             Bedtime         Wakeup time  Sleep duration  \\\n",
      "0      1   65  Female 2021-03-06 01:00:00 2021-03-06 07:00:00             6.0   \n",
      "1      2   69    Male 2021-12-05 02:00:00 2021-12-05 09:00:00             7.0   \n",
      "2      3   40  Female 2021-05-25 21:30:00 2021-05-25 05:30:00             8.0   \n",
      "3      4   40  Female 2021-11-03 02:30:00 2021-11-03 08:30:00             6.0   \n",
      "4      5   57    Male 2021-03-13 01:00:00 2021-03-13 09:00:00             8.0   \n",
      "..   ...  ...     ...                 ...                 ...             ...   \n",
      "445  446   30  Female 2021-11-16 23:00:00 2021-11-16 06:30:00             7.5   \n",
      "447  448   27  Female 2021-11-13 22:00:00 2021-11-13 05:30:00             7.5   \n",
      "448  449   52    Male 2021-03-31 21:00:00 2021-03-31 03:00:00             6.0   \n",
      "450  451   45    Male 2021-07-29 21:00:00 2021-07-29 04:00:00             7.0   \n",
      "451  452   18    Male 2021-03-17 02:30:00 2021-03-17 10:00:00             7.5   \n",
      "\n",
      "     Sleep efficiency  REM sleep percentage  Deep sleep percentage  \\\n",
      "0                0.88                    18                     70   \n",
      "1                0.66                    19                     28   \n",
      "2                0.89                    20                     70   \n",
      "3                0.51                    23                     25   \n",
      "4                0.76                    27                     55   \n",
      "..                ...                   ...                    ...   \n",
      "445              0.53                    28                     20   \n",
      "447              0.91                    22                     57   \n",
      "448              0.74                    28                     57   \n",
      "450              0.76                    18                     72   \n",
      "451              0.63                    22                     23   \n",
      "\n",
      "     Light sleep percentage  Awakenings  Caffeine consumption  \\\n",
      "0                        12         0.0                   0.0   \n",
      "1                        53         3.0                   0.0   \n",
      "2                        10         1.0                   0.0   \n",
      "3                        52         3.0                  50.0   \n",
      "4                        18         3.0                   0.0   \n",
      "..                      ...         ...                   ...   \n",
      "445                      52         4.0                  50.0   \n",
      "447                      21         0.0                   0.0   \n",
      "448                      15         4.0                  25.0   \n",
      "450                      10         3.0                   0.0   \n",
      "451                      55         1.0                  50.0   \n",
      "\n",
      "     Alcohol consumption Smoking status  Exercise frequency  \\\n",
      "0                    0.0            Yes                 3.0   \n",
      "1                    3.0            Yes                 3.0   \n",
      "2                    0.0             No                 3.0   \n",
      "3                    5.0            Yes                 1.0   \n",
      "4                    3.0             No                 3.0   \n",
      "..                   ...            ...                 ...   \n",
      "445                  2.0            Yes                 1.0   \n",
      "447                  0.0             No                 5.0   \n",
      "448                  0.0             No                 3.0   \n",
      "450                  0.0             No                 3.0   \n",
      "451                  0.0             No                 1.0   \n",
      "\n",
      "     Sleep duration (hours) sleep_category  \n",
      "0                       6.0            Bad  \n",
      "1                       7.0            Bad  \n",
      "2                     -16.0            Bad  \n",
      "3                       6.0            Bad  \n",
      "4                       8.0            Bad  \n",
      "..                      ...            ...  \n",
      "445                   -16.5            Bad  \n",
      "447                   -16.5            Bad  \n",
      "448                   -18.0            Bad  \n",
      "450                   -17.0            Bad  \n",
      "451                     7.5            Bad  \n",
      "\n",
      "[388 rows x 17 columns]\n"
     ]
    }
   ],
   "source": [
    "\n",
    "\n",
    "# Filter for \"Bad\" sleep efficiency\n",
    "bad_sleep_df = df.loc[df['sleep_category'] == 'Bad']\n",
    "print(\"Bad Sleep Efficiency Data:\")\n",
    "print(bad_sleep_df)"
   ]
  },
  {
   "cell_type": "code",
   "execution_count": 109,
   "id": "14094504-7914-48cb-962f-ce9c4a36e690",
   "metadata": {},
   "outputs": [],
   "source": [
    "#loading the data \n",
    "d = pd.read_csv(\"C:\\\\Users\\\\SWAPNA\\\\Documents\\\\Sleep_Efficiency.csv\")\n"
   ]
  },
  {
   "cell_type": "code",
   "execution_count": 105,
   "id": "0b9c7671-ad05-4b6b-bb35-0a796a89a1d1",
   "metadata": {},
   "outputs": [
    {
     "data": {
      "text/html": [
       "<div>\n",
       "<style scoped>\n",
       "    .dataframe tbody tr th:only-of-type {\n",
       "        vertical-align: middle;\n",
       "    }\n",
       "\n",
       "    .dataframe tbody tr th {\n",
       "        vertical-align: top;\n",
       "    }\n",
       "\n",
       "    .dataframe thead th {\n",
       "        text-align: right;\n",
       "    }\n",
       "</style>\n",
       "<table border=\"1\" class=\"dataframe\">\n",
       "  <thead>\n",
       "    <tr style=\"text-align: right;\">\n",
       "      <th></th>\n",
       "      <th>ID</th>\n",
       "      <th>Age</th>\n",
       "      <th>Gender</th>\n",
       "      <th>Bedtime</th>\n",
       "      <th>Wakeup time</th>\n",
       "      <th>Sleep duration</th>\n",
       "      <th>Sleep efficiency</th>\n",
       "      <th>REM sleep percentage</th>\n",
       "      <th>Deep sleep percentage</th>\n",
       "      <th>Light sleep percentage</th>\n",
       "      <th>Awakenings</th>\n",
       "      <th>Caffeine consumption</th>\n",
       "      <th>Alcohol consumption</th>\n",
       "      <th>Smoking status</th>\n",
       "      <th>Exercise frequency</th>\n",
       "    </tr>\n",
       "  </thead>\n",
       "  <tbody>\n",
       "    <tr>\n",
       "      <th>0</th>\n",
       "      <td>1</td>\n",
       "      <td>65</td>\n",
       "      <td>Female</td>\n",
       "      <td>2021-03-06 01:00:00</td>\n",
       "      <td>2021-03-06 07:00:00</td>\n",
       "      <td>6.0</td>\n",
       "      <td>0.88</td>\n",
       "      <td>18</td>\n",
       "      <td>70</td>\n",
       "      <td>12</td>\n",
       "      <td>0.0</td>\n",
       "      <td>0.0</td>\n",
       "      <td>0.0</td>\n",
       "      <td>Yes</td>\n",
       "      <td>3.0</td>\n",
       "    </tr>\n",
       "    <tr>\n",
       "      <th>1</th>\n",
       "      <td>2</td>\n",
       "      <td>69</td>\n",
       "      <td>Male</td>\n",
       "      <td>2021-12-05 02:00:00</td>\n",
       "      <td>2021-12-05 09:00:00</td>\n",
       "      <td>7.0</td>\n",
       "      <td>0.66</td>\n",
       "      <td>19</td>\n",
       "      <td>28</td>\n",
       "      <td>53</td>\n",
       "      <td>3.0</td>\n",
       "      <td>0.0</td>\n",
       "      <td>3.0</td>\n",
       "      <td>Yes</td>\n",
       "      <td>3.0</td>\n",
       "    </tr>\n",
       "    <tr>\n",
       "      <th>2</th>\n",
       "      <td>3</td>\n",
       "      <td>40</td>\n",
       "      <td>Female</td>\n",
       "      <td>2021-05-25 21:30:00</td>\n",
       "      <td>2021-05-25 05:30:00</td>\n",
       "      <td>8.0</td>\n",
       "      <td>0.89</td>\n",
       "      <td>20</td>\n",
       "      <td>70</td>\n",
       "      <td>10</td>\n",
       "      <td>1.0</td>\n",
       "      <td>0.0</td>\n",
       "      <td>0.0</td>\n",
       "      <td>No</td>\n",
       "      <td>3.0</td>\n",
       "    </tr>\n",
       "    <tr>\n",
       "      <th>3</th>\n",
       "      <td>4</td>\n",
       "      <td>40</td>\n",
       "      <td>Female</td>\n",
       "      <td>2021-11-03 02:30:00</td>\n",
       "      <td>2021-11-03 08:30:00</td>\n",
       "      <td>6.0</td>\n",
       "      <td>0.51</td>\n",
       "      <td>23</td>\n",
       "      <td>25</td>\n",
       "      <td>52</td>\n",
       "      <td>3.0</td>\n",
       "      <td>50.0</td>\n",
       "      <td>5.0</td>\n",
       "      <td>Yes</td>\n",
       "      <td>1.0</td>\n",
       "    </tr>\n",
       "    <tr>\n",
       "      <th>4</th>\n",
       "      <td>5</td>\n",
       "      <td>57</td>\n",
       "      <td>Male</td>\n",
       "      <td>2021-03-13 01:00:00</td>\n",
       "      <td>2021-03-13 09:00:00</td>\n",
       "      <td>8.0</td>\n",
       "      <td>0.76</td>\n",
       "      <td>27</td>\n",
       "      <td>55</td>\n",
       "      <td>18</td>\n",
       "      <td>3.0</td>\n",
       "      <td>0.0</td>\n",
       "      <td>3.0</td>\n",
       "      <td>No</td>\n",
       "      <td>3.0</td>\n",
       "    </tr>\n",
       "    <tr>\n",
       "      <th>...</th>\n",
       "      <td>...</td>\n",
       "      <td>...</td>\n",
       "      <td>...</td>\n",
       "      <td>...</td>\n",
       "      <td>...</td>\n",
       "      <td>...</td>\n",
       "      <td>...</td>\n",
       "      <td>...</td>\n",
       "      <td>...</td>\n",
       "      <td>...</td>\n",
       "      <td>...</td>\n",
       "      <td>...</td>\n",
       "      <td>...</td>\n",
       "      <td>...</td>\n",
       "      <td>...</td>\n",
       "    </tr>\n",
       "    <tr>\n",
       "      <th>447</th>\n",
       "      <td>448</td>\n",
       "      <td>27</td>\n",
       "      <td>Female</td>\n",
       "      <td>2021-11-13 22:00:00</td>\n",
       "      <td>2021-11-13 05:30:00</td>\n",
       "      <td>7.5</td>\n",
       "      <td>0.91</td>\n",
       "      <td>22</td>\n",
       "      <td>57</td>\n",
       "      <td>21</td>\n",
       "      <td>0.0</td>\n",
       "      <td>0.0</td>\n",
       "      <td>0.0</td>\n",
       "      <td>No</td>\n",
       "      <td>5.0</td>\n",
       "    </tr>\n",
       "    <tr>\n",
       "      <th>448</th>\n",
       "      <td>449</td>\n",
       "      <td>52</td>\n",
       "      <td>Male</td>\n",
       "      <td>2021-03-31 21:00:00</td>\n",
       "      <td>2021-03-31 03:00:00</td>\n",
       "      <td>6.0</td>\n",
       "      <td>0.74</td>\n",
       "      <td>28</td>\n",
       "      <td>57</td>\n",
       "      <td>15</td>\n",
       "      <td>4.0</td>\n",
       "      <td>25.0</td>\n",
       "      <td>0.0</td>\n",
       "      <td>No</td>\n",
       "      <td>3.0</td>\n",
       "    </tr>\n",
       "    <tr>\n",
       "      <th>449</th>\n",
       "      <td>450</td>\n",
       "      <td>40</td>\n",
       "      <td>Female</td>\n",
       "      <td>2021-09-07 23:00:00</td>\n",
       "      <td>2021-09-07 07:30:00</td>\n",
       "      <td>8.5</td>\n",
       "      <td>0.55</td>\n",
       "      <td>20</td>\n",
       "      <td>32</td>\n",
       "      <td>48</td>\n",
       "      <td>1.0</td>\n",
       "      <td>NaN</td>\n",
       "      <td>3.0</td>\n",
       "      <td>Yes</td>\n",
       "      <td>0.0</td>\n",
       "    </tr>\n",
       "    <tr>\n",
       "      <th>450</th>\n",
       "      <td>451</td>\n",
       "      <td>45</td>\n",
       "      <td>Male</td>\n",
       "      <td>2021-07-29 21:00:00</td>\n",
       "      <td>2021-07-29 04:00:00</td>\n",
       "      <td>7.0</td>\n",
       "      <td>0.76</td>\n",
       "      <td>18</td>\n",
       "      <td>72</td>\n",
       "      <td>10</td>\n",
       "      <td>3.0</td>\n",
       "      <td>0.0</td>\n",
       "      <td>0.0</td>\n",
       "      <td>No</td>\n",
       "      <td>3.0</td>\n",
       "    </tr>\n",
       "    <tr>\n",
       "      <th>451</th>\n",
       "      <td>452</td>\n",
       "      <td>18</td>\n",
       "      <td>Male</td>\n",
       "      <td>2021-03-17 02:30:00</td>\n",
       "      <td>2021-03-17 10:00:00</td>\n",
       "      <td>7.5</td>\n",
       "      <td>0.63</td>\n",
       "      <td>22</td>\n",
       "      <td>23</td>\n",
       "      <td>55</td>\n",
       "      <td>1.0</td>\n",
       "      <td>50.0</td>\n",
       "      <td>0.0</td>\n",
       "      <td>No</td>\n",
       "      <td>1.0</td>\n",
       "    </tr>\n",
       "  </tbody>\n",
       "</table>\n",
       "<p>452 rows × 15 columns</p>\n",
       "</div>"
      ],
      "text/plain": [
       "      ID  Age  Gender              Bedtime          Wakeup time  \\\n",
       "0      1   65  Female  2021-03-06 01:00:00  2021-03-06 07:00:00   \n",
       "1      2   69    Male  2021-12-05 02:00:00  2021-12-05 09:00:00   \n",
       "2      3   40  Female  2021-05-25 21:30:00  2021-05-25 05:30:00   \n",
       "3      4   40  Female  2021-11-03 02:30:00  2021-11-03 08:30:00   \n",
       "4      5   57    Male  2021-03-13 01:00:00  2021-03-13 09:00:00   \n",
       "..   ...  ...     ...                  ...                  ...   \n",
       "447  448   27  Female  2021-11-13 22:00:00  2021-11-13 05:30:00   \n",
       "448  449   52    Male  2021-03-31 21:00:00  2021-03-31 03:00:00   \n",
       "449  450   40  Female  2021-09-07 23:00:00  2021-09-07 07:30:00   \n",
       "450  451   45    Male  2021-07-29 21:00:00  2021-07-29 04:00:00   \n",
       "451  452   18    Male  2021-03-17 02:30:00  2021-03-17 10:00:00   \n",
       "\n",
       "     Sleep duration  Sleep efficiency  REM sleep percentage  \\\n",
       "0               6.0              0.88                    18   \n",
       "1               7.0              0.66                    19   \n",
       "2               8.0              0.89                    20   \n",
       "3               6.0              0.51                    23   \n",
       "4               8.0              0.76                    27   \n",
       "..              ...               ...                   ...   \n",
       "447             7.5              0.91                    22   \n",
       "448             6.0              0.74                    28   \n",
       "449             8.5              0.55                    20   \n",
       "450             7.0              0.76                    18   \n",
       "451             7.5              0.63                    22   \n",
       "\n",
       "     Deep sleep percentage  Light sleep percentage  Awakenings  \\\n",
       "0                       70                      12         0.0   \n",
       "1                       28                      53         3.0   \n",
       "2                       70                      10         1.0   \n",
       "3                       25                      52         3.0   \n",
       "4                       55                      18         3.0   \n",
       "..                     ...                     ...         ...   \n",
       "447                     57                      21         0.0   \n",
       "448                     57                      15         4.0   \n",
       "449                     32                      48         1.0   \n",
       "450                     72                      10         3.0   \n",
       "451                     23                      55         1.0   \n",
       "\n",
       "     Caffeine consumption  Alcohol consumption Smoking status  \\\n",
       "0                     0.0                  0.0            Yes   \n",
       "1                     0.0                  3.0            Yes   \n",
       "2                     0.0                  0.0             No   \n",
       "3                    50.0                  5.0            Yes   \n",
       "4                     0.0                  3.0             No   \n",
       "..                    ...                  ...            ...   \n",
       "447                   0.0                  0.0             No   \n",
       "448                  25.0                  0.0             No   \n",
       "449                   NaN                  3.0            Yes   \n",
       "450                   0.0                  0.0             No   \n",
       "451                  50.0                  0.0             No   \n",
       "\n",
       "     Exercise frequency  \n",
       "0                   3.0  \n",
       "1                   3.0  \n",
       "2                   3.0  \n",
       "3                   1.0  \n",
       "4                   3.0  \n",
       "..                  ...  \n",
       "447                 5.0  \n",
       "448                 3.0  \n",
       "449                 0.0  \n",
       "450                 3.0  \n",
       "451                 1.0  \n",
       "\n",
       "[452 rows x 15 columns]"
      ]
     },
     "execution_count": 105,
     "metadata": {},
     "output_type": "execute_result"
    }
   ],
   "source": [
    "d"
   ]
  },
  {
   "cell_type": "code",
   "execution_count": 108,
   "id": "ffcb030a-0b26-4a06-bbeb-733c33cb3825",
   "metadata": {},
   "outputs": [],
   "source": [
    "# creatinf the dataframe\n",
    "df=pd.DataFrame(d)"
   ]
  },
  {
   "cell_type": "code",
   "execution_count": 107,
   "id": "f70fac0c-ff72-433e-89b1-81aea834b02f",
   "metadata": {},
   "outputs": [
    {
     "data": {
      "text/html": [
       "<div>\n",
       "<style scoped>\n",
       "    .dataframe tbody tr th:only-of-type {\n",
       "        vertical-align: middle;\n",
       "    }\n",
       "\n",
       "    .dataframe tbody tr th {\n",
       "        vertical-align: top;\n",
       "    }\n",
       "\n",
       "    .dataframe thead th {\n",
       "        text-align: right;\n",
       "    }\n",
       "</style>\n",
       "<table border=\"1\" class=\"dataframe\">\n",
       "  <thead>\n",
       "    <tr style=\"text-align: right;\">\n",
       "      <th></th>\n",
       "      <th>ID</th>\n",
       "      <th>Age</th>\n",
       "      <th>Gender</th>\n",
       "      <th>Bedtime</th>\n",
       "      <th>Wakeup time</th>\n",
       "      <th>Sleep duration</th>\n",
       "      <th>Sleep efficiency</th>\n",
       "      <th>REM sleep percentage</th>\n",
       "      <th>Deep sleep percentage</th>\n",
       "      <th>Light sleep percentage</th>\n",
       "      <th>Awakenings</th>\n",
       "      <th>Caffeine consumption</th>\n",
       "      <th>Alcohol consumption</th>\n",
       "      <th>Smoking status</th>\n",
       "      <th>Exercise frequency</th>\n",
       "    </tr>\n",
       "  </thead>\n",
       "  <tbody>\n",
       "    <tr>\n",
       "      <th>0</th>\n",
       "      <td>1</td>\n",
       "      <td>65</td>\n",
       "      <td>Female</td>\n",
       "      <td>2021-03-06 01:00:00</td>\n",
       "      <td>2021-03-06 07:00:00</td>\n",
       "      <td>6.0</td>\n",
       "      <td>0.88</td>\n",
       "      <td>18</td>\n",
       "      <td>70</td>\n",
       "      <td>12</td>\n",
       "      <td>0.0</td>\n",
       "      <td>0.0</td>\n",
       "      <td>0.0</td>\n",
       "      <td>Yes</td>\n",
       "      <td>3.0</td>\n",
       "    </tr>\n",
       "    <tr>\n",
       "      <th>1</th>\n",
       "      <td>2</td>\n",
       "      <td>69</td>\n",
       "      <td>Male</td>\n",
       "      <td>2021-12-05 02:00:00</td>\n",
       "      <td>2021-12-05 09:00:00</td>\n",
       "      <td>7.0</td>\n",
       "      <td>0.66</td>\n",
       "      <td>19</td>\n",
       "      <td>28</td>\n",
       "      <td>53</td>\n",
       "      <td>3.0</td>\n",
       "      <td>0.0</td>\n",
       "      <td>3.0</td>\n",
       "      <td>Yes</td>\n",
       "      <td>3.0</td>\n",
       "    </tr>\n",
       "    <tr>\n",
       "      <th>2</th>\n",
       "      <td>3</td>\n",
       "      <td>40</td>\n",
       "      <td>Female</td>\n",
       "      <td>2021-05-25 21:30:00</td>\n",
       "      <td>2021-05-25 05:30:00</td>\n",
       "      <td>8.0</td>\n",
       "      <td>0.89</td>\n",
       "      <td>20</td>\n",
       "      <td>70</td>\n",
       "      <td>10</td>\n",
       "      <td>1.0</td>\n",
       "      <td>0.0</td>\n",
       "      <td>0.0</td>\n",
       "      <td>No</td>\n",
       "      <td>3.0</td>\n",
       "    </tr>\n",
       "    <tr>\n",
       "      <th>3</th>\n",
       "      <td>4</td>\n",
       "      <td>40</td>\n",
       "      <td>Female</td>\n",
       "      <td>2021-11-03 02:30:00</td>\n",
       "      <td>2021-11-03 08:30:00</td>\n",
       "      <td>6.0</td>\n",
       "      <td>0.51</td>\n",
       "      <td>23</td>\n",
       "      <td>25</td>\n",
       "      <td>52</td>\n",
       "      <td>3.0</td>\n",
       "      <td>50.0</td>\n",
       "      <td>5.0</td>\n",
       "      <td>Yes</td>\n",
       "      <td>1.0</td>\n",
       "    </tr>\n",
       "    <tr>\n",
       "      <th>4</th>\n",
       "      <td>5</td>\n",
       "      <td>57</td>\n",
       "      <td>Male</td>\n",
       "      <td>2021-03-13 01:00:00</td>\n",
       "      <td>2021-03-13 09:00:00</td>\n",
       "      <td>8.0</td>\n",
       "      <td>0.76</td>\n",
       "      <td>27</td>\n",
       "      <td>55</td>\n",
       "      <td>18</td>\n",
       "      <td>3.0</td>\n",
       "      <td>0.0</td>\n",
       "      <td>3.0</td>\n",
       "      <td>No</td>\n",
       "      <td>3.0</td>\n",
       "    </tr>\n",
       "    <tr>\n",
       "      <th>...</th>\n",
       "      <td>...</td>\n",
       "      <td>...</td>\n",
       "      <td>...</td>\n",
       "      <td>...</td>\n",
       "      <td>...</td>\n",
       "      <td>...</td>\n",
       "      <td>...</td>\n",
       "      <td>...</td>\n",
       "      <td>...</td>\n",
       "      <td>...</td>\n",
       "      <td>...</td>\n",
       "      <td>...</td>\n",
       "      <td>...</td>\n",
       "      <td>...</td>\n",
       "      <td>...</td>\n",
       "    </tr>\n",
       "    <tr>\n",
       "      <th>447</th>\n",
       "      <td>448</td>\n",
       "      <td>27</td>\n",
       "      <td>Female</td>\n",
       "      <td>2021-11-13 22:00:00</td>\n",
       "      <td>2021-11-13 05:30:00</td>\n",
       "      <td>7.5</td>\n",
       "      <td>0.91</td>\n",
       "      <td>22</td>\n",
       "      <td>57</td>\n",
       "      <td>21</td>\n",
       "      <td>0.0</td>\n",
       "      <td>0.0</td>\n",
       "      <td>0.0</td>\n",
       "      <td>No</td>\n",
       "      <td>5.0</td>\n",
       "    </tr>\n",
       "    <tr>\n",
       "      <th>448</th>\n",
       "      <td>449</td>\n",
       "      <td>52</td>\n",
       "      <td>Male</td>\n",
       "      <td>2021-03-31 21:00:00</td>\n",
       "      <td>2021-03-31 03:00:00</td>\n",
       "      <td>6.0</td>\n",
       "      <td>0.74</td>\n",
       "      <td>28</td>\n",
       "      <td>57</td>\n",
       "      <td>15</td>\n",
       "      <td>4.0</td>\n",
       "      <td>25.0</td>\n",
       "      <td>0.0</td>\n",
       "      <td>No</td>\n",
       "      <td>3.0</td>\n",
       "    </tr>\n",
       "    <tr>\n",
       "      <th>449</th>\n",
       "      <td>450</td>\n",
       "      <td>40</td>\n",
       "      <td>Female</td>\n",
       "      <td>2021-09-07 23:00:00</td>\n",
       "      <td>2021-09-07 07:30:00</td>\n",
       "      <td>8.5</td>\n",
       "      <td>0.55</td>\n",
       "      <td>20</td>\n",
       "      <td>32</td>\n",
       "      <td>48</td>\n",
       "      <td>1.0</td>\n",
       "      <td>NaN</td>\n",
       "      <td>3.0</td>\n",
       "      <td>Yes</td>\n",
       "      <td>0.0</td>\n",
       "    </tr>\n",
       "    <tr>\n",
       "      <th>450</th>\n",
       "      <td>451</td>\n",
       "      <td>45</td>\n",
       "      <td>Male</td>\n",
       "      <td>2021-07-29 21:00:00</td>\n",
       "      <td>2021-07-29 04:00:00</td>\n",
       "      <td>7.0</td>\n",
       "      <td>0.76</td>\n",
       "      <td>18</td>\n",
       "      <td>72</td>\n",
       "      <td>10</td>\n",
       "      <td>3.0</td>\n",
       "      <td>0.0</td>\n",
       "      <td>0.0</td>\n",
       "      <td>No</td>\n",
       "      <td>3.0</td>\n",
       "    </tr>\n",
       "    <tr>\n",
       "      <th>451</th>\n",
       "      <td>452</td>\n",
       "      <td>18</td>\n",
       "      <td>Male</td>\n",
       "      <td>2021-03-17 02:30:00</td>\n",
       "      <td>2021-03-17 10:00:00</td>\n",
       "      <td>7.5</td>\n",
       "      <td>0.63</td>\n",
       "      <td>22</td>\n",
       "      <td>23</td>\n",
       "      <td>55</td>\n",
       "      <td>1.0</td>\n",
       "      <td>50.0</td>\n",
       "      <td>0.0</td>\n",
       "      <td>No</td>\n",
       "      <td>1.0</td>\n",
       "    </tr>\n",
       "  </tbody>\n",
       "</table>\n",
       "<p>452 rows × 15 columns</p>\n",
       "</div>"
      ],
      "text/plain": [
       "      ID  Age  Gender              Bedtime          Wakeup time  \\\n",
       "0      1   65  Female  2021-03-06 01:00:00  2021-03-06 07:00:00   \n",
       "1      2   69    Male  2021-12-05 02:00:00  2021-12-05 09:00:00   \n",
       "2      3   40  Female  2021-05-25 21:30:00  2021-05-25 05:30:00   \n",
       "3      4   40  Female  2021-11-03 02:30:00  2021-11-03 08:30:00   \n",
       "4      5   57    Male  2021-03-13 01:00:00  2021-03-13 09:00:00   \n",
       "..   ...  ...     ...                  ...                  ...   \n",
       "447  448   27  Female  2021-11-13 22:00:00  2021-11-13 05:30:00   \n",
       "448  449   52    Male  2021-03-31 21:00:00  2021-03-31 03:00:00   \n",
       "449  450   40  Female  2021-09-07 23:00:00  2021-09-07 07:30:00   \n",
       "450  451   45    Male  2021-07-29 21:00:00  2021-07-29 04:00:00   \n",
       "451  452   18    Male  2021-03-17 02:30:00  2021-03-17 10:00:00   \n",
       "\n",
       "     Sleep duration  Sleep efficiency  REM sleep percentage  \\\n",
       "0               6.0              0.88                    18   \n",
       "1               7.0              0.66                    19   \n",
       "2               8.0              0.89                    20   \n",
       "3               6.0              0.51                    23   \n",
       "4               8.0              0.76                    27   \n",
       "..              ...               ...                   ...   \n",
       "447             7.5              0.91                    22   \n",
       "448             6.0              0.74                    28   \n",
       "449             8.5              0.55                    20   \n",
       "450             7.0              0.76                    18   \n",
       "451             7.5              0.63                    22   \n",
       "\n",
       "     Deep sleep percentage  Light sleep percentage  Awakenings  \\\n",
       "0                       70                      12         0.0   \n",
       "1                       28                      53         3.0   \n",
       "2                       70                      10         1.0   \n",
       "3                       25                      52         3.0   \n",
       "4                       55                      18         3.0   \n",
       "..                     ...                     ...         ...   \n",
       "447                     57                      21         0.0   \n",
       "448                     57                      15         4.0   \n",
       "449                     32                      48         1.0   \n",
       "450                     72                      10         3.0   \n",
       "451                     23                      55         1.0   \n",
       "\n",
       "     Caffeine consumption  Alcohol consumption Smoking status  \\\n",
       "0                     0.0                  0.0            Yes   \n",
       "1                     0.0                  3.0            Yes   \n",
       "2                     0.0                  0.0             No   \n",
       "3                    50.0                  5.0            Yes   \n",
       "4                     0.0                  3.0             No   \n",
       "..                    ...                  ...            ...   \n",
       "447                   0.0                  0.0             No   \n",
       "448                  25.0                  0.0             No   \n",
       "449                   NaN                  3.0            Yes   \n",
       "450                   0.0                  0.0             No   \n",
       "451                  50.0                  0.0             No   \n",
       "\n",
       "     Exercise frequency  \n",
       "0                   3.0  \n",
       "1                   3.0  \n",
       "2                   3.0  \n",
       "3                   1.0  \n",
       "4                   3.0  \n",
       "..                  ...  \n",
       "447                 5.0  \n",
       "448                 3.0  \n",
       "449                 0.0  \n",
       "450                 3.0  \n",
       "451                 1.0  \n",
       "\n",
       "[452 rows x 15 columns]"
      ]
     },
     "execution_count": 107,
     "metadata": {},
     "output_type": "execute_result"
    }
   ],
   "source": [
    "d"
   ]
  },
  {
   "cell_type": "code",
   "execution_count": 110,
   "id": "856d269a-b484-4d43-9165-edd7f65d8b4f",
   "metadata": {},
   "outputs": [
    {
     "data": {
      "text/html": [
       "<div>\n",
       "<style scoped>\n",
       "    .dataframe tbody tr th:only-of-type {\n",
       "        vertical-align: middle;\n",
       "    }\n",
       "\n",
       "    .dataframe tbody tr th {\n",
       "        vertical-align: top;\n",
       "    }\n",
       "\n",
       "    .dataframe thead th {\n",
       "        text-align: right;\n",
       "    }\n",
       "</style>\n",
       "<table border=\"1\" class=\"dataframe\">\n",
       "  <thead>\n",
       "    <tr style=\"text-align: right;\">\n",
       "      <th></th>\n",
       "      <th>ID</th>\n",
       "      <th>Age</th>\n",
       "      <th>Gender</th>\n",
       "      <th>Bedtime</th>\n",
       "      <th>Wakeup time</th>\n",
       "      <th>Sleep duration</th>\n",
       "      <th>Sleep efficiency</th>\n",
       "      <th>REM sleep percentage</th>\n",
       "      <th>Deep sleep percentage</th>\n",
       "      <th>Light sleep percentage</th>\n",
       "      <th>Awakenings</th>\n",
       "      <th>Caffeine consumption</th>\n",
       "      <th>Alcohol consumption</th>\n",
       "      <th>Smoking status</th>\n",
       "      <th>Exercise frequency</th>\n",
       "    </tr>\n",
       "  </thead>\n",
       "  <tbody>\n",
       "    <tr>\n",
       "      <th>0</th>\n",
       "      <td>1</td>\n",
       "      <td>65</td>\n",
       "      <td>Female</td>\n",
       "      <td>2021-03-06 01:00:00</td>\n",
       "      <td>2021-03-06 07:00:00</td>\n",
       "      <td>6.0</td>\n",
       "      <td>0.88</td>\n",
       "      <td>18</td>\n",
       "      <td>70</td>\n",
       "      <td>12</td>\n",
       "      <td>0.0</td>\n",
       "      <td>0.0</td>\n",
       "      <td>0.0</td>\n",
       "      <td>Yes</td>\n",
       "      <td>3.0</td>\n",
       "    </tr>\n",
       "    <tr>\n",
       "      <th>1</th>\n",
       "      <td>2</td>\n",
       "      <td>69</td>\n",
       "      <td>Male</td>\n",
       "      <td>2021-12-05 02:00:00</td>\n",
       "      <td>2021-12-05 09:00:00</td>\n",
       "      <td>7.0</td>\n",
       "      <td>0.66</td>\n",
       "      <td>19</td>\n",
       "      <td>28</td>\n",
       "      <td>53</td>\n",
       "      <td>3.0</td>\n",
       "      <td>0.0</td>\n",
       "      <td>3.0</td>\n",
       "      <td>Yes</td>\n",
       "      <td>3.0</td>\n",
       "    </tr>\n",
       "    <tr>\n",
       "      <th>2</th>\n",
       "      <td>3</td>\n",
       "      <td>40</td>\n",
       "      <td>Female</td>\n",
       "      <td>2021-05-25 21:30:00</td>\n",
       "      <td>2021-05-25 05:30:00</td>\n",
       "      <td>8.0</td>\n",
       "      <td>0.89</td>\n",
       "      <td>20</td>\n",
       "      <td>70</td>\n",
       "      <td>10</td>\n",
       "      <td>1.0</td>\n",
       "      <td>0.0</td>\n",
       "      <td>0.0</td>\n",
       "      <td>No</td>\n",
       "      <td>3.0</td>\n",
       "    </tr>\n",
       "    <tr>\n",
       "      <th>3</th>\n",
       "      <td>4</td>\n",
       "      <td>40</td>\n",
       "      <td>Female</td>\n",
       "      <td>2021-11-03 02:30:00</td>\n",
       "      <td>2021-11-03 08:30:00</td>\n",
       "      <td>6.0</td>\n",
       "      <td>0.51</td>\n",
       "      <td>23</td>\n",
       "      <td>25</td>\n",
       "      <td>52</td>\n",
       "      <td>3.0</td>\n",
       "      <td>50.0</td>\n",
       "      <td>5.0</td>\n",
       "      <td>Yes</td>\n",
       "      <td>1.0</td>\n",
       "    </tr>\n",
       "    <tr>\n",
       "      <th>4</th>\n",
       "      <td>5</td>\n",
       "      <td>57</td>\n",
       "      <td>Male</td>\n",
       "      <td>2021-03-13 01:00:00</td>\n",
       "      <td>2021-03-13 09:00:00</td>\n",
       "      <td>8.0</td>\n",
       "      <td>0.76</td>\n",
       "      <td>27</td>\n",
       "      <td>55</td>\n",
       "      <td>18</td>\n",
       "      <td>3.0</td>\n",
       "      <td>0.0</td>\n",
       "      <td>3.0</td>\n",
       "      <td>No</td>\n",
       "      <td>3.0</td>\n",
       "    </tr>\n",
       "    <tr>\n",
       "      <th>...</th>\n",
       "      <td>...</td>\n",
       "      <td>...</td>\n",
       "      <td>...</td>\n",
       "      <td>...</td>\n",
       "      <td>...</td>\n",
       "      <td>...</td>\n",
       "      <td>...</td>\n",
       "      <td>...</td>\n",
       "      <td>...</td>\n",
       "      <td>...</td>\n",
       "      <td>...</td>\n",
       "      <td>...</td>\n",
       "      <td>...</td>\n",
       "      <td>...</td>\n",
       "      <td>...</td>\n",
       "    </tr>\n",
       "    <tr>\n",
       "      <th>445</th>\n",
       "      <td>446</td>\n",
       "      <td>30</td>\n",
       "      <td>Female</td>\n",
       "      <td>2021-11-16 23:00:00</td>\n",
       "      <td>2021-11-16 06:30:00</td>\n",
       "      <td>7.5</td>\n",
       "      <td>0.53</td>\n",
       "      <td>28</td>\n",
       "      <td>20</td>\n",
       "      <td>52</td>\n",
       "      <td>4.0</td>\n",
       "      <td>50.0</td>\n",
       "      <td>2.0</td>\n",
       "      <td>Yes</td>\n",
       "      <td>1.0</td>\n",
       "    </tr>\n",
       "    <tr>\n",
       "      <th>447</th>\n",
       "      <td>448</td>\n",
       "      <td>27</td>\n",
       "      <td>Female</td>\n",
       "      <td>2021-11-13 22:00:00</td>\n",
       "      <td>2021-11-13 05:30:00</td>\n",
       "      <td>7.5</td>\n",
       "      <td>0.91</td>\n",
       "      <td>22</td>\n",
       "      <td>57</td>\n",
       "      <td>21</td>\n",
       "      <td>0.0</td>\n",
       "      <td>0.0</td>\n",
       "      <td>0.0</td>\n",
       "      <td>No</td>\n",
       "      <td>5.0</td>\n",
       "    </tr>\n",
       "    <tr>\n",
       "      <th>448</th>\n",
       "      <td>449</td>\n",
       "      <td>52</td>\n",
       "      <td>Male</td>\n",
       "      <td>2021-03-31 21:00:00</td>\n",
       "      <td>2021-03-31 03:00:00</td>\n",
       "      <td>6.0</td>\n",
       "      <td>0.74</td>\n",
       "      <td>28</td>\n",
       "      <td>57</td>\n",
       "      <td>15</td>\n",
       "      <td>4.0</td>\n",
       "      <td>25.0</td>\n",
       "      <td>0.0</td>\n",
       "      <td>No</td>\n",
       "      <td>3.0</td>\n",
       "    </tr>\n",
       "    <tr>\n",
       "      <th>450</th>\n",
       "      <td>451</td>\n",
       "      <td>45</td>\n",
       "      <td>Male</td>\n",
       "      <td>2021-07-29 21:00:00</td>\n",
       "      <td>2021-07-29 04:00:00</td>\n",
       "      <td>7.0</td>\n",
       "      <td>0.76</td>\n",
       "      <td>18</td>\n",
       "      <td>72</td>\n",
       "      <td>10</td>\n",
       "      <td>3.0</td>\n",
       "      <td>0.0</td>\n",
       "      <td>0.0</td>\n",
       "      <td>No</td>\n",
       "      <td>3.0</td>\n",
       "    </tr>\n",
       "    <tr>\n",
       "      <th>451</th>\n",
       "      <td>452</td>\n",
       "      <td>18</td>\n",
       "      <td>Male</td>\n",
       "      <td>2021-03-17 02:30:00</td>\n",
       "      <td>2021-03-17 10:00:00</td>\n",
       "      <td>7.5</td>\n",
       "      <td>0.63</td>\n",
       "      <td>22</td>\n",
       "      <td>23</td>\n",
       "      <td>55</td>\n",
       "      <td>1.0</td>\n",
       "      <td>50.0</td>\n",
       "      <td>0.0</td>\n",
       "      <td>No</td>\n",
       "      <td>1.0</td>\n",
       "    </tr>\n",
       "  </tbody>\n",
       "</table>\n",
       "<p>388 rows × 15 columns</p>\n",
       "</div>"
      ],
      "text/plain": [
       "      ID  Age  Gender              Bedtime          Wakeup time  \\\n",
       "0      1   65  Female  2021-03-06 01:00:00  2021-03-06 07:00:00   \n",
       "1      2   69    Male  2021-12-05 02:00:00  2021-12-05 09:00:00   \n",
       "2      3   40  Female  2021-05-25 21:30:00  2021-05-25 05:30:00   \n",
       "3      4   40  Female  2021-11-03 02:30:00  2021-11-03 08:30:00   \n",
       "4      5   57    Male  2021-03-13 01:00:00  2021-03-13 09:00:00   \n",
       "..   ...  ...     ...                  ...                  ...   \n",
       "445  446   30  Female  2021-11-16 23:00:00  2021-11-16 06:30:00   \n",
       "447  448   27  Female  2021-11-13 22:00:00  2021-11-13 05:30:00   \n",
       "448  449   52    Male  2021-03-31 21:00:00  2021-03-31 03:00:00   \n",
       "450  451   45    Male  2021-07-29 21:00:00  2021-07-29 04:00:00   \n",
       "451  452   18    Male  2021-03-17 02:30:00  2021-03-17 10:00:00   \n",
       "\n",
       "     Sleep duration  Sleep efficiency  REM sleep percentage  \\\n",
       "0               6.0              0.88                    18   \n",
       "1               7.0              0.66                    19   \n",
       "2               8.0              0.89                    20   \n",
       "3               6.0              0.51                    23   \n",
       "4               8.0              0.76                    27   \n",
       "..              ...               ...                   ...   \n",
       "445             7.5              0.53                    28   \n",
       "447             7.5              0.91                    22   \n",
       "448             6.0              0.74                    28   \n",
       "450             7.0              0.76                    18   \n",
       "451             7.5              0.63                    22   \n",
       "\n",
       "     Deep sleep percentage  Light sleep percentage  Awakenings  \\\n",
       "0                       70                      12         0.0   \n",
       "1                       28                      53         3.0   \n",
       "2                       70                      10         1.0   \n",
       "3                       25                      52         3.0   \n",
       "4                       55                      18         3.0   \n",
       "..                     ...                     ...         ...   \n",
       "445                     20                      52         4.0   \n",
       "447                     57                      21         0.0   \n",
       "448                     57                      15         4.0   \n",
       "450                     72                      10         3.0   \n",
       "451                     23                      55         1.0   \n",
       "\n",
       "     Caffeine consumption  Alcohol consumption Smoking status  \\\n",
       "0                     0.0                  0.0            Yes   \n",
       "1                     0.0                  3.0            Yes   \n",
       "2                     0.0                  0.0             No   \n",
       "3                    50.0                  5.0            Yes   \n",
       "4                     0.0                  3.0             No   \n",
       "..                    ...                  ...            ...   \n",
       "445                  50.0                  2.0            Yes   \n",
       "447                   0.0                  0.0             No   \n",
       "448                  25.0                  0.0             No   \n",
       "450                   0.0                  0.0             No   \n",
       "451                  50.0                  0.0             No   \n",
       "\n",
       "     Exercise frequency  \n",
       "0                   3.0  \n",
       "1                   3.0  \n",
       "2                   3.0  \n",
       "3                   1.0  \n",
       "4                   3.0  \n",
       "..                  ...  \n",
       "445                 1.0  \n",
       "447                 5.0  \n",
       "448                 3.0  \n",
       "450                 3.0  \n",
       "451                 1.0  \n",
       "\n",
       "[388 rows x 15 columns]"
      ]
     },
     "execution_count": 110,
     "metadata": {},
     "output_type": "execute_result"
    }
   ],
   "source": [
    "# cleaning the data  here we need to use the drop any row \n",
    "df.dropna()"
   ]
  },
  {
   "cell_type": "code",
   "execution_count": 111,
   "id": "19a6f07b-c2de-49d5-b7d6-0d976d53aa07",
   "metadata": {},
   "outputs": [
    {
     "data": {
      "text/html": [
       "<div>\n",
       "<style scoped>\n",
       "    .dataframe tbody tr th:only-of-type {\n",
       "        vertical-align: middle;\n",
       "    }\n",
       "\n",
       "    .dataframe tbody tr th {\n",
       "        vertical-align: top;\n",
       "    }\n",
       "\n",
       "    .dataframe thead th {\n",
       "        text-align: right;\n",
       "    }\n",
       "</style>\n",
       "<table border=\"1\" class=\"dataframe\">\n",
       "  <thead>\n",
       "    <tr style=\"text-align: right;\">\n",
       "      <th></th>\n",
       "      <th>ID</th>\n",
       "      <th>Age</th>\n",
       "      <th>Gender</th>\n",
       "      <th>Bedtime</th>\n",
       "      <th>Wakeup time</th>\n",
       "      <th>Sleep duration</th>\n",
       "      <th>Sleep efficiency</th>\n",
       "      <th>REM sleep percentage</th>\n",
       "      <th>Deep sleep percentage</th>\n",
       "      <th>Light sleep percentage</th>\n",
       "      <th>Awakenings</th>\n",
       "      <th>Caffeine consumption</th>\n",
       "      <th>Alcohol consumption</th>\n",
       "      <th>Smoking status</th>\n",
       "      <th>Exercise frequency</th>\n",
       "    </tr>\n",
       "  </thead>\n",
       "  <tbody>\n",
       "    <tr>\n",
       "      <th>0</th>\n",
       "      <td>1</td>\n",
       "      <td>65</td>\n",
       "      <td>Female</td>\n",
       "      <td>2021-03-06 01:00:00</td>\n",
       "      <td>2021-03-06 07:00:00</td>\n",
       "      <td>6.0</td>\n",
       "      <td>0.88</td>\n",
       "      <td>18</td>\n",
       "      <td>70</td>\n",
       "      <td>12</td>\n",
       "      <td>0.0</td>\n",
       "      <td>0.0</td>\n",
       "      <td>0.0</td>\n",
       "      <td>Yes</td>\n",
       "      <td>3.0</td>\n",
       "    </tr>\n",
       "    <tr>\n",
       "      <th>1</th>\n",
       "      <td>2</td>\n",
       "      <td>69</td>\n",
       "      <td>Male</td>\n",
       "      <td>2021-12-05 02:00:00</td>\n",
       "      <td>2021-12-05 09:00:00</td>\n",
       "      <td>7.0</td>\n",
       "      <td>0.66</td>\n",
       "      <td>19</td>\n",
       "      <td>28</td>\n",
       "      <td>53</td>\n",
       "      <td>3.0</td>\n",
       "      <td>0.0</td>\n",
       "      <td>3.0</td>\n",
       "      <td>Yes</td>\n",
       "      <td>3.0</td>\n",
       "    </tr>\n",
       "    <tr>\n",
       "      <th>2</th>\n",
       "      <td>3</td>\n",
       "      <td>40</td>\n",
       "      <td>Female</td>\n",
       "      <td>2021-05-25 21:30:00</td>\n",
       "      <td>2021-05-25 05:30:00</td>\n",
       "      <td>8.0</td>\n",
       "      <td>0.89</td>\n",
       "      <td>20</td>\n",
       "      <td>70</td>\n",
       "      <td>10</td>\n",
       "      <td>1.0</td>\n",
       "      <td>0.0</td>\n",
       "      <td>0.0</td>\n",
       "      <td>No</td>\n",
       "      <td>3.0</td>\n",
       "    </tr>\n",
       "    <tr>\n",
       "      <th>3</th>\n",
       "      <td>4</td>\n",
       "      <td>40</td>\n",
       "      <td>Female</td>\n",
       "      <td>2021-11-03 02:30:00</td>\n",
       "      <td>2021-11-03 08:30:00</td>\n",
       "      <td>6.0</td>\n",
       "      <td>0.51</td>\n",
       "      <td>23</td>\n",
       "      <td>25</td>\n",
       "      <td>52</td>\n",
       "      <td>3.0</td>\n",
       "      <td>50.0</td>\n",
       "      <td>5.0</td>\n",
       "      <td>Yes</td>\n",
       "      <td>1.0</td>\n",
       "    </tr>\n",
       "    <tr>\n",
       "      <th>4</th>\n",
       "      <td>5</td>\n",
       "      <td>57</td>\n",
       "      <td>Male</td>\n",
       "      <td>2021-03-13 01:00:00</td>\n",
       "      <td>2021-03-13 09:00:00</td>\n",
       "      <td>8.0</td>\n",
       "      <td>0.76</td>\n",
       "      <td>27</td>\n",
       "      <td>55</td>\n",
       "      <td>18</td>\n",
       "      <td>3.0</td>\n",
       "      <td>0.0</td>\n",
       "      <td>3.0</td>\n",
       "      <td>No</td>\n",
       "      <td>3.0</td>\n",
       "    </tr>\n",
       "    <tr>\n",
       "      <th>...</th>\n",
       "      <td>...</td>\n",
       "      <td>...</td>\n",
       "      <td>...</td>\n",
       "      <td>...</td>\n",
       "      <td>...</td>\n",
       "      <td>...</td>\n",
       "      <td>...</td>\n",
       "      <td>...</td>\n",
       "      <td>...</td>\n",
       "      <td>...</td>\n",
       "      <td>...</td>\n",
       "      <td>...</td>\n",
       "      <td>...</td>\n",
       "      <td>...</td>\n",
       "      <td>...</td>\n",
       "    </tr>\n",
       "    <tr>\n",
       "      <th>447</th>\n",
       "      <td>448</td>\n",
       "      <td>27</td>\n",
       "      <td>Female</td>\n",
       "      <td>2021-11-13 22:00:00</td>\n",
       "      <td>2021-11-13 05:30:00</td>\n",
       "      <td>7.5</td>\n",
       "      <td>0.91</td>\n",
       "      <td>22</td>\n",
       "      <td>57</td>\n",
       "      <td>21</td>\n",
       "      <td>0.0</td>\n",
       "      <td>0.0</td>\n",
       "      <td>0.0</td>\n",
       "      <td>No</td>\n",
       "      <td>5.0</td>\n",
       "    </tr>\n",
       "    <tr>\n",
       "      <th>448</th>\n",
       "      <td>449</td>\n",
       "      <td>52</td>\n",
       "      <td>Male</td>\n",
       "      <td>2021-03-31 21:00:00</td>\n",
       "      <td>2021-03-31 03:00:00</td>\n",
       "      <td>6.0</td>\n",
       "      <td>0.74</td>\n",
       "      <td>28</td>\n",
       "      <td>57</td>\n",
       "      <td>15</td>\n",
       "      <td>4.0</td>\n",
       "      <td>25.0</td>\n",
       "      <td>0.0</td>\n",
       "      <td>No</td>\n",
       "      <td>3.0</td>\n",
       "    </tr>\n",
       "    <tr>\n",
       "      <th>449</th>\n",
       "      <td>450</td>\n",
       "      <td>40</td>\n",
       "      <td>Female</td>\n",
       "      <td>2021-09-07 23:00:00</td>\n",
       "      <td>2021-09-07 07:30:00</td>\n",
       "      <td>8.5</td>\n",
       "      <td>0.55</td>\n",
       "      <td>20</td>\n",
       "      <td>32</td>\n",
       "      <td>48</td>\n",
       "      <td>1.0</td>\n",
       "      <td>NaN</td>\n",
       "      <td>3.0</td>\n",
       "      <td>Yes</td>\n",
       "      <td>0.0</td>\n",
       "    </tr>\n",
       "    <tr>\n",
       "      <th>450</th>\n",
       "      <td>451</td>\n",
       "      <td>45</td>\n",
       "      <td>Male</td>\n",
       "      <td>2021-07-29 21:00:00</td>\n",
       "      <td>2021-07-29 04:00:00</td>\n",
       "      <td>7.0</td>\n",
       "      <td>0.76</td>\n",
       "      <td>18</td>\n",
       "      <td>72</td>\n",
       "      <td>10</td>\n",
       "      <td>3.0</td>\n",
       "      <td>0.0</td>\n",
       "      <td>0.0</td>\n",
       "      <td>No</td>\n",
       "      <td>3.0</td>\n",
       "    </tr>\n",
       "    <tr>\n",
       "      <th>451</th>\n",
       "      <td>452</td>\n",
       "      <td>18</td>\n",
       "      <td>Male</td>\n",
       "      <td>2021-03-17 02:30:00</td>\n",
       "      <td>2021-03-17 10:00:00</td>\n",
       "      <td>7.5</td>\n",
       "      <td>0.63</td>\n",
       "      <td>22</td>\n",
       "      <td>23</td>\n",
       "      <td>55</td>\n",
       "      <td>1.0</td>\n",
       "      <td>50.0</td>\n",
       "      <td>0.0</td>\n",
       "      <td>No</td>\n",
       "      <td>1.0</td>\n",
       "    </tr>\n",
       "  </tbody>\n",
       "</table>\n",
       "<p>452 rows × 15 columns</p>\n",
       "</div>"
      ],
      "text/plain": [
       "      ID  Age  Gender              Bedtime          Wakeup time  \\\n",
       "0      1   65  Female  2021-03-06 01:00:00  2021-03-06 07:00:00   \n",
       "1      2   69    Male  2021-12-05 02:00:00  2021-12-05 09:00:00   \n",
       "2      3   40  Female  2021-05-25 21:30:00  2021-05-25 05:30:00   \n",
       "3      4   40  Female  2021-11-03 02:30:00  2021-11-03 08:30:00   \n",
       "4      5   57    Male  2021-03-13 01:00:00  2021-03-13 09:00:00   \n",
       "..   ...  ...     ...                  ...                  ...   \n",
       "447  448   27  Female  2021-11-13 22:00:00  2021-11-13 05:30:00   \n",
       "448  449   52    Male  2021-03-31 21:00:00  2021-03-31 03:00:00   \n",
       "449  450   40  Female  2021-09-07 23:00:00  2021-09-07 07:30:00   \n",
       "450  451   45    Male  2021-07-29 21:00:00  2021-07-29 04:00:00   \n",
       "451  452   18    Male  2021-03-17 02:30:00  2021-03-17 10:00:00   \n",
       "\n",
       "     Sleep duration  Sleep efficiency  REM sleep percentage  \\\n",
       "0               6.0              0.88                    18   \n",
       "1               7.0              0.66                    19   \n",
       "2               8.0              0.89                    20   \n",
       "3               6.0              0.51                    23   \n",
       "4               8.0              0.76                    27   \n",
       "..              ...               ...                   ...   \n",
       "447             7.5              0.91                    22   \n",
       "448             6.0              0.74                    28   \n",
       "449             8.5              0.55                    20   \n",
       "450             7.0              0.76                    18   \n",
       "451             7.5              0.63                    22   \n",
       "\n",
       "     Deep sleep percentage  Light sleep percentage  Awakenings  \\\n",
       "0                       70                      12         0.0   \n",
       "1                       28                      53         3.0   \n",
       "2                       70                      10         1.0   \n",
       "3                       25                      52         3.0   \n",
       "4                       55                      18         3.0   \n",
       "..                     ...                     ...         ...   \n",
       "447                     57                      21         0.0   \n",
       "448                     57                      15         4.0   \n",
       "449                     32                      48         1.0   \n",
       "450                     72                      10         3.0   \n",
       "451                     23                      55         1.0   \n",
       "\n",
       "     Caffeine consumption  Alcohol consumption Smoking status  \\\n",
       "0                     0.0                  0.0            Yes   \n",
       "1                     0.0                  3.0            Yes   \n",
       "2                     0.0                  0.0             No   \n",
       "3                    50.0                  5.0            Yes   \n",
       "4                     0.0                  3.0             No   \n",
       "..                    ...                  ...            ...   \n",
       "447                   0.0                  0.0             No   \n",
       "448                  25.0                  0.0             No   \n",
       "449                   NaN                  3.0            Yes   \n",
       "450                   0.0                  0.0             No   \n",
       "451                  50.0                  0.0             No   \n",
       "\n",
       "     Exercise frequency  \n",
       "0                   3.0  \n",
       "1                   3.0  \n",
       "2                   3.0  \n",
       "3                   1.0  \n",
       "4                   3.0  \n",
       "..                  ...  \n",
       "447                 5.0  \n",
       "448                 3.0  \n",
       "449                 0.0  \n",
       "450                 3.0  \n",
       "451                 1.0  \n",
       "\n",
       "[452 rows x 15 columns]"
      ]
     },
     "execution_count": 111,
     "metadata": {},
     "output_type": "execute_result"
    }
   ],
   "source": [
    "df"
   ]
  },
  {
   "cell_type": "code",
   "execution_count": 114,
   "id": "a3a729b0-16bd-408e-8c9d-7939dde2a3ef",
   "metadata": {},
   "outputs": [],
   "source": [
    "df.dropna(inplace=True)"
   ]
  },
  {
   "cell_type": "code",
   "execution_count": 115,
   "id": "b2b77b53-6c1f-4548-8ea5-4d0de900c92e",
   "metadata": {},
   "outputs": [
    {
     "data": {
      "text/html": [
       "<div>\n",
       "<style scoped>\n",
       "    .dataframe tbody tr th:only-of-type {\n",
       "        vertical-align: middle;\n",
       "    }\n",
       "\n",
       "    .dataframe tbody tr th {\n",
       "        vertical-align: top;\n",
       "    }\n",
       "\n",
       "    .dataframe thead th {\n",
       "        text-align: right;\n",
       "    }\n",
       "</style>\n",
       "<table border=\"1\" class=\"dataframe\">\n",
       "  <thead>\n",
       "    <tr style=\"text-align: right;\">\n",
       "      <th></th>\n",
       "      <th>ID</th>\n",
       "      <th>Age</th>\n",
       "      <th>Gender</th>\n",
       "      <th>Bedtime</th>\n",
       "      <th>Wakeup time</th>\n",
       "      <th>Sleep duration</th>\n",
       "      <th>Sleep efficiency</th>\n",
       "      <th>REM sleep percentage</th>\n",
       "      <th>Deep sleep percentage</th>\n",
       "      <th>Light sleep percentage</th>\n",
       "      <th>Awakenings</th>\n",
       "      <th>Caffeine consumption</th>\n",
       "      <th>Alcohol consumption</th>\n",
       "      <th>Smoking status</th>\n",
       "      <th>Exercise frequency</th>\n",
       "    </tr>\n",
       "  </thead>\n",
       "  <tbody>\n",
       "    <tr>\n",
       "      <th>0</th>\n",
       "      <td>1</td>\n",
       "      <td>65</td>\n",
       "      <td>Female</td>\n",
       "      <td>2021-03-06 01:00:00</td>\n",
       "      <td>2021-03-06 07:00:00</td>\n",
       "      <td>6.0</td>\n",
       "      <td>0.88</td>\n",
       "      <td>18</td>\n",
       "      <td>70</td>\n",
       "      <td>12</td>\n",
       "      <td>0.0</td>\n",
       "      <td>0.0</td>\n",
       "      <td>0.0</td>\n",
       "      <td>Yes</td>\n",
       "      <td>3.0</td>\n",
       "    </tr>\n",
       "    <tr>\n",
       "      <th>1</th>\n",
       "      <td>2</td>\n",
       "      <td>69</td>\n",
       "      <td>Male</td>\n",
       "      <td>2021-12-05 02:00:00</td>\n",
       "      <td>2021-12-05 09:00:00</td>\n",
       "      <td>7.0</td>\n",
       "      <td>0.66</td>\n",
       "      <td>19</td>\n",
       "      <td>28</td>\n",
       "      <td>53</td>\n",
       "      <td>3.0</td>\n",
       "      <td>0.0</td>\n",
       "      <td>3.0</td>\n",
       "      <td>Yes</td>\n",
       "      <td>3.0</td>\n",
       "    </tr>\n",
       "    <tr>\n",
       "      <th>2</th>\n",
       "      <td>3</td>\n",
       "      <td>40</td>\n",
       "      <td>Female</td>\n",
       "      <td>2021-05-25 21:30:00</td>\n",
       "      <td>2021-05-25 05:30:00</td>\n",
       "      <td>8.0</td>\n",
       "      <td>0.89</td>\n",
       "      <td>20</td>\n",
       "      <td>70</td>\n",
       "      <td>10</td>\n",
       "      <td>1.0</td>\n",
       "      <td>0.0</td>\n",
       "      <td>0.0</td>\n",
       "      <td>No</td>\n",
       "      <td>3.0</td>\n",
       "    </tr>\n",
       "    <tr>\n",
       "      <th>3</th>\n",
       "      <td>4</td>\n",
       "      <td>40</td>\n",
       "      <td>Female</td>\n",
       "      <td>2021-11-03 02:30:00</td>\n",
       "      <td>2021-11-03 08:30:00</td>\n",
       "      <td>6.0</td>\n",
       "      <td>0.51</td>\n",
       "      <td>23</td>\n",
       "      <td>25</td>\n",
       "      <td>52</td>\n",
       "      <td>3.0</td>\n",
       "      <td>50.0</td>\n",
       "      <td>5.0</td>\n",
       "      <td>Yes</td>\n",
       "      <td>1.0</td>\n",
       "    </tr>\n",
       "    <tr>\n",
       "      <th>4</th>\n",
       "      <td>5</td>\n",
       "      <td>57</td>\n",
       "      <td>Male</td>\n",
       "      <td>2021-03-13 01:00:00</td>\n",
       "      <td>2021-03-13 09:00:00</td>\n",
       "      <td>8.0</td>\n",
       "      <td>0.76</td>\n",
       "      <td>27</td>\n",
       "      <td>55</td>\n",
       "      <td>18</td>\n",
       "      <td>3.0</td>\n",
       "      <td>0.0</td>\n",
       "      <td>3.0</td>\n",
       "      <td>No</td>\n",
       "      <td>3.0</td>\n",
       "    </tr>\n",
       "    <tr>\n",
       "      <th>...</th>\n",
       "      <td>...</td>\n",
       "      <td>...</td>\n",
       "      <td>...</td>\n",
       "      <td>...</td>\n",
       "      <td>...</td>\n",
       "      <td>...</td>\n",
       "      <td>...</td>\n",
       "      <td>...</td>\n",
       "      <td>...</td>\n",
       "      <td>...</td>\n",
       "      <td>...</td>\n",
       "      <td>...</td>\n",
       "      <td>...</td>\n",
       "      <td>...</td>\n",
       "      <td>...</td>\n",
       "    </tr>\n",
       "    <tr>\n",
       "      <th>445</th>\n",
       "      <td>446</td>\n",
       "      <td>30</td>\n",
       "      <td>Female</td>\n",
       "      <td>2021-11-16 23:00:00</td>\n",
       "      <td>2021-11-16 06:30:00</td>\n",
       "      <td>7.5</td>\n",
       "      <td>0.53</td>\n",
       "      <td>28</td>\n",
       "      <td>20</td>\n",
       "      <td>52</td>\n",
       "      <td>4.0</td>\n",
       "      <td>50.0</td>\n",
       "      <td>2.0</td>\n",
       "      <td>Yes</td>\n",
       "      <td>1.0</td>\n",
       "    </tr>\n",
       "    <tr>\n",
       "      <th>447</th>\n",
       "      <td>448</td>\n",
       "      <td>27</td>\n",
       "      <td>Female</td>\n",
       "      <td>2021-11-13 22:00:00</td>\n",
       "      <td>2021-11-13 05:30:00</td>\n",
       "      <td>7.5</td>\n",
       "      <td>0.91</td>\n",
       "      <td>22</td>\n",
       "      <td>57</td>\n",
       "      <td>21</td>\n",
       "      <td>0.0</td>\n",
       "      <td>0.0</td>\n",
       "      <td>0.0</td>\n",
       "      <td>No</td>\n",
       "      <td>5.0</td>\n",
       "    </tr>\n",
       "    <tr>\n",
       "      <th>448</th>\n",
       "      <td>449</td>\n",
       "      <td>52</td>\n",
       "      <td>Male</td>\n",
       "      <td>2021-03-31 21:00:00</td>\n",
       "      <td>2021-03-31 03:00:00</td>\n",
       "      <td>6.0</td>\n",
       "      <td>0.74</td>\n",
       "      <td>28</td>\n",
       "      <td>57</td>\n",
       "      <td>15</td>\n",
       "      <td>4.0</td>\n",
       "      <td>25.0</td>\n",
       "      <td>0.0</td>\n",
       "      <td>No</td>\n",
       "      <td>3.0</td>\n",
       "    </tr>\n",
       "    <tr>\n",
       "      <th>450</th>\n",
       "      <td>451</td>\n",
       "      <td>45</td>\n",
       "      <td>Male</td>\n",
       "      <td>2021-07-29 21:00:00</td>\n",
       "      <td>2021-07-29 04:00:00</td>\n",
       "      <td>7.0</td>\n",
       "      <td>0.76</td>\n",
       "      <td>18</td>\n",
       "      <td>72</td>\n",
       "      <td>10</td>\n",
       "      <td>3.0</td>\n",
       "      <td>0.0</td>\n",
       "      <td>0.0</td>\n",
       "      <td>No</td>\n",
       "      <td>3.0</td>\n",
       "    </tr>\n",
       "    <tr>\n",
       "      <th>451</th>\n",
       "      <td>452</td>\n",
       "      <td>18</td>\n",
       "      <td>Male</td>\n",
       "      <td>2021-03-17 02:30:00</td>\n",
       "      <td>2021-03-17 10:00:00</td>\n",
       "      <td>7.5</td>\n",
       "      <td>0.63</td>\n",
       "      <td>22</td>\n",
       "      <td>23</td>\n",
       "      <td>55</td>\n",
       "      <td>1.0</td>\n",
       "      <td>50.0</td>\n",
       "      <td>0.0</td>\n",
       "      <td>No</td>\n",
       "      <td>1.0</td>\n",
       "    </tr>\n",
       "  </tbody>\n",
       "</table>\n",
       "<p>388 rows × 15 columns</p>\n",
       "</div>"
      ],
      "text/plain": [
       "      ID  Age  Gender              Bedtime          Wakeup time  \\\n",
       "0      1   65  Female  2021-03-06 01:00:00  2021-03-06 07:00:00   \n",
       "1      2   69    Male  2021-12-05 02:00:00  2021-12-05 09:00:00   \n",
       "2      3   40  Female  2021-05-25 21:30:00  2021-05-25 05:30:00   \n",
       "3      4   40  Female  2021-11-03 02:30:00  2021-11-03 08:30:00   \n",
       "4      5   57    Male  2021-03-13 01:00:00  2021-03-13 09:00:00   \n",
       "..   ...  ...     ...                  ...                  ...   \n",
       "445  446   30  Female  2021-11-16 23:00:00  2021-11-16 06:30:00   \n",
       "447  448   27  Female  2021-11-13 22:00:00  2021-11-13 05:30:00   \n",
       "448  449   52    Male  2021-03-31 21:00:00  2021-03-31 03:00:00   \n",
       "450  451   45    Male  2021-07-29 21:00:00  2021-07-29 04:00:00   \n",
       "451  452   18    Male  2021-03-17 02:30:00  2021-03-17 10:00:00   \n",
       "\n",
       "     Sleep duration  Sleep efficiency  REM sleep percentage  \\\n",
       "0               6.0              0.88                    18   \n",
       "1               7.0              0.66                    19   \n",
       "2               8.0              0.89                    20   \n",
       "3               6.0              0.51                    23   \n",
       "4               8.0              0.76                    27   \n",
       "..              ...               ...                   ...   \n",
       "445             7.5              0.53                    28   \n",
       "447             7.5              0.91                    22   \n",
       "448             6.0              0.74                    28   \n",
       "450             7.0              0.76                    18   \n",
       "451             7.5              0.63                    22   \n",
       "\n",
       "     Deep sleep percentage  Light sleep percentage  Awakenings  \\\n",
       "0                       70                      12         0.0   \n",
       "1                       28                      53         3.0   \n",
       "2                       70                      10         1.0   \n",
       "3                       25                      52         3.0   \n",
       "4                       55                      18         3.0   \n",
       "..                     ...                     ...         ...   \n",
       "445                     20                      52         4.0   \n",
       "447                     57                      21         0.0   \n",
       "448                     57                      15         4.0   \n",
       "450                     72                      10         3.0   \n",
       "451                     23                      55         1.0   \n",
       "\n",
       "     Caffeine consumption  Alcohol consumption Smoking status  \\\n",
       "0                     0.0                  0.0            Yes   \n",
       "1                     0.0                  3.0            Yes   \n",
       "2                     0.0                  0.0             No   \n",
       "3                    50.0                  5.0            Yes   \n",
       "4                     0.0                  3.0             No   \n",
       "..                    ...                  ...            ...   \n",
       "445                  50.0                  2.0            Yes   \n",
       "447                   0.0                  0.0             No   \n",
       "448                  25.0                  0.0             No   \n",
       "450                   0.0                  0.0             No   \n",
       "451                  50.0                  0.0             No   \n",
       "\n",
       "     Exercise frequency  \n",
       "0                   3.0  \n",
       "1                   3.0  \n",
       "2                   3.0  \n",
       "3                   1.0  \n",
       "4                   3.0  \n",
       "..                  ...  \n",
       "445                 1.0  \n",
       "447                 5.0  \n",
       "448                 3.0  \n",
       "450                 3.0  \n",
       "451                 1.0  \n",
       "\n",
       "[388 rows x 15 columns]"
      ]
     },
     "execution_count": 115,
     "metadata": {},
     "output_type": "execute_result"
    }
   ],
   "source": [
    "df"
   ]
  },
  {
   "cell_type": "code",
   "execution_count": 116,
   "id": "a535d978-61c2-4b58-b591-9735271ae079",
   "metadata": {},
   "outputs": [
    {
     "data": {
      "text/html": [
       "<div>\n",
       "<style scoped>\n",
       "    .dataframe tbody tr th:only-of-type {\n",
       "        vertical-align: middle;\n",
       "    }\n",
       "\n",
       "    .dataframe tbody tr th {\n",
       "        vertical-align: top;\n",
       "    }\n",
       "\n",
       "    .dataframe thead th {\n",
       "        text-align: right;\n",
       "    }\n",
       "</style>\n",
       "<table border=\"1\" class=\"dataframe\">\n",
       "  <thead>\n",
       "    <tr style=\"text-align: right;\">\n",
       "      <th></th>\n",
       "      <th>ID</th>\n",
       "      <th>Age</th>\n",
       "      <th>Gender</th>\n",
       "      <th>Bedtime</th>\n",
       "      <th>Wakeup time</th>\n",
       "      <th>Sleep duration</th>\n",
       "      <th>Sleep efficiency</th>\n",
       "      <th>REM sleep percentage</th>\n",
       "      <th>Deep sleep percentage</th>\n",
       "      <th>Light sleep percentage</th>\n",
       "      <th>Awakenings</th>\n",
       "      <th>Caffeine consumption</th>\n",
       "      <th>Alcohol consumption</th>\n",
       "      <th>Smoking status</th>\n",
       "      <th>Exercise frequency</th>\n",
       "    </tr>\n",
       "  </thead>\n",
       "  <tbody>\n",
       "    <tr>\n",
       "      <th>0</th>\n",
       "      <td>1</td>\n",
       "      <td>65</td>\n",
       "      <td>Female</td>\n",
       "      <td>2021-03-06 01:00:00</td>\n",
       "      <td>2021-03-06 07:00:00</td>\n",
       "      <td>6.0</td>\n",
       "      <td>0.88</td>\n",
       "      <td>18</td>\n",
       "      <td>70</td>\n",
       "      <td>12</td>\n",
       "      <td>0.0</td>\n",
       "      <td>0.0</td>\n",
       "      <td>0.0</td>\n",
       "      <td>Yes</td>\n",
       "      <td>3.0</td>\n",
       "    </tr>\n",
       "    <tr>\n",
       "      <th>1</th>\n",
       "      <td>2</td>\n",
       "      <td>69</td>\n",
       "      <td>Male</td>\n",
       "      <td>2021-12-05 02:00:00</td>\n",
       "      <td>2021-12-05 09:00:00</td>\n",
       "      <td>7.0</td>\n",
       "      <td>0.66</td>\n",
       "      <td>19</td>\n",
       "      <td>28</td>\n",
       "      <td>53</td>\n",
       "      <td>3.0</td>\n",
       "      <td>0.0</td>\n",
       "      <td>3.0</td>\n",
       "      <td>Yes</td>\n",
       "      <td>3.0</td>\n",
       "    </tr>\n",
       "    <tr>\n",
       "      <th>2</th>\n",
       "      <td>3</td>\n",
       "      <td>40</td>\n",
       "      <td>Female</td>\n",
       "      <td>2021-05-25 21:30:00</td>\n",
       "      <td>2021-05-25 05:30:00</td>\n",
       "      <td>8.0</td>\n",
       "      <td>0.89</td>\n",
       "      <td>20</td>\n",
       "      <td>70</td>\n",
       "      <td>10</td>\n",
       "      <td>1.0</td>\n",
       "      <td>0.0</td>\n",
       "      <td>0.0</td>\n",
       "      <td>No</td>\n",
       "      <td>3.0</td>\n",
       "    </tr>\n",
       "    <tr>\n",
       "      <th>3</th>\n",
       "      <td>4</td>\n",
       "      <td>40</td>\n",
       "      <td>Female</td>\n",
       "      <td>2021-11-03 02:30:00</td>\n",
       "      <td>2021-11-03 08:30:00</td>\n",
       "      <td>6.0</td>\n",
       "      <td>0.51</td>\n",
       "      <td>23</td>\n",
       "      <td>25</td>\n",
       "      <td>52</td>\n",
       "      <td>3.0</td>\n",
       "      <td>50.0</td>\n",
       "      <td>5.0</td>\n",
       "      <td>Yes</td>\n",
       "      <td>1.0</td>\n",
       "    </tr>\n",
       "    <tr>\n",
       "      <th>4</th>\n",
       "      <td>5</td>\n",
       "      <td>57</td>\n",
       "      <td>Male</td>\n",
       "      <td>2021-03-13 01:00:00</td>\n",
       "      <td>2021-03-13 09:00:00</td>\n",
       "      <td>8.0</td>\n",
       "      <td>0.76</td>\n",
       "      <td>27</td>\n",
       "      <td>55</td>\n",
       "      <td>18</td>\n",
       "      <td>3.0</td>\n",
       "      <td>0.0</td>\n",
       "      <td>3.0</td>\n",
       "      <td>No</td>\n",
       "      <td>3.0</td>\n",
       "    </tr>\n",
       "    <tr>\n",
       "      <th>...</th>\n",
       "      <td>...</td>\n",
       "      <td>...</td>\n",
       "      <td>...</td>\n",
       "      <td>...</td>\n",
       "      <td>...</td>\n",
       "      <td>...</td>\n",
       "      <td>...</td>\n",
       "      <td>...</td>\n",
       "      <td>...</td>\n",
       "      <td>...</td>\n",
       "      <td>...</td>\n",
       "      <td>...</td>\n",
       "      <td>...</td>\n",
       "      <td>...</td>\n",
       "      <td>...</td>\n",
       "    </tr>\n",
       "    <tr>\n",
       "      <th>447</th>\n",
       "      <td>448</td>\n",
       "      <td>27</td>\n",
       "      <td>Female</td>\n",
       "      <td>2021-11-13 22:00:00</td>\n",
       "      <td>2021-11-13 05:30:00</td>\n",
       "      <td>7.5</td>\n",
       "      <td>0.91</td>\n",
       "      <td>22</td>\n",
       "      <td>57</td>\n",
       "      <td>21</td>\n",
       "      <td>0.0</td>\n",
       "      <td>0.0</td>\n",
       "      <td>0.0</td>\n",
       "      <td>No</td>\n",
       "      <td>5.0</td>\n",
       "    </tr>\n",
       "    <tr>\n",
       "      <th>448</th>\n",
       "      <td>449</td>\n",
       "      <td>52</td>\n",
       "      <td>Male</td>\n",
       "      <td>2021-03-31 21:00:00</td>\n",
       "      <td>2021-03-31 03:00:00</td>\n",
       "      <td>6.0</td>\n",
       "      <td>0.74</td>\n",
       "      <td>28</td>\n",
       "      <td>57</td>\n",
       "      <td>15</td>\n",
       "      <td>4.0</td>\n",
       "      <td>25.0</td>\n",
       "      <td>0.0</td>\n",
       "      <td>No</td>\n",
       "      <td>3.0</td>\n",
       "    </tr>\n",
       "    <tr>\n",
       "      <th>449</th>\n",
       "      <td>450</td>\n",
       "      <td>40</td>\n",
       "      <td>Female</td>\n",
       "      <td>2021-09-07 23:00:00</td>\n",
       "      <td>2021-09-07 07:30:00</td>\n",
       "      <td>8.5</td>\n",
       "      <td>0.55</td>\n",
       "      <td>20</td>\n",
       "      <td>32</td>\n",
       "      <td>48</td>\n",
       "      <td>1.0</td>\n",
       "      <td>NaN</td>\n",
       "      <td>3.0</td>\n",
       "      <td>Yes</td>\n",
       "      <td>0.0</td>\n",
       "    </tr>\n",
       "    <tr>\n",
       "      <th>450</th>\n",
       "      <td>451</td>\n",
       "      <td>45</td>\n",
       "      <td>Male</td>\n",
       "      <td>2021-07-29 21:00:00</td>\n",
       "      <td>2021-07-29 04:00:00</td>\n",
       "      <td>7.0</td>\n",
       "      <td>0.76</td>\n",
       "      <td>18</td>\n",
       "      <td>72</td>\n",
       "      <td>10</td>\n",
       "      <td>3.0</td>\n",
       "      <td>0.0</td>\n",
       "      <td>0.0</td>\n",
       "      <td>No</td>\n",
       "      <td>3.0</td>\n",
       "    </tr>\n",
       "    <tr>\n",
       "      <th>451</th>\n",
       "      <td>452</td>\n",
       "      <td>18</td>\n",
       "      <td>Male</td>\n",
       "      <td>2021-03-17 02:30:00</td>\n",
       "      <td>2021-03-17 10:00:00</td>\n",
       "      <td>7.5</td>\n",
       "      <td>0.63</td>\n",
       "      <td>22</td>\n",
       "      <td>23</td>\n",
       "      <td>55</td>\n",
       "      <td>1.0</td>\n",
       "      <td>50.0</td>\n",
       "      <td>0.0</td>\n",
       "      <td>No</td>\n",
       "      <td>1.0</td>\n",
       "    </tr>\n",
       "  </tbody>\n",
       "</table>\n",
       "<p>452 rows × 15 columns</p>\n",
       "</div>"
      ],
      "text/plain": [
       "      ID  Age  Gender              Bedtime          Wakeup time  \\\n",
       "0      1   65  Female  2021-03-06 01:00:00  2021-03-06 07:00:00   \n",
       "1      2   69    Male  2021-12-05 02:00:00  2021-12-05 09:00:00   \n",
       "2      3   40  Female  2021-05-25 21:30:00  2021-05-25 05:30:00   \n",
       "3      4   40  Female  2021-11-03 02:30:00  2021-11-03 08:30:00   \n",
       "4      5   57    Male  2021-03-13 01:00:00  2021-03-13 09:00:00   \n",
       "..   ...  ...     ...                  ...                  ...   \n",
       "447  448   27  Female  2021-11-13 22:00:00  2021-11-13 05:30:00   \n",
       "448  449   52    Male  2021-03-31 21:00:00  2021-03-31 03:00:00   \n",
       "449  450   40  Female  2021-09-07 23:00:00  2021-09-07 07:30:00   \n",
       "450  451   45    Male  2021-07-29 21:00:00  2021-07-29 04:00:00   \n",
       "451  452   18    Male  2021-03-17 02:30:00  2021-03-17 10:00:00   \n",
       "\n",
       "     Sleep duration  Sleep efficiency  REM sleep percentage  \\\n",
       "0               6.0              0.88                    18   \n",
       "1               7.0              0.66                    19   \n",
       "2               8.0              0.89                    20   \n",
       "3               6.0              0.51                    23   \n",
       "4               8.0              0.76                    27   \n",
       "..              ...               ...                   ...   \n",
       "447             7.5              0.91                    22   \n",
       "448             6.0              0.74                    28   \n",
       "449             8.5              0.55                    20   \n",
       "450             7.0              0.76                    18   \n",
       "451             7.5              0.63                    22   \n",
       "\n",
       "     Deep sleep percentage  Light sleep percentage  Awakenings  \\\n",
       "0                       70                      12         0.0   \n",
       "1                       28                      53         3.0   \n",
       "2                       70                      10         1.0   \n",
       "3                       25                      52         3.0   \n",
       "4                       55                      18         3.0   \n",
       "..                     ...                     ...         ...   \n",
       "447                     57                      21         0.0   \n",
       "448                     57                      15         4.0   \n",
       "449                     32                      48         1.0   \n",
       "450                     72                      10         3.0   \n",
       "451                     23                      55         1.0   \n",
       "\n",
       "     Caffeine consumption  Alcohol consumption Smoking status  \\\n",
       "0                     0.0                  0.0            Yes   \n",
       "1                     0.0                  3.0            Yes   \n",
       "2                     0.0                  0.0             No   \n",
       "3                    50.0                  5.0            Yes   \n",
       "4                     0.0                  3.0             No   \n",
       "..                    ...                  ...            ...   \n",
       "447                   0.0                  0.0             No   \n",
       "448                  25.0                  0.0             No   \n",
       "449                   NaN                  3.0            Yes   \n",
       "450                   0.0                  0.0             No   \n",
       "451                  50.0                  0.0             No   \n",
       "\n",
       "     Exercise frequency  \n",
       "0                   3.0  \n",
       "1                   3.0  \n",
       "2                   3.0  \n",
       "3                   1.0  \n",
       "4                   3.0  \n",
       "..                  ...  \n",
       "447                 5.0  \n",
       "448                 3.0  \n",
       "449                 0.0  \n",
       "450                 3.0  \n",
       "451                 1.0  \n",
       "\n",
       "[452 rows x 15 columns]"
      ]
     },
     "execution_count": 116,
     "metadata": {},
     "output_type": "execute_result"
    }
   ],
   "source": [
    "d"
   ]
  },
  {
   "cell_type": "code",
   "execution_count": 117,
   "id": "dc19460e-2cb8-4d82-a251-16a3763b87d9",
   "metadata": {},
   "outputs": [],
   "source": [
    "# transform timestamp (wil do this for columns)\n",
    "df['Bedtime']=pd.to_datetime(df['Bedtime'])\n",
    "df['Wakeup time']=pd.to_datetime(df['Wakeup time'])"
   ]
  },
  {
   "cell_type": "code",
   "execution_count": 118,
   "id": "fb8c3914-edd2-4cb6-addd-5ac21ee60280",
   "metadata": {},
   "outputs": [
    {
     "data": {
      "text/html": [
       "<div>\n",
       "<style scoped>\n",
       "    .dataframe tbody tr th:only-of-type {\n",
       "        vertical-align: middle;\n",
       "    }\n",
       "\n",
       "    .dataframe tbody tr th {\n",
       "        vertical-align: top;\n",
       "    }\n",
       "\n",
       "    .dataframe thead th {\n",
       "        text-align: right;\n",
       "    }\n",
       "</style>\n",
       "<table border=\"1\" class=\"dataframe\">\n",
       "  <thead>\n",
       "    <tr style=\"text-align: right;\">\n",
       "      <th></th>\n",
       "      <th>ID</th>\n",
       "      <th>Age</th>\n",
       "      <th>Gender</th>\n",
       "      <th>Bedtime</th>\n",
       "      <th>Wakeup time</th>\n",
       "      <th>Sleep duration</th>\n",
       "      <th>Sleep efficiency</th>\n",
       "      <th>REM sleep percentage</th>\n",
       "      <th>Deep sleep percentage</th>\n",
       "      <th>Light sleep percentage</th>\n",
       "      <th>Awakenings</th>\n",
       "      <th>Caffeine consumption</th>\n",
       "      <th>Alcohol consumption</th>\n",
       "      <th>Smoking status</th>\n",
       "      <th>Exercise frequency</th>\n",
       "    </tr>\n",
       "  </thead>\n",
       "  <tbody>\n",
       "    <tr>\n",
       "      <th>0</th>\n",
       "      <td>1</td>\n",
       "      <td>65</td>\n",
       "      <td>Female</td>\n",
       "      <td>2021-03-06 01:00:00</td>\n",
       "      <td>2021-03-06 07:00:00</td>\n",
       "      <td>6.0</td>\n",
       "      <td>0.88</td>\n",
       "      <td>18</td>\n",
       "      <td>70</td>\n",
       "      <td>12</td>\n",
       "      <td>0.0</td>\n",
       "      <td>0.0</td>\n",
       "      <td>0.0</td>\n",
       "      <td>Yes</td>\n",
       "      <td>3.0</td>\n",
       "    </tr>\n",
       "    <tr>\n",
       "      <th>1</th>\n",
       "      <td>2</td>\n",
       "      <td>69</td>\n",
       "      <td>Male</td>\n",
       "      <td>2021-12-05 02:00:00</td>\n",
       "      <td>2021-12-05 09:00:00</td>\n",
       "      <td>7.0</td>\n",
       "      <td>0.66</td>\n",
       "      <td>19</td>\n",
       "      <td>28</td>\n",
       "      <td>53</td>\n",
       "      <td>3.0</td>\n",
       "      <td>0.0</td>\n",
       "      <td>3.0</td>\n",
       "      <td>Yes</td>\n",
       "      <td>3.0</td>\n",
       "    </tr>\n",
       "    <tr>\n",
       "      <th>2</th>\n",
       "      <td>3</td>\n",
       "      <td>40</td>\n",
       "      <td>Female</td>\n",
       "      <td>2021-05-25 21:30:00</td>\n",
       "      <td>2021-05-25 05:30:00</td>\n",
       "      <td>8.0</td>\n",
       "      <td>0.89</td>\n",
       "      <td>20</td>\n",
       "      <td>70</td>\n",
       "      <td>10</td>\n",
       "      <td>1.0</td>\n",
       "      <td>0.0</td>\n",
       "      <td>0.0</td>\n",
       "      <td>No</td>\n",
       "      <td>3.0</td>\n",
       "    </tr>\n",
       "    <tr>\n",
       "      <th>3</th>\n",
       "      <td>4</td>\n",
       "      <td>40</td>\n",
       "      <td>Female</td>\n",
       "      <td>2021-11-03 02:30:00</td>\n",
       "      <td>2021-11-03 08:30:00</td>\n",
       "      <td>6.0</td>\n",
       "      <td>0.51</td>\n",
       "      <td>23</td>\n",
       "      <td>25</td>\n",
       "      <td>52</td>\n",
       "      <td>3.0</td>\n",
       "      <td>50.0</td>\n",
       "      <td>5.0</td>\n",
       "      <td>Yes</td>\n",
       "      <td>1.0</td>\n",
       "    </tr>\n",
       "    <tr>\n",
       "      <th>4</th>\n",
       "      <td>5</td>\n",
       "      <td>57</td>\n",
       "      <td>Male</td>\n",
       "      <td>2021-03-13 01:00:00</td>\n",
       "      <td>2021-03-13 09:00:00</td>\n",
       "      <td>8.0</td>\n",
       "      <td>0.76</td>\n",
       "      <td>27</td>\n",
       "      <td>55</td>\n",
       "      <td>18</td>\n",
       "      <td>3.0</td>\n",
       "      <td>0.0</td>\n",
       "      <td>3.0</td>\n",
       "      <td>No</td>\n",
       "      <td>3.0</td>\n",
       "    </tr>\n",
       "    <tr>\n",
       "      <th>...</th>\n",
       "      <td>...</td>\n",
       "      <td>...</td>\n",
       "      <td>...</td>\n",
       "      <td>...</td>\n",
       "      <td>...</td>\n",
       "      <td>...</td>\n",
       "      <td>...</td>\n",
       "      <td>...</td>\n",
       "      <td>...</td>\n",
       "      <td>...</td>\n",
       "      <td>...</td>\n",
       "      <td>...</td>\n",
       "      <td>...</td>\n",
       "      <td>...</td>\n",
       "      <td>...</td>\n",
       "    </tr>\n",
       "    <tr>\n",
       "      <th>445</th>\n",
       "      <td>446</td>\n",
       "      <td>30</td>\n",
       "      <td>Female</td>\n",
       "      <td>2021-11-16 23:00:00</td>\n",
       "      <td>2021-11-16 06:30:00</td>\n",
       "      <td>7.5</td>\n",
       "      <td>0.53</td>\n",
       "      <td>28</td>\n",
       "      <td>20</td>\n",
       "      <td>52</td>\n",
       "      <td>4.0</td>\n",
       "      <td>50.0</td>\n",
       "      <td>2.0</td>\n",
       "      <td>Yes</td>\n",
       "      <td>1.0</td>\n",
       "    </tr>\n",
       "    <tr>\n",
       "      <th>447</th>\n",
       "      <td>448</td>\n",
       "      <td>27</td>\n",
       "      <td>Female</td>\n",
       "      <td>2021-11-13 22:00:00</td>\n",
       "      <td>2021-11-13 05:30:00</td>\n",
       "      <td>7.5</td>\n",
       "      <td>0.91</td>\n",
       "      <td>22</td>\n",
       "      <td>57</td>\n",
       "      <td>21</td>\n",
       "      <td>0.0</td>\n",
       "      <td>0.0</td>\n",
       "      <td>0.0</td>\n",
       "      <td>No</td>\n",
       "      <td>5.0</td>\n",
       "    </tr>\n",
       "    <tr>\n",
       "      <th>448</th>\n",
       "      <td>449</td>\n",
       "      <td>52</td>\n",
       "      <td>Male</td>\n",
       "      <td>2021-03-31 21:00:00</td>\n",
       "      <td>2021-03-31 03:00:00</td>\n",
       "      <td>6.0</td>\n",
       "      <td>0.74</td>\n",
       "      <td>28</td>\n",
       "      <td>57</td>\n",
       "      <td>15</td>\n",
       "      <td>4.0</td>\n",
       "      <td>25.0</td>\n",
       "      <td>0.0</td>\n",
       "      <td>No</td>\n",
       "      <td>3.0</td>\n",
       "    </tr>\n",
       "    <tr>\n",
       "      <th>450</th>\n",
       "      <td>451</td>\n",
       "      <td>45</td>\n",
       "      <td>Male</td>\n",
       "      <td>2021-07-29 21:00:00</td>\n",
       "      <td>2021-07-29 04:00:00</td>\n",
       "      <td>7.0</td>\n",
       "      <td>0.76</td>\n",
       "      <td>18</td>\n",
       "      <td>72</td>\n",
       "      <td>10</td>\n",
       "      <td>3.0</td>\n",
       "      <td>0.0</td>\n",
       "      <td>0.0</td>\n",
       "      <td>No</td>\n",
       "      <td>3.0</td>\n",
       "    </tr>\n",
       "    <tr>\n",
       "      <th>451</th>\n",
       "      <td>452</td>\n",
       "      <td>18</td>\n",
       "      <td>Male</td>\n",
       "      <td>2021-03-17 02:30:00</td>\n",
       "      <td>2021-03-17 10:00:00</td>\n",
       "      <td>7.5</td>\n",
       "      <td>0.63</td>\n",
       "      <td>22</td>\n",
       "      <td>23</td>\n",
       "      <td>55</td>\n",
       "      <td>1.0</td>\n",
       "      <td>50.0</td>\n",
       "      <td>0.0</td>\n",
       "      <td>No</td>\n",
       "      <td>1.0</td>\n",
       "    </tr>\n",
       "  </tbody>\n",
       "</table>\n",
       "<p>388 rows × 15 columns</p>\n",
       "</div>"
      ],
      "text/plain": [
       "      ID  Age  Gender             Bedtime         Wakeup time  Sleep duration  \\\n",
       "0      1   65  Female 2021-03-06 01:00:00 2021-03-06 07:00:00             6.0   \n",
       "1      2   69    Male 2021-12-05 02:00:00 2021-12-05 09:00:00             7.0   \n",
       "2      3   40  Female 2021-05-25 21:30:00 2021-05-25 05:30:00             8.0   \n",
       "3      4   40  Female 2021-11-03 02:30:00 2021-11-03 08:30:00             6.0   \n",
       "4      5   57    Male 2021-03-13 01:00:00 2021-03-13 09:00:00             8.0   \n",
       "..   ...  ...     ...                 ...                 ...             ...   \n",
       "445  446   30  Female 2021-11-16 23:00:00 2021-11-16 06:30:00             7.5   \n",
       "447  448   27  Female 2021-11-13 22:00:00 2021-11-13 05:30:00             7.5   \n",
       "448  449   52    Male 2021-03-31 21:00:00 2021-03-31 03:00:00             6.0   \n",
       "450  451   45    Male 2021-07-29 21:00:00 2021-07-29 04:00:00             7.0   \n",
       "451  452   18    Male 2021-03-17 02:30:00 2021-03-17 10:00:00             7.5   \n",
       "\n",
       "     Sleep efficiency  REM sleep percentage  Deep sleep percentage  \\\n",
       "0                0.88                    18                     70   \n",
       "1                0.66                    19                     28   \n",
       "2                0.89                    20                     70   \n",
       "3                0.51                    23                     25   \n",
       "4                0.76                    27                     55   \n",
       "..                ...                   ...                    ...   \n",
       "445              0.53                    28                     20   \n",
       "447              0.91                    22                     57   \n",
       "448              0.74                    28                     57   \n",
       "450              0.76                    18                     72   \n",
       "451              0.63                    22                     23   \n",
       "\n",
       "     Light sleep percentage  Awakenings  Caffeine consumption  \\\n",
       "0                        12         0.0                   0.0   \n",
       "1                        53         3.0                   0.0   \n",
       "2                        10         1.0                   0.0   \n",
       "3                        52         3.0                  50.0   \n",
       "4                        18         3.0                   0.0   \n",
       "..                      ...         ...                   ...   \n",
       "445                      52         4.0                  50.0   \n",
       "447                      21         0.0                   0.0   \n",
       "448                      15         4.0                  25.0   \n",
       "450                      10         3.0                   0.0   \n",
       "451                      55         1.0                  50.0   \n",
       "\n",
       "     Alcohol consumption Smoking status  Exercise frequency  \n",
       "0                    0.0            Yes                 3.0  \n",
       "1                    3.0            Yes                 3.0  \n",
       "2                    0.0             No                 3.0  \n",
       "3                    5.0            Yes                 1.0  \n",
       "4                    3.0             No                 3.0  \n",
       "..                   ...            ...                 ...  \n",
       "445                  2.0            Yes                 1.0  \n",
       "447                  0.0             No                 5.0  \n",
       "448                  0.0             No                 3.0  \n",
       "450                  0.0             No                 3.0  \n",
       "451                  0.0             No                 1.0  \n",
       "\n",
       "[388 rows x 15 columns]"
      ]
     },
     "execution_count": 118,
     "metadata": {},
     "output_type": "execute_result"
    }
   ],
   "source": [
    "df"
   ]
  },
  {
   "cell_type": "code",
   "execution_count": 123,
   "id": "3d2aa790-6ece-4e3a-a545-6329a1e74834",
   "metadata": {},
   "outputs": [],
   "source": [
    "#creating new colunm(for sleeping duration)\n",
    "df['sleep duration(hours)']=(df['Wakeup time']-df['Bedtime']).dt.total_seconds()/3600"
   ]
  },
  {
   "cell_type": "code",
   "execution_count": 124,
   "id": "c3e51a62-72aa-4500-b73d-56f3c88b8122",
   "metadata": {},
   "outputs": [
    {
     "data": {
      "text/html": [
       "<div>\n",
       "<style scoped>\n",
       "    .dataframe tbody tr th:only-of-type {\n",
       "        vertical-align: middle;\n",
       "    }\n",
       "\n",
       "    .dataframe tbody tr th {\n",
       "        vertical-align: top;\n",
       "    }\n",
       "\n",
       "    .dataframe thead th {\n",
       "        text-align: right;\n",
       "    }\n",
       "</style>\n",
       "<table border=\"1\" class=\"dataframe\">\n",
       "  <thead>\n",
       "    <tr style=\"text-align: right;\">\n",
       "      <th></th>\n",
       "      <th>ID</th>\n",
       "      <th>Age</th>\n",
       "      <th>Gender</th>\n",
       "      <th>Bedtime</th>\n",
       "      <th>Wakeup time</th>\n",
       "      <th>Sleep duration</th>\n",
       "      <th>Sleep efficiency</th>\n",
       "      <th>REM sleep percentage</th>\n",
       "      <th>Deep sleep percentage</th>\n",
       "      <th>Light sleep percentage</th>\n",
       "      <th>Awakenings</th>\n",
       "      <th>Caffeine consumption</th>\n",
       "      <th>Alcohol consumption</th>\n",
       "      <th>Smoking status</th>\n",
       "      <th>Exercise frequency</th>\n",
       "      <th>sleep duration(hours)</th>\n",
       "    </tr>\n",
       "  </thead>\n",
       "  <tbody>\n",
       "    <tr>\n",
       "      <th>0</th>\n",
       "      <td>1</td>\n",
       "      <td>65</td>\n",
       "      <td>Female</td>\n",
       "      <td>2021-03-06 01:00:00</td>\n",
       "      <td>2021-03-06 07:00:00</td>\n",
       "      <td>6.0</td>\n",
       "      <td>0.88</td>\n",
       "      <td>18</td>\n",
       "      <td>70</td>\n",
       "      <td>12</td>\n",
       "      <td>0.0</td>\n",
       "      <td>0.0</td>\n",
       "      <td>0.0</td>\n",
       "      <td>Yes</td>\n",
       "      <td>3.0</td>\n",
       "      <td>6.0</td>\n",
       "    </tr>\n",
       "    <tr>\n",
       "      <th>1</th>\n",
       "      <td>2</td>\n",
       "      <td>69</td>\n",
       "      <td>Male</td>\n",
       "      <td>2021-12-05 02:00:00</td>\n",
       "      <td>2021-12-05 09:00:00</td>\n",
       "      <td>7.0</td>\n",
       "      <td>0.66</td>\n",
       "      <td>19</td>\n",
       "      <td>28</td>\n",
       "      <td>53</td>\n",
       "      <td>3.0</td>\n",
       "      <td>0.0</td>\n",
       "      <td>3.0</td>\n",
       "      <td>Yes</td>\n",
       "      <td>3.0</td>\n",
       "      <td>7.0</td>\n",
       "    </tr>\n",
       "    <tr>\n",
       "      <th>2</th>\n",
       "      <td>3</td>\n",
       "      <td>40</td>\n",
       "      <td>Female</td>\n",
       "      <td>2021-05-25 21:30:00</td>\n",
       "      <td>2021-05-25 05:30:00</td>\n",
       "      <td>8.0</td>\n",
       "      <td>0.89</td>\n",
       "      <td>20</td>\n",
       "      <td>70</td>\n",
       "      <td>10</td>\n",
       "      <td>1.0</td>\n",
       "      <td>0.0</td>\n",
       "      <td>0.0</td>\n",
       "      <td>No</td>\n",
       "      <td>3.0</td>\n",
       "      <td>-16.0</td>\n",
       "    </tr>\n",
       "    <tr>\n",
       "      <th>3</th>\n",
       "      <td>4</td>\n",
       "      <td>40</td>\n",
       "      <td>Female</td>\n",
       "      <td>2021-11-03 02:30:00</td>\n",
       "      <td>2021-11-03 08:30:00</td>\n",
       "      <td>6.0</td>\n",
       "      <td>0.51</td>\n",
       "      <td>23</td>\n",
       "      <td>25</td>\n",
       "      <td>52</td>\n",
       "      <td>3.0</td>\n",
       "      <td>50.0</td>\n",
       "      <td>5.0</td>\n",
       "      <td>Yes</td>\n",
       "      <td>1.0</td>\n",
       "      <td>6.0</td>\n",
       "    </tr>\n",
       "    <tr>\n",
       "      <th>4</th>\n",
       "      <td>5</td>\n",
       "      <td>57</td>\n",
       "      <td>Male</td>\n",
       "      <td>2021-03-13 01:00:00</td>\n",
       "      <td>2021-03-13 09:00:00</td>\n",
       "      <td>8.0</td>\n",
       "      <td>0.76</td>\n",
       "      <td>27</td>\n",
       "      <td>55</td>\n",
       "      <td>18</td>\n",
       "      <td>3.0</td>\n",
       "      <td>0.0</td>\n",
       "      <td>3.0</td>\n",
       "      <td>No</td>\n",
       "      <td>3.0</td>\n",
       "      <td>8.0</td>\n",
       "    </tr>\n",
       "    <tr>\n",
       "      <th>...</th>\n",
       "      <td>...</td>\n",
       "      <td>...</td>\n",
       "      <td>...</td>\n",
       "      <td>...</td>\n",
       "      <td>...</td>\n",
       "      <td>...</td>\n",
       "      <td>...</td>\n",
       "      <td>...</td>\n",
       "      <td>...</td>\n",
       "      <td>...</td>\n",
       "      <td>...</td>\n",
       "      <td>...</td>\n",
       "      <td>...</td>\n",
       "      <td>...</td>\n",
       "      <td>...</td>\n",
       "      <td>...</td>\n",
       "    </tr>\n",
       "    <tr>\n",
       "      <th>445</th>\n",
       "      <td>446</td>\n",
       "      <td>30</td>\n",
       "      <td>Female</td>\n",
       "      <td>2021-11-16 23:00:00</td>\n",
       "      <td>2021-11-16 06:30:00</td>\n",
       "      <td>7.5</td>\n",
       "      <td>0.53</td>\n",
       "      <td>28</td>\n",
       "      <td>20</td>\n",
       "      <td>52</td>\n",
       "      <td>4.0</td>\n",
       "      <td>50.0</td>\n",
       "      <td>2.0</td>\n",
       "      <td>Yes</td>\n",
       "      <td>1.0</td>\n",
       "      <td>-16.5</td>\n",
       "    </tr>\n",
       "    <tr>\n",
       "      <th>447</th>\n",
       "      <td>448</td>\n",
       "      <td>27</td>\n",
       "      <td>Female</td>\n",
       "      <td>2021-11-13 22:00:00</td>\n",
       "      <td>2021-11-13 05:30:00</td>\n",
       "      <td>7.5</td>\n",
       "      <td>0.91</td>\n",
       "      <td>22</td>\n",
       "      <td>57</td>\n",
       "      <td>21</td>\n",
       "      <td>0.0</td>\n",
       "      <td>0.0</td>\n",
       "      <td>0.0</td>\n",
       "      <td>No</td>\n",
       "      <td>5.0</td>\n",
       "      <td>-16.5</td>\n",
       "    </tr>\n",
       "    <tr>\n",
       "      <th>448</th>\n",
       "      <td>449</td>\n",
       "      <td>52</td>\n",
       "      <td>Male</td>\n",
       "      <td>2021-03-31 21:00:00</td>\n",
       "      <td>2021-03-31 03:00:00</td>\n",
       "      <td>6.0</td>\n",
       "      <td>0.74</td>\n",
       "      <td>28</td>\n",
       "      <td>57</td>\n",
       "      <td>15</td>\n",
       "      <td>4.0</td>\n",
       "      <td>25.0</td>\n",
       "      <td>0.0</td>\n",
       "      <td>No</td>\n",
       "      <td>3.0</td>\n",
       "      <td>-18.0</td>\n",
       "    </tr>\n",
       "    <tr>\n",
       "      <th>450</th>\n",
       "      <td>451</td>\n",
       "      <td>45</td>\n",
       "      <td>Male</td>\n",
       "      <td>2021-07-29 21:00:00</td>\n",
       "      <td>2021-07-29 04:00:00</td>\n",
       "      <td>7.0</td>\n",
       "      <td>0.76</td>\n",
       "      <td>18</td>\n",
       "      <td>72</td>\n",
       "      <td>10</td>\n",
       "      <td>3.0</td>\n",
       "      <td>0.0</td>\n",
       "      <td>0.0</td>\n",
       "      <td>No</td>\n",
       "      <td>3.0</td>\n",
       "      <td>-17.0</td>\n",
       "    </tr>\n",
       "    <tr>\n",
       "      <th>451</th>\n",
       "      <td>452</td>\n",
       "      <td>18</td>\n",
       "      <td>Male</td>\n",
       "      <td>2021-03-17 02:30:00</td>\n",
       "      <td>2021-03-17 10:00:00</td>\n",
       "      <td>7.5</td>\n",
       "      <td>0.63</td>\n",
       "      <td>22</td>\n",
       "      <td>23</td>\n",
       "      <td>55</td>\n",
       "      <td>1.0</td>\n",
       "      <td>50.0</td>\n",
       "      <td>0.0</td>\n",
       "      <td>No</td>\n",
       "      <td>1.0</td>\n",
       "      <td>7.5</td>\n",
       "    </tr>\n",
       "  </tbody>\n",
       "</table>\n",
       "<p>388 rows × 16 columns</p>\n",
       "</div>"
      ],
      "text/plain": [
       "      ID  Age  Gender             Bedtime         Wakeup time  Sleep duration  \\\n",
       "0      1   65  Female 2021-03-06 01:00:00 2021-03-06 07:00:00             6.0   \n",
       "1      2   69    Male 2021-12-05 02:00:00 2021-12-05 09:00:00             7.0   \n",
       "2      3   40  Female 2021-05-25 21:30:00 2021-05-25 05:30:00             8.0   \n",
       "3      4   40  Female 2021-11-03 02:30:00 2021-11-03 08:30:00             6.0   \n",
       "4      5   57    Male 2021-03-13 01:00:00 2021-03-13 09:00:00             8.0   \n",
       "..   ...  ...     ...                 ...                 ...             ...   \n",
       "445  446   30  Female 2021-11-16 23:00:00 2021-11-16 06:30:00             7.5   \n",
       "447  448   27  Female 2021-11-13 22:00:00 2021-11-13 05:30:00             7.5   \n",
       "448  449   52    Male 2021-03-31 21:00:00 2021-03-31 03:00:00             6.0   \n",
       "450  451   45    Male 2021-07-29 21:00:00 2021-07-29 04:00:00             7.0   \n",
       "451  452   18    Male 2021-03-17 02:30:00 2021-03-17 10:00:00             7.5   \n",
       "\n",
       "     Sleep efficiency  REM sleep percentage  Deep sleep percentage  \\\n",
       "0                0.88                    18                     70   \n",
       "1                0.66                    19                     28   \n",
       "2                0.89                    20                     70   \n",
       "3                0.51                    23                     25   \n",
       "4                0.76                    27                     55   \n",
       "..                ...                   ...                    ...   \n",
       "445              0.53                    28                     20   \n",
       "447              0.91                    22                     57   \n",
       "448              0.74                    28                     57   \n",
       "450              0.76                    18                     72   \n",
       "451              0.63                    22                     23   \n",
       "\n",
       "     Light sleep percentage  Awakenings  Caffeine consumption  \\\n",
       "0                        12         0.0                   0.0   \n",
       "1                        53         3.0                   0.0   \n",
       "2                        10         1.0                   0.0   \n",
       "3                        52         3.0                  50.0   \n",
       "4                        18         3.0                   0.0   \n",
       "..                      ...         ...                   ...   \n",
       "445                      52         4.0                  50.0   \n",
       "447                      21         0.0                   0.0   \n",
       "448                      15         4.0                  25.0   \n",
       "450                      10         3.0                   0.0   \n",
       "451                      55         1.0                  50.0   \n",
       "\n",
       "     Alcohol consumption Smoking status  Exercise frequency  \\\n",
       "0                    0.0            Yes                 3.0   \n",
       "1                    3.0            Yes                 3.0   \n",
       "2                    0.0             No                 3.0   \n",
       "3                    5.0            Yes                 1.0   \n",
       "4                    3.0             No                 3.0   \n",
       "..                   ...            ...                 ...   \n",
       "445                  2.0            Yes                 1.0   \n",
       "447                  0.0             No                 5.0   \n",
       "448                  0.0             No                 3.0   \n",
       "450                  0.0             No                 3.0   \n",
       "451                  0.0             No                 1.0   \n",
       "\n",
       "     sleep duration(hours)  \n",
       "0                      6.0  \n",
       "1                      7.0  \n",
       "2                    -16.0  \n",
       "3                      6.0  \n",
       "4                      8.0  \n",
       "..                     ...  \n",
       "445                  -16.5  \n",
       "447                  -16.5  \n",
       "448                  -18.0  \n",
       "450                  -17.0  \n",
       "451                    7.5  \n",
       "\n",
       "[388 rows x 16 columns]"
      ]
     },
     "execution_count": 124,
     "metadata": {},
     "output_type": "execute_result"
    }
   ],
   "source": [
    "df"
   ]
  },
  {
   "cell_type": "code",
   "execution_count": 136,
   "id": "f7d07846-f20c-4fca-a918-9cf659ba9c3f",
   "metadata": {},
   "outputs": [],
   "source": [
    "# Categorize data\n",
    "def categorize_sleep(efficiency):\n",
    "    if efficiency >= 0.77:\n",
    "        return 'Good'\n",
    "    else:\n",
    "        return 'Bad'"
   ]
  },
  {
   "cell_type": "code",
   "execution_count": 137,
   "id": "a2b34c38-cdbf-4138-bf16-c12e0d25038f",
   "metadata": {},
   "outputs": [],
   "source": [
    "# Apply the function to create a new column\n",
    "df['sleep_category'] = df['Sleep efficiency'].apply(categorize_sleep)"
   ]
  },
  {
   "cell_type": "code",
   "execution_count": 138,
   "id": "aa439d0c-13a6-42ea-b06e-93b2b3862658",
   "metadata": {},
   "outputs": [
    {
     "data": {
      "text/html": [
       "<div>\n",
       "<style scoped>\n",
       "    .dataframe tbody tr th:only-of-type {\n",
       "        vertical-align: middle;\n",
       "    }\n",
       "\n",
       "    .dataframe tbody tr th {\n",
       "        vertical-align: top;\n",
       "    }\n",
       "\n",
       "    .dataframe thead th {\n",
       "        text-align: right;\n",
       "    }\n",
       "</style>\n",
       "<table border=\"1\" class=\"dataframe\">\n",
       "  <thead>\n",
       "    <tr style=\"text-align: right;\">\n",
       "      <th></th>\n",
       "      <th>ID</th>\n",
       "      <th>Age</th>\n",
       "      <th>Gender</th>\n",
       "      <th>Bedtime</th>\n",
       "      <th>Wakeup time</th>\n",
       "      <th>Sleep duration</th>\n",
       "      <th>Sleep efficiency</th>\n",
       "      <th>REM sleep percentage</th>\n",
       "      <th>Deep sleep percentage</th>\n",
       "      <th>Light sleep percentage</th>\n",
       "      <th>Awakenings</th>\n",
       "      <th>Caffeine consumption</th>\n",
       "      <th>Alcohol consumption</th>\n",
       "      <th>Smoking status</th>\n",
       "      <th>Exercise frequency</th>\n",
       "      <th>sleep duration(hours)</th>\n",
       "      <th>sleep_category</th>\n",
       "    </tr>\n",
       "  </thead>\n",
       "  <tbody>\n",
       "    <tr>\n",
       "      <th>0</th>\n",
       "      <td>1</td>\n",
       "      <td>65</td>\n",
       "      <td>Female</td>\n",
       "      <td>2021-03-06 01:00:00</td>\n",
       "      <td>2021-03-06 07:00:00</td>\n",
       "      <td>6.0</td>\n",
       "      <td>0.88</td>\n",
       "      <td>18</td>\n",
       "      <td>70</td>\n",
       "      <td>12</td>\n",
       "      <td>0.0</td>\n",
       "      <td>0.0</td>\n",
       "      <td>0.0</td>\n",
       "      <td>Yes</td>\n",
       "      <td>3.0</td>\n",
       "      <td>6.0</td>\n",
       "      <td>Good</td>\n",
       "    </tr>\n",
       "    <tr>\n",
       "      <th>1</th>\n",
       "      <td>2</td>\n",
       "      <td>69</td>\n",
       "      <td>Male</td>\n",
       "      <td>2021-12-05 02:00:00</td>\n",
       "      <td>2021-12-05 09:00:00</td>\n",
       "      <td>7.0</td>\n",
       "      <td>0.66</td>\n",
       "      <td>19</td>\n",
       "      <td>28</td>\n",
       "      <td>53</td>\n",
       "      <td>3.0</td>\n",
       "      <td>0.0</td>\n",
       "      <td>3.0</td>\n",
       "      <td>Yes</td>\n",
       "      <td>3.0</td>\n",
       "      <td>7.0</td>\n",
       "      <td>Bad</td>\n",
       "    </tr>\n",
       "    <tr>\n",
       "      <th>2</th>\n",
       "      <td>3</td>\n",
       "      <td>40</td>\n",
       "      <td>Female</td>\n",
       "      <td>2021-05-25 21:30:00</td>\n",
       "      <td>2021-05-25 05:30:00</td>\n",
       "      <td>8.0</td>\n",
       "      <td>0.89</td>\n",
       "      <td>20</td>\n",
       "      <td>70</td>\n",
       "      <td>10</td>\n",
       "      <td>1.0</td>\n",
       "      <td>0.0</td>\n",
       "      <td>0.0</td>\n",
       "      <td>No</td>\n",
       "      <td>3.0</td>\n",
       "      <td>-16.0</td>\n",
       "      <td>Good</td>\n",
       "    </tr>\n",
       "    <tr>\n",
       "      <th>3</th>\n",
       "      <td>4</td>\n",
       "      <td>40</td>\n",
       "      <td>Female</td>\n",
       "      <td>2021-11-03 02:30:00</td>\n",
       "      <td>2021-11-03 08:30:00</td>\n",
       "      <td>6.0</td>\n",
       "      <td>0.51</td>\n",
       "      <td>23</td>\n",
       "      <td>25</td>\n",
       "      <td>52</td>\n",
       "      <td>3.0</td>\n",
       "      <td>50.0</td>\n",
       "      <td>5.0</td>\n",
       "      <td>Yes</td>\n",
       "      <td>1.0</td>\n",
       "      <td>6.0</td>\n",
       "      <td>Bad</td>\n",
       "    </tr>\n",
       "    <tr>\n",
       "      <th>4</th>\n",
       "      <td>5</td>\n",
       "      <td>57</td>\n",
       "      <td>Male</td>\n",
       "      <td>2021-03-13 01:00:00</td>\n",
       "      <td>2021-03-13 09:00:00</td>\n",
       "      <td>8.0</td>\n",
       "      <td>0.76</td>\n",
       "      <td>27</td>\n",
       "      <td>55</td>\n",
       "      <td>18</td>\n",
       "      <td>3.0</td>\n",
       "      <td>0.0</td>\n",
       "      <td>3.0</td>\n",
       "      <td>No</td>\n",
       "      <td>3.0</td>\n",
       "      <td>8.0</td>\n",
       "      <td>Bad</td>\n",
       "    </tr>\n",
       "    <tr>\n",
       "      <th>...</th>\n",
       "      <td>...</td>\n",
       "      <td>...</td>\n",
       "      <td>...</td>\n",
       "      <td>...</td>\n",
       "      <td>...</td>\n",
       "      <td>...</td>\n",
       "      <td>...</td>\n",
       "      <td>...</td>\n",
       "      <td>...</td>\n",
       "      <td>...</td>\n",
       "      <td>...</td>\n",
       "      <td>...</td>\n",
       "      <td>...</td>\n",
       "      <td>...</td>\n",
       "      <td>...</td>\n",
       "      <td>...</td>\n",
       "      <td>...</td>\n",
       "    </tr>\n",
       "    <tr>\n",
       "      <th>445</th>\n",
       "      <td>446</td>\n",
       "      <td>30</td>\n",
       "      <td>Female</td>\n",
       "      <td>2021-11-16 23:00:00</td>\n",
       "      <td>2021-11-16 06:30:00</td>\n",
       "      <td>7.5</td>\n",
       "      <td>0.53</td>\n",
       "      <td>28</td>\n",
       "      <td>20</td>\n",
       "      <td>52</td>\n",
       "      <td>4.0</td>\n",
       "      <td>50.0</td>\n",
       "      <td>2.0</td>\n",
       "      <td>Yes</td>\n",
       "      <td>1.0</td>\n",
       "      <td>-16.5</td>\n",
       "      <td>Bad</td>\n",
       "    </tr>\n",
       "    <tr>\n",
       "      <th>447</th>\n",
       "      <td>448</td>\n",
       "      <td>27</td>\n",
       "      <td>Female</td>\n",
       "      <td>2021-11-13 22:00:00</td>\n",
       "      <td>2021-11-13 05:30:00</td>\n",
       "      <td>7.5</td>\n",
       "      <td>0.91</td>\n",
       "      <td>22</td>\n",
       "      <td>57</td>\n",
       "      <td>21</td>\n",
       "      <td>0.0</td>\n",
       "      <td>0.0</td>\n",
       "      <td>0.0</td>\n",
       "      <td>No</td>\n",
       "      <td>5.0</td>\n",
       "      <td>-16.5</td>\n",
       "      <td>Good</td>\n",
       "    </tr>\n",
       "    <tr>\n",
       "      <th>448</th>\n",
       "      <td>449</td>\n",
       "      <td>52</td>\n",
       "      <td>Male</td>\n",
       "      <td>2021-03-31 21:00:00</td>\n",
       "      <td>2021-03-31 03:00:00</td>\n",
       "      <td>6.0</td>\n",
       "      <td>0.74</td>\n",
       "      <td>28</td>\n",
       "      <td>57</td>\n",
       "      <td>15</td>\n",
       "      <td>4.0</td>\n",
       "      <td>25.0</td>\n",
       "      <td>0.0</td>\n",
       "      <td>No</td>\n",
       "      <td>3.0</td>\n",
       "      <td>-18.0</td>\n",
       "      <td>Bad</td>\n",
       "    </tr>\n",
       "    <tr>\n",
       "      <th>450</th>\n",
       "      <td>451</td>\n",
       "      <td>45</td>\n",
       "      <td>Male</td>\n",
       "      <td>2021-07-29 21:00:00</td>\n",
       "      <td>2021-07-29 04:00:00</td>\n",
       "      <td>7.0</td>\n",
       "      <td>0.76</td>\n",
       "      <td>18</td>\n",
       "      <td>72</td>\n",
       "      <td>10</td>\n",
       "      <td>3.0</td>\n",
       "      <td>0.0</td>\n",
       "      <td>0.0</td>\n",
       "      <td>No</td>\n",
       "      <td>3.0</td>\n",
       "      <td>-17.0</td>\n",
       "      <td>Bad</td>\n",
       "    </tr>\n",
       "    <tr>\n",
       "      <th>451</th>\n",
       "      <td>452</td>\n",
       "      <td>18</td>\n",
       "      <td>Male</td>\n",
       "      <td>2021-03-17 02:30:00</td>\n",
       "      <td>2021-03-17 10:00:00</td>\n",
       "      <td>7.5</td>\n",
       "      <td>0.63</td>\n",
       "      <td>22</td>\n",
       "      <td>23</td>\n",
       "      <td>55</td>\n",
       "      <td>1.0</td>\n",
       "      <td>50.0</td>\n",
       "      <td>0.0</td>\n",
       "      <td>No</td>\n",
       "      <td>1.0</td>\n",
       "      <td>7.5</td>\n",
       "      <td>Bad</td>\n",
       "    </tr>\n",
       "  </tbody>\n",
       "</table>\n",
       "<p>388 rows × 17 columns</p>\n",
       "</div>"
      ],
      "text/plain": [
       "      ID  Age  Gender             Bedtime         Wakeup time  Sleep duration  \\\n",
       "0      1   65  Female 2021-03-06 01:00:00 2021-03-06 07:00:00             6.0   \n",
       "1      2   69    Male 2021-12-05 02:00:00 2021-12-05 09:00:00             7.0   \n",
       "2      3   40  Female 2021-05-25 21:30:00 2021-05-25 05:30:00             8.0   \n",
       "3      4   40  Female 2021-11-03 02:30:00 2021-11-03 08:30:00             6.0   \n",
       "4      5   57    Male 2021-03-13 01:00:00 2021-03-13 09:00:00             8.0   \n",
       "..   ...  ...     ...                 ...                 ...             ...   \n",
       "445  446   30  Female 2021-11-16 23:00:00 2021-11-16 06:30:00             7.5   \n",
       "447  448   27  Female 2021-11-13 22:00:00 2021-11-13 05:30:00             7.5   \n",
       "448  449   52    Male 2021-03-31 21:00:00 2021-03-31 03:00:00             6.0   \n",
       "450  451   45    Male 2021-07-29 21:00:00 2021-07-29 04:00:00             7.0   \n",
       "451  452   18    Male 2021-03-17 02:30:00 2021-03-17 10:00:00             7.5   \n",
       "\n",
       "     Sleep efficiency  REM sleep percentage  Deep sleep percentage  \\\n",
       "0                0.88                    18                     70   \n",
       "1                0.66                    19                     28   \n",
       "2                0.89                    20                     70   \n",
       "3                0.51                    23                     25   \n",
       "4                0.76                    27                     55   \n",
       "..                ...                   ...                    ...   \n",
       "445              0.53                    28                     20   \n",
       "447              0.91                    22                     57   \n",
       "448              0.74                    28                     57   \n",
       "450              0.76                    18                     72   \n",
       "451              0.63                    22                     23   \n",
       "\n",
       "     Light sleep percentage  Awakenings  Caffeine consumption  \\\n",
       "0                        12         0.0                   0.0   \n",
       "1                        53         3.0                   0.0   \n",
       "2                        10         1.0                   0.0   \n",
       "3                        52         3.0                  50.0   \n",
       "4                        18         3.0                   0.0   \n",
       "..                      ...         ...                   ...   \n",
       "445                      52         4.0                  50.0   \n",
       "447                      21         0.0                   0.0   \n",
       "448                      15         4.0                  25.0   \n",
       "450                      10         3.0                   0.0   \n",
       "451                      55         1.0                  50.0   \n",
       "\n",
       "     Alcohol consumption Smoking status  Exercise frequency  \\\n",
       "0                    0.0            Yes                 3.0   \n",
       "1                    3.0            Yes                 3.0   \n",
       "2                    0.0             No                 3.0   \n",
       "3                    5.0            Yes                 1.0   \n",
       "4                    3.0             No                 3.0   \n",
       "..                   ...            ...                 ...   \n",
       "445                  2.0            Yes                 1.0   \n",
       "447                  0.0             No                 5.0   \n",
       "448                  0.0             No                 3.0   \n",
       "450                  0.0             No                 3.0   \n",
       "451                  0.0             No                 1.0   \n",
       "\n",
       "     sleep duration(hours) sleep_category  \n",
       "0                      6.0           Good  \n",
       "1                      7.0            Bad  \n",
       "2                    -16.0           Good  \n",
       "3                      6.0            Bad  \n",
       "4                      8.0            Bad  \n",
       "..                     ...            ...  \n",
       "445                  -16.5            Bad  \n",
       "447                  -16.5           Good  \n",
       "448                  -18.0            Bad  \n",
       "450                  -17.0            Bad  \n",
       "451                    7.5            Bad  \n",
       "\n",
       "[388 rows x 17 columns]"
      ]
     },
     "execution_count": 138,
     "metadata": {},
     "output_type": "execute_result"
    }
   ],
   "source": [
    "df"
   ]
  },
  {
   "cell_type": "code",
   "execution_count": 128,
   "id": "15d2822c-2995-4417-a45d-f0cfe5342caf",
   "metadata": {},
   "outputs": [
    {
     "name": "stdout",
     "output_type": "stream",
     "text": [
      "0    0.88\n",
      "1    0.66\n",
      "2    0.89\n",
      "3    0.51\n",
      "4    0.76\n",
      "Name: Sleep efficiency, dtype: float64\n"
     ]
    }
   ],
   "source": [
    "print(df['Sleep efficiency'].head())\n"
   ]
  },
  {
   "cell_type": "code",
   "execution_count": 139,
   "id": "bd3efe09-d5ed-4aab-80bb-cde9b5c60070",
   "metadata": {},
   "outputs": [
    {
     "name": "stdout",
     "output_type": "stream",
     "text": [
      "['Good' 'Bad']\n"
     ]
    }
   ],
   "source": [
    "print(df['sleep_category'].unique())\n"
   ]
  },
  {
   "cell_type": "code",
   "execution_count": 141,
   "id": "dc339733-85e7-422c-8c1a-fe9f8259ffb0",
   "metadata": {},
   "outputs": [
    {
     "name": "stdout",
     "output_type": "stream",
     "text": [
      "Good Sleep Efficiency Data:\n",
      "      ID  Age  Gender             Bedtime         Wakeup time  Sleep duration  \\\n",
      "0      1   65  Female 2021-03-06 01:00:00 2021-03-06 07:00:00             6.0   \n",
      "2      3   40  Female 2021-05-25 21:30:00 2021-05-25 05:30:00             8.0   \n",
      "7      8   53    Male 2021-08-16 00:30:00 2021-08-16 10:30:00            10.0   \n",
      "8      9   41  Female 2021-04-05 02:30:00 2021-04-05 08:30:00             6.0   \n",
      "10    11   50    Male 2021-02-28 00:30:00 2021-02-28 08:30:00             8.0   \n",
      "..   ...  ...     ...                 ...                 ...             ...   \n",
      "433  434   29  Female 2021-02-16 21:00:00 2021-02-16 04:30:00             7.5   \n",
      "435  436   40  Female 2021-02-12 22:00:00 2021-02-12 05:00:00             7.0   \n",
      "437  438   56    Male 2021-03-11 01:00:00 2021-03-11 09:00:00             8.0   \n",
      "438  439   55    Male 2021-04-14 01:30:00 2021-04-14 07:30:00             6.0   \n",
      "447  448   27  Female 2021-11-13 22:00:00 2021-11-13 05:30:00             7.5   \n",
      "\n",
      "     Sleep efficiency  REM sleep percentage  Deep sleep percentage  \\\n",
      "0                0.88                    18                     70   \n",
      "2                0.89                    20                     70   \n",
      "7                0.90                    28                     52   \n",
      "8                0.79                    28                     55   \n",
      "10               0.92                    23                     57   \n",
      "..                ...                   ...                    ...   \n",
      "433              0.90                    25                     63   \n",
      "435              0.96                    28                     57   \n",
      "437              0.86                    27                     55   \n",
      "438              0.90                    28                     57   \n",
      "447              0.91                    22                     57   \n",
      "\n",
      "     Light sleep percentage  Awakenings  Caffeine consumption  \\\n",
      "0                        12         0.0                   0.0   \n",
      "2                        10         1.0                   0.0   \n",
      "7                        20         0.0                  50.0   \n",
      "8                        17         3.0                  50.0   \n",
      "10                       20         1.0                  50.0   \n",
      "..                      ...         ...                   ...   \n",
      "433                      12         0.0                  75.0   \n",
      "435                      15         0.0                   0.0   \n",
      "437                      18         0.0                   0.0   \n",
      "438                      15         1.0                   0.0   \n",
      "447                      21         0.0                   0.0   \n",
      "\n",
      "     Alcohol consumption Smoking status  Exercise frequency  \\\n",
      "0                    0.0            Yes                 3.0   \n",
      "2                    0.0             No                 3.0   \n",
      "7                    0.0            Yes                 3.0   \n",
      "8                    0.0             No                 1.0   \n",
      "10                   0.0            Yes                 3.0   \n",
      "..                   ...            ...                 ...   \n",
      "433                  0.0            Yes                 2.0   \n",
      "435                  0.0             No                 3.0   \n",
      "437                  3.0             No                 3.0   \n",
      "438                  3.0             No                 3.0   \n",
      "447                  0.0             No                 5.0   \n",
      "\n",
      "     sleep duration(hours) sleep_category  \n",
      "0                      6.0           Good  \n",
      "2                    -16.0           Good  \n",
      "7                     10.0           Good  \n",
      "8                      6.0           Good  \n",
      "10                     8.0           Good  \n",
      "..                     ...            ...  \n",
      "433                  -16.5           Good  \n",
      "435                  -17.0           Good  \n",
      "437                    8.0           Good  \n",
      "438                    6.0           Good  \n",
      "447                  -16.5           Good  \n",
      "\n",
      "[246 rows x 17 columns]\n"
     ]
    }
   ],
   "source": [
    "good_sleep_df = df.loc[df['sleep_category'] == 'Good']\n",
    "print(\"Good Sleep Efficiency Data:\")\n",
    "print(good_sleep_df)\n"
   ]
  },
  {
   "cell_type": "code",
   "execution_count": 135,
   "id": "27f17df2-02f5-42a9-a64c-5b3a00224a9f",
   "metadata": {},
   "outputs": [
    {
     "name": "stdout",
     "output_type": "stream",
     "text": [
      "bad Sleep Efficiency Data:\n",
      "      ID  Age  Gender             Bedtime         Wakeup time  Sleep duration  \\\n",
      "3      4   40  Female 2021-11-03 02:30:00 2021-11-03 08:30:00             6.0   \n",
      "6      7   27  Female 2021-07-21 21:00:00 2021-07-21 03:00:00             6.0   \n",
      "9     10   11  Female 2021-09-16 01:00:00 2021-09-16 10:00:00             9.0   \n",
      "14    15   36  Female 2021-07-03 01:30:00 2021-07-03 10:00:00             8.5   \n",
      "16    17   21  Female 2021-03-24 01:00:00 2021-03-24 08:00:00             7.0   \n",
      "17    18   40  Female 2021-08-27 23:00:00 2021-08-27 06:30:00             7.5   \n",
      "30    31   24    Male 2021-08-10 00:00:00 2021-08-10 07:00:00             7.0   \n",
      "32    33   26    Male 2021-03-26 00:00:00 2021-03-26 07:00:00             7.0   \n",
      "42    43   29  Female 2021-06-27 00:00:00 2021-06-27 10:00:00            10.0   \n",
      "52    53    9  Female 2021-11-27 01:00:00 2021-11-27 09:30:00             8.5   \n",
      "69    70   40    Male 2021-09-23 22:00:00 2021-09-23 04:00:00             6.0   \n",
      "70    71   30  Female 2021-06-08 02:30:00 2021-06-08 10:00:00             7.5   \n",
      "92    93   39    Male 2021-08-25 21:00:00 2021-08-25 04:00:00             7.0   \n",
      "115  116   22    Male 2021-08-04 00:00:00 2021-08-04 07:00:00             7.0   \n",
      "117  118   30    Male 2021-10-11 21:30:00 2021-10-11 05:30:00             8.0   \n",
      "126  127   54    Male 2021-01-29 00:00:00 2021-01-29 07:00:00             7.0   \n",
      "130  131   29  Female 2021-11-25 00:30:00 2021-11-25 08:30:00             8.0   \n",
      "134  135   27    Male 2021-10-23 23:00:00 2021-10-23 06:00:00             7.0   \n",
      "141  142   28  Female 2021-02-05 21:00:00 2021-02-05 03:00:00             6.0   \n",
      "145  146   31  Female 2021-12-03 01:30:00 2021-12-03 08:30:00             7.0   \n",
      "146  147   42    Male 2021-09-10 23:00:00 2021-09-10 07:00:00             8.0   \n",
      "150  151   65    Male 2021-04-15 01:00:00 2021-04-15 09:30:00             8.5   \n",
      "172  173   27    Male 2021-07-28 23:00:00 2021-07-28 07:00:00             8.0   \n",
      "211  212   10  Female 2021-07-15 01:00:00 2021-07-15 08:00:00             7.0   \n",
      "217  218   40  Female 2021-09-26 00:00:00 2021-09-26 07:30:00             7.5   \n",
      "219  220   13  Female 2021-03-11 01:00:00 2021-03-11 09:00:00             8.0   \n",
      "252  253   23  Female 2021-06-23 02:30:00 2021-06-23 09:30:00             7.0   \n",
      "255  256   65  Female 2021-06-23 02:00:00 2021-06-23 09:00:00             7.0   \n",
      "257  258   27  Female 2021-05-31 22:00:00 2021-05-31 06:00:00             8.0   \n",
      "266  267   24    Male 2021-05-18 00:00:00 2021-05-18 07:00:00             7.0   \n",
      "272  273   58    Male 2021-02-13 01:00:00 2021-02-13 10:00:00             9.0   \n",
      "285  286   27    Male 2021-02-21 23:00:00 2021-02-21 05:00:00             6.0   \n",
      "314  315   54    Male 2021-03-25 22:30:00 2021-03-25 05:30:00             7.0   \n",
      "325  326   52  Female 2021-07-30 01:00:00 2021-07-30 08:00:00             7.0   \n",
      "326  327   29  Female 2021-12-11 00:00:00 2021-12-11 07:30:00             7.5   \n",
      "329  330   26  Female 2021-05-21 00:00:00 2021-05-21 07:30:00             7.5   \n",
      "332  333   12  Female 2021-11-01 01:00:00 2021-11-01 10:00:00             9.0   \n",
      "342  343   41  Female 2021-08-17 01:00:00 2021-08-17 09:00:00             8.0   \n",
      "345  346   25    Male 2021-03-09 00:00:00 2021-03-09 07:00:00             7.0   \n",
      "358  359   41    Male 2021-11-17 22:00:00 2021-11-17 05:00:00             7.0   \n",
      "360  361   56  Female 2021-11-08 00:00:00 2021-11-08 09:00:00             9.0   \n",
      "364  365   37    Male 2021-09-07 00:30:00 2021-09-07 08:30:00             8.0   \n",
      "371  372   32  Female 2021-02-21 02:30:00 2021-02-21 09:30:00             7.0   \n",
      "391  392   37  Female 2021-08-24 00:30:00 2021-08-24 05:30:00             5.0   \n",
      "423  424   41  Female 2021-10-17 00:30:00 2021-10-17 08:00:00             7.5   \n",
      "439  440   25    Male 2021-11-30 23:00:00 2021-11-30 06:30:00             7.5   \n",
      "444  445   24    Male 2021-05-07 00:00:00 2021-05-07 07:30:00             7.5   \n",
      "445  446   30  Female 2021-11-16 23:00:00 2021-11-16 06:30:00             7.5   \n",
      "\n",
      "     Sleep efficiency  REM sleep percentage  Deep sleep percentage  \\\n",
      "3                0.51                    23                     25   \n",
      "6                0.54                    28                     25   \n",
      "9                0.55                    18                     37   \n",
      "14               0.54                    20                     32   \n",
      "16               0.54                    28                     22   \n",
      "17               0.50                    18                     20   \n",
      "30               0.57                    27                     20   \n",
      "32               0.55                    23                     23   \n",
      "42               0.59                    28                     20   \n",
      "52               0.52                    18                     35   \n",
      "69               0.52                    20                     35   \n",
      "70               0.54                    28                     20   \n",
      "92               0.52                    18                     35   \n",
      "115              0.53                    27                     20   \n",
      "117              0.50                    20                     35   \n",
      "126              0.51                    23                     22   \n",
      "130              0.55                    28                     25   \n",
      "134              0.59                    23                     25   \n",
      "141              0.51                    23                     25   \n",
      "145              0.57                    24                     28   \n",
      "146              0.58                    18                     35   \n",
      "150              0.53                    28                     20   \n",
      "172              0.51                    25                     20   \n",
      "211              0.54                    18                     35   \n",
      "217              0.55                    23                     25   \n",
      "219              0.58                    18                     37   \n",
      "252              0.54                    20                     35   \n",
      "255              0.52                    20                     32   \n",
      "257              0.52                    15                     22   \n",
      "266              0.55                    20                     32   \n",
      "272              0.50                    27                     20   \n",
      "285              0.56                    20                     35   \n",
      "314              0.51                    22                     23   \n",
      "325              0.50                    23                     22   \n",
      "326              0.50                    22                     28   \n",
      "329              0.52                    23                     25   \n",
      "332              0.56                    18                     35   \n",
      "342              0.51                    19                     28   \n",
      "345              0.51                    28                     22   \n",
      "358              0.54                    20                     35   \n",
      "360              0.53                    24                     25   \n",
      "364              0.53                    30                     25   \n",
      "371              0.53                    20                     35   \n",
      "391              0.52                    28                     20   \n",
      "423              0.55                    23                     25   \n",
      "439              0.50                    20                     35   \n",
      "444              0.58                    24                     28   \n",
      "445              0.53                    28                     20   \n",
      "\n",
      "     Light sleep percentage  Awakenings  Caffeine consumption  \\\n",
      "3                        52         3.0                  50.0   \n",
      "6                        47         2.0                  50.0   \n",
      "9                        45         4.0                   0.0   \n",
      "14                       48         2.0                  25.0   \n",
      "16                       50         4.0                   0.0   \n",
      "17                       62         3.0                  50.0   \n",
      "30                       53         3.0                   0.0   \n",
      "32                       54         3.0                   0.0   \n",
      "42                       52         2.0                  50.0   \n",
      "52                       47         2.0                   0.0   \n",
      "69                       45         2.0                   0.0   \n",
      "70                       52         1.0                  50.0   \n",
      "92                       47         3.0                   0.0   \n",
      "115                      53         2.0                   0.0   \n",
      "117                      45         1.0                   0.0   \n",
      "126                      55         3.0                   0.0   \n",
      "130                      47         1.0                  25.0   \n",
      "134                      52         3.0                  75.0   \n",
      "141                      52         2.0                  50.0   \n",
      "145                      48         3.0                  50.0   \n",
      "146                      47         2.0                   0.0   \n",
      "150                      52         3.0                   0.0   \n",
      "172                      55         3.0                   0.0   \n",
      "211                      47         3.0                   0.0   \n",
      "217                      52         4.0                  50.0   \n",
      "219                      45         1.0                   0.0   \n",
      "252                      45         1.0                  50.0   \n",
      "255                      48         2.0                  50.0   \n",
      "257                      63         1.0                  25.0   \n",
      "266                      48         3.0                   0.0   \n",
      "272                      53         2.0                   0.0   \n",
      "285                      45         3.0                   0.0   \n",
      "314                      55         4.0                   0.0   \n",
      "325                      55         4.0                   0.0   \n",
      "326                      50         1.0                  75.0   \n",
      "329                      52         4.0                  50.0   \n",
      "332                      47         1.0                   0.0   \n",
      "342                      53         4.0                  50.0   \n",
      "345                      50         1.0                  50.0   \n",
      "358                      45         1.0                   0.0   \n",
      "360                      51         2.0                  25.0   \n",
      "364                      45         1.0                   0.0   \n",
      "371                      45         2.0                  50.0   \n",
      "391                      52         2.0                  50.0   \n",
      "423                      52         1.0                  50.0   \n",
      "439                      45         4.0                   0.0   \n",
      "444                      48         1.0                   0.0   \n",
      "445                      52         4.0                  50.0   \n",
      "\n",
      "     Alcohol consumption Smoking status  Exercise frequency  \\\n",
      "3                    5.0            Yes                 1.0   \n",
      "6                    0.0            Yes                 1.0   \n",
      "9                    0.0             No                 0.0   \n",
      "14                   1.0            Yes                 0.0   \n",
      "16                   2.0            Yes                 0.0   \n",
      "17                   2.0            Yes                 3.0   \n",
      "30                   1.0            Yes                 3.0   \n",
      "32                   4.0            Yes                 0.0   \n",
      "42                   0.0            Yes                 1.0   \n",
      "52                   0.0             No                 0.0   \n",
      "69                   2.0            Yes                 3.0   \n",
      "70                   3.0            Yes                 1.0   \n",
      "92                   3.0            Yes                 3.0   \n",
      "115                  5.0            Yes                 3.0   \n",
      "117                  5.0            Yes                 0.0   \n",
      "126                  0.0            Yes                 0.0   \n",
      "130                  1.0            Yes                 0.0   \n",
      "134                  2.0            Yes                 2.0   \n",
      "141                  5.0            Yes                 1.0   \n",
      "145                  5.0            Yes                 1.0   \n",
      "146                  0.0            Yes                 3.0   \n",
      "150                  2.0            Yes                 3.0   \n",
      "172                  0.0            Yes                 2.0   \n",
      "211                  0.0             No                 0.0   \n",
      "217                  3.0            Yes                 1.0   \n",
      "219                  0.0             No                 0.0   \n",
      "252                  5.0            Yes                 1.0   \n",
      "255                  0.0            Yes                 0.0   \n",
      "257                  5.0            Yes                 5.0   \n",
      "266                  3.0            Yes                 0.0   \n",
      "272                  3.0            Yes                 3.0   \n",
      "285                  5.0            Yes                 2.0   \n",
      "314                  0.0            Yes                 0.0   \n",
      "325                  4.0            Yes                 0.0   \n",
      "326                  1.0            Yes                 2.0   \n",
      "329                  2.0            Yes                 1.0   \n",
      "332                  0.0             No                 0.0   \n",
      "342                  5.0            Yes                 0.0   \n",
      "345                  2.0            Yes                 3.0   \n",
      "358                  2.0            Yes                 3.0   \n",
      "360                  4.0            Yes                 0.0   \n",
      "364                  0.0            Yes                 3.0   \n",
      "371                  2.0            Yes                 1.0   \n",
      "391                  4.0            Yes                 1.0   \n",
      "423                  4.0            Yes                 1.0   \n",
      "439                  3.0            Yes                 3.0   \n",
      "444                  2.0            Yes                 0.0   \n",
      "445                  2.0            Yes                 1.0   \n",
      "\n",
      "     sleep duration(hours) sleep_category  \n",
      "3                      6.0            Bad  \n",
      "6                    -18.0            Bad  \n",
      "9                      9.0            Bad  \n",
      "14                     8.5            Bad  \n",
      "16                     7.0            Bad  \n",
      "17                   -16.5            Bad  \n",
      "30                     7.0            Bad  \n",
      "32                     7.0            Bad  \n",
      "42                    10.0            Bad  \n",
      "52                     8.5            Bad  \n",
      "69                   -18.0            Bad  \n",
      "70                     7.5            Bad  \n",
      "92                   -17.0            Bad  \n",
      "115                    7.0            Bad  \n",
      "117                  -16.0            Bad  \n",
      "126                    7.0            Bad  \n",
      "130                    8.0            Bad  \n",
      "134                  -17.0            Bad  \n",
      "141                  -18.0            Bad  \n",
      "145                    7.0            Bad  \n",
      "146                  -16.0            Bad  \n",
      "150                    8.5            Bad  \n",
      "172                  -16.0            Bad  \n",
      "211                    7.0            Bad  \n",
      "217                    7.5            Bad  \n",
      "219                    8.0            Bad  \n",
      "252                    7.0            Bad  \n",
      "255                    7.0            Bad  \n",
      "257                  -16.0            Bad  \n",
      "266                    7.0            Bad  \n",
      "272                    9.0            Bad  \n",
      "285                  -18.0            Bad  \n",
      "314                  -17.0            Bad  \n",
      "325                    7.0            Bad  \n",
      "326                    7.5            Bad  \n",
      "329                    7.5            Bad  \n",
      "332                    9.0            Bad  \n",
      "342                    8.0            Bad  \n",
      "345                    7.0            Bad  \n",
      "358                  -17.0            Bad  \n",
      "360                    9.0            Bad  \n",
      "364                    8.0            Bad  \n",
      "371                    7.0            Bad  \n",
      "391                    5.0            Bad  \n",
      "423                    7.5            Bad  \n",
      "439                  -16.5            Bad  \n",
      "444                    7.5            Bad  \n",
      "445                  -16.5            Bad  \n"
     ]
    }
   ],
   "source": [
    "bad_sleep_df = df.loc[df['sleep_category'] == 'Bad']\n",
    "print(\"bad Sleep Efficiency Data:\")\n",
    "print(bad_sleep_df)\n"
   ]
  },
  {
   "cell_type": "code",
   "execution_count": null,
   "id": "2f6c7a68-beae-4ffa-979e-1a44a2830052",
   "metadata": {},
   "outputs": [],
   "source": []
  }
 ],
 "metadata": {
  "kernelspec": {
   "display_name": "Python 3 (ipykernel)",
   "language": "python",
   "name": "python3"
  },
  "language_info": {
   "codemirror_mode": {
    "name": "ipython",
    "version": 3
   },
   "file_extension": ".py",
   "mimetype": "text/x-python",
   "name": "python",
   "nbconvert_exporter": "python",
   "pygments_lexer": "ipython3",
   "version": "3.12.7"
  }
 },
 "nbformat": 4,
 "nbformat_minor": 5
}
